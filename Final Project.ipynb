{
 "cells": [
  {
   "cell_type": "markdown",
   "id": "930f82c8",
   "metadata": {},
   "source": [
    "# Final Assignment"
   ]
  },
  {
   "cell_type": "markdown",
   "id": "45d766ee",
   "metadata": {},
   "source": [
    "# Correlation Between Companies in The Same Industry\n",
    "\n",
    "Summary of Contents\n",
    "\n",
    "- [1 Introduction](#toc_1)\n",
    "- [2 Questions 2 heading](#toc_2)\n",
    "- [3 Import Required Libraries](#toc_3)\n"
   ]
  },
  {
   "cell_type": "markdown",
   "id": "d149bde3",
   "metadata": {},
   "source": [
    "<a name=\"toc_1\"></a>\n",
    "# Introduction"
   ]
  },
  {
   "cell_type": "markdown",
   "id": "8185240c",
   "metadata": {},
   "source": []
  },
  {
   "cell_type": "code",
   "execution_count": null,
   "id": "606424ae",
   "metadata": {},
   "outputs": [],
   "source": []
  },
  {
   "cell_type": "markdown",
   "id": "5908aaf9",
   "metadata": {},
   "source": [
    "<a name=\"toc_2\"></a>\n",
    "# Questions"
   ]
  },
  {
   "cell_type": "markdown",
   "id": "b3c9c004",
   "metadata": {},
   "source": [
    "Are pairs in the same industry more closely correlated in their price movements than random pairs\n",
    "\n",
    "If pairs are more closely correlated, do they also show higher levels of co-integration.\n",
    "\n",
    "How many different stocks would we have to obtain data for to have a sufficient sample size?\n",
    "\n",
    "How many pairs would would be need to select to have a sufficient sample size?\n",
    "\n",
    "Do some industries show better correlation than others?\n",
    "\n",
    "If there is a corrleation difference, is the correlation difference significant over a longer period such as a year vs a shorter period such as one month.\n",
    "\n"
   ]
  },
  {
   "cell_type": "markdown",
   "id": "d79c2bd5",
   "metadata": {},
   "source": [
    "<a name=\"toc_3\"></a>\n",
    "# Import Required Libraries"
   ]
  },
  {
   "cell_type": "code",
   "execution_count": 1,
   "id": "f7cb2193",
   "metadata": {},
   "outputs": [],
   "source": [
    "import yfinance as yf\n",
    "import numpy as np\n",
    "import pandas as pd\n",
    "\n",
    "from datetime import datetime, timedelta"
   ]
  },
  {
   "cell_type": "code",
   "execution_count": 2,
   "id": "d053b807",
   "metadata": {},
   "outputs": [],
   "source": [
    "import itertools"
   ]
  },
  {
   "cell_type": "code",
   "execution_count": 3,
   "id": "3fcb72b4",
   "metadata": {},
   "outputs": [],
   "source": [
    "from random import sample"
   ]
  },
  {
   "cell_type": "code",
   "execution_count": 4,
   "id": "d8e3bfda",
   "metadata": {},
   "outputs": [],
   "source": [
    "import matplotlib.pyplot as plt\n",
    "import seaborn as sns"
   ]
  },
  {
   "cell_type": "markdown",
   "id": "d9d21196",
   "metadata": {},
   "source": [
    "# Set Inputs"
   ]
  },
  {
   "cell_type": "code",
   "execution_count": 5,
   "id": "b72ac8cb",
   "metadata": {},
   "outputs": [],
   "source": [
    "# Target Input Files\n",
    "STOCK_PRICES_FNAME = \"prices_shares.csv\"\n",
    "FX_PRICES_FNAME = \"prices_fx.csv\"\n",
    "SP500_MEMBERS_FNAME = \"sp500_info.csv\"\n",
    "ASX_MEMBERS_FNAME = \"asx_top15_info.csv\"\n",
    "\n",
    "#FILEPATH = \"C:\\\\Dropbox\\\\Variance\\\\UNSW\\\\ZZEN9021\\\\\""
   ]
  },
  {
   "cell_type": "code",
   "execution_count": 70,
   "id": "99e0c4cc",
   "metadata": {},
   "outputs": [
    {
     "data": {
      "text/html": [
       "<div>\n",
       "<style scoped>\n",
       "    .dataframe tbody tr th:only-of-type {\n",
       "        vertical-align: middle;\n",
       "    }\n",
       "\n",
       "    .dataframe tbody tr th {\n",
       "        vertical-align: top;\n",
       "    }\n",
       "\n",
       "    .dataframe thead th {\n",
       "        text-align: right;\n",
       "    }\n",
       "</style>\n",
       "<table border=\"1\" class=\"dataframe\">\n",
       "  <thead>\n",
       "    <tr style=\"text-align: right;\">\n",
       "      <th></th>\n",
       "      <th>ASX Code</th>\n",
       "      <th>Company</th>\n",
       "      <th>GICS Industry Group</th>\n",
       "    </tr>\n",
       "  </thead>\n",
       "  <tbody>\n",
       "    <tr>\n",
       "      <th>0</th>\n",
       "      <td>BHP</td>\n",
       "      <td>BHP GROUP</td>\n",
       "      <td>Materials</td>\n",
       "    </tr>\n",
       "    <tr>\n",
       "      <th>1</th>\n",
       "      <td>FMG</td>\n",
       "      <td>FORTESCUE</td>\n",
       "      <td>Materials</td>\n",
       "    </tr>\n",
       "    <tr>\n",
       "      <th>2</th>\n",
       "      <td>MQG</td>\n",
       "      <td>MACQ GROUP</td>\n",
       "      <td>Financials</td>\n",
       "    </tr>\n",
       "    <tr>\n",
       "      <th>3</th>\n",
       "      <td>CBA</td>\n",
       "      <td>CWLTH BANK</td>\n",
       "      <td>Financials</td>\n",
       "    </tr>\n",
       "    <tr>\n",
       "      <th>4</th>\n",
       "      <td>RIO</td>\n",
       "      <td>RIO TINTO</td>\n",
       "      <td>Materials</td>\n",
       "    </tr>\n",
       "    <tr>\n",
       "      <th>5</th>\n",
       "      <td>CSL</td>\n",
       "      <td>CSL</td>\n",
       "      <td>Healtcare</td>\n",
       "    </tr>\n",
       "    <tr>\n",
       "      <th>6</th>\n",
       "      <td>WDS</td>\n",
       "      <td>WOODSIDE</td>\n",
       "      <td>Energy</td>\n",
       "    </tr>\n",
       "    <tr>\n",
       "      <th>7</th>\n",
       "      <td>ANZ</td>\n",
       "      <td>ANZ GROUP</td>\n",
       "      <td>Financials</td>\n",
       "    </tr>\n",
       "    <tr>\n",
       "      <th>8</th>\n",
       "      <td>PLS</td>\n",
       "      <td>PILBARAMIN</td>\n",
       "      <td>Materials</td>\n",
       "    </tr>\n",
       "    <tr>\n",
       "      <th>9</th>\n",
       "      <td>NAB</td>\n",
       "      <td>NATIONAL AUSTRALIA BANK</td>\n",
       "      <td>Financials</td>\n",
       "    </tr>\n",
       "    <tr>\n",
       "      <th>10</th>\n",
       "      <td>WBC</td>\n",
       "      <td>WESTPAC</td>\n",
       "      <td>Financials</td>\n",
       "    </tr>\n",
       "    <tr>\n",
       "      <th>11</th>\n",
       "      <td>RMD</td>\n",
       "      <td>RESMED</td>\n",
       "      <td>Health Care</td>\n",
       "    </tr>\n",
       "    <tr>\n",
       "      <th>12</th>\n",
       "      <td>NCM</td>\n",
       "      <td>NEWCREST</td>\n",
       "      <td>Materials</td>\n",
       "    </tr>\n",
       "    <tr>\n",
       "      <th>13</th>\n",
       "      <td>NST</td>\n",
       "      <td>NTH STAR</td>\n",
       "      <td>Materials</td>\n",
       "    </tr>\n",
       "    <tr>\n",
       "      <th>14</th>\n",
       "      <td>GMG</td>\n",
       "      <td>GOODMAN GROUP</td>\n",
       "      <td>Real Estate</td>\n",
       "    </tr>\n",
       "  </tbody>\n",
       "</table>\n",
       "</div>"
      ],
      "text/plain": [
       "   ASX Code                  Company GICS Industry Group\n",
       "0       BHP                BHP GROUP           Materials\n",
       "1       FMG                FORTESCUE           Materials\n",
       "2       MQG               MACQ GROUP          Financials\n",
       "3       CBA               CWLTH BANK          Financials\n",
       "4       RIO                RIO TINTO           Materials\n",
       "5       CSL                      CSL           Healtcare\n",
       "6       WDS                 WOODSIDE              Energy\n",
       "7       ANZ                ANZ GROUP          Financials\n",
       "8       PLS               PILBARAMIN           Materials\n",
       "9       NAB  NATIONAL AUSTRALIA BANK          Financials\n",
       "10      WBC                 WESTPAC           Financials\n",
       "11      RMD                   RESMED         Health Care\n",
       "12      NCM                 NEWCREST           Materials\n",
       "13      NST                 NTH STAR           Materials\n",
       "14      GMG            GOODMAN GROUP         Real Estate"
      ]
     },
     "execution_count": 70,
     "metadata": {},
     "output_type": "execute_result"
    }
   ],
   "source": [
    "cols = ['ASX Code', 'Company','GICS Industry Group']\n",
    "\n",
    "data = [\n",
    "['BHP', 'BHP GROUP' ,'Materials'],\n",
    "['FMG', 'FORTESCUE', 'Materials'],\n",
    "['MQG', 'MACQ GROUP', 'Financials'],\n",
    "['CBA', 'CWLTH BANK', 'Financials'],\n",
    "['RIO', 'RIO TINTO', 'Materials'],\n",
    "['CSL', 'CSL', 'Healtcare'],\n",
    "['WDS', 'WOODSIDE','Energy'],\n",
    "['ANZ', 'ANZ GROUP', 'Financials'],\n",
    "['PLS', 'PILBARAMIN', 'Materials'],\n",
    "['NAB', 'NATIONAL AUSTRALIA BANK', 'Financials'],\n",
    "['WBC', 'WESTPAC ', 'Financials'],\n",
    "['RMD', 'RESMED', 'Health Care'],\n",
    "['NCM', 'NEWCREST', 'Materials'],\n",
    "['NST', 'NTH STAR', 'Materials'],\n",
    "['GMG', 'GOODMAN GROUP', 'Real Estate'],\n",
    "]\n",
    "\n",
    "df = pd.DataFrame(data = data, columns=cols)\n",
    "\n",
    "df.to_csv('asx_15_info.csv')\n",
    "df"
   ]
  },
  {
   "cell_type": "code",
   "execution_count": null,
   "id": "09e95dcf",
   "metadata": {},
   "outputs": [],
   "source": [
    "['Industrials', 'Health Care', 'Information Technology',\n",
    "       'Communication Services', 'Consumer Staples',\n",
    "       'Consumer Discretionary', 'Utilities', 'Financials', 'Materials',\n",
    "       'Real Estate', 'Energy'"
   ]
  },
  {
   "cell_type": "code",
   "execution_count": 7,
   "id": "9da2fac5",
   "metadata": {},
   "outputs": [],
   "source": [
    "# List of tickers/symbols of currencies that we wish to handle\n",
    "FX_TICKERS = [\"AUDUSD=X\", \"HKDUSD=X\", \"JPYUSD=X\", \"SGDUSD=X\"]"
   ]
  },
  {
   "cell_type": "markdown",
   "id": "7183d69c",
   "metadata": {},
   "source": [
    "The key data we are accessing is pricing information for stocks and fx rates.\n",
    "\n",
    "Periodically we need to refresh this information as components of the indexes change, corporate actions occur etc.\n",
    "\n",
    "However, obtaining this information requires downloading it and thus we want to limit that to when required and not download it every time we run the program.\n",
    "\n",
    "We thus set a flag (REFRESH_DATA) which we can adjust before running the program identifying  whether to refresh our data or not."
   ]
  },
  {
   "cell_type": "code",
   "execution_count": 8,
   "id": "99e81318",
   "metadata": {},
   "outputs": [],
   "source": [
    "# When running within Ed this needs to remain as False as their are restrictions on accessing external web sites\n",
    "REFRESH_DATA = False"
   ]
  },
  {
   "cell_type": "markdown",
   "id": "f621dde5",
   "metadata": {},
   "source": [
    "Set constants to determine limits on file size and number of pairs processed to limit processing and memory requirements."
   ]
  },
  {
   "cell_type": "code",
   "execution_count": 9,
   "id": "89c963e7",
   "metadata": {},
   "outputs": [],
   "source": [
    "# Instead of choosing all 500 names from the S&P500, pick a selection to reduce the file sizes\n",
    "SP500_SAMPLE_SIZE = 100\n",
    "\n",
    "# From our list of all generated pairs, select a random sample to reduce processing requiremens\n",
    "#RDM_SAMPLE_SIZE = 20000\n",
    "RDM_SAMPLE_SIZE = 4000"
   ]
  },
  {
   "cell_type": "markdown",
   "id": "26b0c185",
   "metadata": {},
   "source": [
    "# Obtain Names in SP500"
   ]
  },
  {
   "cell_type": "markdown",
   "id": "86e93ef2",
   "metadata": {},
   "source": [
    "If the refresh data flag is set to True, we run the function to scrape the list of names in the S&P500 from Wikipedia and save this to a csv file.\n",
    "\n",
    "If flag is set to false, the program will use the current version of the csv file."
   ]
  },
  {
   "cell_type": "code",
   "execution_count": 10,
   "id": "47f17342",
   "metadata": {},
   "outputs": [],
   "source": [
    "def obtain_sp500_info():\n",
    "    \"\"\"\n",
    "    Function to Scrape Details About S&P500 Components from Wikipedia.\n",
    "    Saves the current S&P Components into a csv file.\n",
    "    \"\"\"\n",
    "\n",
    "    # Scrape the list of components companies in the S&P500 as per Wikipedia\n",
    "    table=pd.read_html('https://en.wikipedia.org/wiki/List_of_S%26P_500_companies')\n",
    "    \n",
    "    # Take the first item in the list obtained from table which contains a dataframe of current S&P components \n",
    "    df = table[0]\n",
    "      \n",
    "    # Save the component stocks to a csv file\n",
    "    df.to_csv(SP500_MEMBERS_FNAME, index=False)\n",
    "    \n",
    "# If refresh flag is True, download current data via running the obtain_sp_500_info function\n",
    "if REFRESH_DATA:\n",
    "    obtain_sp500_info()\n",
    "    "
   ]
  },
  {
   "cell_type": "markdown",
   "id": "143e6d97",
   "metadata": {},
   "source": [
    "Read the Most current version of the csv file that contains the S&P component information."
   ]
  },
  {
   "cell_type": "code",
   "execution_count": 11,
   "id": "8cc59efe",
   "metadata": {},
   "outputs": [
    {
     "data": {
      "text/html": [
       "<div>\n",
       "<style scoped>\n",
       "    .dataframe tbody tr th:only-of-type {\n",
       "        vertical-align: middle;\n",
       "    }\n",
       "\n",
       "    .dataframe tbody tr th {\n",
       "        vertical-align: top;\n",
       "    }\n",
       "\n",
       "    .dataframe thead th {\n",
       "        text-align: right;\n",
       "    }\n",
       "</style>\n",
       "<table border=\"1\" class=\"dataframe\">\n",
       "  <thead>\n",
       "    <tr style=\"text-align: right;\">\n",
       "      <th></th>\n",
       "      <th>Symbol</th>\n",
       "      <th>Security</th>\n",
       "      <th>GICS Sector</th>\n",
       "      <th>GICS Sub-Industry</th>\n",
       "      <th>Headquarters Location</th>\n",
       "      <th>Date added</th>\n",
       "      <th>CIK</th>\n",
       "      <th>Founded</th>\n",
       "    </tr>\n",
       "  </thead>\n",
       "  <tbody>\n",
       "    <tr>\n",
       "      <th>0</th>\n",
       "      <td>MMM</td>\n",
       "      <td>3M</td>\n",
       "      <td>Industrials</td>\n",
       "      <td>Industrial Conglomerates</td>\n",
       "      <td>Saint Paul, Minnesota</td>\n",
       "      <td>1957-03-04</td>\n",
       "      <td>66740</td>\n",
       "      <td>1902</td>\n",
       "    </tr>\n",
       "    <tr>\n",
       "      <th>1</th>\n",
       "      <td>AOS</td>\n",
       "      <td>A. O. Smith</td>\n",
       "      <td>Industrials</td>\n",
       "      <td>Building Products</td>\n",
       "      <td>Milwaukee, Wisconsin</td>\n",
       "      <td>2017-07-26</td>\n",
       "      <td>91142</td>\n",
       "      <td>1916</td>\n",
       "    </tr>\n",
       "    <tr>\n",
       "      <th>2</th>\n",
       "      <td>ABT</td>\n",
       "      <td>Abbott</td>\n",
       "      <td>Health Care</td>\n",
       "      <td>Health Care Equipment</td>\n",
       "      <td>North Chicago, Illinois</td>\n",
       "      <td>1957-03-04</td>\n",
       "      <td>1800</td>\n",
       "      <td>1888</td>\n",
       "    </tr>\n",
       "    <tr>\n",
       "      <th>3</th>\n",
       "      <td>ABBV</td>\n",
       "      <td>AbbVie</td>\n",
       "      <td>Health Care</td>\n",
       "      <td>Pharmaceuticals</td>\n",
       "      <td>North Chicago, Illinois</td>\n",
       "      <td>2012-12-31</td>\n",
       "      <td>1551152</td>\n",
       "      <td>2013 (1888)</td>\n",
       "    </tr>\n",
       "    <tr>\n",
       "      <th>4</th>\n",
       "      <td>ACN</td>\n",
       "      <td>Accenture</td>\n",
       "      <td>Information Technology</td>\n",
       "      <td>IT Consulting &amp; Other Services</td>\n",
       "      <td>Dublin, Ireland</td>\n",
       "      <td>2011-07-06</td>\n",
       "      <td>1467373</td>\n",
       "      <td>1989</td>\n",
       "    </tr>\n",
       "    <tr>\n",
       "      <th>...</th>\n",
       "      <td>...</td>\n",
       "      <td>...</td>\n",
       "      <td>...</td>\n",
       "      <td>...</td>\n",
       "      <td>...</td>\n",
       "      <td>...</td>\n",
       "      <td>...</td>\n",
       "      <td>...</td>\n",
       "    </tr>\n",
       "    <tr>\n",
       "      <th>498</th>\n",
       "      <td>YUM</td>\n",
       "      <td>Yum! Brands</td>\n",
       "      <td>Consumer Discretionary</td>\n",
       "      <td>Restaurants</td>\n",
       "      <td>Louisville, Kentucky</td>\n",
       "      <td>1997-10-06</td>\n",
       "      <td>1041061</td>\n",
       "      <td>1997</td>\n",
       "    </tr>\n",
       "    <tr>\n",
       "      <th>499</th>\n",
       "      <td>ZBRA</td>\n",
       "      <td>Zebra Technologies</td>\n",
       "      <td>Information Technology</td>\n",
       "      <td>Electronic Equipment &amp; Instruments</td>\n",
       "      <td>Lincolnshire, Illinois</td>\n",
       "      <td>2019-12-23</td>\n",
       "      <td>877212</td>\n",
       "      <td>1969</td>\n",
       "    </tr>\n",
       "    <tr>\n",
       "      <th>500</th>\n",
       "      <td>ZBH</td>\n",
       "      <td>Zimmer Biomet</td>\n",
       "      <td>Health Care</td>\n",
       "      <td>Health Care Equipment</td>\n",
       "      <td>Warsaw, Indiana</td>\n",
       "      <td>2001-08-07</td>\n",
       "      <td>1136869</td>\n",
       "      <td>1927</td>\n",
       "    </tr>\n",
       "    <tr>\n",
       "      <th>501</th>\n",
       "      <td>ZION</td>\n",
       "      <td>Zions Bancorporation</td>\n",
       "      <td>Financials</td>\n",
       "      <td>Regional Banks</td>\n",
       "      <td>Salt Lake City, Utah</td>\n",
       "      <td>2001-06-22</td>\n",
       "      <td>109380</td>\n",
       "      <td>1873</td>\n",
       "    </tr>\n",
       "    <tr>\n",
       "      <th>502</th>\n",
       "      <td>ZTS</td>\n",
       "      <td>Zoetis</td>\n",
       "      <td>Health Care</td>\n",
       "      <td>Pharmaceuticals</td>\n",
       "      <td>Parsippany, New Jersey</td>\n",
       "      <td>2013-06-21</td>\n",
       "      <td>1555280</td>\n",
       "      <td>1952</td>\n",
       "    </tr>\n",
       "  </tbody>\n",
       "</table>\n",
       "<p>503 rows × 8 columns</p>\n",
       "</div>"
      ],
      "text/plain": [
       "    Symbol              Security             GICS Sector  \\\n",
       "0      MMM                    3M             Industrials   \n",
       "1      AOS           A. O. Smith             Industrials   \n",
       "2      ABT                Abbott             Health Care   \n",
       "3     ABBV                AbbVie             Health Care   \n",
       "4      ACN             Accenture  Information Technology   \n",
       "..     ...                   ...                     ...   \n",
       "498    YUM           Yum! Brands  Consumer Discretionary   \n",
       "499   ZBRA    Zebra Technologies  Information Technology   \n",
       "500    ZBH         Zimmer Biomet             Health Care   \n",
       "501   ZION  Zions Bancorporation              Financials   \n",
       "502    ZTS                Zoetis             Health Care   \n",
       "\n",
       "                      GICS Sub-Industry    Headquarters Location  Date added  \\\n",
       "0              Industrial Conglomerates    Saint Paul, Minnesota  1957-03-04   \n",
       "1                     Building Products     Milwaukee, Wisconsin  2017-07-26   \n",
       "2                 Health Care Equipment  North Chicago, Illinois  1957-03-04   \n",
       "3                       Pharmaceuticals  North Chicago, Illinois  2012-12-31   \n",
       "4        IT Consulting & Other Services          Dublin, Ireland  2011-07-06   \n",
       "..                                  ...                      ...         ...   \n",
       "498                         Restaurants     Louisville, Kentucky  1997-10-06   \n",
       "499  Electronic Equipment & Instruments   Lincolnshire, Illinois  2019-12-23   \n",
       "500               Health Care Equipment          Warsaw, Indiana  2001-08-07   \n",
       "501                      Regional Banks     Salt Lake City, Utah  2001-06-22   \n",
       "502                     Pharmaceuticals   Parsippany, New Jersey  2013-06-21   \n",
       "\n",
       "         CIK      Founded  \n",
       "0      66740         1902  \n",
       "1      91142         1916  \n",
       "2       1800         1888  \n",
       "3    1551152  2013 (1888)  \n",
       "4    1467373         1989  \n",
       "..       ...          ...  \n",
       "498  1041061         1997  \n",
       "499   877212         1969  \n",
       "500  1136869         1927  \n",
       "501   109380         1873  \n",
       "502  1555280         1952  \n",
       "\n",
       "[503 rows x 8 columns]"
      ]
     },
     "execution_count": 11,
     "metadata": {},
     "output_type": "execute_result"
    }
   ],
   "source": [
    "sp500_info_df = pd.read_csv(SP500_MEMBERS_FNAME)\n",
    "sp500_info_df"
   ]
  },
  {
   "cell_type": "code",
   "execution_count": 67,
   "id": "66c39403",
   "metadata": {},
   "outputs": [
    {
     "data": {
      "text/plain": [
       "array(['Industrials', 'Health Care', 'Information Technology',\n",
       "       'Communication Services', 'Consumer Staples',\n",
       "       'Consumer Discretionary', 'Utilities', 'Financials', 'Materials',\n",
       "       'Real Estate', 'Energy'], dtype=object)"
      ]
     },
     "execution_count": 67,
     "metadata": {},
     "output_type": "execute_result"
    }
   ],
   "source": [
    "sp500_info_df['GICS Sector'].unique()"
   ]
  },
  {
   "cell_type": "code",
   "execution_count": 12,
   "id": "756cc4a1",
   "metadata": {},
   "outputs": [],
   "source": [
    "# Trim the number of S&P500 members we are going to review given processing constraints\n",
    "\n",
    "sp500_info_df = sp500_info_df[:SP500_SAMPLE_SIZE].copy()"
   ]
  },
  {
   "cell_type": "markdown",
   "id": "c047e40d",
   "metadata": {},
   "source": [
    "Review the number of members to check that it equals the input constant SP500_SAMPLE_SIZE and also that there are no duplicate symbols"
   ]
  },
  {
   "cell_type": "code",
   "execution_count": 13,
   "id": "532b593d",
   "metadata": {},
   "outputs": [
    {
     "name": "stdout",
     "output_type": "stream",
     "text": [
      "100\n",
      "100\n",
      "100\n"
     ]
    }
   ],
   "source": [
    "print(SP500_SAMPLE_SIZE)\n",
    "print(sp500_info_df['Symbol'].count())\n",
    "print(len(sp500_info_df['Symbol'].unique()))"
   ]
  },
  {
   "cell_type": "markdown",
   "id": "2fc67d4c",
   "metadata": {},
   "source": [
    "<span style=\"color:green\">&#x2705;</span>"
   ]
  },
  {
   "cell_type": "markdown",
   "id": "244d5daf",
   "metadata": {},
   "source": [
    "Check for any periods in the stock names.  Yahoo Finance, which is where we download the prices from, uses the convention that A shares and B shares utilize dashes in their names instead of periods."
   ]
  },
  {
   "cell_type": "code",
   "execution_count": 14,
   "id": "95180de9",
   "metadata": {},
   "outputs": [
    {
     "data": {
      "text/html": [
       "<div>\n",
       "<style scoped>\n",
       "    .dataframe tbody tr th:only-of-type {\n",
       "        vertical-align: middle;\n",
       "    }\n",
       "\n",
       "    .dataframe tbody tr th {\n",
       "        vertical-align: top;\n",
       "    }\n",
       "\n",
       "    .dataframe thead th {\n",
       "        text-align: right;\n",
       "    }\n",
       "</style>\n",
       "<table border=\"1\" class=\"dataframe\">\n",
       "  <thead>\n",
       "    <tr style=\"text-align: right;\">\n",
       "      <th></th>\n",
       "      <th>Symbol</th>\n",
       "      <th>Security</th>\n",
       "      <th>GICS Sector</th>\n",
       "      <th>GICS Sub-Industry</th>\n",
       "      <th>Headquarters Location</th>\n",
       "      <th>Date added</th>\n",
       "      <th>CIK</th>\n",
       "      <th>Founded</th>\n",
       "    </tr>\n",
       "  </thead>\n",
       "  <tbody>\n",
       "    <tr>\n",
       "      <th>65</th>\n",
       "      <td>BRK.B</td>\n",
       "      <td>Berkshire Hathaway</td>\n",
       "      <td>Financials</td>\n",
       "      <td>Multi-Sector Holdings</td>\n",
       "      <td>Omaha, Nebraska</td>\n",
       "      <td>2010-02-16</td>\n",
       "      <td>1067983</td>\n",
       "      <td>1839</td>\n",
       "    </tr>\n",
       "    <tr>\n",
       "      <th>81</th>\n",
       "      <td>BF.B</td>\n",
       "      <td>Brown–Forman</td>\n",
       "      <td>Consumer Staples</td>\n",
       "      <td>Distillers &amp; Vintners</td>\n",
       "      <td>Louisville, Kentucky</td>\n",
       "      <td>1982-10-31</td>\n",
       "      <td>14693</td>\n",
       "      <td>1870</td>\n",
       "    </tr>\n",
       "  </tbody>\n",
       "</table>\n",
       "</div>"
      ],
      "text/plain": [
       "   Symbol            Security       GICS Sector      GICS Sub-Industry  \\\n",
       "65  BRK.B  Berkshire Hathaway        Financials  Multi-Sector Holdings   \n",
       "81   BF.B        Brown–Forman  Consumer Staples  Distillers & Vintners   \n",
       "\n",
       "   Headquarters Location  Date added      CIK Founded  \n",
       "65       Omaha, Nebraska  2010-02-16  1067983    1839  \n",
       "81  Louisville, Kentucky  1982-10-31    14693    1870  "
      ]
     },
     "execution_count": 14,
     "metadata": {},
     "output_type": "execute_result"
    }
   ],
   "source": [
    "sp500_info_df[sp500_info_df['Symbol'].str.contains(\".\", regex=False)]"
   ]
  },
  {
   "cell_type": "code",
   "execution_count": 15,
   "id": "e3c27668",
   "metadata": {},
   "outputs": [
    {
     "data": {
      "text/html": [
       "<div>\n",
       "<style scoped>\n",
       "    .dataframe tbody tr th:only-of-type {\n",
       "        vertical-align: middle;\n",
       "    }\n",
       "\n",
       "    .dataframe tbody tr th {\n",
       "        vertical-align: top;\n",
       "    }\n",
       "\n",
       "    .dataframe thead th {\n",
       "        text-align: right;\n",
       "    }\n",
       "</style>\n",
       "<table border=\"1\" class=\"dataframe\">\n",
       "  <thead>\n",
       "    <tr style=\"text-align: right;\">\n",
       "      <th></th>\n",
       "      <th>Symbol</th>\n",
       "      <th>Security</th>\n",
       "      <th>GICS Sector</th>\n",
       "      <th>GICS Sub-Industry</th>\n",
       "      <th>Headquarters Location</th>\n",
       "      <th>Date added</th>\n",
       "      <th>CIK</th>\n",
       "      <th>Founded</th>\n",
       "    </tr>\n",
       "  </thead>\n",
       "  <tbody>\n",
       "  </tbody>\n",
       "</table>\n",
       "</div>"
      ],
      "text/plain": [
       "Empty DataFrame\n",
       "Columns: [Symbol, Security, GICS Sector, GICS Sub-Industry, Headquarters Location, Date added, CIK, Founded]\n",
       "Index: []"
      ]
     },
     "execution_count": 15,
     "metadata": {},
     "output_type": "execute_result"
    }
   ],
   "source": [
    "# We need to replace periods with dashs within the Symbol columns for S&P500 related names as per Yahoo Finance convention\n",
    "sp500_info_df['Symbol'] = sp500_info_df['Symbol'].str.replace(\".\", \"-\", regex=False)\n",
    "\n",
    "# Check to ensure this was successful\n",
    "sp500_info_df[sp500_info_df['Symbol'].str.contains(\".\", regex=False)]"
   ]
  },
  {
   "cell_type": "markdown",
   "id": "5d8ad570",
   "metadata": {},
   "source": [
    "<span style=\"color:green\">&#x2705;</span>"
   ]
  },
  {
   "cell_type": "markdown",
   "id": "12c0e2f8",
   "metadata": {},
   "source": [
    "# Obtain Prices From CSV or Yahoo Finance"
   ]
  },
  {
   "cell_type": "markdown",
   "id": "884ef1c0",
   "metadata": {},
   "source": [
    "If we have chosen to refresh the data, we will now download the latest prices from Yahoo Finance using the yfinance Library.\n",
    "\n",
    "We will download prices for both our stocks and also for the Foreign Exchange (FX) rates.\n",
    "\n",
    "We will then update the pricing related csv files."
   ]
  },
  {
   "cell_type": "code",
   "execution_count": 16,
   "id": "7f981648",
   "metadata": {},
   "outputs": [],
   "source": [
    "if REFRESH_DATA:\n",
    "    \n",
    "    # Download stock data and FX data from yfinance\n",
    "    raw_stock_prices_df = yf.download(list(sp500_info_df['Symbol']), start=\"2022-01-01\", end=\"2022-12-31\")[\"Adj Close\"]\n",
    "    raw_fx_prices_df = yf.download(FX_TICKERS, start=\"2022-01-01\", end=\"2022-12-31\")[\"Adj Close\"]\n",
    "    \n",
    "    # Write new prices to csv\n",
    "    raw_stock_prices_df.to_csv(STOCK_PRICES_FNAME)\n",
    "    raw_fx_prices_df.to_csv(FX_PRICES_FNAME)\n",
    "\n"
   ]
  },
  {
   "cell_type": "markdown",
   "id": "26ab7972",
   "metadata": {},
   "source": [
    "Whether we have just refreshed the prices or not, we will read the share and FX prices from their csv files.  If refreshed, they will contain the data just downloaded.  If not, the prior version of the file."
   ]
  },
  {
   "cell_type": "code",
   "execution_count": 17,
   "id": "9cd462a7",
   "metadata": {},
   "outputs": [],
   "source": [
    "# Read the Daily Prices for the Stocks and FX Rates from their respective csv files\n",
    "raw_stock_prices_df = pd.read_csv(STOCK_PRICES_FNAME)\n",
    "raw_fx_prices_df = pd.read_csv(FX_PRICES_FNAME)\n",
    "    "
   ]
  },
  {
   "cell_type": "markdown",
   "id": "0a8afa5f",
   "metadata": {},
   "source": [
    "## Review the Raw FX Data"
   ]
  },
  {
   "cell_type": "code",
   "execution_count": 18,
   "id": "7ca79a6b",
   "metadata": {},
   "outputs": [
    {
     "data": {
      "text/html": [
       "<div>\n",
       "<style scoped>\n",
       "    .dataframe tbody tr th:only-of-type {\n",
       "        vertical-align: middle;\n",
       "    }\n",
       "\n",
       "    .dataframe tbody tr th {\n",
       "        vertical-align: top;\n",
       "    }\n",
       "\n",
       "    .dataframe thead th {\n",
       "        text-align: right;\n",
       "    }\n",
       "</style>\n",
       "<table border=\"1\" class=\"dataframe\">\n",
       "  <thead>\n",
       "    <tr style=\"text-align: right;\">\n",
       "      <th></th>\n",
       "      <th>AUDUSD=X</th>\n",
       "      <th>HKDUSD=X</th>\n",
       "      <th>JPYUSD=X</th>\n",
       "      <th>SGDUSD=X</th>\n",
       "    </tr>\n",
       "  </thead>\n",
       "  <tbody>\n",
       "    <tr>\n",
       "      <th>count</th>\n",
       "      <td>261.000000</td>\n",
       "      <td>259.000000</td>\n",
       "      <td>261.000000</td>\n",
       "      <td>261.000000</td>\n",
       "    </tr>\n",
       "    <tr>\n",
       "      <th>mean</th>\n",
       "      <td>0.695038</td>\n",
       "      <td>0.127714</td>\n",
       "      <td>0.007659</td>\n",
       "      <td>0.725619</td>\n",
       "    </tr>\n",
       "    <tr>\n",
       "      <th>std</th>\n",
       "      <td>0.031389</td>\n",
       "      <td>0.000396</td>\n",
       "      <td>0.000634</td>\n",
       "      <td>0.013144</td>\n",
       "    </tr>\n",
       "    <tr>\n",
       "      <th>min</th>\n",
       "      <td>0.622394</td>\n",
       "      <td>0.127372</td>\n",
       "      <td>0.006659</td>\n",
       "      <td>0.695082</td>\n",
       "    </tr>\n",
       "    <tr>\n",
       "      <th>25%</th>\n",
       "      <td>0.674332</td>\n",
       "      <td>0.127400</td>\n",
       "      <td>0.007209</td>\n",
       "      <td>0.716692</td>\n",
       "    </tr>\n",
       "    <tr>\n",
       "      <th>50%</th>\n",
       "      <td>0.695300</td>\n",
       "      <td>0.127457</td>\n",
       "      <td>0.007465</td>\n",
       "      <td>0.726639</td>\n",
       "    </tr>\n",
       "    <tr>\n",
       "      <th>75%</th>\n",
       "      <td>0.718649</td>\n",
       "      <td>0.128077</td>\n",
       "      <td>0.008143</td>\n",
       "      <td>0.737300</td>\n",
       "    </tr>\n",
       "    <tr>\n",
       "      <th>max</th>\n",
       "      <td>0.758570</td>\n",
       "      <td>0.128718</td>\n",
       "      <td>0.008789</td>\n",
       "      <td>0.745379</td>\n",
       "    </tr>\n",
       "  </tbody>\n",
       "</table>\n",
       "</div>"
      ],
      "text/plain": [
       "         AUDUSD=X    HKDUSD=X    JPYUSD=X    SGDUSD=X\n",
       "count  261.000000  259.000000  261.000000  261.000000\n",
       "mean     0.695038    0.127714    0.007659    0.725619\n",
       "std      0.031389    0.000396    0.000634    0.013144\n",
       "min      0.622394    0.127372    0.006659    0.695082\n",
       "25%      0.674332    0.127400    0.007209    0.716692\n",
       "50%      0.695300    0.127457    0.007465    0.726639\n",
       "75%      0.718649    0.128077    0.008143    0.737300\n",
       "max      0.758570    0.128718    0.008789    0.745379"
      ]
     },
     "execution_count": 18,
     "metadata": {},
     "output_type": "execute_result"
    }
   ],
   "source": [
    "raw_fx_prices_df.describe()"
   ]
  },
  {
   "cell_type": "markdown",
   "id": "fdda10a7",
   "metadata": {},
   "source": [
    "It quite difficult to analyze the JPY and HKD columns given they are inverted vs how they are conventionally displayed.\n",
    "\n",
    "Inverting them for reasonableness analysis:"
   ]
  },
  {
   "cell_type": "code",
   "execution_count": 19,
   "id": "b34d437d",
   "metadata": {},
   "outputs": [
    {
     "data": {
      "text/html": [
       "<div>\n",
       "<style scoped>\n",
       "    .dataframe tbody tr th:only-of-type {\n",
       "        vertical-align: middle;\n",
       "    }\n",
       "\n",
       "    .dataframe tbody tr th {\n",
       "        vertical-align: top;\n",
       "    }\n",
       "\n",
       "    .dataframe thead th {\n",
       "        text-align: right;\n",
       "    }\n",
       "</style>\n",
       "<table border=\"1\" class=\"dataframe\">\n",
       "  <thead>\n",
       "    <tr style=\"text-align: right;\">\n",
       "      <th></th>\n",
       "      <th>AUDUSD=X</th>\n",
       "      <th>HKDUSD=X</th>\n",
       "      <th>JPYUSD=X</th>\n",
       "      <th>SGDUSD=X</th>\n",
       "    </tr>\n",
       "  </thead>\n",
       "  <tbody>\n",
       "    <tr>\n",
       "      <th>count</th>\n",
       "      <td>261.000000</td>\n",
       "      <td>259.000000</td>\n",
       "      <td>261.000000</td>\n",
       "      <td>261.000000</td>\n",
       "    </tr>\n",
       "    <tr>\n",
       "      <th>mean</th>\n",
       "      <td>0.695038</td>\n",
       "      <td>7.829972</td>\n",
       "      <td>130.558193</td>\n",
       "      <td>0.725619</td>\n",
       "    </tr>\n",
       "    <tr>\n",
       "      <th>std</th>\n",
       "      <td>0.031389</td>\n",
       "      <td>0.000396</td>\n",
       "      <td>0.000634</td>\n",
       "      <td>0.013144</td>\n",
       "    </tr>\n",
       "    <tr>\n",
       "      <th>min</th>\n",
       "      <td>0.622394</td>\n",
       "      <td>7.851000</td>\n",
       "      <td>150.175992</td>\n",
       "      <td>0.695082</td>\n",
       "    </tr>\n",
       "    <tr>\n",
       "      <th>25%</th>\n",
       "      <td>0.674332</td>\n",
       "      <td>0.127400</td>\n",
       "      <td>0.007209</td>\n",
       "      <td>0.716692</td>\n",
       "    </tr>\n",
       "    <tr>\n",
       "      <th>50%</th>\n",
       "      <td>0.695300</td>\n",
       "      <td>0.127457</td>\n",
       "      <td>0.007465</td>\n",
       "      <td>0.726639</td>\n",
       "    </tr>\n",
       "    <tr>\n",
       "      <th>75%</th>\n",
       "      <td>0.718649</td>\n",
       "      <td>0.128077</td>\n",
       "      <td>0.008143</td>\n",
       "      <td>0.737300</td>\n",
       "    </tr>\n",
       "    <tr>\n",
       "      <th>max</th>\n",
       "      <td>0.758570</td>\n",
       "      <td>7.768900</td>\n",
       "      <td>113.785000</td>\n",
       "      <td>0.745379</td>\n",
       "    </tr>\n",
       "  </tbody>\n",
       "</table>\n",
       "</div>"
      ],
      "text/plain": [
       "         AUDUSD=X    HKDUSD=X    JPYUSD=X    SGDUSD=X\n",
       "count  261.000000  259.000000  261.000000  261.000000\n",
       "mean     0.695038    7.829972  130.558193    0.725619\n",
       "std      0.031389    0.000396    0.000634    0.013144\n",
       "min      0.622394    7.851000  150.175992    0.695082\n",
       "25%      0.674332    0.127400    0.007209    0.716692\n",
       "50%      0.695300    0.127457    0.007465    0.726639\n",
       "75%      0.718649    0.128077    0.008143    0.737300\n",
       "max      0.758570    7.768900  113.785000    0.745379"
      ]
     },
     "execution_count": 19,
     "metadata": {},
     "output_type": "execute_result"
    }
   ],
   "source": [
    "fx_summ = raw_fx_prices_df.describe()\n",
    "# Invert FX Rate for display purposes for JPY and HKD to what is conventionally displayed\n",
    "fx_summ.loc[['mean', 'min', 'max'],['JPYUSD=X', 'HKDUSD=X']] \\\n",
    "            = 1 / fx_summ.loc[['mean', 'min', 'max'],['JPYUSD=X', 'HKDUSD=X']]\n",
    "fx_summ\n"
   ]
  },
  {
   "cell_type": "markdown",
   "id": "86d3466a",
   "metadata": {},
   "source": [
    "<div class=\"alert alert-block alert-success\">\n",
    "Min and max ranges as well as distributions seem in line with the known characteristics of the currencies\n",
    "</div>"
   ]
  },
  {
   "cell_type": "markdown",
   "id": "944f0acd",
   "metadata": {},
   "source": [
    "<div class=\"alert alert-block alert-danger\">\n",
    "We do not have the same number of records for each currency\n",
    "</div>"
   ]
  },
  {
   "cell_type": "markdown",
   "id": "31d9beda",
   "metadata": {},
   "source": [
    "<p style=\"background-color:Yellow;\">test</p>"
   ]
  },
  {
   "cell_type": "markdown",
   "id": "9e545450",
   "metadata": {},
   "source": [
    "&#10060;"
   ]
  },
  {
   "cell_type": "markdown",
   "id": "911a44b1",
   "metadata": {},
   "source": [
    "To fix this we will resample the data using the ffil() function.\n",
    "First though we'll create a copy of the data to avoid changing original data removing need to reload if rerunning workbook"
   ]
  },
  {
   "cell_type": "code",
   "execution_count": 20,
   "id": "f375da6f",
   "metadata": {},
   "outputs": [],
   "source": [
    " fx_prices = raw_fx_prices_df.copy()"
   ]
  },
  {
   "cell_type": "markdown",
   "id": "ab9740dd",
   "metadata": {},
   "source": [
    "Prior to doing the resampling and for later analysis it is better if we convert dates from being string values a column,  to Datetime values and also set them as the index."
   ]
  },
  {
   "cell_type": "code",
   "execution_count": 21,
   "id": "b354d6cc",
   "metadata": {},
   "outputs": [],
   "source": [
    "# Format the Date and set as the Index\n",
    "fx_prices['Date'] = pd.to_datetime(fx_prices['Date'], format = \"%Y-%m-%d\")\n",
    "fx_prices = fx_prices.set_index('Date', drop=True)"
   ]
  },
  {
   "cell_type": "code",
   "execution_count": 22,
   "id": "6b01bf69",
   "metadata": {},
   "outputs": [],
   "source": [
    "# Resampling data to fill any missing values\n",
    "# This will also give a price for the week-ends, but that will get dropped later when we merge with the share prices df\n",
    "fx_prices = fx_prices.resample('D').last().ffill()"
   ]
  },
  {
   "cell_type": "code",
   "execution_count": 23,
   "id": "8e152c7c",
   "metadata": {},
   "outputs": [
    {
     "data": {
      "text/plain": [
       "AUDUSD=X    365.0\n",
       "HKDUSD=X    365.0\n",
       "JPYUSD=X    365.0\n",
       "SGDUSD=X    365.0\n",
       "Name: count, dtype: float64"
      ]
     },
     "execution_count": 23,
     "metadata": {},
     "output_type": "execute_result"
    }
   ],
   "source": [
    "# Check the column counts to ensure they are now consistent\n",
    "fx_prices.describe().loc['count']"
   ]
  },
  {
   "cell_type": "markdown",
   "id": "333af8b1",
   "metadata": {},
   "source": [
    "&#x2705;"
   ]
  },
  {
   "cell_type": "markdown",
   "id": "f10ed620",
   "metadata": {},
   "source": [
    "Here is how our FX data now looks:"
   ]
  },
  {
   "cell_type": "code",
   "execution_count": 24,
   "id": "c2a3f848",
   "metadata": {},
   "outputs": [
    {
     "data": {
      "text/html": [
       "<div>\n",
       "<style scoped>\n",
       "    .dataframe tbody tr th:only-of-type {\n",
       "        vertical-align: middle;\n",
       "    }\n",
       "\n",
       "    .dataframe tbody tr th {\n",
       "        vertical-align: top;\n",
       "    }\n",
       "\n",
       "    .dataframe thead th {\n",
       "        text-align: right;\n",
       "    }\n",
       "</style>\n",
       "<table border=\"1\" class=\"dataframe\">\n",
       "  <thead>\n",
       "    <tr style=\"text-align: right;\">\n",
       "      <th></th>\n",
       "      <th>AUDUSD=X</th>\n",
       "      <th>HKDUSD=X</th>\n",
       "      <th>JPYUSD=X</th>\n",
       "      <th>SGDUSD=X</th>\n",
       "    </tr>\n",
       "    <tr>\n",
       "      <th>Date</th>\n",
       "      <th></th>\n",
       "      <th></th>\n",
       "      <th></th>\n",
       "      <th></th>\n",
       "    </tr>\n",
       "  </thead>\n",
       "  <tbody>\n",
       "    <tr>\n",
       "      <th>2021-12-31</th>\n",
       "      <td>0.724980</td>\n",
       "      <td>0.128245</td>\n",
       "      <td>0.008691</td>\n",
       "      <td>0.739694</td>\n",
       "    </tr>\n",
       "    <tr>\n",
       "      <th>2022-01-01</th>\n",
       "      <td>0.724980</td>\n",
       "      <td>0.128245</td>\n",
       "      <td>0.008691</td>\n",
       "      <td>0.739694</td>\n",
       "    </tr>\n",
       "    <tr>\n",
       "      <th>2022-01-02</th>\n",
       "      <td>0.724980</td>\n",
       "      <td>0.128245</td>\n",
       "      <td>0.008691</td>\n",
       "      <td>0.739694</td>\n",
       "    </tr>\n",
       "    <tr>\n",
       "      <th>2022-01-03</th>\n",
       "      <td>0.726818</td>\n",
       "      <td>0.128272</td>\n",
       "      <td>0.008685</td>\n",
       "      <td>0.741730</td>\n",
       "    </tr>\n",
       "    <tr>\n",
       "      <th>2022-01-04</th>\n",
       "      <td>0.719800</td>\n",
       "      <td>0.128243</td>\n",
       "      <td>0.008671</td>\n",
       "      <td>0.739033</td>\n",
       "    </tr>\n",
       "    <tr>\n",
       "      <th>...</th>\n",
       "      <td>...</td>\n",
       "      <td>...</td>\n",
       "      <td>...</td>\n",
       "      <td>...</td>\n",
       "    </tr>\n",
       "    <tr>\n",
       "      <th>2022-12-26</th>\n",
       "      <td>0.671249</td>\n",
       "      <td>0.128147</td>\n",
       "      <td>0.007531</td>\n",
       "      <td>0.739809</td>\n",
       "    </tr>\n",
       "    <tr>\n",
       "      <th>2022-12-27</th>\n",
       "      <td>0.674459</td>\n",
       "      <td>0.128121</td>\n",
       "      <td>0.007532</td>\n",
       "      <td>0.742501</td>\n",
       "    </tr>\n",
       "    <tr>\n",
       "      <th>2022-12-28</th>\n",
       "      <td>0.672993</td>\n",
       "      <td>0.128199</td>\n",
       "      <td>0.007491</td>\n",
       "      <td>0.742060</td>\n",
       "    </tr>\n",
       "    <tr>\n",
       "      <th>2022-12-29</th>\n",
       "      <td>0.674710</td>\n",
       "      <td>0.128307</td>\n",
       "      <td>0.007461</td>\n",
       "      <td>0.741158</td>\n",
       "    </tr>\n",
       "    <tr>\n",
       "      <th>2022-12-30</th>\n",
       "      <td>0.676600</td>\n",
       "      <td>0.128297</td>\n",
       "      <td>0.007524</td>\n",
       "      <td>0.744313</td>\n",
       "    </tr>\n",
       "  </tbody>\n",
       "</table>\n",
       "<p>365 rows × 4 columns</p>\n",
       "</div>"
      ],
      "text/plain": [
       "            AUDUSD=X  HKDUSD=X  JPYUSD=X  SGDUSD=X\n",
       "Date                                              \n",
       "2021-12-31  0.724980  0.128245  0.008691  0.739694\n",
       "2022-01-01  0.724980  0.128245  0.008691  0.739694\n",
       "2022-01-02  0.724980  0.128245  0.008691  0.739694\n",
       "2022-01-03  0.726818  0.128272  0.008685  0.741730\n",
       "2022-01-04  0.719800  0.128243  0.008671  0.739033\n",
       "...              ...       ...       ...       ...\n",
       "2022-12-26  0.671249  0.128147  0.007531  0.739809\n",
       "2022-12-27  0.674459  0.128121  0.007532  0.742501\n",
       "2022-12-28  0.672993  0.128199  0.007491  0.742060\n",
       "2022-12-29  0.674710  0.128307  0.007461  0.741158\n",
       "2022-12-30  0.676600  0.128297  0.007524  0.744313\n",
       "\n",
       "[365 rows x 4 columns]"
      ]
     },
     "execution_count": 24,
     "metadata": {},
     "output_type": "execute_result"
    }
   ],
   "source": [
    "fx_prices"
   ]
  },
  {
   "cell_type": "markdown",
   "id": "2cce0bff",
   "metadata": {},
   "source": [
    "&#x2705;"
   ]
  },
  {
   "cell_type": "markdown",
   "id": "1fccf238",
   "metadata": {},
   "source": [
    "## Review the Raw Stock Price Data"
   ]
  },
  {
   "cell_type": "code",
   "execution_count": 25,
   "id": "2f538e4d",
   "metadata": {},
   "outputs": [
    {
     "data": {
      "text/html": [
       "<div>\n",
       "<style scoped>\n",
       "    .dataframe tbody tr th:only-of-type {\n",
       "        vertical-align: middle;\n",
       "    }\n",
       "\n",
       "    .dataframe tbody tr th {\n",
       "        vertical-align: top;\n",
       "    }\n",
       "\n",
       "    .dataframe thead th {\n",
       "        text-align: right;\n",
       "    }\n",
       "</style>\n",
       "<table border=\"1\" class=\"dataframe\">\n",
       "  <thead>\n",
       "    <tr style=\"text-align: right;\">\n",
       "      <th></th>\n",
       "      <th>Date</th>\n",
       "      <th>A</th>\n",
       "      <th>AAL</th>\n",
       "      <th>AAP</th>\n",
       "      <th>AAPL</th>\n",
       "      <th>ABBV</th>\n",
       "      <th>ABC</th>\n",
       "      <th>ABT</th>\n",
       "      <th>ACGL</th>\n",
       "      <th>ACN</th>\n",
       "      <th>...</th>\n",
       "      <th>CZR</th>\n",
       "      <th>GOOG</th>\n",
       "      <th>GOOGL</th>\n",
       "      <th>KMX</th>\n",
       "      <th>LNT</th>\n",
       "      <th>MMM</th>\n",
       "      <th>MO</th>\n",
       "      <th>T</th>\n",
       "      <th>TECH</th>\n",
       "      <th>WRB</th>\n",
       "    </tr>\n",
       "  </thead>\n",
       "  <tbody>\n",
       "    <tr>\n",
       "      <th>0</th>\n",
       "      <td>2021-12-31</td>\n",
       "      <td>157.838791</td>\n",
       "      <td>17.959999</td>\n",
       "      <td>227.873291</td>\n",
       "      <td>176.032745</td>\n",
       "      <td>126.516022</td>\n",
       "      <td>130.465149</td>\n",
       "      <td>136.453796</td>\n",
       "      <td>44.450001</td>\n",
       "      <td>404.244263</td>\n",
       "      <td>...</td>\n",
       "      <td>93.529999</td>\n",
       "      <td>144.679504</td>\n",
       "      <td>144.852005</td>\n",
       "      <td>130.229996</td>\n",
       "      <td>58.660084</td>\n",
       "      <td>165.659805</td>\n",
       "      <td>42.002319</td>\n",
       "      <td>16.512590</td>\n",
       "      <td>128.615036</td>\n",
       "      <td>53.633770</td>\n",
       "    </tr>\n",
       "    <tr>\n",
       "      <th>1</th>\n",
       "      <td>2022-01-03</td>\n",
       "      <td>154.908508</td>\n",
       "      <td>18.750000</td>\n",
       "      <td>224.928452</td>\n",
       "      <td>180.434280</td>\n",
       "      <td>126.534714</td>\n",
       "      <td>130.200043</td>\n",
       "      <td>134.805573</td>\n",
       "      <td>44.549999</td>\n",
       "      <td>397.086761</td>\n",
       "      <td>...</td>\n",
       "      <td>93.470001</td>\n",
       "      <td>145.074493</td>\n",
       "      <td>144.991501</td>\n",
       "      <td>127.010002</td>\n",
       "      <td>58.068417</td>\n",
       "      <td>165.762405</td>\n",
       "      <td>42.516380</td>\n",
       "      <td>17.069727</td>\n",
       "      <td>121.268661</td>\n",
       "      <td>52.898167</td>\n",
       "    </tr>\n",
       "    <tr>\n",
       "      <th>2</th>\n",
       "      <td>2022-01-04</td>\n",
       "      <td>149.671661</td>\n",
       "      <td>19.020000</td>\n",
       "      <td>225.184921</td>\n",
       "      <td>178.144302</td>\n",
       "      <td>126.291771</td>\n",
       "      <td>128.963058</td>\n",
       "      <td>131.635162</td>\n",
       "      <td>45.130001</td>\n",
       "      <td>394.249084</td>\n",
       "      <td>...</td>\n",
       "      <td>89.949997</td>\n",
       "      <td>144.416504</td>\n",
       "      <td>144.399506</td>\n",
       "      <td>123.860001</td>\n",
       "      <td>57.944363</td>\n",
       "      <td>168.084595</td>\n",
       "      <td>43.455868</td>\n",
       "      <td>17.210686</td>\n",
       "      <td>116.353661</td>\n",
       "      <td>53.685848</td>\n",
       "    </tr>\n",
       "    <tr>\n",
       "      <th>3</th>\n",
       "      <td>2022-01-05</td>\n",
       "      <td>147.107666</td>\n",
       "      <td>18.680000</td>\n",
       "      <td>224.614975</td>\n",
       "      <td>173.405685</td>\n",
       "      <td>126.955162</td>\n",
       "      <td>130.082245</td>\n",
       "      <td>131.043732</td>\n",
       "      <td>44.599998</td>\n",
       "      <td>387.306091</td>\n",
       "      <td>...</td>\n",
       "      <td>84.150002</td>\n",
       "      <td>137.653503</td>\n",
       "      <td>137.774994</td>\n",
       "      <td>119.349998</td>\n",
       "      <td>58.459679</td>\n",
       "      <td>167.394470</td>\n",
       "      <td>43.110207</td>\n",
       "      <td>17.593296</td>\n",
       "      <td>108.077499</td>\n",
       "      <td>53.086952</td>\n",
       "    </tr>\n",
       "    <tr>\n",
       "      <th>4</th>\n",
       "      <td>2022-01-06</td>\n",
       "      <td>147.622406</td>\n",
       "      <td>18.570000</td>\n",
       "      <td>229.554672</td>\n",
       "      <td>170.510956</td>\n",
       "      <td>126.357155</td>\n",
       "      <td>128.069656</td>\n",
       "      <td>131.024307</td>\n",
       "      <td>44.860001</td>\n",
       "      <td>368.602905</td>\n",
       "      <td>...</td>\n",
       "      <td>86.599998</td>\n",
       "      <td>137.550995</td>\n",
       "      <td>137.747498</td>\n",
       "      <td>119.099998</td>\n",
       "      <td>58.221104</td>\n",
       "      <td>166.004898</td>\n",
       "      <td>43.615406</td>\n",
       "      <td>17.526171</td>\n",
       "      <td>106.041412</td>\n",
       "      <td>53.991798</td>\n",
       "    </tr>\n",
       "    <tr>\n",
       "      <th>...</th>\n",
       "      <td>...</td>\n",
       "      <td>...</td>\n",
       "      <td>...</td>\n",
       "      <td>...</td>\n",
       "      <td>...</td>\n",
       "      <td>...</td>\n",
       "      <td>...</td>\n",
       "      <td>...</td>\n",
       "      <td>...</td>\n",
       "      <td>...</td>\n",
       "      <td>...</td>\n",
       "      <td>...</td>\n",
       "      <td>...</td>\n",
       "      <td>...</td>\n",
       "      <td>...</td>\n",
       "      <td>...</td>\n",
       "      <td>...</td>\n",
       "      <td>...</td>\n",
       "      <td>...</td>\n",
       "      <td>...</td>\n",
       "      <td>...</td>\n",
       "    </tr>\n",
       "    <tr>\n",
       "      <th>247</th>\n",
       "      <td>2022-12-23</td>\n",
       "      <td>148.481888</td>\n",
       "      <td>12.710000</td>\n",
       "      <td>141.008743</td>\n",
       "      <td>131.477127</td>\n",
       "      <td>158.336075</td>\n",
       "      <td>169.002655</td>\n",
       "      <td>106.645416</td>\n",
       "      <td>63.380001</td>\n",
       "      <td>263.014862</td>\n",
       "      <td>...</td>\n",
       "      <td>43.090000</td>\n",
       "      <td>89.809998</td>\n",
       "      <td>89.230003</td>\n",
       "      <td>60.160000</td>\n",
       "      <td>54.385517</td>\n",
       "      <td>116.794731</td>\n",
       "      <td>44.347225</td>\n",
       "      <td>17.485210</td>\n",
       "      <td>82.562065</td>\n",
       "      <td>72.699142</td>\n",
       "    </tr>\n",
       "    <tr>\n",
       "      <th>248</th>\n",
       "      <td>2022-12-27</td>\n",
       "      <td>148.800278</td>\n",
       "      <td>12.530000</td>\n",
       "      <td>142.721176</td>\n",
       "      <td>129.652435</td>\n",
       "      <td>158.229309</td>\n",
       "      <td>167.998657</td>\n",
       "      <td>107.029884</td>\n",
       "      <td>63.619999</td>\n",
       "      <td>262.243866</td>\n",
       "      <td>...</td>\n",
       "      <td>41.750000</td>\n",
       "      <td>87.930000</td>\n",
       "      <td>87.389999</td>\n",
       "      <td>60.419998</td>\n",
       "      <td>55.103447</td>\n",
       "      <td>116.872505</td>\n",
       "      <td>44.577396</td>\n",
       "      <td>17.628452</td>\n",
       "      <td>82.043106</td>\n",
       "      <td>73.154442</td>\n",
       "    </tr>\n",
       "    <tr>\n",
       "      <th>249</th>\n",
       "      <td>2022-12-28</td>\n",
       "      <td>147.347595</td>\n",
       "      <td>12.320000</td>\n",
       "      <td>142.996735</td>\n",
       "      <td>125.674019</td>\n",
       "      <td>157.491486</td>\n",
       "      <td>166.368362</td>\n",
       "      <td>106.300385</td>\n",
       "      <td>62.599998</td>\n",
       "      <td>260.079224</td>\n",
       "      <td>...</td>\n",
       "      <td>39.990002</td>\n",
       "      <td>86.459999</td>\n",
       "      <td>86.019997</td>\n",
       "      <td>59.240002</td>\n",
       "      <td>54.297005</td>\n",
       "      <td>114.996246</td>\n",
       "      <td>43.973183</td>\n",
       "      <td>17.399265</td>\n",
       "      <td>80.526199</td>\n",
       "      <td>72.055794</td>\n",
       "    </tr>\n",
       "    <tr>\n",
       "      <th>250</th>\n",
       "      <td>2022-12-29</td>\n",
       "      <td>150.332550</td>\n",
       "      <td>12.700000</td>\n",
       "      <td>143.990723</td>\n",
       "      <td>129.233658</td>\n",
       "      <td>157.811859</td>\n",
       "      <td>165.066132</td>\n",
       "      <td>108.745201</td>\n",
       "      <td>63.110001</td>\n",
       "      <td>265.278412</td>\n",
       "      <td>...</td>\n",
       "      <td>41.439999</td>\n",
       "      <td>88.949997</td>\n",
       "      <td>88.449997</td>\n",
       "      <td>61.259998</td>\n",
       "      <td>55.103447</td>\n",
       "      <td>117.212761</td>\n",
       "      <td>43.992367</td>\n",
       "      <td>17.618904</td>\n",
       "      <td>84.298523</td>\n",
       "      <td>72.491287</td>\n",
       "    </tr>\n",
       "    <tr>\n",
       "      <th>251</th>\n",
       "      <td>2022-12-30</td>\n",
       "      <td>149.121841</td>\n",
       "      <td>12.720000</td>\n",
       "      <td>144.699310</td>\n",
       "      <td>129.552719</td>\n",
       "      <td>156.889603</td>\n",
       "      <td>164.728149</td>\n",
       "      <td>108.232574</td>\n",
       "      <td>62.779999</td>\n",
       "      <td>263.756226</td>\n",
       "      <td>...</td>\n",
       "      <td>41.599998</td>\n",
       "      <td>88.730003</td>\n",
       "      <td>88.230003</td>\n",
       "      <td>60.889999</td>\n",
       "      <td>54.297005</td>\n",
       "      <td>116.580856</td>\n",
       "      <td>43.838913</td>\n",
       "      <td>17.580706</td>\n",
       "      <td>82.711754</td>\n",
       "      <td>71.828148</td>\n",
       "    </tr>\n",
       "  </tbody>\n",
       "</table>\n",
       "<p>252 rows × 101 columns</p>\n",
       "</div>"
      ],
      "text/plain": [
       "           Date           A        AAL         AAP        AAPL        ABBV  \\\n",
       "0    2021-12-31  157.838791  17.959999  227.873291  176.032745  126.516022   \n",
       "1    2022-01-03  154.908508  18.750000  224.928452  180.434280  126.534714   \n",
       "2    2022-01-04  149.671661  19.020000  225.184921  178.144302  126.291771   \n",
       "3    2022-01-05  147.107666  18.680000  224.614975  173.405685  126.955162   \n",
       "4    2022-01-06  147.622406  18.570000  229.554672  170.510956  126.357155   \n",
       "..          ...         ...        ...         ...         ...         ...   \n",
       "247  2022-12-23  148.481888  12.710000  141.008743  131.477127  158.336075   \n",
       "248  2022-12-27  148.800278  12.530000  142.721176  129.652435  158.229309   \n",
       "249  2022-12-28  147.347595  12.320000  142.996735  125.674019  157.491486   \n",
       "250  2022-12-29  150.332550  12.700000  143.990723  129.233658  157.811859   \n",
       "251  2022-12-30  149.121841  12.720000  144.699310  129.552719  156.889603   \n",
       "\n",
       "            ABC         ABT       ACGL         ACN  ...        CZR  \\\n",
       "0    130.465149  136.453796  44.450001  404.244263  ...  93.529999   \n",
       "1    130.200043  134.805573  44.549999  397.086761  ...  93.470001   \n",
       "2    128.963058  131.635162  45.130001  394.249084  ...  89.949997   \n",
       "3    130.082245  131.043732  44.599998  387.306091  ...  84.150002   \n",
       "4    128.069656  131.024307  44.860001  368.602905  ...  86.599998   \n",
       "..          ...         ...        ...         ...  ...        ...   \n",
       "247  169.002655  106.645416  63.380001  263.014862  ...  43.090000   \n",
       "248  167.998657  107.029884  63.619999  262.243866  ...  41.750000   \n",
       "249  166.368362  106.300385  62.599998  260.079224  ...  39.990002   \n",
       "250  165.066132  108.745201  63.110001  265.278412  ...  41.439999   \n",
       "251  164.728149  108.232574  62.779999  263.756226  ...  41.599998   \n",
       "\n",
       "           GOOG       GOOGL         KMX        LNT         MMM         MO  \\\n",
       "0    144.679504  144.852005  130.229996  58.660084  165.659805  42.002319   \n",
       "1    145.074493  144.991501  127.010002  58.068417  165.762405  42.516380   \n",
       "2    144.416504  144.399506  123.860001  57.944363  168.084595  43.455868   \n",
       "3    137.653503  137.774994  119.349998  58.459679  167.394470  43.110207   \n",
       "4    137.550995  137.747498  119.099998  58.221104  166.004898  43.615406   \n",
       "..          ...         ...         ...        ...         ...        ...   \n",
       "247   89.809998   89.230003   60.160000  54.385517  116.794731  44.347225   \n",
       "248   87.930000   87.389999   60.419998  55.103447  116.872505  44.577396   \n",
       "249   86.459999   86.019997   59.240002  54.297005  114.996246  43.973183   \n",
       "250   88.949997   88.449997   61.259998  55.103447  117.212761  43.992367   \n",
       "251   88.730003   88.230003   60.889999  54.297005  116.580856  43.838913   \n",
       "\n",
       "             T        TECH        WRB  \n",
       "0    16.512590  128.615036  53.633770  \n",
       "1    17.069727  121.268661  52.898167  \n",
       "2    17.210686  116.353661  53.685848  \n",
       "3    17.593296  108.077499  53.086952  \n",
       "4    17.526171  106.041412  53.991798  \n",
       "..         ...         ...        ...  \n",
       "247  17.485210   82.562065  72.699142  \n",
       "248  17.628452   82.043106  73.154442  \n",
       "249  17.399265   80.526199  72.055794  \n",
       "250  17.618904   84.298523  72.491287  \n",
       "251  17.580706   82.711754  71.828148  \n",
       "\n",
       "[252 rows x 101 columns]"
      ]
     },
     "execution_count": 25,
     "metadata": {},
     "output_type": "execute_result"
    }
   ],
   "source": [
    "raw_stock_prices_df"
   ]
  },
  {
   "cell_type": "markdown",
   "id": "ddf9f3d5",
   "metadata": {},
   "source": [
    "At a very high level:\n",
    "\n",
    "* Date range looks correct.\n",
    "* We have a column for each for stock and also a column for the date (which we will need convert to be the index later)\n"
   ]
  },
  {
   "cell_type": "markdown",
   "id": "c2447cde",
   "metadata": {},
   "source": [
    "**Lets Review the price values for reasonableness**"
   ]
  },
  {
   "cell_type": "code",
   "execution_count": 26,
   "id": "9ff705cd",
   "metadata": {},
   "outputs": [
    {
     "name": "stdout",
     "output_type": "stream",
     "text": [
      "Minimium Share Price Value Across All Stocks: $6.38\n",
      "Maximum Share Price Value Across All Stocks: $2,703.26\n",
      "Mean Share Price Value Across All Stocks: $175.99\n"
     ]
    }
   ],
   "source": [
    "print(f\"Minimium Share Price Value Across All Stocks: ${raw_stock_prices_df.select_dtypes(include='number').min().min():,.02f}\")\n",
    "print(f\"Maximum Share Price Value Across All Stocks: ${raw_stock_prices_df.select_dtypes(include='number').max().max():,.02f}\")\n",
    "print(f\"Mean Share Price Value Across All Stocks: ${raw_stock_prices_df.select_dtypes(include='number').mean().mean():,.02f}\")"
   ]
  },
  {
   "cell_type": "markdown",
   "id": "7634f294",
   "metadata": {},
   "source": [
    "The range of values for individual shares prices is quite large and thus direct comparision of absolute values would required scaling of the prices.\n",
    "However, the range seems reasonable given the dataset - there are no negative values and no extremely large or small values."
   ]
  },
  {
   "cell_type": "markdown",
   "id": "99bb1088",
   "metadata": {},
   "source": [
    "&#x2705;"
   ]
  },
  {
   "cell_type": "markdown",
   "id": "443b5a77",
   "metadata": {},
   "source": [
    "Lets create a scatter plot to visualize the price data"
   ]
  },
  {
   "cell_type": "code",
   "execution_count": 27,
   "id": "4755305a",
   "metadata": {},
   "outputs": [
    {
     "data": {
      "text/plain": [
       "Text(0.5, 1.0, 'Mean Price for Each Company')"
      ]
     },
     "execution_count": 27,
     "metadata": {},
     "output_type": "execute_result"
    },
    {
     "data": {
      "image/png": "[encoded data removed]",
      "text/plain": [
       "<Figure size 432x288 with 1 Axes>"
      ]
     },
     "metadata": {
      "needs_background": "light"
     },
     "output_type": "display_data"
    }
   ],
   "source": [
    "av_prices_by_stock = raw_stock_prices_df.select_dtypes(include='number').mean()\n",
    "av_prices_by_stock.index = pd.Series(range(len(av_prices_by_stock)))\n",
    "plt.scatter(x = av_prices_by_stock.values,\n",
    "            y = av_prices_by_stock.index,\n",
    "           )\n",
    "plt.xlabel('Price')\n",
    "plt.ylabel('Company Number')\n",
    "plt.title('Mean Price for Each Company')"
   ]
  },
  {
   "cell_type": "markdown",
   "id": "7ce68e5d",
   "metadata": {},
   "source": [
    "<div class=\"alert alert-block alert-warning\">\n",
    "<b>Not Great:</b> That does not look so great with a small number of obvious outliers.\n",
    "</div>"
   ]
  },
  {
   "cell_type": "markdown",
   "id": "ad2919f6",
   "metadata": {},
   "source": [
    "Lets check to see if these represent errors or just outliers."
   ]
  },
  {
   "cell_type": "code",
   "execution_count": 28,
   "id": "b51f486d",
   "metadata": {},
   "outputs": [
    {
     "data": {
      "text/plain": [
       "AZO     2579.00000\n",
       "BKNG    2703.26001\n",
       "dtype: float64"
      ]
     },
     "execution_count": 28,
     "metadata": {},
     "output_type": "execute_result"
    }
   ],
   "source": [
    "# Largest two price values by stock\n",
    "raw_stock_prices_df.select_dtypes(include='number').max().sort_values()[-2:]\n"
   ]
  },
  {
   "cell_type": "markdown",
   "id": "0ffc2b26",
   "metadata": {},
   "source": [
    "Checking these manually to price sources **, the prices look accurate.  Thus the values represent outliers rather than errors.\n",
    "\n",
    "While there are several ways to handle these outliers depending the analysis being performed and the reason for the outliers, for our analysis we are going to retain them in our data set.\n",
    "\n",
    "** \n",
    "https://finance.yahoo.com/quote/NVR?p=NVR&.tsrc=fin-srch\n",
    "https://finance.yahoo.com/quote/BKNG?p=BKNG&.tsrc=fin-srch"
   ]
  },
  {
   "cell_type": "markdown",
   "id": "9ef27eb9",
   "metadata": {},
   "source": [
    "**Examing the Number of Records for Each Stock**"
   ]
  },
  {
   "cell_type": "code",
   "execution_count": 29,
   "id": "893cfd93",
   "metadata": {},
   "outputs": [
    {
     "name": "stdout",
     "output_type": "stream",
     "text": [
      "count    100.0\n",
      "mean     252.0\n",
      "std        0.0\n",
      "min      252.0\n",
      "25%      252.0\n",
      "50%      252.0\n",
      "75%      252.0\n",
      "max      252.0\n",
      "Name: count, dtype: float64\n"
     ]
    }
   ],
   "source": [
    "print(raw_stock_prices_df.describe().loc['count'].describe())"
   ]
  },
  {
   "cell_type": "markdown",
   "id": "9ab25f2a",
   "metadata": {},
   "source": [
    "<div class=\"alert alert-block alert-success\">\n",
    "The maximum number of rows is 252, and this is the case for >75% of the rows.  As a reasonableness check, there are 260 (52 * 5) week days in the year and some of these will be public holidays.  So we expect somewhere around 250 trading days in a year given stock markets are not open on week-ends and we have to then deduct for public holidays - so 252 looks reasonable.\n",
    "</div>"
   ]
  },
  {
   "cell_type": "markdown",
   "id": "19913d45",
   "metadata": {},
   "source": [
    "<div class=\"alert alert-block alert-danger\">\n",
    "Some symbols are missing prices and we will eliminate these names to ensure we have sufficient and consistent pricing data.  For example it appears one name only has prices for 11 days, whereas most have 252 days.  We will deal with that in the formatting of the pricing data.\n",
    "</div>"
   ]
  },
  {
   "cell_type": "markdown",
   "id": "3339acc5",
   "metadata": {},
   "source": [
    "# Format Share Pricing Data"
   ]
  },
  {
   "cell_type": "markdown",
   "id": "642e66a6",
   "metadata": {},
   "source": [
    "## Convert Share Prices to USD Equivalent"
   ]
  },
  {
   "cell_type": "code",
   "execution_count": 30,
   "id": "9e4b9907",
   "metadata": {},
   "outputs": [],
   "source": [
    "# First we create a copy of the dataset to avoid changing original data removing need to reload if rerunning workbook\n",
    "#stock_prices_usd = raw_stock_prices_df.copy()"
   ]
  },
  {
   "cell_type": "code",
   "execution_count": 31,
   "id": "72110e2a",
   "metadata": {},
   "outputs": [],
   "source": [
    "stock_prices_usd = raw_stock_prices_df"
   ]
  },
  {
   "cell_type": "code",
   "execution_count": 32,
   "id": "e55e3a0a",
   "metadata": {},
   "outputs": [],
   "source": [
    "#Then we convert the dates to datetime format and set them as the index\n",
    "\n",
    "stock_prices_usd['Date'] = pd.to_datetime(stock_prices_usd['Date'], format = \"%Y-%m-%d\")\n",
    "stock_prices_usd = stock_prices_usd.set_index('Date', drop=True)"
   ]
  },
  {
   "cell_type": "markdown",
   "id": "f2513a33",
   "metadata": {},
   "source": [
    "Now we add a column for the FX rate applicable given the ticker code format:\n",
    "* Australian stocks have .AX in their ticker, \n",
    "* Japanese stocks have .T, \n",
    "* Hong Kong stocks .HK, \n",
    "* Singapore stocks .SI; and\n",
    "* US stocks have no period in their ticker"
   ]
  },
  {
   "cell_type": "code",
   "execution_count": 33,
   "id": "44200690",
   "metadata": {},
   "outputs": [],
   "source": [
    "# Add currency column based on ticker code format\n",
    "for ticker in stock_prices_usd.columns:\n",
    "    if \".AX\" in ticker:\n",
    "        stock_prices_usd[ticker] = stock_prices_usd[ticker] * fx_prices[\"AUDUSD=X\"]\n",
    "    elif \".HK\" in ticker:\n",
    "        stock_prices_usd[ticker] = stock_prices_usd[ticker] * fx_prices[\"HKDUSD=X\"]\n",
    "    elif \".T\" in ticker:\n",
    "        stock_prices_usd[ticker] = stock_prices_usd[ticker] * fx_prices[\"JPYUSD=X\"]\n",
    "    elif \".SI\" in ticker:\n",
    "        stock_prices_usd[ticker] = stock_prices_usd[ticker] * fx_prices[\"SGDUSD=X\"]"
   ]
  },
  {
   "cell_type": "markdown",
   "id": "101ead97",
   "metadata": {},
   "source": [
    "## Eliminate shares with less than 245 trading days"
   ]
  },
  {
   "cell_type": "code",
   "execution_count": 34,
   "id": "3e7323fc",
   "metadata": {},
   "outputs": [
    {
     "name": "stdout",
     "output_type": "stream",
     "text": [
      "Series([], dtype: int64)\n",
      "[]\n"
     ]
    }
   ],
   "source": [
    "# Identify Names Which Should be Eliminated\n",
    "low_counts = stock_prices_usd.count()[stock_prices_usd.count()<250]\n",
    "print(low_counts)\n",
    "\n",
    "low_counts = list(low_counts.index)\n",
    "print(low_counts)"
   ]
  },
  {
   "cell_type": "code",
   "execution_count": 35,
   "id": "2c2d5761",
   "metadata": {},
   "outputs": [],
   "source": [
    "# Eliminate Names with a Low Number of Trading Days Present\n",
    "stock_prices_usd = stock_prices_usd.drop(columns=low_counts).copy()"
   ]
  },
  {
   "cell_type": "code",
   "execution_count": 36,
   "id": "6f25e4a0",
   "metadata": {},
   "outputs": [
    {
     "data": {
      "text/plain": [
       "252"
      ]
     },
     "execution_count": 36,
     "metadata": {},
     "output_type": "execute_result"
    }
   ],
   "source": [
    "# Check removal was successful\n",
    "stock_prices_usd.count().min()"
   ]
  },
  {
   "cell_type": "markdown",
   "id": "6a06a21c",
   "metadata": {},
   "source": [
    "&#x2705;"
   ]
  },
  {
   "cell_type": "markdown",
   "id": "12d7470a",
   "metadata": {},
   "source": [
    "## Fill Prices for Names Missing only a Small Number of Days"
   ]
  },
  {
   "cell_type": "code",
   "execution_count": 37,
   "id": "21d6522a",
   "metadata": {},
   "outputs": [
    {
     "data": {
      "text/html": [
       "<div>\n",
       "<style scoped>\n",
       "    .dataframe tbody tr th:only-of-type {\n",
       "        vertical-align: middle;\n",
       "    }\n",
       "\n",
       "    .dataframe tbody tr th {\n",
       "        vertical-align: top;\n",
       "    }\n",
       "\n",
       "    .dataframe thead th {\n",
       "        text-align: right;\n",
       "    }\n",
       "</style>\n",
       "<table border=\"1\" class=\"dataframe\">\n",
       "  <thead>\n",
       "    <tr style=\"text-align: right;\">\n",
       "      <th></th>\n",
       "      <th>A</th>\n",
       "      <th>AAL</th>\n",
       "      <th>AAP</th>\n",
       "      <th>AAPL</th>\n",
       "      <th>ABBV</th>\n",
       "      <th>ABC</th>\n",
       "      <th>ABT</th>\n",
       "      <th>ACGL</th>\n",
       "      <th>ACN</th>\n",
       "      <th>ADBE</th>\n",
       "      <th>...</th>\n",
       "      <th>CZR</th>\n",
       "      <th>GOOG</th>\n",
       "      <th>GOOGL</th>\n",
       "      <th>KMX</th>\n",
       "      <th>LNT</th>\n",
       "      <th>MMM</th>\n",
       "      <th>MO</th>\n",
       "      <th>T</th>\n",
       "      <th>TECH</th>\n",
       "      <th>WRB</th>\n",
       "    </tr>\n",
       "    <tr>\n",
       "      <th>Date</th>\n",
       "      <th></th>\n",
       "      <th></th>\n",
       "      <th></th>\n",
       "      <th></th>\n",
       "      <th></th>\n",
       "      <th></th>\n",
       "      <th></th>\n",
       "      <th></th>\n",
       "      <th></th>\n",
       "      <th></th>\n",
       "      <th></th>\n",
       "      <th></th>\n",
       "      <th></th>\n",
       "      <th></th>\n",
       "      <th></th>\n",
       "      <th></th>\n",
       "      <th></th>\n",
       "      <th></th>\n",
       "      <th></th>\n",
       "      <th></th>\n",
       "      <th></th>\n",
       "    </tr>\n",
       "  </thead>\n",
       "  <tbody>\n",
       "    <tr>\n",
       "      <th>2021-12-31</th>\n",
       "      <td>157.838791</td>\n",
       "      <td>17.959999</td>\n",
       "      <td>227.873291</td>\n",
       "      <td>176.032745</td>\n",
       "      <td>126.516022</td>\n",
       "      <td>130.465149</td>\n",
       "      <td>136.453796</td>\n",
       "      <td>44.450001</td>\n",
       "      <td>404.244263</td>\n",
       "      <td>567.059998</td>\n",
       "      <td>...</td>\n",
       "      <td>93.529999</td>\n",
       "      <td>144.679504</td>\n",
       "      <td>144.852005</td>\n",
       "      <td>130.229996</td>\n",
       "      <td>58.660084</td>\n",
       "      <td>165.659805</td>\n",
       "      <td>42.002319</td>\n",
       "      <td>16.512590</td>\n",
       "      <td>128.615036</td>\n",
       "      <td>53.633770</td>\n",
       "    </tr>\n",
       "    <tr>\n",
       "      <th>2022-01-03</th>\n",
       "      <td>154.908508</td>\n",
       "      <td>18.750000</td>\n",
       "      <td>224.928452</td>\n",
       "      <td>180.434280</td>\n",
       "      <td>126.534714</td>\n",
       "      <td>130.200043</td>\n",
       "      <td>134.805573</td>\n",
       "      <td>44.549999</td>\n",
       "      <td>397.086761</td>\n",
       "      <td>564.369995</td>\n",
       "      <td>...</td>\n",
       "      <td>93.470001</td>\n",
       "      <td>145.074493</td>\n",
       "      <td>144.991501</td>\n",
       "      <td>127.010002</td>\n",
       "      <td>58.068417</td>\n",
       "      <td>165.762405</td>\n",
       "      <td>42.516380</td>\n",
       "      <td>17.069727</td>\n",
       "      <td>121.268661</td>\n",
       "      <td>52.898167</td>\n",
       "    </tr>\n",
       "    <tr>\n",
       "      <th>2022-01-04</th>\n",
       "      <td>149.671661</td>\n",
       "      <td>19.020000</td>\n",
       "      <td>225.184921</td>\n",
       "      <td>178.144302</td>\n",
       "      <td>126.291771</td>\n",
       "      <td>128.963058</td>\n",
       "      <td>131.635162</td>\n",
       "      <td>45.130001</td>\n",
       "      <td>394.249084</td>\n",
       "      <td>554.000000</td>\n",
       "      <td>...</td>\n",
       "      <td>89.949997</td>\n",
       "      <td>144.416504</td>\n",
       "      <td>144.399506</td>\n",
       "      <td>123.860001</td>\n",
       "      <td>57.944363</td>\n",
       "      <td>168.084595</td>\n",
       "      <td>43.455868</td>\n",
       "      <td>17.210686</td>\n",
       "      <td>116.353661</td>\n",
       "      <td>53.685848</td>\n",
       "    </tr>\n",
       "    <tr>\n",
       "      <th>2022-01-05</th>\n",
       "      <td>147.107666</td>\n",
       "      <td>18.680000</td>\n",
       "      <td>224.614975</td>\n",
       "      <td>173.405685</td>\n",
       "      <td>126.955162</td>\n",
       "      <td>130.082245</td>\n",
       "      <td>131.043732</td>\n",
       "      <td>44.599998</td>\n",
       "      <td>387.306091</td>\n",
       "      <td>514.429993</td>\n",
       "      <td>...</td>\n",
       "      <td>84.150002</td>\n",
       "      <td>137.653503</td>\n",
       "      <td>137.774994</td>\n",
       "      <td>119.349998</td>\n",
       "      <td>58.459679</td>\n",
       "      <td>167.394470</td>\n",
       "      <td>43.110207</td>\n",
       "      <td>17.593296</td>\n",
       "      <td>108.077499</td>\n",
       "      <td>53.086952</td>\n",
       "    </tr>\n",
       "    <tr>\n",
       "      <th>2022-01-06</th>\n",
       "      <td>147.622406</td>\n",
       "      <td>18.570000</td>\n",
       "      <td>229.554672</td>\n",
       "      <td>170.510956</td>\n",
       "      <td>126.357155</td>\n",
       "      <td>128.069656</td>\n",
       "      <td>131.024307</td>\n",
       "      <td>44.860001</td>\n",
       "      <td>368.602905</td>\n",
       "      <td>514.119995</td>\n",
       "      <td>...</td>\n",
       "      <td>86.599998</td>\n",
       "      <td>137.550995</td>\n",
       "      <td>137.747498</td>\n",
       "      <td>119.099998</td>\n",
       "      <td>58.221104</td>\n",
       "      <td>166.004898</td>\n",
       "      <td>43.615406</td>\n",
       "      <td>17.526171</td>\n",
       "      <td>106.041412</td>\n",
       "      <td>53.991798</td>\n",
       "    </tr>\n",
       "    <tr>\n",
       "      <th>...</th>\n",
       "      <td>...</td>\n",
       "      <td>...</td>\n",
       "      <td>...</td>\n",
       "      <td>...</td>\n",
       "      <td>...</td>\n",
       "      <td>...</td>\n",
       "      <td>...</td>\n",
       "      <td>...</td>\n",
       "      <td>...</td>\n",
       "      <td>...</td>\n",
       "      <td>...</td>\n",
       "      <td>...</td>\n",
       "      <td>...</td>\n",
       "      <td>...</td>\n",
       "      <td>...</td>\n",
       "      <td>...</td>\n",
       "      <td>...</td>\n",
       "      <td>...</td>\n",
       "      <td>...</td>\n",
       "      <td>...</td>\n",
       "      <td>...</td>\n",
       "    </tr>\n",
       "    <tr>\n",
       "      <th>2022-12-23</th>\n",
       "      <td>148.481888</td>\n",
       "      <td>12.710000</td>\n",
       "      <td>141.008743</td>\n",
       "      <td>131.477127</td>\n",
       "      <td>158.336075</td>\n",
       "      <td>169.002655</td>\n",
       "      <td>106.645416</td>\n",
       "      <td>63.380001</td>\n",
       "      <td>263.014862</td>\n",
       "      <td>338.450012</td>\n",
       "      <td>...</td>\n",
       "      <td>43.090000</td>\n",
       "      <td>89.809998</td>\n",
       "      <td>89.230003</td>\n",
       "      <td>60.160000</td>\n",
       "      <td>54.385517</td>\n",
       "      <td>116.794731</td>\n",
       "      <td>44.347225</td>\n",
       "      <td>17.485210</td>\n",
       "      <td>82.562065</td>\n",
       "      <td>72.699142</td>\n",
       "    </tr>\n",
       "    <tr>\n",
       "      <th>2022-12-27</th>\n",
       "      <td>148.800278</td>\n",
       "      <td>12.530000</td>\n",
       "      <td>142.721176</td>\n",
       "      <td>129.652435</td>\n",
       "      <td>158.229309</td>\n",
       "      <td>167.998657</td>\n",
       "      <td>107.029884</td>\n",
       "      <td>63.619999</td>\n",
       "      <td>262.243866</td>\n",
       "      <td>335.089996</td>\n",
       "      <td>...</td>\n",
       "      <td>41.750000</td>\n",
       "      <td>87.930000</td>\n",
       "      <td>87.389999</td>\n",
       "      <td>60.419998</td>\n",
       "      <td>55.103447</td>\n",
       "      <td>116.872505</td>\n",
       "      <td>44.577396</td>\n",
       "      <td>17.628452</td>\n",
       "      <td>82.043106</td>\n",
       "      <td>73.154442</td>\n",
       "    </tr>\n",
       "    <tr>\n",
       "      <th>2022-12-28</th>\n",
       "      <td>147.347595</td>\n",
       "      <td>12.320000</td>\n",
       "      <td>142.996735</td>\n",
       "      <td>125.674019</td>\n",
       "      <td>157.491486</td>\n",
       "      <td>166.368362</td>\n",
       "      <td>106.300385</td>\n",
       "      <td>62.599998</td>\n",
       "      <td>260.079224</td>\n",
       "      <td>328.329987</td>\n",
       "      <td>...</td>\n",
       "      <td>39.990002</td>\n",
       "      <td>86.459999</td>\n",
       "      <td>86.019997</td>\n",
       "      <td>59.240002</td>\n",
       "      <td>54.297005</td>\n",
       "      <td>114.996246</td>\n",
       "      <td>43.973183</td>\n",
       "      <td>17.399265</td>\n",
       "      <td>80.526199</td>\n",
       "      <td>72.055794</td>\n",
       "    </tr>\n",
       "    <tr>\n",
       "      <th>2022-12-29</th>\n",
       "      <td>150.332550</td>\n",
       "      <td>12.700000</td>\n",
       "      <td>143.990723</td>\n",
       "      <td>129.233658</td>\n",
       "      <td>157.811859</td>\n",
       "      <td>165.066132</td>\n",
       "      <td>108.745201</td>\n",
       "      <td>63.110001</td>\n",
       "      <td>265.278412</td>\n",
       "      <td>337.579987</td>\n",
       "      <td>...</td>\n",
       "      <td>41.439999</td>\n",
       "      <td>88.949997</td>\n",
       "      <td>88.449997</td>\n",
       "      <td>61.259998</td>\n",
       "      <td>55.103447</td>\n",
       "      <td>117.212761</td>\n",
       "      <td>43.992367</td>\n",
       "      <td>17.618904</td>\n",
       "      <td>84.298523</td>\n",
       "      <td>72.491287</td>\n",
       "    </tr>\n",
       "    <tr>\n",
       "      <th>2022-12-30</th>\n",
       "      <td>149.121841</td>\n",
       "      <td>12.720000</td>\n",
       "      <td>144.699310</td>\n",
       "      <td>129.552719</td>\n",
       "      <td>156.889603</td>\n",
       "      <td>164.728149</td>\n",
       "      <td>108.232574</td>\n",
       "      <td>62.779999</td>\n",
       "      <td>263.756226</td>\n",
       "      <td>336.529999</td>\n",
       "      <td>...</td>\n",
       "      <td>41.599998</td>\n",
       "      <td>88.730003</td>\n",
       "      <td>88.230003</td>\n",
       "      <td>60.889999</td>\n",
       "      <td>54.297005</td>\n",
       "      <td>116.580856</td>\n",
       "      <td>43.838913</td>\n",
       "      <td>17.580706</td>\n",
       "      <td>82.711754</td>\n",
       "      <td>71.828148</td>\n",
       "    </tr>\n",
       "  </tbody>\n",
       "</table>\n",
       "<p>252 rows × 100 columns</p>\n",
       "</div>"
      ],
      "text/plain": [
       "                     A        AAL         AAP        AAPL        ABBV  \\\n",
       "Date                                                                    \n",
       "2021-12-31  157.838791  17.959999  227.873291  176.032745  126.516022   \n",
       "2022-01-03  154.908508  18.750000  224.928452  180.434280  126.534714   \n",
       "2022-01-04  149.671661  19.020000  225.184921  178.144302  126.291771   \n",
       "2022-01-05  147.107666  18.680000  224.614975  173.405685  126.955162   \n",
       "2022-01-06  147.622406  18.570000  229.554672  170.510956  126.357155   \n",
       "...                ...        ...         ...         ...         ...   \n",
       "2022-12-23  148.481888  12.710000  141.008743  131.477127  158.336075   \n",
       "2022-12-27  148.800278  12.530000  142.721176  129.652435  158.229309   \n",
       "2022-12-28  147.347595  12.320000  142.996735  125.674019  157.491486   \n",
       "2022-12-29  150.332550  12.700000  143.990723  129.233658  157.811859   \n",
       "2022-12-30  149.121841  12.720000  144.699310  129.552719  156.889603   \n",
       "\n",
       "                   ABC         ABT       ACGL         ACN        ADBE  ...  \\\n",
       "Date                                                                   ...   \n",
       "2021-12-31  130.465149  136.453796  44.450001  404.244263  567.059998  ...   \n",
       "2022-01-03  130.200043  134.805573  44.549999  397.086761  564.369995  ...   \n",
       "2022-01-04  128.963058  131.635162  45.130001  394.249084  554.000000  ...   \n",
       "2022-01-05  130.082245  131.043732  44.599998  387.306091  514.429993  ...   \n",
       "2022-01-06  128.069656  131.024307  44.860001  368.602905  514.119995  ...   \n",
       "...                ...         ...        ...         ...         ...  ...   \n",
       "2022-12-23  169.002655  106.645416  63.380001  263.014862  338.450012  ...   \n",
       "2022-12-27  167.998657  107.029884  63.619999  262.243866  335.089996  ...   \n",
       "2022-12-28  166.368362  106.300385  62.599998  260.079224  328.329987  ...   \n",
       "2022-12-29  165.066132  108.745201  63.110001  265.278412  337.579987  ...   \n",
       "2022-12-30  164.728149  108.232574  62.779999  263.756226  336.529999  ...   \n",
       "\n",
       "                  CZR        GOOG       GOOGL         KMX        LNT  \\\n",
       "Date                                                                   \n",
       "2021-12-31  93.529999  144.679504  144.852005  130.229996  58.660084   \n",
       "2022-01-03  93.470001  145.074493  144.991501  127.010002  58.068417   \n",
       "2022-01-04  89.949997  144.416504  144.399506  123.860001  57.944363   \n",
       "2022-01-05  84.150002  137.653503  137.774994  119.349998  58.459679   \n",
       "2022-01-06  86.599998  137.550995  137.747498  119.099998  58.221104   \n",
       "...               ...         ...         ...         ...        ...   \n",
       "2022-12-23  43.090000   89.809998   89.230003   60.160000  54.385517   \n",
       "2022-12-27  41.750000   87.930000   87.389999   60.419998  55.103447   \n",
       "2022-12-28  39.990002   86.459999   86.019997   59.240002  54.297005   \n",
       "2022-12-29  41.439999   88.949997   88.449997   61.259998  55.103447   \n",
       "2022-12-30  41.599998   88.730003   88.230003   60.889999  54.297005   \n",
       "\n",
       "                   MMM         MO          T        TECH        WRB  \n",
       "Date                                                                 \n",
       "2021-12-31  165.659805  42.002319  16.512590  128.615036  53.633770  \n",
       "2022-01-03  165.762405  42.516380  17.069727  121.268661  52.898167  \n",
       "2022-01-04  168.084595  43.455868  17.210686  116.353661  53.685848  \n",
       "2022-01-05  167.394470  43.110207  17.593296  108.077499  53.086952  \n",
       "2022-01-06  166.004898  43.615406  17.526171  106.041412  53.991798  \n",
       "...                ...        ...        ...         ...        ...  \n",
       "2022-12-23  116.794731  44.347225  17.485210   82.562065  72.699142  \n",
       "2022-12-27  116.872505  44.577396  17.628452   82.043106  73.154442  \n",
       "2022-12-28  114.996246  43.973183  17.399265   80.526199  72.055794  \n",
       "2022-12-29  117.212761  43.992367  17.618904   84.298523  72.491287  \n",
       "2022-12-30  116.580856  43.838913  17.580706   82.711754  71.828148  \n",
       "\n",
       "[252 rows x 100 columns]"
      ]
     },
     "execution_count": 37,
     "metadata": {},
     "output_type": "execute_result"
    }
   ],
   "source": [
    "# Forward fill any missing stock prices\n",
    "stock_prices_usd.fillna(method='ffill', inplace=True)\n",
    "\n",
    "# Backward fill any remaining missing stock prices\n",
    "stock_prices_usd.fillna(method='bfill', inplace=True)\n",
    "\n",
    "stock_prices_usd"
   ]
  },
  {
   "cell_type": "markdown",
   "id": "74d5c4db",
   "metadata": {},
   "source": [
    "# Create a Universe of Pairs"
   ]
  },
  {
   "cell_type": "markdown",
   "id": "08b271b0",
   "metadata": {},
   "source": [
    "Now that we have imported and cleansed the data, we need to start manipulating it to get the answers required.\n",
    "\n",
    "Key to this is breaking the price data for all the companies into pairs that can be analyzed.  For Example, Microsoft (MSFT) vs Google (GOOGL).\n"
   ]
  },
  {
   "cell_type": "markdown",
   "id": "17263e6b",
   "metadata": {},
   "source": [
    "Using all the names we have data for, we can create a list of all possible pair combinations using the itertools library."
   ]
  },
  {
   "cell_type": "code",
   "execution_count": 38,
   "id": "9faa9fe6",
   "metadata": {},
   "outputs": [
    {
     "name": "stdout",
     "output_type": "stream",
     "text": [
      "The Number of All Possible Unique Pairs is: 4,950\n",
      "\n",
      "Some Examples: [['A', 'AAL'], ['A', 'AAP'], ['A', 'AAPL'], ['A', 'ABBV'], ['A', 'ABC']] \n",
      "[['MO', 'TECH'], ['MO', 'WRB'], ['T', 'TECH'], ['T', 'WRB'], ['TECH', 'WRB']]\n"
     ]
    }
   ],
   "source": [
    "all_possible_pairs = [list(pair) for pair in itertools.combinations(stock_prices_usd.columns, 2)]\n",
    "\n",
    "print(f\"The Number of All Possible Unique Pairs is: {len(all_possible_pairs):,.0f}\")\n",
    "print(f\"\\nSome Examples: {all_possible_pairs[:5]} \\n{all_possible_pairs[-5:]}\")\n"
   ]
  },
  {
   "cell_type": "markdown",
   "id": "31774d18",
   "metadata": {},
   "source": [
    "We may want to instead look at a sample of names, instead of the full universe.  This may be because we have processing constrainsts etc.  However, we want a random sample rather than just picking the first 100 names in case their is some bias in the way they are ordered.\n",
    "\n",
    "We have set the sample size via the input constant (RDM_SAMPLE_SIZE) in the Set Inputs section."
   ]
  },
  {
   "cell_type": "code",
   "execution_count": 39,
   "id": "e4c0f724",
   "metadata": {},
   "outputs": [
    {
     "name": "stdout",
     "output_type": "stream",
     "text": [
      "[['ADM', 'BBWI'], ['AMZN', 'CDW'], ['ADM', 'BAX'], ['CAT', 'COF'], ['ADBE', 'APA']]\n"
     ]
    }
   ],
   "source": [
    "# Select a sample of pairs randomly from the our universe of all possible pairs\n",
    "random_pairs = sample(all_possible_pairs, RDM_SAMPLE_SIZE)\n",
    "print(random_pairs[:5])"
   ]
  },
  {
   "cell_type": "markdown",
   "id": "0f9d4170",
   "metadata": {},
   "source": [
    "## Add Industry to Pairs List"
   ]
  },
  {
   "cell_type": "markdown",
   "id": "570bcf54",
   "metadata": {},
   "source": [
    "The key factor we are seeking to test is Industry.  That is, if in names in the same industry show better correlation or related statistics vs random pairs. \n",
    "\n",
    "To do this we are going to have to merge information from multiple inputs:\n",
    "- the ticker names for the pairs will come from the list of pairs we generated;\n",
    "- the Industry name will come from the sp500_info_df\n",
    "- Same Industry Column will be a engineered column we create\n",
    "\n",
    "The Same Industry column will make queries and analysis on the dataset simplier.\n"
   ]
  },
  {
   "cell_type": "code",
   "execution_count": 40,
   "id": "31265a52",
   "metadata": {},
   "outputs": [
    {
     "data": {
      "text/html": [
       "<div>\n",
       "<style scoped>\n",
       "    .dataframe tbody tr th:only-of-type {\n",
       "        vertical-align: middle;\n",
       "    }\n",
       "\n",
       "    .dataframe tbody tr th {\n",
       "        vertical-align: top;\n",
       "    }\n",
       "\n",
       "    .dataframe thead th {\n",
       "        text-align: right;\n",
       "    }\n",
       "</style>\n",
       "<table border=\"1\" class=\"dataframe\">\n",
       "  <thead>\n",
       "    <tr style=\"text-align: right;\">\n",
       "      <th></th>\n",
       "      <th>Ticker1</th>\n",
       "      <th>Ticker2</th>\n",
       "      <th>Ind1</th>\n",
       "      <th>Ind2</th>\n",
       "      <th>Same Industry</th>\n",
       "    </tr>\n",
       "  </thead>\n",
       "  <tbody>\n",
       "    <tr>\n",
       "      <th>0</th>\n",
       "      <td>A</td>\n",
       "      <td>AAL</td>\n",
       "      <td>Health Care Equipment</td>\n",
       "      <td>Passenger Airlines</td>\n",
       "      <td>No</td>\n",
       "    </tr>\n",
       "    <tr>\n",
       "      <th>1</th>\n",
       "      <td>A</td>\n",
       "      <td>AAP</td>\n",
       "      <td>Health Care Equipment</td>\n",
       "      <td>Automotive Retail</td>\n",
       "      <td>No</td>\n",
       "    </tr>\n",
       "    <tr>\n",
       "      <th>2</th>\n",
       "      <td>AAL</td>\n",
       "      <td>AAP</td>\n",
       "      <td>Passenger Airlines</td>\n",
       "      <td>Automotive Retail</td>\n",
       "      <td>No</td>\n",
       "    </tr>\n",
       "    <tr>\n",
       "      <th>3</th>\n",
       "      <td>A</td>\n",
       "      <td>AAPL</td>\n",
       "      <td>Health Care Equipment</td>\n",
       "      <td>Technology Hardware, Storage &amp; Peripherals</td>\n",
       "      <td>No</td>\n",
       "    </tr>\n",
       "    <tr>\n",
       "      <th>4</th>\n",
       "      <td>AAL</td>\n",
       "      <td>AAPL</td>\n",
       "      <td>Passenger Airlines</td>\n",
       "      <td>Technology Hardware, Storage &amp; Peripherals</td>\n",
       "      <td>No</td>\n",
       "    </tr>\n",
       "    <tr>\n",
       "      <th>...</th>\n",
       "      <td>...</td>\n",
       "      <td>...</td>\n",
       "      <td>...</td>\n",
       "      <td>...</td>\n",
       "      <td>...</td>\n",
       "    </tr>\n",
       "    <tr>\n",
       "      <th>4945</th>\n",
       "      <td>LNT</td>\n",
       "      <td>WRB</td>\n",
       "      <td>Electric Utilities</td>\n",
       "      <td>Property &amp; Casualty Insurance</td>\n",
       "      <td>No</td>\n",
       "    </tr>\n",
       "    <tr>\n",
       "      <th>4946</th>\n",
       "      <td>MMM</td>\n",
       "      <td>WRB</td>\n",
       "      <td>Industrial Conglomerates</td>\n",
       "      <td>Property &amp; Casualty Insurance</td>\n",
       "      <td>No</td>\n",
       "    </tr>\n",
       "    <tr>\n",
       "      <th>4947</th>\n",
       "      <td>MO</td>\n",
       "      <td>WRB</td>\n",
       "      <td>Tobacco</td>\n",
       "      <td>Property &amp; Casualty Insurance</td>\n",
       "      <td>No</td>\n",
       "    </tr>\n",
       "    <tr>\n",
       "      <th>4948</th>\n",
       "      <td>T</td>\n",
       "      <td>WRB</td>\n",
       "      <td>Integrated Telecommunication Services</td>\n",
       "      <td>Property &amp; Casualty Insurance</td>\n",
       "      <td>No</td>\n",
       "    </tr>\n",
       "    <tr>\n",
       "      <th>4949</th>\n",
       "      <td>TECH</td>\n",
       "      <td>WRB</td>\n",
       "      <td>Life Sciences Tools &amp; Services</td>\n",
       "      <td>Property &amp; Casualty Insurance</td>\n",
       "      <td>No</td>\n",
       "    </tr>\n",
       "  </tbody>\n",
       "</table>\n",
       "<p>4950 rows × 5 columns</p>\n",
       "</div>"
      ],
      "text/plain": [
       "     Ticker1 Ticker2                                   Ind1  \\\n",
       "0          A     AAL                  Health Care Equipment   \n",
       "1          A     AAP                  Health Care Equipment   \n",
       "2        AAL     AAP                     Passenger Airlines   \n",
       "3          A    AAPL                  Health Care Equipment   \n",
       "4        AAL    AAPL                     Passenger Airlines   \n",
       "...      ...     ...                                    ...   \n",
       "4945     LNT     WRB                     Electric Utilities   \n",
       "4946     MMM     WRB               Industrial Conglomerates   \n",
       "4947      MO     WRB                                Tobacco   \n",
       "4948       T     WRB  Integrated Telecommunication Services   \n",
       "4949    TECH     WRB         Life Sciences Tools & Services   \n",
       "\n",
       "                                            Ind2 Same Industry  \n",
       "0                             Passenger Airlines            No  \n",
       "1                              Automotive Retail            No  \n",
       "2                              Automotive Retail            No  \n",
       "3     Technology Hardware, Storage & Peripherals            No  \n",
       "4     Technology Hardware, Storage & Peripherals            No  \n",
       "...                                          ...           ...  \n",
       "4945               Property & Casualty Insurance            No  \n",
       "4946               Property & Casualty Insurance            No  \n",
       "4947               Property & Casualty Insurance            No  \n",
       "4948               Property & Casualty Insurance            No  \n",
       "4949               Property & Casualty Insurance            No  \n",
       "\n",
       "[4950 rows x 5 columns]"
      ]
     },
     "execution_count": 40,
     "metadata": {},
     "output_type": "execute_result"
    }
   ],
   "source": [
    "# Build a DataFrame which lists all possible pairs, the industry of each name in the pair and if they are the same.\n",
    "\n",
    "# Start with the all the pair combinations\n",
    "all_possible_pairs_df = pd.DataFrame(all_possible_pairs, columns=['Ticker1', 'Ticker2'])\n",
    "\n",
    "# write to csv to check file size\n",
    "all_possible_pairs_df.to_csv(\"all_possible_pairs_df.csv\")\n",
    "\n",
    "# Add the Industry Name for the first ticker\n",
    "all_possible_pairs_df = pd.merge(all_possible_pairs_df, sp500_info_df[['Symbol', 'GICS Sub-Industry']], how='inner', left_on = 'Ticker1', right_on = 'Symbol')\n",
    "# Add the Industry name for the second ticker\n",
    "all_possible_pairs_df = pd.merge(all_possible_pairs_df, sp500_info_df[['Symbol', 'GICS Sub-Industry']], how='inner', left_on = 'Ticker2', right_on = 'Symbol')\n",
    "\n",
    "# Remove excess columns and tidy up column names\n",
    "all_possible_pairs_df.drop(columns = ['Symbol_x', 'Symbol_y'], inplace=True)\n",
    "all_possible_pairs_df.rename(columns={\"GICS Sub-Industry_x\": \"Ind1\", \"GICS Sub-Industry_y\": \"Ind2\"}, inplace=True)\n",
    "\n",
    "# Create a new column 'Same Industry' which identifies if all the two names in the pair are from the same industry\n",
    "all_possible_pairs_df['Same Industry'] = np.where(all_possible_pairs_df['Ind1'] == all_possible_pairs_df['Ind2'], 'Yes', 'No')\n",
    "all_possible_pairs_df"
   ]
  },
  {
   "cell_type": "markdown",
   "id": "29828fcc",
   "metadata": {},
   "source": [
    "Construct a DataFrame for the Random Pairs sample in the same format as that for all the possible pairs.\n",
    "\n",
    "We have done this via merge given we are selecting the rows via two columns rather than a single column.  Other methods also work but the merge gets the job done quite well."
   ]
  },
  {
   "cell_type": "code",
   "execution_count": 41,
   "id": "26fa8d60",
   "metadata": {},
   "outputs": [
    {
     "data": {
      "text/html": [
       "<div>\n",
       "<style scoped>\n",
       "    .dataframe tbody tr th:only-of-type {\n",
       "        vertical-align: middle;\n",
       "    }\n",
       "\n",
       "    .dataframe tbody tr th {\n",
       "        vertical-align: top;\n",
       "    }\n",
       "\n",
       "    .dataframe thead th {\n",
       "        text-align: right;\n",
       "    }\n",
       "</style>\n",
       "<table border=\"1\" class=\"dataframe\">\n",
       "  <thead>\n",
       "    <tr style=\"text-align: right;\">\n",
       "      <th></th>\n",
       "      <th>Ticker1</th>\n",
       "      <th>Ticker2</th>\n",
       "      <th>Ind1</th>\n",
       "      <th>Ind2</th>\n",
       "      <th>Same Industry</th>\n",
       "    </tr>\n",
       "  </thead>\n",
       "  <tbody>\n",
       "    <tr>\n",
       "      <th>0</th>\n",
       "      <td>ADM</td>\n",
       "      <td>BBWI</td>\n",
       "      <td>Agricultural Products &amp; Services</td>\n",
       "      <td>Specialty Stores</td>\n",
       "      <td>No</td>\n",
       "    </tr>\n",
       "    <tr>\n",
       "      <th>1</th>\n",
       "      <td>AMZN</td>\n",
       "      <td>CDW</td>\n",
       "      <td>Broadline Retail</td>\n",
       "      <td>Technology Distributors</td>\n",
       "      <td>No</td>\n",
       "    </tr>\n",
       "    <tr>\n",
       "      <th>2</th>\n",
       "      <td>ADM</td>\n",
       "      <td>BAX</td>\n",
       "      <td>Agricultural Products &amp; Services</td>\n",
       "      <td>Health Care Equipment</td>\n",
       "      <td>No</td>\n",
       "    </tr>\n",
       "    <tr>\n",
       "      <th>3</th>\n",
       "      <td>CAT</td>\n",
       "      <td>COF</td>\n",
       "      <td>Construction Machinery &amp; Heavy Transportation ...</td>\n",
       "      <td>Consumer Finance</td>\n",
       "      <td>No</td>\n",
       "    </tr>\n",
       "    <tr>\n",
       "      <th>4</th>\n",
       "      <td>ADBE</td>\n",
       "      <td>APA</td>\n",
       "      <td>Application Software</td>\n",
       "      <td>Oil &amp; Gas Exploration &amp; Production</td>\n",
       "      <td>No</td>\n",
       "    </tr>\n",
       "    <tr>\n",
       "      <th>...</th>\n",
       "      <td>...</td>\n",
       "      <td>...</td>\n",
       "      <td>...</td>\n",
       "      <td>...</td>\n",
       "      <td>...</td>\n",
       "    </tr>\n",
       "    <tr>\n",
       "      <th>3995</th>\n",
       "      <td>AMAT</td>\n",
       "      <td>APA</td>\n",
       "      <td>Semiconductor Materials &amp; Equipment</td>\n",
       "      <td>Oil &amp; Gas Exploration &amp; Production</td>\n",
       "      <td>No</td>\n",
       "    </tr>\n",
       "    <tr>\n",
       "      <th>3996</th>\n",
       "      <td>AXON</td>\n",
       "      <td>CBRE</td>\n",
       "      <td>Aerospace &amp; Defense</td>\n",
       "      <td>Real Estate Services</td>\n",
       "      <td>No</td>\n",
       "    </tr>\n",
       "    <tr>\n",
       "      <th>3997</th>\n",
       "      <td>A</td>\n",
       "      <td>APTV</td>\n",
       "      <td>Health Care Equipment</td>\n",
       "      <td>Automotive Parts &amp; Equipment</td>\n",
       "      <td>No</td>\n",
       "    </tr>\n",
       "    <tr>\n",
       "      <th>3998</th>\n",
       "      <td>ALB</td>\n",
       "      <td>BRK-B</td>\n",
       "      <td>Specialty Chemicals</td>\n",
       "      <td>Multi-Sector Holdings</td>\n",
       "      <td>No</td>\n",
       "    </tr>\n",
       "    <tr>\n",
       "      <th>3999</th>\n",
       "      <td>CDW</td>\n",
       "      <td>GOOGL</td>\n",
       "      <td>Technology Distributors</td>\n",
       "      <td>Interactive Media &amp; Services</td>\n",
       "      <td>No</td>\n",
       "    </tr>\n",
       "  </tbody>\n",
       "</table>\n",
       "<p>4000 rows × 5 columns</p>\n",
       "</div>"
      ],
      "text/plain": [
       "     Ticker1 Ticker2                                               Ind1  \\\n",
       "0        ADM    BBWI                   Agricultural Products & Services   \n",
       "1       AMZN     CDW                                   Broadline Retail   \n",
       "2        ADM     BAX                   Agricultural Products & Services   \n",
       "3        CAT     COF  Construction Machinery & Heavy Transportation ...   \n",
       "4       ADBE     APA                               Application Software   \n",
       "...      ...     ...                                                ...   \n",
       "3995    AMAT     APA                Semiconductor Materials & Equipment   \n",
       "3996    AXON    CBRE                                Aerospace & Defense   \n",
       "3997       A    APTV                              Health Care Equipment   \n",
       "3998     ALB   BRK-B                                Specialty Chemicals   \n",
       "3999     CDW   GOOGL                            Technology Distributors   \n",
       "\n",
       "                                    Ind2 Same Industry  \n",
       "0                       Specialty Stores            No  \n",
       "1                Technology Distributors            No  \n",
       "2                  Health Care Equipment            No  \n",
       "3                       Consumer Finance            No  \n",
       "4     Oil & Gas Exploration & Production            No  \n",
       "...                                  ...           ...  \n",
       "3995  Oil & Gas Exploration & Production            No  \n",
       "3996                Real Estate Services            No  \n",
       "3997        Automotive Parts & Equipment            No  \n",
       "3998               Multi-Sector Holdings            No  \n",
       "3999        Interactive Media & Services            No  \n",
       "\n",
       "[4000 rows x 5 columns]"
      ]
     },
     "execution_count": 41,
     "metadata": {},
     "output_type": "execute_result"
    }
   ],
   "source": [
    "#Build the base df from the list of list of random pairs\n",
    "random_pairs_df = pd.DataFrame(random_pairs, columns=['Ticker1', 'Ticker2'])\n",
    "\n",
    "# Add the extra columns required via merging with the df containing all the pairs\n",
    "random_pairs_df = pd.merge(random_pairs_df, all_possible_pairs_df, how='inner',\n",
    "                          left_on= ['Ticker1', 'Ticker2'],\n",
    "                          right_on= ['Ticker1', 'Ticker2'])\n",
    "\n",
    "random_pairs_df\n"
   ]
  },
  {
   "cell_type": "markdown",
   "id": "cb924ae5",
   "metadata": {},
   "source": [
    "### Analysis of Names by Sub_Industry ###"
   ]
  },
  {
   "cell_type": "code",
   "execution_count": 42,
   "id": "d98e0334",
   "metadata": {},
   "outputs": [
    {
     "data": {
      "text/plain": [
       "count                       100\n",
       "unique                       65\n",
       "top       Health Care Equipment\n",
       "freq                          5\n",
       "Name: GICS Sub-Industry, dtype: object"
      ]
     },
     "execution_count": 42,
     "metadata": {},
     "output_type": "execute_result"
    }
   ],
   "source": [
    "sp500_info_df['GICS Sub-Industry'].describe()"
   ]
  },
  {
   "cell_type": "code",
   "execution_count": 43,
   "id": "1f78723e",
   "metadata": {},
   "outputs": [
    {
     "name": "stdout",
     "output_type": "stream",
     "text": [
      "The Maxium Number of Members within a Sub-Industry Group is: 5\n",
      "The Maxium Number of Members within a Sub-Industry Group is: 1\n"
     ]
    }
   ],
   "source": [
    "print(f\"The Maxium Number of Members within a Sub-Industry Group is: {sp500_info_df.groupby('GICS Sub-Industry')['Symbol'].count().max()}\")\n",
    "print(f\"The Maxium Number of Members within a Sub-Industry Group is: {sp500_info_df.groupby('GICS Sub-Industry')['Symbol'].count().min()}\")"
   ]
  },
  {
   "cell_type": "markdown",
   "id": "899c4993",
   "metadata": {},
   "source": [
    "### Build and Display Graphs Analysing the Distribution of the Sub-Industry Groups"
   ]
  },
  {
   "cell_type": "code",
   "execution_count": 44,
   "id": "51010275",
   "metadata": {},
   "outputs": [],
   "source": [
    "# Get Counts of The Number of Names Within Each Sub-Industry\n",
    "sub_industry_counts = sp500_info_df.groupby('GICS Sub-Industry')['Symbol'].count().sort_values(axis=0)\n",
    "\n",
    "# Bucket The Industries into Those That Have a High Number of Members and \"Others\"\n",
    "sub_industry_graph_series = sub_industry_counts[-8:]\n",
    "sub_industry_graph_series['Other'] = sub_industry_counts[:-8].sum()"
   ]
  },
  {
   "cell_type": "code",
   "execution_count": 45,
   "id": "b33ad633",
   "metadata": {},
   "outputs": [],
   "source": [
    "# Create a seaborn color palette for our graphs\n",
    "colors = sns.color_palette(\"Blues\", len(sub_industry_graph_series))"
   ]
  },
  {
   "cell_type": "code",
   "execution_count": 46,
   "id": "fcfe5ff7",
   "metadata": {},
   "outputs": [],
   "source": [
    "# Function to Create a Series of Graphs to Show the Distribution and Makeup of the Sub-Industry Membership\n",
    "def display_subindustry_graphs(colors, sub_industry_counts, sub_industry_graph_series):\n",
    "    \n",
    "    fig = plt.figure(figsize=(10, 25))\n",
    "    fig.suptitle('Sub-Industry Category Splits', y = 0.95, fontweight='bold')\n",
    "\n",
    "    # Display Histogram Showing What Are the Most Common Number of Members Within a Sub-Industry Group\n",
    "    ax = fig.add_subplot(4, 1, 1)\n",
    "    ax.hist(sub_industry_counts,\n",
    "            bins = len(np.arange(1,sub_industry_counts.max())+1),\n",
    "            )\n",
    "    ax.set_ylabel('Frequency of Occurence')\n",
    "    ax.set_xlabel('Number of Members Within Sub-Index')\n",
    "    ax.set_title('Breakout of the Number of Members Within Each Sub-Index')\n",
    "\n",
    "    # Display Pie Chart\n",
    "    ax = fig.add_subplot(4, 1, 2)\n",
    "    ax.pie(sub_industry_graph_series,\n",
    "        labels = sub_industry_graph_series.index,\n",
    "        colors = colors,\n",
    "            )\n",
    "    ax.set_title('Sub_Industry Category Split', fontweight='bold')\n",
    "\n",
    "    # Bar Chart of the Sub-Industries With the Most Members\n",
    "    ax = fig.add_subplot(4, 1, 3)\n",
    "    ax.barh(sub_industry_graph_series[:-1].index , sub_industry_graph_series[:-1].values)\n",
    "    ax.set_title('Top Sector Member Numbers', fontweight='bold')\n",
    "\n",
    "    # Display Box Plot\n",
    "    ax = fig.add_subplot(4, 1, 4)\n",
    "    ax.boxplot(sp500_info_df.groupby('GICS Sub-Industry')['Symbol'].count())\n",
    "    ax.set_title('Distribution of Number of Members Within Each Sub-Industry', fontweight='bold')\n",
    "\n",
    "    #fig.tight_layout()\n",
    "    plt.subplots_adjust(hspace = 0.5)\n",
    "    \n",
    "    return fig"
   ]
  },
  {
   "cell_type": "markdown",
   "id": "aa044edb",
   "metadata": {},
   "source": [
    "When we review the how many stocks/ companies fall into each Sub-Industry we see that most Sub-Industries only have a very small number of members.  However, there are also a small number of Sub-Industries that have 10 plus members.\n",
    "\n",
    "So the distribution is definitely quite skewed.\n",
    "\n",
    "The following graphs demonstrate that distribution and also highlights which Sub-Industry groups have the most number of members."
   ]
  },
  {
   "cell_type": "code",
   "execution_count": 47,
   "id": "125382e2",
   "metadata": {},
   "outputs": [
    {
     "data": {
      "image/png": "[encoded data removed]",
      "text/plain": [
       "<Figure size 720x1800 with 4 Axes>"
      ]
     },
     "metadata": {
      "needs_background": "light"
     },
     "output_type": "display_data"
    }
   ],
   "source": [
    "fig = display_subindustry_graphs(colors, sub_industry_counts, sub_industry_graph_series)\n",
    "#plt.show()"
   ]
  },
  {
   "cell_type": "markdown",
   "id": "5e9f77d9",
   "metadata": {},
   "source": [
    "Where the Sub-Industry only has a single member, comparing members within the same industry will not be possible."
   ]
  },
  {
   "cell_type": "code",
   "execution_count": 48,
   "id": "59f39b8a",
   "metadata": {},
   "outputs": [
    {
     "name": "stdout",
     "output_type": "stream",
     "text": [
      "The number of sub-industries with less than two members: 41\n"
     ]
    }
   ],
   "source": [
    "print(f\"The number of sub-industries with less than two members: {len(sub_industry_counts[sub_industry_counts <= 1])}\")"
   ]
  },
  {
   "cell_type": "code",
   "execution_count": 49,
   "id": "1feabc25",
   "metadata": {},
   "outputs": [
    {
     "data": {
      "text/plain": [
       "65"
      ]
     },
     "execution_count": 49,
     "metadata": {},
     "output_type": "execute_result"
    }
   ],
   "source": [
    "(sp500_info_df.groupby('GICS Sub-Industry')['Symbol'].count() == 1).count()"
   ]
  },
  {
   "cell_type": "markdown",
   "id": "dc18e21a",
   "metadata": {},
   "source": [
    "Given we are looking to compare companies within the same industry vs companies not in the same industry, one factor to consider is exluding those sectors which do not have at least 2 names in them."
   ]
  },
  {
   "cell_type": "code",
   "execution_count": 50,
   "id": "6f4b45a9",
   "metadata": {},
   "outputs": [
    {
     "data": {
      "text/plain": [
       "GICS Sub-Industry\n",
       "Aerospace & Defense                           2\n",
       "Agricultural Products & Services              2\n",
       "Air Freight & Logistics                       1\n",
       "Application Software                          4\n",
       "Asset Management & Custody Banks              3\n",
       "                                             ..\n",
       "Technology Distributors                       1\n",
       "Technology Hardware, Storage & Peripherals    1\n",
       "Telecom Tower REITs                           1\n",
       "Tobacco                                       1\n",
       "Water Utilities                               1\n",
       "Name: Symbol, Length: 65, dtype: int64"
      ]
     },
     "execution_count": 50,
     "metadata": {},
     "output_type": "execute_result"
    }
   ],
   "source": [
    "sp500_info_df.groupby('GICS Sub-Industry')['Symbol'].count()"
   ]
  },
  {
   "cell_type": "markdown",
   "id": "3b0fa3a7",
   "metadata": {},
   "source": [
    "## Analyse Ratio of Same Industry Vs Different Industry Pairs"
   ]
  },
  {
   "cell_type": "markdown",
   "id": "33335aff",
   "metadata": {},
   "source": [
    "### Full Universe of Names"
   ]
  },
  {
   "cell_type": "code",
   "execution_count": 51,
   "id": "de73500e",
   "metadata": {},
   "outputs": [
    {
     "name": "stdout",
     "output_type": "stream",
     "text": [
      "Number of Pairs In Total: 4,950\n",
      "Number of Pairs in the Same Industry: 50\n",
      "Percentage of pairs in the same industry: 1.01%\n"
     ]
    }
   ],
   "source": [
    "num_pairs_all = len(all_possible_pairs_df.index)\n",
    "num_pairs_same_ind_all = len(all_possible_pairs_df[all_possible_pairs_df['Same Industry'] == 'Yes'].index)\n",
    "\n",
    "print(f\"Number of Pairs In Total: {num_pairs_all:,}\")\n",
    "print(f\"Number of Pairs in the Same Industry: {num_pairs_same_ind_all:,}\")\n",
    "print(f\"Percentage of pairs in the same industry: {num_pairs_same_ind_all/num_pairs_all * 100:,.02f}%\")"
   ]
  },
  {
   "cell_type": "markdown",
   "id": "d90cea62",
   "metadata": {},
   "source": [
    "### Sample"
   ]
  },
  {
   "cell_type": "code",
   "execution_count": 52,
   "id": "e54960dc",
   "metadata": {},
   "outputs": [
    {
     "name": "stdout",
     "output_type": "stream",
     "text": [
      "Number of Pairs In Total: 4,000\n",
      "Number of Pairs in the Same Industry: 40\n",
      "Percentage of pairs in the same industry: 1.00%\n"
     ]
    }
   ],
   "source": [
    "num_pairs_all_samp = len(random_pairs_df.index)\n",
    "num_pairs_same_ind_samp = len(random_pairs_df[random_pairs_df['Same Industry'] == 'Yes'].index)\n",
    "\n",
    "print(f\"Number of Pairs In Total: {num_pairs_all_samp:,}\")\n",
    "print(f\"Number of Pairs in the Same Industry: {num_pairs_same_ind_samp:,}\")\n",
    "print(f\"Percentage of pairs in the same industry: {num_pairs_same_ind_samp/num_pairs_all_samp * 100:,.02f}%\")"
   ]
  },
  {
   "cell_type": "code",
   "execution_count": 53,
   "id": "dce1f40d",
   "metadata": {},
   "outputs": [
    {
     "data": {
      "text/html": [
       "<div>\n",
       "<style scoped>\n",
       "    .dataframe tbody tr th:only-of-type {\n",
       "        vertical-align: middle;\n",
       "    }\n",
       "\n",
       "    .dataframe tbody tr th {\n",
       "        vertical-align: top;\n",
       "    }\n",
       "\n",
       "    .dataframe thead th {\n",
       "        text-align: right;\n",
       "    }\n",
       "</style>\n",
       "<table border=\"1\" class=\"dataframe\">\n",
       "  <thead>\n",
       "    <tr style=\"text-align: right;\">\n",
       "      <th></th>\n",
       "      <th>Number of Total Pairs</th>\n",
       "      <th>Number of Pairs in Same Industry</th>\n",
       "      <th>% of Pairs in the Same Industry</th>\n",
       "    </tr>\n",
       "  </thead>\n",
       "  <tbody>\n",
       "    <tr>\n",
       "      <th>Entire Population</th>\n",
       "      <td>4950</td>\n",
       "      <td>50</td>\n",
       "      <td>1.010101</td>\n",
       "    </tr>\n",
       "    <tr>\n",
       "      <th>Sample</th>\n",
       "      <td>4000</td>\n",
       "      <td>40</td>\n",
       "      <td>1.000000</td>\n",
       "    </tr>\n",
       "  </tbody>\n",
       "</table>\n",
       "</div>"
      ],
      "text/plain": [
       "                   Number of Total Pairs  Number of Pairs in Same Industry  \\\n",
       "Entire Population                   4950                                50   \n",
       "Sample                              4000                                40   \n",
       "\n",
       "                   % of Pairs in the Same Industry  \n",
       "Entire Population                         1.010101  \n",
       "Sample                                    1.000000  "
      ]
     },
     "execution_count": 53,
     "metadata": {},
     "output_type": "execute_result"
    }
   ],
   "source": [
    "df = pd.DataFrame(data = [[num_pairs_all, num_pairs_same_ind_all, num_pairs_same_ind_all/num_pairs_all * 100], \n",
    "                          [num_pairs_all_samp, num_pairs_same_ind_samp, num_pairs_same_ind_samp/num_pairs_all_samp * 100]], \n",
    "                  columns=['Number of Total Pairs', 'Number of Pairs in Same Industry', '% of Pairs in the Same Industry'])\n",
    "df.index = ['Entire Population', 'Sample']\n",
    "df"
   ]
  },
  {
   "cell_type": "markdown",
   "id": "85f7c7c4",
   "metadata": {},
   "source": [
    "<div class=\"alert alert-block alert-success\">\n",
    "Our sample does seem representative of the total population in term pairs in the same industry vs all pairs.\n",
    "</div>"
   ]
  },
  {
   "cell_type": "markdown",
   "id": "337e722b",
   "metadata": {},
   "source": [
    "# Correlation"
   ]
  },
  {
   "cell_type": "markdown",
   "id": "2bc31b4f",
   "metadata": {},
   "source": [
    "# Calculate The Correlation Between Various Pairs"
   ]
  },
  {
   "cell_type": "code",
   "execution_count": 54,
   "id": "2c24fe61",
   "metadata": {},
   "outputs": [
    {
     "data": {
      "text/html": [
       "<div>\n",
       "<style scoped>\n",
       "    .dataframe tbody tr th:only-of-type {\n",
       "        vertical-align: middle;\n",
       "    }\n",
       "\n",
       "    .dataframe tbody tr th {\n",
       "        vertical-align: top;\n",
       "    }\n",
       "\n",
       "    .dataframe thead th {\n",
       "        text-align: right;\n",
       "    }\n",
       "</style>\n",
       "<table border=\"1\" class=\"dataframe\">\n",
       "  <thead>\n",
       "    <tr style=\"text-align: right;\">\n",
       "      <th></th>\n",
       "      <th>Ticker1</th>\n",
       "      <th>Ticker2</th>\n",
       "      <th>Correlation</th>\n",
       "      <th>Ind1</th>\n",
       "      <th>Ind2</th>\n",
       "      <th>Same Industry</th>\n",
       "    </tr>\n",
       "  </thead>\n",
       "  <tbody>\n",
       "    <tr>\n",
       "      <th>0</th>\n",
       "      <td>ADM</td>\n",
       "      <td>BBWI</td>\n",
       "      <td>-0.214083</td>\n",
       "      <td>Agricultural Products &amp; Services</td>\n",
       "      <td>Specialty Stores</td>\n",
       "      <td>No</td>\n",
       "    </tr>\n",
       "    <tr>\n",
       "      <th>1</th>\n",
       "      <td>AMZN</td>\n",
       "      <td>CDW</td>\n",
       "      <td>0.286746</td>\n",
       "      <td>Broadline Retail</td>\n",
       "      <td>Technology Distributors</td>\n",
       "      <td>No</td>\n",
       "    </tr>\n",
       "    <tr>\n",
       "      <th>2</th>\n",
       "      <td>ADM</td>\n",
       "      <td>BAX</td>\n",
       "      <td>-0.563516</td>\n",
       "      <td>Agricultural Products &amp; Services</td>\n",
       "      <td>Health Care Equipment</td>\n",
       "      <td>No</td>\n",
       "    </tr>\n",
       "    <tr>\n",
       "      <th>3</th>\n",
       "      <td>CAT</td>\n",
       "      <td>COF</td>\n",
       "      <td>0.138298</td>\n",
       "      <td>Construction Machinery &amp; Heavy Transportation ...</td>\n",
       "      <td>Consumer Finance</td>\n",
       "      <td>No</td>\n",
       "    </tr>\n",
       "    <tr>\n",
       "      <th>4</th>\n",
       "      <td>ADBE</td>\n",
       "      <td>APA</td>\n",
       "      <td>-0.530256</td>\n",
       "      <td>Application Software</td>\n",
       "      <td>Oil &amp; Gas Exploration &amp; Production</td>\n",
       "      <td>No</td>\n",
       "    </tr>\n",
       "    <tr>\n",
       "      <th>...</th>\n",
       "      <td>...</td>\n",
       "      <td>...</td>\n",
       "      <td>...</td>\n",
       "      <td>...</td>\n",
       "      <td>...</td>\n",
       "      <td>...</td>\n",
       "    </tr>\n",
       "    <tr>\n",
       "      <th>3995</th>\n",
       "      <td>AMAT</td>\n",
       "      <td>APA</td>\n",
       "      <td>-0.354552</td>\n",
       "      <td>Semiconductor Materials &amp; Equipment</td>\n",
       "      <td>Oil &amp; Gas Exploration &amp; Production</td>\n",
       "      <td>No</td>\n",
       "    </tr>\n",
       "    <tr>\n",
       "      <th>3996</th>\n",
       "      <td>AXON</td>\n",
       "      <td>CBRE</td>\n",
       "      <td>0.172138</td>\n",
       "      <td>Aerospace &amp; Defense</td>\n",
       "      <td>Real Estate Services</td>\n",
       "      <td>No</td>\n",
       "    </tr>\n",
       "    <tr>\n",
       "      <th>3997</th>\n",
       "      <td>A</td>\n",
       "      <td>APTV</td>\n",
       "      <td>0.382468</td>\n",
       "      <td>Health Care Equipment</td>\n",
       "      <td>Automotive Parts &amp; Equipment</td>\n",
       "      <td>No</td>\n",
       "    </tr>\n",
       "    <tr>\n",
       "      <th>3998</th>\n",
       "      <td>ALB</td>\n",
       "      <td>BRK-B</td>\n",
       "      <td>-0.410994</td>\n",
       "      <td>Specialty Chemicals</td>\n",
       "      <td>Multi-Sector Holdings</td>\n",
       "      <td>No</td>\n",
       "    </tr>\n",
       "    <tr>\n",
       "      <th>3999</th>\n",
       "      <td>CDW</td>\n",
       "      <td>GOOGL</td>\n",
       "      <td>0.309452</td>\n",
       "      <td>Technology Distributors</td>\n",
       "      <td>Interactive Media &amp; Services</td>\n",
       "      <td>No</td>\n",
       "    </tr>\n",
       "  </tbody>\n",
       "</table>\n",
       "<p>4000 rows × 6 columns</p>\n",
       "</div>"
      ],
      "text/plain": [
       "     Ticker1 Ticker2  Correlation  \\\n",
       "0        ADM    BBWI    -0.214083   \n",
       "1       AMZN     CDW     0.286746   \n",
       "2        ADM     BAX    -0.563516   \n",
       "3        CAT     COF     0.138298   \n",
       "4       ADBE     APA    -0.530256   \n",
       "...      ...     ...          ...   \n",
       "3995    AMAT     APA    -0.354552   \n",
       "3996    AXON    CBRE     0.172138   \n",
       "3997       A    APTV     0.382468   \n",
       "3998     ALB   BRK-B    -0.410994   \n",
       "3999     CDW   GOOGL     0.309452   \n",
       "\n",
       "                                                   Ind1  \\\n",
       "0                      Agricultural Products & Services   \n",
       "1                                      Broadline Retail   \n",
       "2                      Agricultural Products & Services   \n",
       "3     Construction Machinery & Heavy Transportation ...   \n",
       "4                                  Application Software   \n",
       "...                                                 ...   \n",
       "3995                Semiconductor Materials & Equipment   \n",
       "3996                                Aerospace & Defense   \n",
       "3997                              Health Care Equipment   \n",
       "3998                                Specialty Chemicals   \n",
       "3999                            Technology Distributors   \n",
       "\n",
       "                                    Ind2 Same Industry  \n",
       "0                       Specialty Stores            No  \n",
       "1                Technology Distributors            No  \n",
       "2                  Health Care Equipment            No  \n",
       "3                       Consumer Finance            No  \n",
       "4     Oil & Gas Exploration & Production            No  \n",
       "...                                  ...           ...  \n",
       "3995  Oil & Gas Exploration & Production            No  \n",
       "3996                Real Estate Services            No  \n",
       "3997        Automotive Parts & Equipment            No  \n",
       "3998               Multi-Sector Holdings            No  \n",
       "3999        Interactive Media & Services            No  \n",
       "\n",
       "[4000 rows x 6 columns]"
      ]
     },
     "execution_count": 54,
     "metadata": {},
     "output_type": "execute_result"
    }
   ],
   "source": [
    "corr_array = []\n",
    "for i in range(len(random_pairs_df)):\n",
    "    \n",
    "    #ratio = stock_prices_usd[pair[0]]/ stock_prices_usd[pair[1]]\n",
    "    corr = stock_prices_usd[random_pairs[i][0]].corr(stock_prices_usd[random_pairs[i][1]])\n",
    "    \n",
    "    corr_array.append([random_pairs[i][0], random_pairs[i][1], corr])\n",
    "    \n",
    "    i += 1\n",
    "    \n",
    "corr_df = pd.DataFrame(data=corr_array, columns=['Ticker1', 'Ticker2', 'Correlation'])\n",
    "corr_df = pd.merge(corr_df, random_pairs_df, how='inner',\n",
    "                  left_on = ['Ticker1', 'Ticker2'], right_on = ['Ticker1', 'Ticker2'])\n",
    "\n",
    "corr_df"
   ]
  },
  {
   "cell_type": "code",
   "execution_count": 55,
   "id": "f5c336e9",
   "metadata": {},
   "outputs": [
    {
     "data": {
      "text/html": [
       "<div>\n",
       "<style scoped>\n",
       "    .dataframe tbody tr th:only-of-type {\n",
       "        vertical-align: middle;\n",
       "    }\n",
       "\n",
       "    .dataframe tbody tr th {\n",
       "        vertical-align: top;\n",
       "    }\n",
       "\n",
       "    .dataframe thead th {\n",
       "        text-align: right;\n",
       "    }\n",
       "</style>\n",
       "<table border=\"1\" class=\"dataframe\">\n",
       "  <thead>\n",
       "    <tr style=\"text-align: right;\">\n",
       "      <th></th>\n",
       "      <th>A</th>\n",
       "      <th>AAL</th>\n",
       "      <th>AAP</th>\n",
       "      <th>AAPL</th>\n",
       "      <th>ABBV</th>\n",
       "    </tr>\n",
       "    <tr>\n",
       "      <th>Date</th>\n",
       "      <th></th>\n",
       "      <th></th>\n",
       "      <th></th>\n",
       "      <th></th>\n",
       "      <th></th>\n",
       "    </tr>\n",
       "  </thead>\n",
       "  <tbody>\n",
       "    <tr>\n",
       "      <th>2021-12-31</th>\n",
       "      <td>157.838791</td>\n",
       "      <td>17.959999</td>\n",
       "      <td>227.873291</td>\n",
       "      <td>176.032745</td>\n",
       "      <td>126.516022</td>\n",
       "    </tr>\n",
       "    <tr>\n",
       "      <th>2022-01-03</th>\n",
       "      <td>154.908508</td>\n",
       "      <td>18.750000</td>\n",
       "      <td>224.928452</td>\n",
       "      <td>180.434280</td>\n",
       "      <td>126.534714</td>\n",
       "    </tr>\n",
       "    <tr>\n",
       "      <th>2022-01-04</th>\n",
       "      <td>149.671661</td>\n",
       "      <td>19.020000</td>\n",
       "      <td>225.184921</td>\n",
       "      <td>178.144302</td>\n",
       "      <td>126.291771</td>\n",
       "    </tr>\n",
       "    <tr>\n",
       "      <th>2022-01-05</th>\n",
       "      <td>147.107666</td>\n",
       "      <td>18.680000</td>\n",
       "      <td>224.614975</td>\n",
       "      <td>173.405685</td>\n",
       "      <td>126.955162</td>\n",
       "    </tr>\n",
       "    <tr>\n",
       "      <th>2022-01-06</th>\n",
       "      <td>147.622406</td>\n",
       "      <td>18.570000</td>\n",
       "      <td>229.554672</td>\n",
       "      <td>170.510956</td>\n",
       "      <td>126.357155</td>\n",
       "    </tr>\n",
       "  </tbody>\n",
       "</table>\n",
       "</div>"
      ],
      "text/plain": [
       "                     A        AAL         AAP        AAPL        ABBV\n",
       "Date                                                                 \n",
       "2021-12-31  157.838791  17.959999  227.873291  176.032745  126.516022\n",
       "2022-01-03  154.908508  18.750000  224.928452  180.434280  126.534714\n",
       "2022-01-04  149.671661  19.020000  225.184921  178.144302  126.291771\n",
       "2022-01-05  147.107666  18.680000  224.614975  173.405685  126.955162\n",
       "2022-01-06  147.622406  18.570000  229.554672  170.510956  126.357155"
      ]
     },
     "execution_count": 55,
     "metadata": {},
     "output_type": "execute_result"
    }
   ],
   "source": [
    "stock_prices_usd.iloc[:,:5].head()"
   ]
  },
  {
   "cell_type": "markdown",
   "id": "ddddbd7e",
   "metadata": {},
   "source": [
    "## Analyze Correlations"
   ]
  },
  {
   "cell_type": "markdown",
   "id": "00caffcd",
   "metadata": {},
   "source": [
    "We are analyzing the absolute values of the correlations as we are interested in the magnitude of the corrleations - negative correlations are as usual as positive ones."
   ]
  },
  {
   "cell_type": "code",
   "execution_count": 56,
   "id": "d4b3f448",
   "metadata": {},
   "outputs": [
    {
     "data": {
      "text/html": [
       "<div>\n",
       "<style scoped>\n",
       "    .dataframe tbody tr th:only-of-type {\n",
       "        vertical-align: middle;\n",
       "    }\n",
       "\n",
       "    .dataframe tbody tr th {\n",
       "        vertical-align: top;\n",
       "    }\n",
       "\n",
       "    .dataframe thead th {\n",
       "        text-align: right;\n",
       "    }\n",
       "</style>\n",
       "<table border=\"1\" class=\"dataframe\">\n",
       "  <thead>\n",
       "    <tr style=\"text-align: right;\">\n",
       "      <th></th>\n",
       "      <th>Corr all</th>\n",
       "      <th>Corr Same Industry</th>\n",
       "    </tr>\n",
       "  </thead>\n",
       "  <tbody>\n",
       "    <tr>\n",
       "      <th>count</th>\n",
       "      <td>4000.000000</td>\n",
       "      <td>40.000000</td>\n",
       "    </tr>\n",
       "    <tr>\n",
       "      <th>mean</th>\n",
       "      <td>0.437445</td>\n",
       "      <td>0.593529</td>\n",
       "    </tr>\n",
       "    <tr>\n",
       "      <th>std</th>\n",
       "      <td>0.269558</td>\n",
       "      <td>0.264110</td>\n",
       "    </tr>\n",
       "    <tr>\n",
       "      <th>min</th>\n",
       "      <td>0.000070</td>\n",
       "      <td>0.001281</td>\n",
       "    </tr>\n",
       "    <tr>\n",
       "      <th>25%</th>\n",
       "      <td>0.201507</td>\n",
       "      <td>0.458359</td>\n",
       "    </tr>\n",
       "    <tr>\n",
       "      <th>50%</th>\n",
       "      <td>0.419252</td>\n",
       "      <td>0.632943</td>\n",
       "    </tr>\n",
       "    <tr>\n",
       "      <th>75%</th>\n",
       "      <td>0.666544</td>\n",
       "      <td>0.796066</td>\n",
       "    </tr>\n",
       "    <tr>\n",
       "      <th>max</th>\n",
       "      <td>0.999787</td>\n",
       "      <td>0.999787</td>\n",
       "    </tr>\n",
       "    <tr>\n",
       "      <th>Median</th>\n",
       "      <td>0.419252</td>\n",
       "      <td>0.632943</td>\n",
       "    </tr>\n",
       "  </tbody>\n",
       "</table>\n",
       "</div>"
      ],
      "text/plain": [
       "           Corr all  Corr Same Industry\n",
       "count   4000.000000           40.000000\n",
       "mean       0.437445            0.593529\n",
       "std        0.269558            0.264110\n",
       "min        0.000070            0.001281\n",
       "25%        0.201507            0.458359\n",
       "50%        0.419252            0.632943\n",
       "75%        0.666544            0.796066\n",
       "max        0.999787            0.999787\n",
       "Median     0.419252            0.632943"
      ]
     },
     "execution_count": 56,
     "metadata": {},
     "output_type": "execute_result"
    }
   ],
   "source": [
    "corr_all = abs(corr_df['Correlation']).describe()\n",
    "corr_same_ind = abs(corr_df[corr_df['Same Industry'] == 'Yes']['Correlation']).describe()\n",
    "\n",
    "df = pd.DataFrame(corr_all)\n",
    "df = pd.DataFrame({'Corr all': corr_all, 'Corr Same Industry': corr_same_ind})\n",
    "\n",
    "df.loc['Median', :] \\\n",
    "= [abs(corr_df['Correlation']).median(), abs(corr_df[corr_df['Same Industry'] == 'Yes']['Correlation']).median()]\n",
    "df"
   ]
  },
  {
   "cell_type": "markdown",
   "id": "8ac9c72d",
   "metadata": {},
   "source": [
    "<div class=\"alert alert-block alert-info\">\n",
    "<b>Finding:</b> At a summary level there does appear to be a higher correlation level for pairs in the same industry</div>"
   ]
  },
  {
   "cell_type": "markdown",
   "id": "0c0ee619",
   "metadata": {},
   "source": [
    "## Analyse by Industry : Are Some Industry Groups Better Than Others?"
   ]
  },
  {
   "cell_type": "markdown",
   "id": "bc1393ab",
   "metadata": {},
   "source": [
    "Build a DataFrame which gives us some summary info by Industry for Pairs Which are Both in the Same Industry"
   ]
  },
  {
   "cell_type": "code",
   "execution_count": 57,
   "id": "d0fe7d6c",
   "metadata": {},
   "outputs": [],
   "source": [
    "# Take the df of all correlations, extract same industry pairs and get the median correlation and count for those those pairs\n",
    "df = corr_df[corr_df['Same Industry'] == 'Yes'].groupby('Ind1').agg(Median =('Correlation', 'median'),\\\n",
    "                                                                   Count=('Correlation','count'))\n",
    "df = df.reset_index()\n",
    "df['Median'] = abs(df['Median'])\n",
    "df = df.sort_values(['Median', 'Count']).set_index('Ind1', drop=True)\n",
    "df.index.name = \"\"\n"
   ]
  },
  {
   "cell_type": "markdown",
   "id": "db5cd761",
   "metadata": {},
   "source": [
    "If we only have one pair in an industry, it is difficult to make any comparision of that industry vs another.  Thus we will limit our comparison to industries with at least 8 names in it."
   ]
  },
  {
   "cell_type": "code",
   "execution_count": 58,
   "id": "5c8c00b4",
   "metadata": {
    "scrolled": true
   },
   "outputs": [
    {
     "data": {
      "text/html": [
       "<div>\n",
       "<style scoped>\n",
       "    .dataframe tbody tr th:only-of-type {\n",
       "        vertical-align: middle;\n",
       "    }\n",
       "\n",
       "    .dataframe tbody tr th {\n",
       "        vertical-align: top;\n",
       "    }\n",
       "\n",
       "    .dataframe thead th {\n",
       "        text-align: right;\n",
       "    }\n",
       "</style>\n",
       "<table border=\"1\" class=\"dataframe\">\n",
       "  <thead>\n",
       "    <tr style=\"text-align: right;\">\n",
       "      <th></th>\n",
       "      <th>Median</th>\n",
       "      <th>Count</th>\n",
       "    </tr>\n",
       "    <tr>\n",
       "      <th></th>\n",
       "      <th></th>\n",
       "      <th></th>\n",
       "    </tr>\n",
       "  </thead>\n",
       "  <tbody>\n",
       "    <tr>\n",
       "      <th>Pharmaceuticals</th>\n",
       "      <td>0.119343</td>\n",
       "      <td>2</td>\n",
       "    </tr>\n",
       "    <tr>\n",
       "      <th>Health Care Equipment</th>\n",
       "      <td>0.464116</td>\n",
       "      <td>6</td>\n",
       "    </tr>\n",
       "    <tr>\n",
       "      <th>Property &amp; Casualty Insurance</th>\n",
       "      <td>0.478301</td>\n",
       "      <td>3</td>\n",
       "    </tr>\n",
       "    <tr>\n",
       "      <th>Application Software</th>\n",
       "      <td>0.505961</td>\n",
       "      <td>6</td>\n",
       "    </tr>\n",
       "    <tr>\n",
       "      <th>Insurance Brokers</th>\n",
       "      <td>0.516414</td>\n",
       "      <td>3</td>\n",
       "    </tr>\n",
       "    <tr>\n",
       "      <th>Semiconductors</th>\n",
       "      <td>0.634833</td>\n",
       "      <td>2</td>\n",
       "    </tr>\n",
       "    <tr>\n",
       "      <th>Health Care Distributors</th>\n",
       "      <td>0.659620</td>\n",
       "      <td>1</td>\n",
       "    </tr>\n",
       "    <tr>\n",
       "      <th>Biotechnology</th>\n",
       "      <td>0.729125</td>\n",
       "      <td>1</td>\n",
       "    </tr>\n",
       "    <tr>\n",
       "      <th>Asset Management &amp; Custody Banks</th>\n",
       "      <td>0.732165</td>\n",
       "      <td>3</td>\n",
       "    </tr>\n",
       "    <tr>\n",
       "      <th>Building Products</th>\n",
       "      <td>0.887233</td>\n",
       "      <td>3</td>\n",
       "    </tr>\n",
       "  </tbody>\n",
       "</table>\n",
       "</div>"
      ],
      "text/plain": [
       "                                    Median  Count\n",
       "                                                 \n",
       "Pharmaceuticals                   0.119343      2\n",
       "Health Care Equipment             0.464116      6\n",
       "Property & Casualty Insurance     0.478301      3\n",
       "Application Software              0.505961      6\n",
       "Insurance Brokers                 0.516414      3\n",
       "Semiconductors                    0.634833      2\n",
       "Health Care Distributors          0.659620      1\n",
       "Biotechnology                     0.729125      1\n",
       "Asset Management & Custody Banks  0.732165      3\n",
       "Building Products                 0.887233      3"
      ]
     },
     "execution_count": 58,
     "metadata": {},
     "output_type": "execute_result"
    }
   ],
   "source": [
    "# Limit our target dataframe to only the top 10 names by count frequency\n",
    "df = df.sort_values('Count')\n",
    "df = df.tail(10)\n",
    "df = df.sort_values('Median')\n",
    "df"
   ]
  },
  {
   "cell_type": "code",
   "execution_count": 59,
   "id": "7746a1b2",
   "metadata": {},
   "outputs": [
    {
     "data": {
      "text/plain": [
       "<matplotlib.legend.Legend at 0x1fb9c74e820>"
      ]
     },
     "execution_count": 59,
     "metadata": {},
     "output_type": "execute_result"
    },
    {
     "data": {
      "image/png": "[encoded data removed]",
      "text/plain": [
       "<Figure size 720x720 with 1 Axes>"
      ]
     },
     "metadata": {
      "needs_background": "light"
     },
     "output_type": "display_data"
    }
   ],
   "source": [
    "# Calculate median correlations\n",
    "medians_same_ind = abs(df['Median'])\n",
    "medians_all_ind = abs(corr_df.groupby('Ind1')['Correlation'].median())\n",
    "\n",
    "# We only want to plot the industries that have sufficient same industry pairs\n",
    "medians_all_ind = medians_all_ind[medians_all_ind.index.isin(df.index)]\n",
    "\n",
    "# Create figure and axis\n",
    "fig, ax = plt.subplots(figsize=[10,10])\n",
    "\n",
    "# Set a width for the bars\n",
    "bar_width = 0.3\n",
    "\n",
    "# We have to define bar positions if we want the different plots to be side by side\n",
    "bar1_positions = np.arange(len(medians_same_ind))\n",
    "bar2_positions = bar1_positions + bar_width # Puts the position beside the prior bar\n",
    "\n",
    "# Create our bar charts\n",
    "ax.barh(bar1_positions, medians_same_ind, height=bar_width, label='Median Correlation by Industry for Pairs in the Same Industry')\n",
    "ax.barh(bar2_positions, medians_all_ind, height=bar_width, label='Median Correlation by Industry for ALL Pairs')\n",
    "\n",
    "# Define y labels and title\n",
    "ax.set_yticks(bar1_positions + bar_width / 2)\n",
    "ax.set_yticklabels(medians_same_ind.index)\n",
    "ax.set_xlabel('Median Correlation')\n",
    "ax.set_ylabel('Industry')\n",
    "ax.set_title('Median Correlation by Industry')\n",
    "\n",
    "# Show legend\n",
    "ax.legend()\n",
    "\n",
    "# Show plot\n",
    "#plt.show()"
   ]
  },
  {
   "cell_type": "markdown",
   "id": "da0d6656",
   "metadata": {},
   "source": [
    "<div class=\"alert alert-block alert-info\">\n",
    "<b>Finding:</b> The range of correlations does vary signficantly across industries\n",
    "Looking for a pattern or characteristic, it appears that \"old economy\" industries generally offer higher correlations compared to new economy companies (software, biotech).  \n",
    "Or another perspective, is that industries where the business models of the member companies is more stable have better correlations than those rapidly changing business models</div>"
   ]
  },
  {
   "cell_type": "markdown",
   "id": "b3963554",
   "metadata": {},
   "source": [
    "<div class=\"alert alert-block alert-info\">\n",
    "<b>Finding:</b> This graph also reinforces the earlier finding that the correlation levels are higher for pairs which are both in the same industry vs disparate pairs - as the same industry pairs have higher correlation for almost all industries</div>"
   ]
  },
  {
   "cell_type": "markdown",
   "id": "97e0d321",
   "metadata": {},
   "source": [
    "# CoIntegration"
   ]
  },
  {
   "cell_type": "code",
   "execution_count": 60,
   "id": "73098e47",
   "metadata": {},
   "outputs": [],
   "source": [
    "#pscore_1yr, pvalue_1yr, _ = coint(train_series1,train_series2)"
   ]
  },
  {
   "cell_type": "code",
   "execution_count": null,
   "id": "aee38212",
   "metadata": {},
   "outputs": [],
   "source": []
  },
  {
   "cell_type": "markdown",
   "id": "3c9336e7",
   "metadata": {},
   "source": [
    "# References"
   ]
  },
  {
   "cell_type": "markdown",
   "id": "55a8fa6f",
   "metadata": {},
   "source": [
    "wikipedia: 'https://en.wikipedia.org/wiki/List_of_S%26P_500_companies'\n",
    "\n",
    "data sources: yahoo finance\n",
    "\n"
   ]
  },
  {
   "cell_type": "raw",
   "id": "38d2a104",
   "metadata": {},
   "source": [
    "Price Verification:\n",
    "    \n",
    "https://finance.yahoo.com/quote/NVR?p=NVR&.tsrc=fin-srch\n",
    "\n",
    "https://finance.yahoo.com/quote/BKNG?p=BKNG&.tsrc=fin-srch"
   ]
  },
  {
   "cell_type": "markdown",
   "id": "52d82478",
   "metadata": {},
   "source": [
    "ASX: https://www.asx.com.au/data/dw_sharesbyvalue.pdf"
   ]
  },
  {
   "cell_type": "markdown",
   "id": "565453cd",
   "metadata": {},
   "source": [
    "# Discarded Graphs etc"
   ]
  },
  {
   "cell_type": "code",
   "execution_count": null,
   "id": "359d9873",
   "metadata": {},
   "outputs": [],
   "source": []
  },
  {
   "cell_type": "code",
   "execution_count": 61,
   "id": "be4b03a3",
   "metadata": {},
   "outputs": [
    {
     "data": {
      "text/plain": [
       "array([[<AxesSubplot:xlabel='A', ylabel='A'>,\n",
       "        <AxesSubplot:xlabel='AAL', ylabel='A'>,\n",
       "        <AxesSubplot:xlabel='AAP', ylabel='A'>],\n",
       "       [<AxesSubplot:xlabel='A', ylabel='AAL'>,\n",
       "        <AxesSubplot:xlabel='AAL', ylabel='AAL'>,\n",
       "        <AxesSubplot:xlabel='AAP', ylabel='AAL'>],\n",
       "       [<AxesSubplot:xlabel='A', ylabel='AAP'>,\n",
       "        <AxesSubplot:xlabel='AAL', ylabel='AAP'>,\n",
       "        <AxesSubplot:xlabel='AAP', ylabel='AAP'>]], dtype=object)"
      ]
     },
     "execution_count": 61,
     "metadata": {},
     "output_type": "execute_result"
    },
    {
     "data": {
      "image/png": "[encoded data removed]",
      "text/plain": [
       "<Figure size 432x288 with 9 Axes>"
      ]
     },
     "metadata": {
      "needs_background": "light"
     },
     "output_type": "display_data"
    }
   ],
   "source": [
    "graph_df = stock_prices_usd.iloc[:,:3].copy()\n",
    "\n",
    "pd.plotting.scatter_matrix(graph_df)"
   ]
  },
  {
   "cell_type": "code",
   "execution_count": 62,
   "id": "de7eb7fe",
   "metadata": {},
   "outputs": [],
   "source": [
    "# A Pairplot on Correlations Might Show Something About Industries\n",
    "\n",
    "# Not really!"
   ]
  },
  {
   "cell_type": "code",
   "execution_count": 63,
   "id": "ccf0f642",
   "metadata": {},
   "outputs": [
    {
     "data": {
      "text/plain": [
       "<seaborn.axisgrid.PairGrid at 0x1fb9c575a00>"
      ]
     },
     "execution_count": 63,
     "metadata": {},
     "output_type": "execute_result"
    },
    {
     "data": {
      "image/png": "[encoded data removed]",
      "text/plain": [
       "<Figure size 391.925x360 with 2 Axes>"
      ]
     },
     "metadata": {},
     "output_type": "display_data"
    }
   ],
   "source": [
    "\n",
    "sns.set()\n",
    "sns.pairplot(\n",
    "    #data = corr_df.head(),\n",
    "    data = corr_df,\n",
    "    hue = 'Ind1',\n",
    "    height = 5\n",
    "        )\n"
   ]
  },
  {
   "cell_type": "code",
   "execution_count": 64,
   "id": "75abf9f0",
   "metadata": {
    "scrolled": true
   },
   "outputs": [
    {
     "data": {
      "text/plain": [
       "<seaborn.axisgrid.PairGrid at 0x1fb9d0cf3a0>"
      ]
     },
     "execution_count": 64,
     "metadata": {},
     "output_type": "execute_result"
    },
    {
     "data": {
      "image/png": "[encoded data removed]",
      "text/plain": [
       "<Figure size 446.175x360 with 2 Axes>"
      ]
     },
     "metadata": {},
     "output_type": "display_data"
    }
   ],
   "source": [
    "sns.pairplot(\n",
    "    #data = corr_df.head(),\n",
    "    data = corr_df,\n",
    "    hue = 'Same Industry',\n",
    "    height = 5\n",
    "    \n",
    "        )"
   ]
  },
  {
   "cell_type": "code",
   "execution_count": null,
   "id": "d5c07391",
   "metadata": {},
   "outputs": [],
   "source": []
  },
  {
   "cell_type": "code",
   "execution_count": 65,
   "id": "8f91fa42",
   "metadata": {},
   "outputs": [
    {
     "name": "stdout",
     "output_type": "stream",
     "text": [
      "2023-07-31 10:51:16.192982\n"
     ]
    }
   ],
   "source": [
    "# Observe when notebook was last run all the way through successfully\n",
    "\n",
    "print(datetime.now())"
   ]
  },
  {
   "cell_type": "code",
   "execution_count": null,
   "id": "28a25739",
   "metadata": {},
   "outputs": [],
   "source": []
  }
 ],
 "metadata": {
  "kernelspec": {
   "display_name": "Python 3 (ipykernel)",
   "language": "python",
   "name": "python3"
  },
  "language_info": {
   "codemirror_mode": {
    "name": "ipython",
    "version": 3
   },
   "file_extension": ".py",
   "mimetype": "text/x-python",
   "name": "python",
   "nbconvert_exporter": "python",
   "pygments_lexer": "ipython3",
   "version": "3.8.12"
  },
  "toc": {
   "base_numbering": 1,
   "nav_menu": {},
   "number_sections": true,
   "sideBar": true,
   "skip_h1_title": false,
   "title_cell": "Table of Contents",
   "title_sidebar": "Contents",
   "toc_cell": false,
   "toc_position": {
    "height": "calc(100% - 180px)",
    "left": "10px",
    "top": "150px",
    "width": "373px"
   },
   "toc_section_display": true,
   "toc_window_display": true
  }
 },
 "nbformat": 4,
 "nbformat_minor": 5
}
