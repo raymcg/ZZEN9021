{
    "cells": [
        {
            "attachments": {},
            "cell_type": "markdown",
            "metadata": {},
            "source": [
                "# Correlation Between Companies in The Same Industry\n",
                "\n",
                "1. <a href='#Introduction'>Introduction</a>\n",
                "2. <a href='#Questions'>Questions</a> \n",
                "3. <a href='#Data_Sources'>Data Sources</a> \n",
                "4. <a href='#Libraries'>Import Required Libraries </a>\n",
                "5. <a href='#Inputs'>Set Inputs </a>\n",
                "6. <a href='#Names'>Load and Format S&P500 and ASX Names and Details</a>\n",
                "9. <a href='#Prices'>Load, Review and Format Prices for FX Rates and Shares</a>\n",
                "10. <a href='#Pairs'>Create a Universe of Pairs</a>\n",
                "11. <a href='#Sectors'>Analysis of Names by Sector</a>\n",
                "13. <a href='#Correlations'>Correlation Results</a>\n",
                "14. <a href='#Findings'>Summary of Findings</a>\n",
                "14. <a href='#References'>References</a>"
            ]
        },
        {
            "attachments": {},
            "cell_type": "markdown",
            "metadata": {},
            "source": [
                "<a id=\"introduction\"></a>\n",
                "# 1. Introduction"
            ]
        },
        {
            "attachments": {},
            "cell_type": "markdown",
            "metadata": {},
            "source": [
                "With the recent advances in Neural Nets I became interested in whether Machine Learning could effectively be applied to improve investing and trading results vs traditional methods.  What I discovered is that Quantitative techniques generally are very useful tools for this, but like all tools, they are better suited to some tasks than others.\n",
                "\n",
                "Pairs Trading is a task/ strategy I believe quantitative tools are well suited for.  \"A pairs trade is a trading strategy that involves matching a long position with a short position in two stocks with a high correlation.\" (Investopida.com, 2023). In simple terms, you find two stocks whose prices show high level of correlation.  When they deviate from this correlation, you buy one stock and sell the other and wait for the prior level of correlation to revert to its mean.  If it does so, you will make a profit and vice versa.  Key to this strategy is identifying stocks whose prices  have a high level of correlation to each other - and which are likely to continue to have a high degree of correlation in the future.\n",
                "\n",
                "We can identify which pairs have historically shown a high level of correlation through by generating correlation statistics for every single combination of pairs possible and then select those which appear stronger than a threshold.  However, the weakness of this approach is that some pairs will show high levels of correlation historically through randomness rather than fundamentals - and their correlation is less likely to persist into the future.  For this reason it helps to determine factors which identify when a high correlation is likely to be due to fundamentals.  \n",
                "\n",
                "This project will assess **whether stocks being members of the same sector** are such a factor.  That is, if two companies are in the same sector (industry) are their prices more likely to be correlated  than the prices of two random companies (likely to be in different industries).  \n",
                "\n",
                "We will use the term Sector and Industry interchangeably.\n",
                "\n",
                "*Sample Required*\n",
                "\n",
                "With enough computing power it would be technically possible to generate a list of pairs of using a population of every  single share listed on specified stock exchanges.  However, given the memory and processing constrainsts of the Ed environment we need to quite strictly limit our sample size.  For this reason we have started with 100 stocks from the S&P500 and 15 shares from the ASX - as that number of companies appears close to, but within, Ed's capacities.  From that we have then selected a sample of 4000 random pairs generated from that population.  We have set both the 100 S&P500 members and the number of random pairs as an input that could be changed if desired.\n",
                "\n",
                "*Only a First Step*\n",
                "\n",
                "This assignment is not a comprehensive test of using a stock's industry as a selection factor for a pairs trading strategy - ***it is only a first step***.  It is identifying if industry appears to be a factor worth assessing further.  Further assessement would include steps such as:\n",
                "* Analysing the pairs over multiple time periods;\n",
                "* Increasing the same size;\n",
                "* Testing not only if historical correlation of pairs in the same industry is stronger than a benchmark, but also if that persists on a forward basis.\n",
                "\n",
                "*Approach*\n",
                "\n",
                "Our approach is to first analyse if using industry as a factor is practical in the first place:\n",
                "* How many different sectors/industries are there?\n",
                "* What is the distribution across sectors?\n",
                "* Do we have have enough pairs within our data to perform a meaningful test?\n",
                "\n",
                "We then analyse the correlation of the pairs generated to form our conclusions from this first step."
            ]
        },
        {
            "attachments": {},
            "cell_type": "markdown",
            "metadata": {},
            "source": [
                "<a id=\"Questions\"></a>\n",
                "# 2. Questions"
            ]
        },
        {
            "attachments": {},
            "cell_type": "markdown",
            "metadata": {},
            "source": [
                "Given our stated approach and desired outcomes, we seek to answer the following specific questions:\n",
                "\n",
                "1. Given a sample of 115 diferent stocks (which is close to the processing limit of Ed):\n",
                "    * How many different pairs are possible to analyze?\n",
                "    * How many different pairs within the same industry are possible to analyze and compare to the 'total' universe of stocks?\n",
                "\n",
                "2. What is the break down by industry of the sample set of companies?\n",
                "\n",
                "3. What is the overall correlation profile of the pairs within the sample?  \n",
                "\n",
                "4. Are pairs in the same industry more closely correlated in their price movements than random pairs?\n",
                "\n",
                "5. Do pairs in some industries show better correlation than others?\n",
                "\n",
                "6. If there is a difference in correlation across industries, are there any apparent reasons for this or additional steps that could be taken to try and determine those reasons?"
            ]
        },
        {
            "attachments": {},
            "cell_type": "markdown",
            "metadata": {},
            "source": [
                "<a id=\"Data_Sources\"></a>\n",
                "# 3. Data Sources"
            ]
        },
        {
            "attachments": {},
            "cell_type": "markdown",
            "metadata": {},
            "source": [
                "This project uses the following data sets the information contained within are publicly available:\n",
                "\n",
                "1. sp500_info.csv: \n",
                "    * S&P 500 component stocks including their symbol and sector name, and sub sector name <br>\n",
                "    (Wikipedia, 2023)  \n",
                "    \n",
                "2. asx_15_info.csv: \n",
                "    * Top 20 Shares by Value for the ASX <br>\n",
                "    (ASX, 2023)  \n",
                "      \n",
                "3. prices_shares.csv: <br>\n",
                "    * 12 Months Historical Data for 100 S&P500 shares and 15 ASX shares (in their local currency): <br>\n",
                "    (Aroussi, 2023; Yahoo Finance, 2023)  \n",
                "        \n",
                "4. prices_fx.csv: \n",
                "    * 12 Months Historical Data for a basket of currencies: <br>\n",
                "    (Aroussi, 2023; Yahoo Finance, 2023)\n",
                "    "
            ]
        },
        {
            "attachments": {},
            "cell_type": "markdown",
            "metadata": {},
            "source": [
                "<a id=\"Libraries\"></a>\n",
                "# 4. Import Required Libraries"
            ]
        },
        {
            "cell_type": "code",
            "execution_count": 1,
            "metadata": {},
            "outputs": [],
            "source": [
                "import yfinance as yf\n",
                "import numpy as np\n",
                "import pandas as pd\n",
                "\n",
                "from datetime import datetime, timedelta\n",
                "\n",
                "import itertools\n",
                "\n",
                "from random import sample\n",
                "\n",
                "import matplotlib.pyplot as plt\n",
                "import seaborn as sns"
            ]
        },
        {
            "attachments": {},
            "cell_type": "markdown",
            "metadata": {},
            "source": [
                "<a id=\"Inputs\"></a>\n",
                "# 5. Set Inputs"
            ]
        },
        {
            "cell_type": "code",
            "execution_count": 2,
            "metadata": {},
            "outputs": [],
            "source": [
                "# Target Input Files\n",
                "STOCK_PRICES_FNAME = \"prices_shares.csv\"\n",
                "FX_PRICES_FNAME = \"prices_fx.csv\"\n",
                "SP500_MEMBERS_FNAME = \"sp500_info.csv\"\n",
                "ASX_MEMBERS_FNAME = \"asx_15_info.csv\""
            ]
        },
        {
            "cell_type": "code",
            "execution_count": 3,
            "metadata": {},
            "outputs": [],
            "source": [
                "# Instead of choosing all 500 names from the S&P500, pick a selection to reduce the file sizes\n",
                "SP500_SAMPLE_SIZE = 100"
            ]
        },
        {
            "cell_type": "code",
            "execution_count": 4,
            "metadata": {},
            "outputs": [],
            "source": [
                "# From our list of all generated pairs, select a random sample to reduce processing requiremens\n",
                "RDM_SAMPLE_SIZE = 4000"
            ]
        },
        {
            "attachments": {},
            "cell_type": "markdown",
            "metadata": {},
            "source": [
                "<a id=\"Names\"></a>\n",
                "# 6. Load and Format SP500 and ASX Names and Details"
            ]
        },
        {
            "attachments": {},
            "cell_type": "markdown",
            "metadata": {},
            "source": [
                "##  Obtain Names in SP500"
            ]
        },
        {
            "cell_type": "code",
            "execution_count": 5,
            "metadata": {},
            "outputs": [
                {
                    "data": {
                        "text/html": [
                            "<div>\n",
                            "<style scoped>\n",
                            "    .dataframe tbody tr th:only-of-type {\n",
                            "        vertical-align: middle;\n",
                            "    }\n",
                            "\n",
                            "    .dataframe tbody tr th {\n",
                            "        vertical-align: top;\n",
                            "    }\n",
                            "\n",
                            "    .dataframe thead th {\n",
                            "        text-align: right;\n",
                            "    }\n",
                            "</style>\n",
                            "<table border=\"1\" class=\"dataframe\">\n",
                            "  <thead>\n",
                            "    <tr style=\"text-align: right;\">\n",
                            "      <th></th>\n",
                            "      <th>Symbol</th>\n",
                            "      <th>Security</th>\n",
                            "      <th>GICS Sector</th>\n",
                            "      <th>GICS Sub-Industry</th>\n",
                            "      <th>Headquarters Location</th>\n",
                            "      <th>Date added</th>\n",
                            "      <th>CIK</th>\n",
                            "      <th>Founded</th>\n",
                            "    </tr>\n",
                            "  </thead>\n",
                            "  <tbody>\n",
                            "    <tr>\n",
                            "      <th>0</th>\n",
                            "      <td>MMM</td>\n",
                            "      <td>3M</td>\n",
                            "      <td>Industrials</td>\n",
                            "      <td>Industrial Conglomerates</td>\n",
                            "      <td>Saint Paul, Minnesota</td>\n",
                            "      <td>1957-03-04</td>\n",
                            "      <td>66740</td>\n",
                            "      <td>1902</td>\n",
                            "    </tr>\n",
                            "    <tr>\n",
                            "      <th>1</th>\n",
                            "      <td>AOS</td>\n",
                            "      <td>A. O. Smith</td>\n",
                            "      <td>Industrials</td>\n",
                            "      <td>Building Products</td>\n",
                            "      <td>Milwaukee, Wisconsin</td>\n",
                            "      <td>2017-07-26</td>\n",
                            "      <td>4343243243432434</td>\n",
                            "      <td>1916</td>\n",
                            "    </tr>\n",
                            "    <tr>\n",
                            "      <th>2</th>\n",
                            "      <td>ABT</td>\n",
                            "      <td>Abbott</td>\n",
                            "      <td>Health Care</td>\n",
                            "      <td>Health Care Equipment</td>\n",
                            "      <td>North Chicago, Illinois</td>\n",
                            "      <td>1957-03-04</td>\n",
                            "      <td>1800</td>\n",
                            "      <td>1888</td>\n",
                            "    </tr>\n",
                            "    <tr>\n",
                            "      <th>3</th>\n",
                            "      <td>ABBV</td>\n",
                            "      <td>AbbVie</td>\n",
                            "      <td>Health Care</td>\n",
                            "      <td>Pharmaceuticals</td>\n",
                            "      <td>North Chicago, Illinois</td>\n",
                            "      <td>2012-12-31</td>\n",
                            "      <td>1551152</td>\n",
                            "      <td>2013 (1888)</td>\n",
                            "    </tr>\n",
                            "    <tr>\n",
                            "      <th>4</th>\n",
                            "      <td>ACN</td>\n",
                            "      <td>Accenture</td>\n",
                            "      <td>Information Technology</td>\n",
                            "      <td>IT Consulting &amp; Other Services</td>\n",
                            "      <td>Dublin, Ireland</td>\n",
                            "      <td>2011-07-06</td>\n",
                            "      <td>1467373</td>\n",
                            "      <td>1989</td>\n",
                            "    </tr>\n",
                            "    <tr>\n",
                            "      <th>...</th>\n",
                            "      <td>...</td>\n",
                            "      <td>...</td>\n",
                            "      <td>...</td>\n",
                            "      <td>...</td>\n",
                            "      <td>...</td>\n",
                            "      <td>...</td>\n",
                            "      <td>...</td>\n",
                            "      <td>...</td>\n",
                            "    </tr>\n",
                            "    <tr>\n",
                            "      <th>498</th>\n",
                            "      <td>YUM</td>\n",
                            "      <td>Yum! Brands</td>\n",
                            "      <td>Consumer Discretionary</td>\n",
                            "      <td>Restaurants</td>\n",
                            "      <td>Louisville, Kentucky</td>\n",
                            "      <td>1997-10-06</td>\n",
                            "      <td>1041061</td>\n",
                            "      <td>1997</td>\n",
                            "    </tr>\n",
                            "    <tr>\n",
                            "      <th>499</th>\n",
                            "      <td>ZBRA</td>\n",
                            "      <td>Zebra Technologies</td>\n",
                            "      <td>Information Technology</td>\n",
                            "      <td>Electronic Equipment &amp; Instruments</td>\n",
                            "      <td>Lincolnshire, Illinois</td>\n",
                            "      <td>2019-12-23</td>\n",
                            "      <td>877212</td>\n",
                            "      <td>1969</td>\n",
                            "    </tr>\n",
                            "    <tr>\n",
                            "      <th>500</th>\n",
                            "      <td>ZBH</td>\n",
                            "      <td>Zimmer Biomet</td>\n",
                            "      <td>Health Care</td>\n",
                            "      <td>Health Care Equipment</td>\n",
                            "      <td>Warsaw, Indiana</td>\n",
                            "      <td>2001-08-07</td>\n",
                            "      <td>1136869</td>\n",
                            "      <td>1927</td>\n",
                            "    </tr>\n",
                            "    <tr>\n",
                            "      <th>501</th>\n",
                            "      <td>ZION</td>\n",
                            "      <td>Zions Bancorporation</td>\n",
                            "      <td>Financials</td>\n",
                            "      <td>Regional Banks</td>\n",
                            "      <td>Salt Lake City, Utah</td>\n",
                            "      <td>2001-06-22</td>\n",
                            "      <td>109380</td>\n",
                            "      <td>1873</td>\n",
                            "    </tr>\n",
                            "    <tr>\n",
                            "      <th>502</th>\n",
                            "      <td>ZTS</td>\n",
                            "      <td>Zoetis</td>\n",
                            "      <td>Health Care</td>\n",
                            "      <td>Pharmaceuticals</td>\n",
                            "      <td>Parsippany, New Jersey</td>\n",
                            "      <td>2013-06-21</td>\n",
                            "      <td>1555280</td>\n",
                            "      <td>1952</td>\n",
                            "    </tr>\n",
                            "  </tbody>\n",
                            "</table>\n",
                            "<p>503 rows × 8 columns</p>\n",
                            "</div>"
                        ],
                        "text/plain": [
                            "    Symbol              Security             GICS Sector   \n",
                            "0      MMM                    3M             Industrials  \\\n",
                            "1      AOS           A. O. Smith             Industrials   \n",
                            "2      ABT                Abbott             Health Care   \n",
                            "3     ABBV                AbbVie             Health Care   \n",
                            "4      ACN             Accenture  Information Technology   \n",
                            "..     ...                   ...                     ...   \n",
                            "498    YUM           Yum! Brands  Consumer Discretionary   \n",
                            "499   ZBRA    Zebra Technologies  Information Technology   \n",
                            "500    ZBH         Zimmer Biomet             Health Care   \n",
                            "501   ZION  Zions Bancorporation              Financials   \n",
                            "502    ZTS                Zoetis             Health Care   \n",
                            "\n",
                            "                      GICS Sub-Industry    Headquarters Location  Date added   \n",
                            "0              Industrial Conglomerates    Saint Paul, Minnesota  1957-03-04  \\\n",
                            "1                     Building Products     Milwaukee, Wisconsin  2017-07-26   \n",
                            "2                 Health Care Equipment  North Chicago, Illinois  1957-03-04   \n",
                            "3                       Pharmaceuticals  North Chicago, Illinois  2012-12-31   \n",
                            "4        IT Consulting & Other Services          Dublin, Ireland  2011-07-06   \n",
                            "..                                  ...                      ...         ...   \n",
                            "498                         Restaurants     Louisville, Kentucky  1997-10-06   \n",
                            "499  Electronic Equipment & Instruments   Lincolnshire, Illinois  2019-12-23   \n",
                            "500               Health Care Equipment          Warsaw, Indiana  2001-08-07   \n",
                            "501                      Regional Banks     Salt Lake City, Utah  2001-06-22   \n",
                            "502                     Pharmaceuticals   Parsippany, New Jersey  2013-06-21   \n",
                            "\n",
                            "                  CIK      Founded  \n",
                            "0               66740         1902  \n",
                            "1    4343243243432434         1916  \n",
                            "2                1800         1888  \n",
                            "3             1551152  2013 (1888)  \n",
                            "4             1467373         1989  \n",
                            "..                ...          ...  \n",
                            "498           1041061         1997  \n",
                            "499            877212         1969  \n",
                            "500           1136869         1927  \n",
                            "501            109380         1873  \n",
                            "502           1555280         1952  \n",
                            "\n",
                            "[503 rows x 8 columns]"
                        ]
                    },
                    "execution_count": 5,
                    "metadata": {},
                    "output_type": "execute_result"
                }
            ],
            "source": [
                "#Read the csv file that contains the S&P component information.\n",
                "sp500_info_df = pd.read_csv(SP500_MEMBERS_FNAME)\n",
                "sp500_info_df"
            ]
        },
        {
            "cell_type": "code",
            "execution_count": 6,
            "metadata": {},
            "outputs": [],
            "source": [
                "# Trim the number of S&P500 members we are going to review given processing constraints\n",
                "sp500_info_df = sp500_info_df[:SP500_SAMPLE_SIZE].copy()"
            ]
        },
        {
            "attachments": {},
            "cell_type": "markdown",
            "metadata": {},
            "source": [
                "Review the number of members to check that it equals the input constant SP500_SAMPLE_SIZE and also that there are no duplicate symbols"
            ]
        },
        {
            "cell_type": "code",
            "execution_count": 7,
            "metadata": {},
            "outputs": [
                {
                    "name": "stdout",
                    "output_type": "stream",
                    "text": [
                        "100 100 100\n"
                    ]
                }
            ],
            "source": [
                "print(SP500_SAMPLE_SIZE, sp500_info_df['Symbol'].count(),len(sp500_info_df['Symbol'].unique()))"
            ]
        },
        {
            "attachments": {},
            "cell_type": "markdown",
            "metadata": {},
            "source": [
                "<span style=\"color:green\">&#x2705;</span>"
            ]
        },
        {
            "attachments": {},
            "cell_type": "markdown",
            "metadata": {},
            "source": [
                "## Data Formatting for S&P500 Names"
            ]
        },
        {
            "attachments": {},
            "cell_type": "markdown",
            "metadata": {},
            "source": [
                "Check for any periods in the stock symbols for US listed stocks (which includes all our S&P500 members).  Yahoo Finance, which is where we download the prices from, uses the convention that A shares and B shares utilize dashes in their names instead of periods."
            ]
        },
        {
            "cell_type": "code",
            "execution_count": 8,
            "metadata": {},
            "outputs": [
                {
                    "data": {
                        "text/html": [
                            "<div>\n",
                            "<style scoped>\n",
                            "    .dataframe tbody tr th:only-of-type {\n",
                            "        vertical-align: middle;\n",
                            "    }\n",
                            "\n",
                            "    .dataframe tbody tr th {\n",
                            "        vertical-align: top;\n",
                            "    }\n",
                            "\n",
                            "    .dataframe thead th {\n",
                            "        text-align: right;\n",
                            "    }\n",
                            "</style>\n",
                            "<table border=\"1\" class=\"dataframe\">\n",
                            "  <thead>\n",
                            "    <tr style=\"text-align: right;\">\n",
                            "      <th></th>\n",
                            "      <th>Symbol</th>\n",
                            "      <th>Security</th>\n",
                            "      <th>GICS Sector</th>\n",
                            "      <th>GICS Sub-Industry</th>\n",
                            "      <th>Headquarters Location</th>\n",
                            "      <th>Date added</th>\n",
                            "      <th>CIK</th>\n",
                            "      <th>Founded</th>\n",
                            "    </tr>\n",
                            "  </thead>\n",
                            "  <tbody>\n",
                            "    <tr>\n",
                            "      <th>65</th>\n",
                            "      <td>BRK.B</td>\n",
                            "      <td>Berkshire Hathaway</td>\n",
                            "      <td>Financials</td>\n",
                            "      <td>Multi-Sector Holdings</td>\n",
                            "      <td>Omaha, Nebraska</td>\n",
                            "      <td>2010-02-16</td>\n",
                            "      <td>1067983</td>\n",
                            "      <td>1839</td>\n",
                            "    </tr>\n",
                            "    <tr>\n",
                            "      <th>81</th>\n",
                            "      <td>BF.B</td>\n",
                            "      <td>Brown–Forman</td>\n",
                            "      <td>Consumer Staples</td>\n",
                            "      <td>Distillers &amp; Vintners</td>\n",
                            "      <td>Louisville, Kentucky</td>\n",
                            "      <td>1982-10-31</td>\n",
                            "      <td>14693</td>\n",
                            "      <td>1870</td>\n",
                            "    </tr>\n",
                            "  </tbody>\n",
                            "</table>\n",
                            "</div>"
                        ],
                        "text/plain": [
                            "   Symbol            Security       GICS Sector      GICS Sub-Industry   \n",
                            "65  BRK.B  Berkshire Hathaway        Financials  Multi-Sector Holdings  \\\n",
                            "81   BF.B        Brown–Forman  Consumer Staples  Distillers & Vintners   \n",
                            "\n",
                            "   Headquarters Location  Date added      CIK Founded  \n",
                            "65       Omaha, Nebraska  2010-02-16  1067983    1839  \n",
                            "81  Louisville, Kentucky  1982-10-31    14693    1870  "
                        ]
                    },
                    "execution_count": 8,
                    "metadata": {},
                    "output_type": "execute_result"
                }
            ],
            "source": [
                "sp500_info_df[sp500_info_df['Symbol'].str.contains(\".\", regex=False)]"
            ]
        },
        {
            "cell_type": "code",
            "execution_count": 9,
            "metadata": {},
            "outputs": [
                {
                    "data": {
                        "text/html": [
                            "<div>\n",
                            "<style scoped>\n",
                            "    .dataframe tbody tr th:only-of-type {\n",
                            "        vertical-align: middle;\n",
                            "    }\n",
                            "\n",
                            "    .dataframe tbody tr th {\n",
                            "        vertical-align: top;\n",
                            "    }\n",
                            "\n",
                            "    .dataframe thead th {\n",
                            "        text-align: right;\n",
                            "    }\n",
                            "</style>\n",
                            "<table border=\"1\" class=\"dataframe\">\n",
                            "  <thead>\n",
                            "    <tr style=\"text-align: right;\">\n",
                            "      <th></th>\n",
                            "      <th>Symbol</th>\n",
                            "      <th>Security</th>\n",
                            "      <th>GICS Sector</th>\n",
                            "      <th>GICS Sub-Industry</th>\n",
                            "      <th>Headquarters Location</th>\n",
                            "      <th>Date added</th>\n",
                            "      <th>CIK</th>\n",
                            "      <th>Founded</th>\n",
                            "    </tr>\n",
                            "  </thead>\n",
                            "  <tbody>\n",
                            "  </tbody>\n",
                            "</table>\n",
                            "</div>"
                        ],
                        "text/plain": [
                            "Empty DataFrame\n",
                            "Columns: [Symbol, Security, GICS Sector, GICS Sub-Industry, Headquarters Location, Date added, CIK, Founded]\n",
                            "Index: []"
                        ]
                    },
                    "execution_count": 9,
                    "metadata": {},
                    "output_type": "execute_result"
                }
            ],
            "source": [
                "# We need to replace periods with dashs within the Symbol columns for S&P500 related names as per Yahoo Finance convention\n",
                "sp500_info_df['Symbol'] = sp500_info_df['Symbol'].str.replace(\".\", \"-\", regex=False)\n",
                "\n",
                "# Check to ensure this was successful\n",
                "sp500_info_df[sp500_info_df['Symbol'].str.contains(\".\", regex=False)]"
            ]
        },
        {
            "attachments": {},
            "cell_type": "markdown",
            "metadata": {},
            "source": [
                "<span style=\"color:green\">&#x2705;</span>"
            ]
        },
        {
            "attachments": {},
            "cell_type": "markdown",
            "metadata": {},
            "source": [
                "## Obtain Names in ASX"
            ]
        },
        {
            "cell_type": "code",
            "execution_count": 10,
            "metadata": {},
            "outputs": [
                {
                    "data": {
                        "text/html": [
                            "<div>\n",
                            "<style scoped>\n",
                            "    .dataframe tbody tr th:only-of-type {\n",
                            "        vertical-align: middle;\n",
                            "    }\n",
                            "\n",
                            "    .dataframe tbody tr th {\n",
                            "        vertical-align: top;\n",
                            "    }\n",
                            "\n",
                            "    .dataframe thead th {\n",
                            "        text-align: right;\n",
                            "    }\n",
                            "</style>\n",
                            "<table border=\"1\" class=\"dataframe\">\n",
                            "  <thead>\n",
                            "    <tr style=\"text-align: right;\">\n",
                            "      <th></th>\n",
                            "      <th>Symbol</th>\n",
                            "      <th>Security</th>\n",
                            "      <th>GICS Sector</th>\n",
                            "    </tr>\n",
                            "  </thead>\n",
                            "  <tbody>\n",
                            "    <tr>\n",
                            "      <th>0</th>\n",
                            "      <td>BHP.AX</td>\n",
                            "      <td>BHP GROUP</td>\n",
                            "      <td>Materials</td>\n",
                            "    </tr>\n",
                            "    <tr>\n",
                            "      <th>1</th>\n",
                            "      <td>FMG.AX</td>\n",
                            "      <td>FORTESCUE</td>\n",
                            "      <td>Materials</td>\n",
                            "    </tr>\n",
                            "    <tr>\n",
                            "      <th>2</th>\n",
                            "      <td>MQG.AX</td>\n",
                            "      <td>MACQUARIE GROUP</td>\n",
                            "      <td>Financials</td>\n",
                            "    </tr>\n",
                            "    <tr>\n",
                            "      <th>3</th>\n",
                            "      <td>CBA.AX</td>\n",
                            "      <td>COMMONWEATH BANK</td>\n",
                            "      <td>Financials</td>\n",
                            "    </tr>\n",
                            "    <tr>\n",
                            "      <th>4</th>\n",
                            "      <td>RIO.AX</td>\n",
                            "      <td>RIO TINTO</td>\n",
                            "      <td>Materials</td>\n",
                            "    </tr>\n",
                            "    <tr>\n",
                            "      <th>5</th>\n",
                            "      <td>CSL.AX</td>\n",
                            "      <td>CSL</td>\n",
                            "      <td>Health Care</td>\n",
                            "    </tr>\n",
                            "    <tr>\n",
                            "      <th>6</th>\n",
                            "      <td>WDS.AX</td>\n",
                            "      <td>WOODSIDE</td>\n",
                            "      <td>Energy</td>\n",
                            "    </tr>\n",
                            "    <tr>\n",
                            "      <th>7</th>\n",
                            "      <td>ANZ.AX</td>\n",
                            "      <td>ANZ GROUP</td>\n",
                            "      <td>Financials</td>\n",
                            "    </tr>\n",
                            "    <tr>\n",
                            "      <th>8</th>\n",
                            "      <td>PLS.AX</td>\n",
                            "      <td>PILBARAMIN</td>\n",
                            "      <td>Materials</td>\n",
                            "    </tr>\n",
                            "    <tr>\n",
                            "      <th>9</th>\n",
                            "      <td>NAB.AX</td>\n",
                            "      <td>NATIONAL AUSTRALIA BANK</td>\n",
                            "      <td>Financials</td>\n",
                            "    </tr>\n",
                            "    <tr>\n",
                            "      <th>10</th>\n",
                            "      <td>WBC.AX</td>\n",
                            "      <td>WESTPAC</td>\n",
                            "      <td>Financials</td>\n",
                            "    </tr>\n",
                            "    <tr>\n",
                            "      <th>11</th>\n",
                            "      <td>RMD.AX</td>\n",
                            "      <td>RESMED</td>\n",
                            "      <td>Health Care</td>\n",
                            "    </tr>\n",
                            "    <tr>\n",
                            "      <th>12</th>\n",
                            "      <td>NCM.AX</td>\n",
                            "      <td>NEWCREST</td>\n",
                            "      <td>Materials</td>\n",
                            "    </tr>\n",
                            "    <tr>\n",
                            "      <th>13</th>\n",
                            "      <td>NST.AX</td>\n",
                            "      <td>NTH STAR</td>\n",
                            "      <td>Materials</td>\n",
                            "    </tr>\n",
                            "    <tr>\n",
                            "      <th>14</th>\n",
                            "      <td>GMG.AX</td>\n",
                            "      <td>GOODMAN GROUP</td>\n",
                            "      <td>Real Estate</td>\n",
                            "    </tr>\n",
                            "  </tbody>\n",
                            "</table>\n",
                            "</div>"
                        ],
                        "text/plain": [
                            "    Symbol                 Security  GICS Sector\n",
                            "0   BHP.AX                BHP GROUP    Materials\n",
                            "1   FMG.AX                FORTESCUE    Materials\n",
                            "2   MQG.AX          MACQUARIE GROUP   Financials\n",
                            "3   CBA.AX         COMMONWEATH BANK   Financials\n",
                            "4   RIO.AX                RIO TINTO    Materials\n",
                            "5   CSL.AX                      CSL  Health Care\n",
                            "6   WDS.AX                 WOODSIDE       Energy\n",
                            "7   ANZ.AX                ANZ GROUP   Financials\n",
                            "8   PLS.AX               PILBARAMIN    Materials\n",
                            "9   NAB.AX  NATIONAL AUSTRALIA BANK   Financials\n",
                            "10  WBC.AX                 WESTPAC    Financials\n",
                            "11  RMD.AX                   RESMED  Health Care\n",
                            "12  NCM.AX                 NEWCREST    Materials\n",
                            "13  NST.AX                 NTH STAR    Materials\n",
                            "14  GMG.AX            GOODMAN GROUP  Real Estate"
                        ]
                    },
                    "execution_count": 10,
                    "metadata": {},
                    "output_type": "execute_result"
                }
            ],
            "source": [
                "#Read the csv file that contains the details of 15 ASX member companies.\n",
                "asx_info_df = pd.read_csv(ASX_MEMBERS_FNAME)\n",
                "asx_info_df"
            ]
        },
        {
            "attachments": {},
            "cell_type": "markdown",
            "metadata": {},
            "source": [
                "## Merge ASX and S&P500 Names "
            ]
        },
        {
            "cell_type": "code",
            "execution_count": 11,
            "metadata": {},
            "outputs": [
                {
                    "data": {
                        "text/html": [
                            "<div>\n",
                            "<style scoped>\n",
                            "    .dataframe tbody tr th:only-of-type {\n",
                            "        vertical-align: middle;\n",
                            "    }\n",
                            "\n",
                            "    .dataframe tbody tr th {\n",
                            "        vertical-align: top;\n",
                            "    }\n",
                            "\n",
                            "    .dataframe thead th {\n",
                            "        text-align: right;\n",
                            "    }\n",
                            "</style>\n",
                            "<table border=\"1\" class=\"dataframe\">\n",
                            "  <thead>\n",
                            "    <tr style=\"text-align: right;\">\n",
                            "      <th></th>\n",
                            "      <th>Symbol</th>\n",
                            "      <th>Security</th>\n",
                            "      <th>GICS Sector</th>\n",
                            "    </tr>\n",
                            "  </thead>\n",
                            "  <tbody>\n",
                            "    <tr>\n",
                            "      <th>0</th>\n",
                            "      <td>BHP.AX</td>\n",
                            "      <td>BHP GROUP</td>\n",
                            "      <td>Materials</td>\n",
                            "    </tr>\n",
                            "    <tr>\n",
                            "      <th>1</th>\n",
                            "      <td>FMG.AX</td>\n",
                            "      <td>FORTESCUE</td>\n",
                            "      <td>Materials</td>\n",
                            "    </tr>\n",
                            "    <tr>\n",
                            "      <th>2</th>\n",
                            "      <td>MQG.AX</td>\n",
                            "      <td>MACQUARIE GROUP</td>\n",
                            "      <td>Financials</td>\n",
                            "    </tr>\n",
                            "    <tr>\n",
                            "      <th>3</th>\n",
                            "      <td>CBA.AX</td>\n",
                            "      <td>COMMONWEATH BANK</td>\n",
                            "      <td>Financials</td>\n",
                            "    </tr>\n",
                            "    <tr>\n",
                            "      <th>4</th>\n",
                            "      <td>RIO.AX</td>\n",
                            "      <td>RIO TINTO</td>\n",
                            "      <td>Materials</td>\n",
                            "    </tr>\n",
                            "    <tr>\n",
                            "      <th>...</th>\n",
                            "      <td>...</td>\n",
                            "      <td>...</td>\n",
                            "      <td>...</td>\n",
                            "    </tr>\n",
                            "    <tr>\n",
                            "      <th>95</th>\n",
                            "      <td>CBOE</td>\n",
                            "      <td>Cboe Global Markets</td>\n",
                            "      <td>Financials</td>\n",
                            "    </tr>\n",
                            "    <tr>\n",
                            "      <th>96</th>\n",
                            "      <td>CBRE</td>\n",
                            "      <td>CBRE Group</td>\n",
                            "      <td>Real Estate</td>\n",
                            "    </tr>\n",
                            "    <tr>\n",
                            "      <th>97</th>\n",
                            "      <td>CDW</td>\n",
                            "      <td>CDW</td>\n",
                            "      <td>Information Technology</td>\n",
                            "    </tr>\n",
                            "    <tr>\n",
                            "      <th>98</th>\n",
                            "      <td>CE</td>\n",
                            "      <td>Celanese</td>\n",
                            "      <td>Materials</td>\n",
                            "    </tr>\n",
                            "    <tr>\n",
                            "      <th>99</th>\n",
                            "      <td>CNC</td>\n",
                            "      <td>Centene Corporation</td>\n",
                            "      <td>Health Care</td>\n",
                            "    </tr>\n",
                            "  </tbody>\n",
                            "</table>\n",
                            "<p>115 rows × 3 columns</p>\n",
                            "</div>"
                        ],
                        "text/plain": [
                            "    Symbol             Security             GICS Sector\n",
                            "0   BHP.AX            BHP GROUP               Materials\n",
                            "1   FMG.AX            FORTESCUE               Materials\n",
                            "2   MQG.AX      MACQUARIE GROUP              Financials\n",
                            "3   CBA.AX     COMMONWEATH BANK              Financials\n",
                            "4   RIO.AX            RIO TINTO               Materials\n",
                            "..     ...                  ...                     ...\n",
                            "95    CBOE  Cboe Global Markets              Financials\n",
                            "96    CBRE           CBRE Group             Real Estate\n",
                            "97     CDW                  CDW  Information Technology\n",
                            "98      CE             Celanese               Materials\n",
                            "99     CNC  Centene Corporation             Health Care\n",
                            "\n",
                            "[115 rows x 3 columns]"
                        ]
                    },
                    "execution_count": 11,
                    "metadata": {},
                    "output_type": "execute_result"
                }
            ],
            "source": [
                "all_stocks_info_df = pd.concat([asx_info_df, sp500_info_df[['Symbol', 'Security', 'GICS Sector']]])\n",
                "all_stocks_info_df                    "
            ]
        },
        {
            "attachments": {},
            "cell_type": "markdown",
            "metadata": {},
            "source": [
                "<a id=\"Prices\"></a>\n",
                "# 7. Load prices for Shares and FX Rates"
            ]
        },
        {
            "cell_type": "code",
            "execution_count": 12,
            "metadata": {},
            "outputs": [],
            "source": [
                "# Read the Daily Historical Prices for the Stocks and FX Rates from their respective csv files\n",
                "stock_prices_df = pd.read_csv(STOCK_PRICES_FNAME) # stock prices\n",
                "fx_prices_df = pd.read_csv(FX_PRICES_FNAME) # foreign exchange prices"
            ]
        },
        {
            "attachments": {},
            "cell_type": "markdown",
            "metadata": {},
            "source": [
                "## Review the Raw FX Data"
            ]
        },
        {
            "cell_type": "code",
            "execution_count": 13,
            "metadata": {},
            "outputs": [
                {
                    "data": {
                        "text/html": [
                            "<div>\n",
                            "<style scoped>\n",
                            "    .dataframe tbody tr th:only-of-type {\n",
                            "        vertical-align: middle;\n",
                            "    }\n",
                            "\n",
                            "    .dataframe tbody tr th {\n",
                            "        vertical-align: top;\n",
                            "    }\n",
                            "\n",
                            "    .dataframe thead th {\n",
                            "        text-align: right;\n",
                            "    }\n",
                            "</style>\n",
                            "<table border=\"1\" class=\"dataframe\">\n",
                            "  <thead>\n",
                            "    <tr style=\"text-align: right;\">\n",
                            "      <th></th>\n",
                            "      <th>AUDUSD=X</th>\n",
                            "      <th>HKDUSD=X</th>\n",
                            "      <th>JPYUSD=X</th>\n",
                            "      <th>SGDUSD=X</th>\n",
                            "    </tr>\n",
                            "  </thead>\n",
                            "  <tbody>\n",
                            "    <tr>\n",
                            "      <th>count</th>\n",
                            "      <td>260.000000</td>\n",
                            "      <td>260.000000</td>\n",
                            "      <td>260.000000</td>\n",
                            "      <td>260.000000</td>\n",
                            "    </tr>\n",
                            "    <tr>\n",
                            "      <th>mean</th>\n",
                            "      <td>0.694923</td>\n",
                            "      <td>0.127710</td>\n",
                            "      <td>0.007655</td>\n",
                            "      <td>0.725565</td>\n",
                            "    </tr>\n",
                            "    <tr>\n",
                            "      <th>std</th>\n",
                            "      <td>0.031395</td>\n",
                            "      <td>0.000395</td>\n",
                            "      <td>0.000632</td>\n",
                            "      <td>0.013140</td>\n",
                            "    </tr>\n",
                            "    <tr>\n",
                            "      <th>min</th>\n",
                            "      <td>0.622394</td>\n",
                            "      <td>0.127372</td>\n",
                            "      <td>0.006659</td>\n",
                            "      <td>0.695082</td>\n",
                            "    </tr>\n",
                            "    <tr>\n",
                            "      <th>25%</th>\n",
                            "      <td>0.674324</td>\n",
                            "      <td>0.127400</td>\n",
                            "      <td>0.007209</td>\n",
                            "      <td>0.716651</td>\n",
                            "    </tr>\n",
                            "    <tr>\n",
                            "      <th>50%</th>\n",
                            "      <td>0.695210</td>\n",
                            "      <td>0.127454</td>\n",
                            "      <td>0.007463</td>\n",
                            "      <td>0.726607</td>\n",
                            "    </tr>\n",
                            "    <tr>\n",
                            "      <th>75%</th>\n",
                            "      <td>0.718500</td>\n",
                            "      <td>0.128068</td>\n",
                            "      <td>0.008127</td>\n",
                            "      <td>0.737178</td>\n",
                            "    </tr>\n",
                            "    <tr>\n",
                            "      <th>max</th>\n",
                            "      <td>0.758570</td>\n",
                            "      <td>0.128718</td>\n",
                            "      <td>0.008789</td>\n",
                            "      <td>0.745379</td>\n",
                            "    </tr>\n",
                            "  </tbody>\n",
                            "</table>\n",
                            "</div>"
                        ],
                        "text/plain": [
                            "         AUDUSD=X    HKDUSD=X    JPYUSD=X    SGDUSD=X\n",
                            "count  260.000000  260.000000  260.000000  260.000000\n",
                            "mean     0.694923    0.127710    0.007655    0.725565\n",
                            "std      0.031395    0.000395    0.000632    0.013140\n",
                            "min      0.622394    0.127372    0.006659    0.695082\n",
                            "25%      0.674324    0.127400    0.007209    0.716651\n",
                            "50%      0.695210    0.127454    0.007463    0.726607\n",
                            "75%      0.718500    0.128068    0.008127    0.737178\n",
                            "max      0.758570    0.128718    0.008789    0.745379"
                        ]
                    },
                    "execution_count": 13,
                    "metadata": {},
                    "output_type": "execute_result"
                }
            ],
            "source": [
                "fx_prices_df.describe()"
            ]
        },
        {
            "attachments": {},
            "cell_type": "markdown",
            "metadata": {},
            "source": [
                "It quite difficult to analyze the JPY and HKD columns given they are inverted vs how they are conventionally displayed.\n",
                "\n",
                "Inverting them for reasonableness analysis:"
            ]
        },
        {
            "cell_type": "code",
            "execution_count": 14,
            "metadata": {},
            "outputs": [
                {
                    "data": {
                        "text/html": [
                            "<div>\n",
                            "<style scoped>\n",
                            "    .dataframe tbody tr th:only-of-type {\n",
                            "        vertical-align: middle;\n",
                            "    }\n",
                            "\n",
                            "    .dataframe tbody tr th {\n",
                            "        vertical-align: top;\n",
                            "    }\n",
                            "\n",
                            "    .dataframe thead th {\n",
                            "        text-align: right;\n",
                            "    }\n",
                            "</style>\n",
                            "<table border=\"1\" class=\"dataframe\">\n",
                            "  <thead>\n",
                            "    <tr style=\"text-align: right;\">\n",
                            "      <th></th>\n",
                            "      <th>AUDUSD=X</th>\n",
                            "      <th>HKDUSD=X</th>\n",
                            "      <th>JPYUSD=X</th>\n",
                            "      <th>SGDUSD=X</th>\n",
                            "    </tr>\n",
                            "  </thead>\n",
                            "  <tbody>\n",
                            "    <tr>\n",
                            "      <th>count</th>\n",
                            "      <td>260.000000</td>\n",
                            "      <td>260.000000</td>\n",
                            "      <td>260.000000</td>\n",
                            "      <td>260.000000</td>\n",
                            "    </tr>\n",
                            "    <tr>\n",
                            "      <th>mean</th>\n",
                            "      <td>0.694923</td>\n",
                            "      <td>7.830247</td>\n",
                            "      <td>130.625851</td>\n",
                            "      <td>0.725565</td>\n",
                            "    </tr>\n",
                            "    <tr>\n",
                            "      <th>std</th>\n",
                            "      <td>0.031395</td>\n",
                            "      <td>0.000395</td>\n",
                            "      <td>0.000632</td>\n",
                            "      <td>0.013140</td>\n",
                            "    </tr>\n",
                            "    <tr>\n",
                            "      <th>min</th>\n",
                            "      <td>0.622394</td>\n",
                            "      <td>7.851000</td>\n",
                            "      <td>150.175992</td>\n",
                            "      <td>0.695082</td>\n",
                            "    </tr>\n",
                            "    <tr>\n",
                            "      <th>25%</th>\n",
                            "      <td>0.674324</td>\n",
                            "      <td>0.127400</td>\n",
                            "      <td>0.007209</td>\n",
                            "      <td>0.716651</td>\n",
                            "    </tr>\n",
                            "    <tr>\n",
                            "      <th>50%</th>\n",
                            "      <td>0.695210</td>\n",
                            "      <td>0.127454</td>\n",
                            "      <td>0.007463</td>\n",
                            "      <td>0.726607</td>\n",
                            "    </tr>\n",
                            "    <tr>\n",
                            "      <th>75%</th>\n",
                            "      <td>0.718500</td>\n",
                            "      <td>0.128068</td>\n",
                            "      <td>0.008127</td>\n",
                            "      <td>0.737178</td>\n",
                            "    </tr>\n",
                            "    <tr>\n",
                            "      <th>max</th>\n",
                            "      <td>0.758570</td>\n",
                            "      <td>7.768900</td>\n",
                            "      <td>113.785000</td>\n",
                            "      <td>0.745379</td>\n",
                            "    </tr>\n",
                            "  </tbody>\n",
                            "</table>\n",
                            "</div>"
                        ],
                        "text/plain": [
                            "         AUDUSD=X    HKDUSD=X    JPYUSD=X    SGDUSD=X\n",
                            "count  260.000000  260.000000  260.000000  260.000000\n",
                            "mean     0.694923    7.830247  130.625851    0.725565\n",
                            "std      0.031395    0.000395    0.000632    0.013140\n",
                            "min      0.622394    7.851000  150.175992    0.695082\n",
                            "25%      0.674324    0.127400    0.007209    0.716651\n",
                            "50%      0.695210    0.127454    0.007463    0.726607\n",
                            "75%      0.718500    0.128068    0.008127    0.737178\n",
                            "max      0.758570    7.768900  113.785000    0.745379"
                        ]
                    },
                    "execution_count": 14,
                    "metadata": {},
                    "output_type": "execute_result"
                }
            ],
            "source": [
                "fx_summ = fx_prices_df.describe()\n",
                "# Invert FX Rate for display purposes for JPY and HKD to what is conventionally displayed\n",
                "fx_summ.loc[['mean', 'min', 'max'],['JPYUSD=X', 'HKDUSD=X']] \\\n",
                "            = 1 / fx_summ.loc[['mean', 'min', 'max'],['JPYUSD=X', 'HKDUSD=X']]\n",
                "fx_summ\n"
            ]
        },
        {
            "attachments": {},
            "cell_type": "markdown",
            "metadata": {},
            "source": [
                "<p style=\"background-color:#AFE1AF;\">\n",
                "Min and max ranges as well as distributions seem in line with the known characteristics of the currencies.</p>"
            ]
        },
        {
            "attachments": {},
            "cell_type": "markdown",
            "metadata": {},
            "source": [
                "<p style=\"background-color:#F88379;\">\n",
                "We do not have the same number of records for each currency.\n",
                "To fix this we will resample the data using the ffil() function when cleansing and formatting the data.</p>"
            ]
        },
        {
            "attachments": {},
            "cell_type": "markdown",
            "metadata": {},
            "source": [
                "&#10060;"
            ]
        },
        {
            "attachments": {},
            "cell_type": "markdown",
            "metadata": {},
            "source": [
                "## Cleanse/ Format FX Prices"
            ]
        },
        {
            "attachments": {},
            "cell_type": "markdown",
            "metadata": {},
            "source": [
                "Prior to doing the resampling and for later analysis it is better if we convert dates from being string values to Datetime values and also set the Date as the index."
            ]
        },
        {
            "cell_type": "code",
            "execution_count": 15,
            "metadata": {},
            "outputs": [],
            "source": [
                "# Format the Date and set as the Index\n",
                "fx_prices_df['Date'] = pd.to_datetime(fx_prices_df['Date'], format = \"%Y-%m-%d\")\n",
                "fx_prices_df = fx_prices_df.set_index('Date', drop=True)"
            ]
        },
        {
            "attachments": {},
            "cell_type": "markdown",
            "metadata": {},
            "source": [
                "Resample data to fill any missing values"
            ]
        },
        {
            "cell_type": "code",
            "execution_count": 16,
            "metadata": {},
            "outputs": [],
            "source": [
                "# Forward Fill prices\n",
                "# Note: This will also give a price for the week-ends, but that will get dropped later when we merge with the share prices df\n",
                "fx_prices_df = fx_prices_df.resample('D').last().ffill()"
            ]
        },
        {
            "attachments": {},
            "cell_type": "markdown",
            "metadata": {},
            "source": [
                "Check the column counts to ensure they are now consistent"
            ]
        },
        {
            "cell_type": "code",
            "execution_count": 17,
            "metadata": {},
            "outputs": [
                {
                    "data": {
                        "text/plain": [
                            "AUDUSD=X    362.0\n",
                            "HKDUSD=X    362.0\n",
                            "JPYUSD=X    362.0\n",
                            "SGDUSD=X    362.0\n",
                            "Name: count, dtype: float64"
                        ]
                    },
                    "execution_count": 17,
                    "metadata": {},
                    "output_type": "execute_result"
                }
            ],
            "source": [
                "fx_prices_df.describe().loc['count']"
            ]
        },
        {
            "attachments": {},
            "cell_type": "markdown",
            "metadata": {},
            "source": [
                "&#x2705;"
            ]
        },
        {
            "attachments": {},
            "cell_type": "markdown",
            "metadata": {},
            "source": [
                "Here is how our FX data now looks:"
            ]
        },
        {
            "cell_type": "code",
            "execution_count": 18,
            "metadata": {},
            "outputs": [
                {
                    "data": {
                        "text/html": [
                            "<div>\n",
                            "<style scoped>\n",
                            "    .dataframe tbody tr th:only-of-type {\n",
                            "        vertical-align: middle;\n",
                            "    }\n",
                            "\n",
                            "    .dataframe tbody tr th {\n",
                            "        vertical-align: top;\n",
                            "    }\n",
                            "\n",
                            "    .dataframe thead th {\n",
                            "        text-align: right;\n",
                            "    }\n",
                            "</style>\n",
                            "<table border=\"1\" class=\"dataframe\">\n",
                            "  <thead>\n",
                            "    <tr style=\"text-align: right;\">\n",
                            "      <th></th>\n",
                            "      <th>AUDUSD=X</th>\n",
                            "      <th>HKDUSD=X</th>\n",
                            "      <th>JPYUSD=X</th>\n",
                            "      <th>SGDUSD=X</th>\n",
                            "    </tr>\n",
                            "    <tr>\n",
                            "      <th>Date</th>\n",
                            "      <th></th>\n",
                            "      <th></th>\n",
                            "      <th></th>\n",
                            "      <th></th>\n",
                            "    </tr>\n",
                            "  </thead>\n",
                            "  <tbody>\n",
                            "    <tr>\n",
                            "      <th>2022-01-03</th>\n",
                            "      <td>0.726818</td>\n",
                            "      <td>0.128272</td>\n",
                            "      <td>0.008685</td>\n",
                            "      <td>0.741730</td>\n",
                            "    </tr>\n",
                            "    <tr>\n",
                            "      <th>2022-01-04</th>\n",
                            "      <td>0.719800</td>\n",
                            "      <td>0.128243</td>\n",
                            "      <td>0.008671</td>\n",
                            "      <td>0.739033</td>\n",
                            "    </tr>\n",
                            "    <tr>\n",
                            "      <th>2022-01-05</th>\n",
                            "      <td>0.723880</td>\n",
                            "      <td>0.128312</td>\n",
                            "      <td>0.008608</td>\n",
                            "      <td>0.737621</td>\n",
                            "    </tr>\n",
                            "    <tr>\n",
                            "      <th>2022-01-06</th>\n",
                            "      <td>0.722080</td>\n",
                            "      <td>0.128284</td>\n",
                            "      <td>0.008611</td>\n",
                            "      <td>0.736534</td>\n",
                            "    </tr>\n",
                            "    <tr>\n",
                            "      <th>2022-01-07</th>\n",
                            "      <td>0.716260</td>\n",
                            "      <td>0.128195</td>\n",
                            "      <td>0.008631</td>\n",
                            "      <td>0.734786</td>\n",
                            "    </tr>\n",
                            "    <tr>\n",
                            "      <th>...</th>\n",
                            "      <td>...</td>\n",
                            "      <td>...</td>\n",
                            "      <td>...</td>\n",
                            "      <td>...</td>\n",
                            "    </tr>\n",
                            "    <tr>\n",
                            "      <th>2022-12-26</th>\n",
                            "      <td>0.671249</td>\n",
                            "      <td>0.128147</td>\n",
                            "      <td>0.007531</td>\n",
                            "      <td>0.739809</td>\n",
                            "    </tr>\n",
                            "    <tr>\n",
                            "      <th>2022-12-27</th>\n",
                            "      <td>0.674459</td>\n",
                            "      <td>0.128121</td>\n",
                            "      <td>0.007532</td>\n",
                            "      <td>0.742501</td>\n",
                            "    </tr>\n",
                            "    <tr>\n",
                            "      <th>2022-12-28</th>\n",
                            "      <td>0.672993</td>\n",
                            "      <td>0.128199</td>\n",
                            "      <td>0.007491</td>\n",
                            "      <td>0.742060</td>\n",
                            "    </tr>\n",
                            "    <tr>\n",
                            "      <th>2022-12-29</th>\n",
                            "      <td>0.674710</td>\n",
                            "      <td>0.128307</td>\n",
                            "      <td>0.007461</td>\n",
                            "      <td>0.741158</td>\n",
                            "    </tr>\n",
                            "    <tr>\n",
                            "      <th>2022-12-30</th>\n",
                            "      <td>0.676600</td>\n",
                            "      <td>0.128297</td>\n",
                            "      <td>0.007524</td>\n",
                            "      <td>0.744313</td>\n",
                            "    </tr>\n",
                            "  </tbody>\n",
                            "</table>\n",
                            "<p>362 rows × 4 columns</p>\n",
                            "</div>"
                        ],
                        "text/plain": [
                            "            AUDUSD=X  HKDUSD=X  JPYUSD=X  SGDUSD=X\n",
                            "Date                                              \n",
                            "2022-01-03  0.726818  0.128272  0.008685  0.741730\n",
                            "2022-01-04  0.719800  0.128243  0.008671  0.739033\n",
                            "2022-01-05  0.723880  0.128312  0.008608  0.737621\n",
                            "2022-01-06  0.722080  0.128284  0.008611  0.736534\n",
                            "2022-01-07  0.716260  0.128195  0.008631  0.734786\n",
                            "...              ...       ...       ...       ...\n",
                            "2022-12-26  0.671249  0.128147  0.007531  0.739809\n",
                            "2022-12-27  0.674459  0.128121  0.007532  0.742501\n",
                            "2022-12-28  0.672993  0.128199  0.007491  0.742060\n",
                            "2022-12-29  0.674710  0.128307  0.007461  0.741158\n",
                            "2022-12-30  0.676600  0.128297  0.007524  0.744313\n",
                            "\n",
                            "[362 rows x 4 columns]"
                        ]
                    },
                    "execution_count": 18,
                    "metadata": {},
                    "output_type": "execute_result"
                }
            ],
            "source": [
                "fx_prices_df"
            ]
        },
        {
            "attachments": {},
            "cell_type": "markdown",
            "metadata": {},
            "source": [
                "&#x2705;"
            ]
        },
        {
            "attachments": {},
            "cell_type": "markdown",
            "metadata": {},
            "source": [
                "## Review the Stock Price Data"
            ]
        },
        {
            "cell_type": "code",
            "execution_count": 19,
            "metadata": {},
            "outputs": [
                {
                    "data": {
                        "text/html": [
                            "<div>\n",
                            "<style scoped>\n",
                            "    .dataframe tbody tr th:only-of-type {\n",
                            "        vertical-align: middle;\n",
                            "    }\n",
                            "\n",
                            "    .dataframe tbody tr th {\n",
                            "        vertical-align: top;\n",
                            "    }\n",
                            "\n",
                            "    .dataframe thead th {\n",
                            "        text-align: right;\n",
                            "    }\n",
                            "</style>\n",
                            "<table border=\"1\" class=\"dataframe\">\n",
                            "  <thead>\n",
                            "    <tr style=\"text-align: right;\">\n",
                            "      <th></th>\n",
                            "      <th>Date</th>\n",
                            "      <th>A</th>\n",
                            "      <th>AAL</th>\n",
                            "      <th>AAP</th>\n",
                            "      <th>AAPL</th>\n",
                            "      <th>ABBV</th>\n",
                            "      <th>ABC</th>\n",
                            "      <th>ABT</th>\n",
                            "      <th>ACGL</th>\n",
                            "      <th>ACN</th>\n",
                            "      <th>...</th>\n",
                            "      <th>NCM.AX</th>\n",
                            "      <th>NST.AX</th>\n",
                            "      <th>PLS.AX</th>\n",
                            "      <th>RIO.AX</th>\n",
                            "      <th>RMD.AX</th>\n",
                            "      <th>T</th>\n",
                            "      <th>TECH</th>\n",
                            "      <th>WBC.AX</th>\n",
                            "      <th>WDS.AX</th>\n",
                            "      <th>WRB</th>\n",
                            "    </tr>\n",
                            "  </thead>\n",
                            "  <tbody>\n",
                            "    <tr>\n",
                            "      <th>0</th>\n",
                            "      <td>2022-01-03</td>\n",
                            "      <td>154.908508</td>\n",
                            "      <td>18.750000</td>\n",
                            "      <td>224.928452</td>\n",
                            "      <td>180.434311</td>\n",
                            "      <td>126.534706</td>\n",
                            "      <td>130.200043</td>\n",
                            "      <td>134.805557</td>\n",
                            "      <td>44.549999</td>\n",
                            "      <td>397.086761</td>\n",
                            "      <td>...</td>\n",
                            "      <td>NaN</td>\n",
                            "      <td>NaN</td>\n",
                            "      <td>NaN</td>\n",
                            "      <td>NaN</td>\n",
                            "      <td>NaN</td>\n",
                            "      <td>17.069723</td>\n",
                            "      <td>121.268669</td>\n",
                            "      <td>NaN</td>\n",
                            "      <td>NaN</td>\n",
                            "      <td>52.898167</td>\n",
                            "    </tr>\n",
                            "    <tr>\n",
                            "      <th>1</th>\n",
                            "      <td>2022-01-04</td>\n",
                            "      <td>149.671646</td>\n",
                            "      <td>19.020000</td>\n",
                            "      <td>225.184921</td>\n",
                            "      <td>178.144302</td>\n",
                            "      <td>126.291786</td>\n",
                            "      <td>128.963074</td>\n",
                            "      <td>131.635162</td>\n",
                            "      <td>45.130001</td>\n",
                            "      <td>394.249115</td>\n",
                            "      <td>...</td>\n",
                            "      <td>23.705288</td>\n",
                            "      <td>9.090141</td>\n",
                            "      <td>3.428028</td>\n",
                            "      <td>92.659813</td>\n",
                            "      <td>35.888363</td>\n",
                            "      <td>17.210688</td>\n",
                            "      <td>116.353668</td>\n",
                            "      <td>19.889442</td>\n",
                            "      <td>19.334044</td>\n",
                            "      <td>53.685848</td>\n",
                            "    </tr>\n",
                            "    <tr>\n",
                            "      <th>2</th>\n",
                            "      <td>2022-01-05</td>\n",
                            "      <td>147.107651</td>\n",
                            "      <td>18.680000</td>\n",
                            "      <td>224.614975</td>\n",
                            "      <td>173.405670</td>\n",
                            "      <td>126.955170</td>\n",
                            "      <td>130.082260</td>\n",
                            "      <td>131.043747</td>\n",
                            "      <td>44.599998</td>\n",
                            "      <td>387.306091</td>\n",
                            "      <td>...</td>\n",
                            "      <td>24.005354</td>\n",
                            "      <td>9.138391</td>\n",
                            "      <td>3.486461</td>\n",
                            "      <td>93.394104</td>\n",
                            "      <td>34.698036</td>\n",
                            "      <td>17.593298</td>\n",
                            "      <td>108.077499</td>\n",
                            "      <td>20.054728</td>\n",
                            "      <td>19.419329</td>\n",
                            "      <td>53.086952</td>\n",
                            "    </tr>\n",
                            "    <tr>\n",
                            "      <th>3</th>\n",
                            "      <td>2022-01-06</td>\n",
                            "      <td>147.622437</td>\n",
                            "      <td>18.570000</td>\n",
                            "      <td>229.554672</td>\n",
                            "      <td>170.510956</td>\n",
                            "      <td>126.357178</td>\n",
                            "      <td>128.069656</td>\n",
                            "      <td>131.024323</td>\n",
                            "      <td>44.860001</td>\n",
                            "      <td>368.602905</td>\n",
                            "      <td>...</td>\n",
                            "      <td>23.260027</td>\n",
                            "      <td>8.723448</td>\n",
                            "      <td>3.311164</td>\n",
                            "      <td>94.072624</td>\n",
                            "      <td>33.368839</td>\n",
                            "      <td>17.526175</td>\n",
                            "      <td>106.041405</td>\n",
                            "      <td>19.724155</td>\n",
                            "      <td>18.941734</td>\n",
                            "      <td>53.991798</td>\n",
                            "    </tr>\n",
                            "    <tr>\n",
                            "      <th>4</th>\n",
                            "      <td>2022-01-07</td>\n",
                            "      <td>143.692291</td>\n",
                            "      <td>19.280001</td>\n",
                            "      <td>226.172867</td>\n",
                            "      <td>170.679489</td>\n",
                            "      <td>126.030144</td>\n",
                            "      <td>130.690933</td>\n",
                            "      <td>131.431549</td>\n",
                            "      <td>45.070000</td>\n",
                            "      <td>361.533112</td>\n",
                            "      <td>...</td>\n",
                            "      <td>23.260027</td>\n",
                            "      <td>8.781346</td>\n",
                            "      <td>3.408551</td>\n",
                            "      <td>96.321960</td>\n",
                            "      <td>33.616825</td>\n",
                            "      <td>18.124920</td>\n",
                            "      <td>103.242081</td>\n",
                            "      <td>19.972084</td>\n",
                            "      <td>19.359629</td>\n",
                            "      <td>55.059402</td>\n",
                            "    </tr>\n",
                            "  </tbody>\n",
                            "</table>\n",
                            "<p>5 rows × 116 columns</p>\n",
                            "</div>"
                        ],
                        "text/plain": [
                            "         Date           A        AAL         AAP        AAPL        ABBV   \n",
                            "0  2022-01-03  154.908508  18.750000  224.928452  180.434311  126.534706  \\\n",
                            "1  2022-01-04  149.671646  19.020000  225.184921  178.144302  126.291786   \n",
                            "2  2022-01-05  147.107651  18.680000  224.614975  173.405670  126.955170   \n",
                            "3  2022-01-06  147.622437  18.570000  229.554672  170.510956  126.357178   \n",
                            "4  2022-01-07  143.692291  19.280001  226.172867  170.679489  126.030144   \n",
                            "\n",
                            "          ABC         ABT       ACGL         ACN  ...     NCM.AX    NST.AX   \n",
                            "0  130.200043  134.805557  44.549999  397.086761  ...        NaN       NaN  \\\n",
                            "1  128.963074  131.635162  45.130001  394.249115  ...  23.705288  9.090141   \n",
                            "2  130.082260  131.043747  44.599998  387.306091  ...  24.005354  9.138391   \n",
                            "3  128.069656  131.024323  44.860001  368.602905  ...  23.260027  8.723448   \n",
                            "4  130.690933  131.431549  45.070000  361.533112  ...  23.260027  8.781346   \n",
                            "\n",
                            "     PLS.AX     RIO.AX     RMD.AX          T        TECH     WBC.AX   \n",
                            "0       NaN        NaN        NaN  17.069723  121.268669        NaN  \\\n",
                            "1  3.428028  92.659813  35.888363  17.210688  116.353668  19.889442   \n",
                            "2  3.486461  93.394104  34.698036  17.593298  108.077499  20.054728   \n",
                            "3  3.311164  94.072624  33.368839  17.526175  106.041405  19.724155   \n",
                            "4  3.408551  96.321960  33.616825  18.124920  103.242081  19.972084   \n",
                            "\n",
                            "      WDS.AX        WRB  \n",
                            "0        NaN  52.898167  \n",
                            "1  19.334044  53.685848  \n",
                            "2  19.419329  53.086952  \n",
                            "3  18.941734  53.991798  \n",
                            "4  19.359629  55.059402  \n",
                            "\n",
                            "[5 rows x 116 columns]"
                        ]
                    },
                    "execution_count": 19,
                    "metadata": {},
                    "output_type": "execute_result"
                }
            ],
            "source": [
                "stock_prices_df.head()"
            ]
        },
        {
            "attachments": {},
            "cell_type": "markdown",
            "metadata": {},
            "source": [
                "**Lets Review the price values for reasonableness**"
            ]
        },
        {
            "cell_type": "code",
            "execution_count": 20,
            "metadata": {},
            "outputs": [
                {
                    "name": "stdout",
                    "output_type": "stream",
                    "text": [
                        "Minimium Share Price Value Across All Stocks: $1.99\n",
                        "Maximum Share Price Value Across All Stocks: $2,703.26\n",
                        "Mean Share Price Value Across All Stocks: $160.65\n"
                    ]
                }
            ],
            "source": [
                "print(f\"Minimium Share Price Value Across All Stocks: ${stock_prices_df.select_dtypes(include='number').min().min():,.02f}\")\n",
                "print(f\"Maximum Share Price Value Across All Stocks: ${stock_prices_df.select_dtypes(include='number').max().max():,.02f}\")\n",
                "print(f\"Mean Share Price Value Across All Stocks: ${stock_prices_df.select_dtypes(include='number').mean().mean():,.02f}\")"
            ]
        },
        {
            "attachments": {},
            "cell_type": "markdown",
            "metadata": {},
            "source": [
                "The range of values for individual shares prices is quite large and thus direct comparision of absolute values would required scaling of the prices.\n",
                "However, the range seems reasonable given the dataset - there are no negative values and no extremely large or small values."
            ]
        },
        {
            "attachments": {},
            "cell_type": "markdown",
            "metadata": {},
            "source": [
                "&#x2705;"
            ]
        },
        {
            "attachments": {},
            "cell_type": "markdown",
            "metadata": {},
            "source": [
                "Lets create a scatter plot to visualize the price data"
            ]
        },
        {
            "cell_type": "code",
            "execution_count": 21,
            "metadata": {},
            "outputs": [
                {
                    "data": {
                        "text/plain": [
                            "<module 'matplotlib.pyplot' from 'c:\\\\Users\\\\Lenovo\\\\AppData\\\\Local\\\\Programs\\\\Python\\\\Python311\\\\Lib\\\\site-packages\\\\matplotlib\\\\pyplot.py'>"
                        ]
                    },
                    "execution_count": 21,
                    "metadata": {},
                    "output_type": "execute_result"
                },
                {
                    "data": {
                        "image/png": "[encoded data removed]",
                        "text/plain": [
                            "<Figure size 640x480 with 1 Axes>"
                        ]
                    },
                    "metadata": {},
                    "output_type": "display_data"
                }
            ],
            "source": [
                "def scatter_plot_prices():\n",
                "    \"\"\"\n",
                "    Function to display a scatter plot of the mean price for each stock.\n",
                "    \"\"\"\n",
                "    av_prices_by_stock = stock_prices_df.select_dtypes(include='number').mean()\n",
                "    av_prices_by_stock.index = pd.Series(range(len(av_prices_by_stock)))\n",
                "    plt.scatter(x = av_prices_by_stock.values,\n",
                "                y = av_prices_by_stock.index)\n",
                "    plt.xlabel('Price')\n",
                "    plt.ylabel('Company Number')\n",
                "    plt.title('Mean Price for Each Company')\n",
                "    return plt\n",
                "\n",
                "scatter_plot_prices()"
            ]
        },
        {
            "attachments": {},
            "cell_type": "markdown",
            "metadata": {},
            "source": [
                "\n",
                "<p style=\"background-color:Yellow;\"><b>Not Great:</b> That does not look so great with a small number of obvious outliers.</p>"
            ]
        },
        {
            "attachments": {},
            "cell_type": "markdown",
            "metadata": {},
            "source": [
                "Lets check to see if these represent errors or just outliers."
            ]
        },
        {
            "cell_type": "code",
            "execution_count": 22,
            "metadata": {},
            "outputs": [
                {
                    "data": {
                        "text/plain": [
                            "AZO     2579.00000\n",
                            "BKNG    2703.26001\n",
                            "dtype: float64"
                        ]
                    },
                    "execution_count": 22,
                    "metadata": {},
                    "output_type": "execute_result"
                }
            ],
            "source": [
                "# Largest two price values by stock\n",
                "stock_prices_df.select_dtypes(include='number').max().sort_values()[-2:]\n"
            ]
        },
        {
            "attachments": {},
            "cell_type": "markdown",
            "metadata": {},
            "source": [
                "Checking these manually to price sources (Yahoo Finance, 2023), the prices look accurate.  Thus the values represent outliers rather than errors.\n",
                "\n",
                "While there are several ways to handle these outliers depending the analysis being performed and the reason for the outliers, for our analysis we are going to retain them in our data set."
            ]
        },
        {
            "attachments": {},
            "cell_type": "markdown",
            "metadata": {},
            "source": [
                "**Examing the Number of Records for Each Stock**"
            ]
        },
        {
            "cell_type": "code",
            "execution_count": 23,
            "metadata": {},
            "outputs": [
                {
                    "name": "stdout",
                    "output_type": "stream",
                    "text": [
                        "count    115.0\n",
                        "mean     251.0\n",
                        "std        0.0\n",
                        "min      251.0\n",
                        "25%      251.0\n",
                        "50%      251.0\n",
                        "75%      251.0\n",
                        "max      251.0\n",
                        "Name: count, dtype: float64\n"
                    ]
                }
            ],
            "source": [
                "print(stock_prices_df.describe().loc['count'].describe())"
            ]
        },
        {
            "attachments": {},
            "cell_type": "markdown",
            "metadata": {},
            "source": [
                "<p style=\"background-color:#AFE1AF;\">\n",
                "The number of records is consistent for all our stocks at 251 (Both the min and max values are 251) meaning we do not have to remove any names with a low number of trading days, nor do we have to forward fill or back fill any values.\n",
                "</p>"
            ]
        },
        {
            "attachments": {},
            "cell_type": "markdown",
            "metadata": {},
            "source": [
                "<p style=\"background-color:#AFE1AF;\">\n",
                "    The  number of records for each of our stocks is 251.  As a reasonableness check, there are 260 (52 * 5) week days in the year and some of these will be public holidays.  So we expect somewhere around 250 trading days in a year given approximately 10 public holidays per year. \n",
                "</p>"
            ]
        },
        {
            "attachments": {},
            "cell_type": "markdown",
            "metadata": {},
            "source": [
                "## Format Share Pricing Data"
            ]
        },
        {
            "attachments": {},
            "cell_type": "markdown",
            "metadata": {},
            "source": [
                "### Convert the dates to datetime format and set them as the index"
            ]
        },
        {
            "cell_type": "code",
            "execution_count": 24,
            "metadata": {},
            "outputs": [],
            "source": [
                "stock_prices_df['Date'] = pd.to_datetime(stock_prices_df['Date'], format = \"%Y-%m-%d\")\n",
                "stock_prices_df = stock_prices_df.set_index('Date', drop=True)"
            ]
        },
        {
            "attachments": {},
            "cell_type": "markdown",
            "metadata": {},
            "source": [
                "### Convert Share Prices to USD Equivalent"
            ]
        },
        {
            "attachments": {},
            "cell_type": "markdown",
            "metadata": {},
            "source": [
                "We convert all share prices to a USD equivalent value to ensure they are comparable.\n",
                "\n",
                "To convert from local currencies to a USD Equivalent we add a column for the FX rate applicable given the ticker code format:\n",
                "* Australian stocks have .AX in their ticker, \n",
                "* Japanese stocks have .T, \n",
                "* Hong Kong stocks .HK, \n",
                "* Singapore stocks .SI; and\n",
                "* US stocks have no period in their ticker"
            ]
        },
        {
            "cell_type": "code",
            "execution_count": 25,
            "metadata": {},
            "outputs": [],
            "source": [
                "# Add currency column based on ticker code format\n",
                "for ticker in stock_prices_df.columns:\n",
                "    if \".AX\" in ticker:\n",
                "        stock_prices_df[ticker] = stock_prices_df[ticker] * fx_prices_df[\"AUDUSD=X\"]\n",
                "    elif \".HK\" in ticker:\n",
                "        stock_prices_df[ticker] = stock_prices_df[ticker] * fx_prices_df[\"HKDUSD=X\"]\n",
                "    elif \".T\" in ticker:\n",
                "        stock_prices_df[ticker] = stock_prices_df[ticker] * fx_prices_df[\"JPYUSD=X\"]\n",
                "    elif \".SI\" in ticker:\n",
                "        stock_prices_df[ticker] = stock_prices_df[ticker] * fx_prices_df[\"SGDUSD=X\"]"
            ]
        },
        {
            "attachments": {},
            "cell_type": "markdown",
            "metadata": {},
            "source": [
                "<a id=\"Pairs\"></a>\n",
                "# 8. Create a Universe of Pairs"
            ]
        },
        {
            "attachments": {},
            "cell_type": "markdown",
            "metadata": {},
            "source": [
                "Now that we have imported and cleansed the data, we need to start manipulating it to get the answers required.\n",
                "\n",
                "Key to this is breaking the price data for all the companies into pairs that can be analyzed.  For Example, Microsoft (MSFT) vs Google (GOOGL).\n"
            ]
        },
        {
            "attachments": {},
            "cell_type": "markdown",
            "metadata": {},
            "source": [
                "Using all the names we have data for, we can create a list of all possible pair combinations using the itertools library."
            ]
        },
        {
            "cell_type": "code",
            "execution_count": 26,
            "metadata": {},
            "outputs": [],
            "source": [
                "all_possible_pairs = [list(pair) for pair in itertools.combinations(stock_prices_df.columns, 2)]"
            ]
        },
        {
            "cell_type": "code",
            "execution_count": 27,
            "metadata": {},
            "outputs": [
                {
                    "name": "stdout",
                    "output_type": "stream",
                    "text": [
                        "The Number of All Possible Unique Pairs is: 6,555\n",
                        "\n",
                        "Some Examples: [['A', 'AAL'], ['A', 'AAP'], ['A', 'AAPL'], ['A', 'ABBV'], ['A', 'ABC']] \n",
                        "[['TECH', 'WDS.AX'], ['TECH', 'WRB'], ['WBC.AX', 'WDS.AX'], ['WBC.AX', 'WRB'], ['WDS.AX', 'WRB']]\n"
                    ]
                }
            ],
            "source": [
                "print(f\"The Number of All Possible Unique Pairs is: {len(all_possible_pairs):,.0f}\")\n",
                "print(f\"\\nSome Examples: {all_possible_pairs[:5]} \\n{all_possible_pairs[-5:]}\")"
            ]
        },
        {
            "attachments": {},
            "cell_type": "markdown",
            "metadata": {},
            "source": [
                "We want to look at a sample of names, instead of the full universe.  This is primarily because we have processing constrainsts.  However, we want a random sample rather than just picking the first 100 names in case their is some bias in the way they are ordered.\n",
                "\n",
                "We have set the sample size via the input constant (RDM_SAMPLE_SIZE) in the Set Inputs section."
            ]
        },
        {
            "cell_type": "code",
            "execution_count": 28,
            "metadata": {},
            "outputs": [],
            "source": [
                "# Select a sample of pairs randomly from the our universe of all possible pairs\n",
                "random_pairs = sample(all_possible_pairs, RDM_SAMPLE_SIZE)"
            ]
        },
        {
            "cell_type": "code",
            "execution_count": 29,
            "metadata": {},
            "outputs": [
                {
                    "name": "stdout",
                    "output_type": "stream",
                    "text": [
                        "Here are five examples of the pairs generated from our random sample:\n",
                        "[['AME', 'CAH'], ['AMD', 'PLS.AX'], ['ACGL', 'NAB.AX'], ['AMD', 'AVGO'], ['ALL', 'CBA.AX']]\n"
                    ]
                }
            ],
            "source": [
                "print(f\"Here are five examples of the pairs generated from our random sample:\\n{random_pairs[:5]}\")"
            ]
        },
        {
            "attachments": {},
            "cell_type": "markdown",
            "metadata": {},
            "source": [
                "## Add Industry to Pairs List"
            ]
        },
        {
            "attachments": {},
            "cell_type": "markdown",
            "metadata": {},
            "source": [
                "The key factor we are seeking to test is Industry.  That is, if in names in the same industry show better correlation or related statistics vs random pairs. \n",
                "\n",
                "To do this we are going to have to merge information from multiple inputs:\n",
                "- The ticker names for the pairs will come from the list of pairs we generated;\n",
                "- The Industry name will come from the all_stocks_info_df\n",
                "- Same Industry Column will be a engineered column we create\n",
                "\n",
                "The Same Industry column will make queries and analysis on the dataset simplier.\n"
            ]
        },
        {
            "cell_type": "code",
            "execution_count": 30,
            "metadata": {},
            "outputs": [
                {
                    "data": {
                        "text/html": [
                            "<div>\n",
                            "<style scoped>\n",
                            "    .dataframe tbody tr th:only-of-type {\n",
                            "        vertical-align: middle;\n",
                            "    }\n",
                            "\n",
                            "    .dataframe tbody tr th {\n",
                            "        vertical-align: top;\n",
                            "    }\n",
                            "\n",
                            "    .dataframe thead th {\n",
                            "        text-align: right;\n",
                            "    }\n",
                            "</style>\n",
                            "<table border=\"1\" class=\"dataframe\">\n",
                            "  <thead>\n",
                            "    <tr style=\"text-align: right;\">\n",
                            "      <th></th>\n",
                            "      <th>Ticker1</th>\n",
                            "      <th>Ticker2</th>\n",
                            "      <th>Ind1</th>\n",
                            "      <th>Ind2</th>\n",
                            "      <th>Same Industry</th>\n",
                            "    </tr>\n",
                            "  </thead>\n",
                            "  <tbody>\n",
                            "    <tr>\n",
                            "      <th>0</th>\n",
                            "      <td>A</td>\n",
                            "      <td>AAL</td>\n",
                            "      <td>Health Care</td>\n",
                            "      <td>Industrials</td>\n",
                            "      <td>No</td>\n",
                            "    </tr>\n",
                            "    <tr>\n",
                            "      <th>1</th>\n",
                            "      <td>A</td>\n",
                            "      <td>AAP</td>\n",
                            "      <td>Health Care</td>\n",
                            "      <td>Consumer Discretionary</td>\n",
                            "      <td>No</td>\n",
                            "    </tr>\n",
                            "    <tr>\n",
                            "      <th>2</th>\n",
                            "      <td>AAL</td>\n",
                            "      <td>AAP</td>\n",
                            "      <td>Industrials</td>\n",
                            "      <td>Consumer Discretionary</td>\n",
                            "      <td>No</td>\n",
                            "    </tr>\n",
                            "    <tr>\n",
                            "      <th>3</th>\n",
                            "      <td>A</td>\n",
                            "      <td>AAPL</td>\n",
                            "      <td>Health Care</td>\n",
                            "      <td>Information Technology</td>\n",
                            "      <td>No</td>\n",
                            "    </tr>\n",
                            "    <tr>\n",
                            "      <th>4</th>\n",
                            "      <td>AAL</td>\n",
                            "      <td>AAPL</td>\n",
                            "      <td>Industrials</td>\n",
                            "      <td>Information Technology</td>\n",
                            "      <td>No</td>\n",
                            "    </tr>\n",
                            "    <tr>\n",
                            "      <th>...</th>\n",
                            "      <td>...</td>\n",
                            "      <td>...</td>\n",
                            "      <td>...</td>\n",
                            "      <td>...</td>\n",
                            "      <td>...</td>\n",
                            "    </tr>\n",
                            "    <tr>\n",
                            "      <th>6550</th>\n",
                            "      <td>RMD.AX</td>\n",
                            "      <td>WRB</td>\n",
                            "      <td>Health Care</td>\n",
                            "      <td>Financials</td>\n",
                            "      <td>No</td>\n",
                            "    </tr>\n",
                            "    <tr>\n",
                            "      <th>6551</th>\n",
                            "      <td>T</td>\n",
                            "      <td>WRB</td>\n",
                            "      <td>Communication Services</td>\n",
                            "      <td>Financials</td>\n",
                            "      <td>No</td>\n",
                            "    </tr>\n",
                            "    <tr>\n",
                            "      <th>6552</th>\n",
                            "      <td>TECH</td>\n",
                            "      <td>WRB</td>\n",
                            "      <td>Health Care</td>\n",
                            "      <td>Financials</td>\n",
                            "      <td>No</td>\n",
                            "    </tr>\n",
                            "    <tr>\n",
                            "      <th>6553</th>\n",
                            "      <td>WBC.AX</td>\n",
                            "      <td>WRB</td>\n",
                            "      <td>Financials</td>\n",
                            "      <td>Financials</td>\n",
                            "      <td>Yes</td>\n",
                            "    </tr>\n",
                            "    <tr>\n",
                            "      <th>6554</th>\n",
                            "      <td>WDS.AX</td>\n",
                            "      <td>WRB</td>\n",
                            "      <td>Energy</td>\n",
                            "      <td>Financials</td>\n",
                            "      <td>No</td>\n",
                            "    </tr>\n",
                            "  </tbody>\n",
                            "</table>\n",
                            "<p>6555 rows × 5 columns</p>\n",
                            "</div>"
                        ],
                        "text/plain": [
                            "     Ticker1 Ticker2                    Ind1                    Ind2   \n",
                            "0          A     AAL             Health Care             Industrials  \\\n",
                            "1          A     AAP             Health Care  Consumer Discretionary   \n",
                            "2        AAL     AAP             Industrials  Consumer Discretionary   \n",
                            "3          A    AAPL             Health Care  Information Technology   \n",
                            "4        AAL    AAPL             Industrials  Information Technology   \n",
                            "...      ...     ...                     ...                     ...   \n",
                            "6550  RMD.AX     WRB             Health Care              Financials   \n",
                            "6551       T     WRB  Communication Services              Financials   \n",
                            "6552    TECH     WRB             Health Care              Financials   \n",
                            "6553  WBC.AX     WRB              Financials              Financials   \n",
                            "6554  WDS.AX     WRB                  Energy              Financials   \n",
                            "\n",
                            "     Same Industry  \n",
                            "0               No  \n",
                            "1               No  \n",
                            "2               No  \n",
                            "3               No  \n",
                            "4               No  \n",
                            "...            ...  \n",
                            "6550            No  \n",
                            "6551            No  \n",
                            "6552            No  \n",
                            "6553           Yes  \n",
                            "6554            No  \n",
                            "\n",
                            "[6555 rows x 5 columns]"
                        ]
                    },
                    "execution_count": 30,
                    "metadata": {},
                    "output_type": "execute_result"
                }
            ],
            "source": [
                "# Build a DataFrame which lists all possible pairs, the industry of each name in the pair and if they are the same.\n",
                "\n",
                "# Start with the all the pair combinations\n",
                "all_possible_pairs_df = pd.DataFrame(all_possible_pairs, columns=['Ticker1', 'Ticker2'])\n",
                "\n",
                "# Add the Industry Name for the first ticker\n",
                "all_possible_pairs_df = pd.merge(all_possible_pairs_df, all_stocks_info_df[['Symbol', 'GICS Sector']], how='inner', left_on = 'Ticker1', right_on = 'Symbol')\n",
                "# Add the Industry name for the second ticker\n",
                "all_possible_pairs_df = pd.merge(all_possible_pairs_df, all_stocks_info_df[['Symbol', 'GICS Sector']], how='inner', left_on = 'Ticker2', right_on = 'Symbol')\n",
                "\n",
                "# Remove excess columns and tidy up column names\n",
                "all_possible_pairs_df.drop(columns = ['Symbol_x', 'Symbol_y'], inplace=True)\n",
                "all_possible_pairs_df.rename(columns={\"GICS Sector_x\": \"Ind1\", \"GICS Sector_y\": \"Ind2\"}, inplace=True)\n",
                "\n",
                "# Create a new column 'Same Industry' which identifies if all the two names in the pair are from the same industry\n",
                "all_possible_pairs_df['Same Industry'] = np.where(all_possible_pairs_df['Ind1'] == all_possible_pairs_df['Ind2'], 'Yes', 'No')\n",
                "all_possible_pairs_df"
            ]
        },
        {
            "attachments": {},
            "cell_type": "markdown",
            "metadata": {},
            "source": [
                "Construct a DataFrame for the Random Pairs sample in the same format as that for all the possible pairs."
            ]
        },
        {
            "cell_type": "code",
            "execution_count": 31,
            "metadata": {},
            "outputs": [
                {
                    "data": {
                        "text/html": [
                            "<div>\n",
                            "<style scoped>\n",
                            "    .dataframe tbody tr th:only-of-type {\n",
                            "        vertical-align: middle;\n",
                            "    }\n",
                            "\n",
                            "    .dataframe tbody tr th {\n",
                            "        vertical-align: top;\n",
                            "    }\n",
                            "\n",
                            "    .dataframe thead th {\n",
                            "        text-align: right;\n",
                            "    }\n",
                            "</style>\n",
                            "<table border=\"1\" class=\"dataframe\">\n",
                            "  <thead>\n",
                            "    <tr style=\"text-align: right;\">\n",
                            "      <th></th>\n",
                            "      <th>Ticker1</th>\n",
                            "      <th>Ticker2</th>\n",
                            "      <th>Ind1</th>\n",
                            "      <th>Ind2</th>\n",
                            "      <th>Same Industry</th>\n",
                            "    </tr>\n",
                            "  </thead>\n",
                            "  <tbody>\n",
                            "    <tr>\n",
                            "      <th>0</th>\n",
                            "      <td>AME</td>\n",
                            "      <td>CAH</td>\n",
                            "      <td>Industrials</td>\n",
                            "      <td>Health Care</td>\n",
                            "      <td>No</td>\n",
                            "    </tr>\n",
                            "    <tr>\n",
                            "      <th>1</th>\n",
                            "      <td>AMD</td>\n",
                            "      <td>PLS.AX</td>\n",
                            "      <td>Information Technology</td>\n",
                            "      <td>Materials</td>\n",
                            "      <td>No</td>\n",
                            "    </tr>\n",
                            "    <tr>\n",
                            "      <th>2</th>\n",
                            "      <td>ACGL</td>\n",
                            "      <td>NAB.AX</td>\n",
                            "      <td>Financials</td>\n",
                            "      <td>Financials</td>\n",
                            "      <td>Yes</td>\n",
                            "    </tr>\n",
                            "    <tr>\n",
                            "      <th>3</th>\n",
                            "      <td>AMD</td>\n",
                            "      <td>AVGO</td>\n",
                            "      <td>Information Technology</td>\n",
                            "      <td>Information Technology</td>\n",
                            "      <td>Yes</td>\n",
                            "    </tr>\n",
                            "    <tr>\n",
                            "      <th>4</th>\n",
                            "      <td>ALL</td>\n",
                            "      <td>CBA.AX</td>\n",
                            "      <td>Financials</td>\n",
                            "      <td>Financials</td>\n",
                            "      <td>Yes</td>\n",
                            "    </tr>\n",
                            "    <tr>\n",
                            "      <th>...</th>\n",
                            "      <td>...</td>\n",
                            "      <td>...</td>\n",
                            "      <td>...</td>\n",
                            "      <td>...</td>\n",
                            "      <td>...</td>\n",
                            "    </tr>\n",
                            "    <tr>\n",
                            "      <th>3995</th>\n",
                            "      <td>NCM.AX</td>\n",
                            "      <td>WDS.AX</td>\n",
                            "      <td>Materials</td>\n",
                            "      <td>Energy</td>\n",
                            "      <td>No</td>\n",
                            "    </tr>\n",
                            "    <tr>\n",
                            "      <th>3996</th>\n",
                            "      <td>ABC</td>\n",
                            "      <td>ABT</td>\n",
                            "      <td>Health Care</td>\n",
                            "      <td>Health Care</td>\n",
                            "      <td>Yes</td>\n",
                            "    </tr>\n",
                            "    <tr>\n",
                            "      <th>3997</th>\n",
                            "      <td>ABT</td>\n",
                            "      <td>AFL</td>\n",
                            "      <td>Health Care</td>\n",
                            "      <td>Financials</td>\n",
                            "      <td>No</td>\n",
                            "    </tr>\n",
                            "    <tr>\n",
                            "      <th>3998</th>\n",
                            "      <td>BWA</td>\n",
                            "      <td>COF</td>\n",
                            "      <td>Consumer Discretionary</td>\n",
                            "      <td>Financials</td>\n",
                            "      <td>No</td>\n",
                            "    </tr>\n",
                            "    <tr>\n",
                            "      <th>3999</th>\n",
                            "      <td>ACGL</td>\n",
                            "      <td>AME</td>\n",
                            "      <td>Financials</td>\n",
                            "      <td>Industrials</td>\n",
                            "      <td>No</td>\n",
                            "    </tr>\n",
                            "  </tbody>\n",
                            "</table>\n",
                            "<p>4000 rows × 5 columns</p>\n",
                            "</div>"
                        ],
                        "text/plain": [
                            "     Ticker1 Ticker2                    Ind1                    Ind2   \n",
                            "0        AME     CAH             Industrials             Health Care  \\\n",
                            "1        AMD  PLS.AX  Information Technology               Materials   \n",
                            "2       ACGL  NAB.AX              Financials              Financials   \n",
                            "3        AMD    AVGO  Information Technology  Information Technology   \n",
                            "4        ALL  CBA.AX              Financials              Financials   \n",
                            "...      ...     ...                     ...                     ...   \n",
                            "3995  NCM.AX  WDS.AX               Materials                  Energy   \n",
                            "3996     ABC     ABT             Health Care             Health Care   \n",
                            "3997     ABT     AFL             Health Care              Financials   \n",
                            "3998     BWA     COF  Consumer Discretionary              Financials   \n",
                            "3999    ACGL     AME              Financials             Industrials   \n",
                            "\n",
                            "     Same Industry  \n",
                            "0               No  \n",
                            "1               No  \n",
                            "2              Yes  \n",
                            "3              Yes  \n",
                            "4              Yes  \n",
                            "...            ...  \n",
                            "3995            No  \n",
                            "3996           Yes  \n",
                            "3997            No  \n",
                            "3998            No  \n",
                            "3999            No  \n",
                            "\n",
                            "[4000 rows x 5 columns]"
                        ]
                    },
                    "execution_count": 31,
                    "metadata": {},
                    "output_type": "execute_result"
                }
            ],
            "source": [
                "#Build the base df from the list of list of random pairs\n",
                "random_pairs_df = pd.DataFrame(random_pairs, columns=['Ticker1', 'Ticker2'])\n",
                "\n",
                "# Add the extra columns required via merging with the df containing all the pairs\n",
                "random_pairs_df = pd.merge(random_pairs_df, all_possible_pairs_df, how='inner',\n",
                "                    left_on = ['Ticker1', 'Ticker2'], right_on= ['Ticker1', 'Ticker2'])\n",
                "random_pairs_df\n"
            ]
        },
        {
            "attachments": {},
            "cell_type": "markdown",
            "metadata": {},
            "source": [
                "<a id=\"Sectors\"></a>\n",
                "# 9. Analysis of Names by Industry/ Sector"
            ]
        },
        {
            "cell_type": "code",
            "execution_count": 32,
            "metadata": {},
            "outputs": [
                {
                    "data": {
                        "text/plain": [
                            "count            115\n",
                            "unique            11\n",
                            "top       Financials\n",
                            "freq              22\n",
                            "Name: GICS Sector, dtype: object"
                        ]
                    },
                    "execution_count": 32,
                    "metadata": {},
                    "output_type": "execute_result"
                }
            ],
            "source": [
                "all_stocks_info_df['GICS Sector'].describe()"
            ]
        },
        {
            "cell_type": "code",
            "execution_count": 33,
            "metadata": {},
            "outputs": [
                {
                    "name": "stdout",
                    "output_type": "stream",
                    "text": [
                        "The Minimum Number of Members within a Sector Group is: 3\n",
                        "The Median Number of Members within a Sector Group is: 11.0\n"
                    ]
                }
            ],
            "source": [
                "print(f\"The Minimum Number of Members within a Sector Group is: {all_stocks_info_df.groupby('GICS Sector').size().min()}\")\n",
                "print(f\"The Median Number of Members within a Sector Group is: {all_stocks_info_df.groupby('GICS Sector').size().median()}\")"
            ]
        },
        {
            "cell_type": "code",
            "execution_count": 34,
            "metadata": {},
            "outputs": [
                {
                    "data": {
                        "text/plain": [
                            "GICS Sector\n",
                            "Communication Services     4\n",
                            "Consumer Discretionary    11\n",
                            "Consumer Staples           5\n",
                            "Energy                     3\n",
                            "Financials                22\n",
                            "Health Care               18\n",
                            "Industrials               13\n",
                            "Information Technology    14\n",
                            "Materials                 12\n",
                            "Real Estate                7\n",
                            "Utilities                  6\n",
                            "dtype: int64"
                        ]
                    },
                    "execution_count": 34,
                    "metadata": {},
                    "output_type": "execute_result"
                }
            ],
            "source": [
                "all_stocks_info_df.groupby('GICS Sector').size()"
            ]
        },
        {
            "attachments": {},
            "cell_type": "markdown",
            "metadata": {},
            "source": [
                "### Build and Display Graphs Analysing the Distribution of the Sector Groups"
            ]
        },
        {
            "cell_type": "code",
            "execution_count": 35,
            "metadata": {},
            "outputs": [],
            "source": [
                "# Get Counts of The Number of Names Within Each Sector\n",
                "sector_counts = all_stocks_info_df.groupby('GICS Sector')['Symbol'].count().sort_values(axis=0)"
            ]
        },
        {
            "cell_type": "code",
            "execution_count": 36,
            "metadata": {},
            "outputs": [],
            "source": [
                "# Create a seaborn color palette for our graphs\n",
                "colors = sns.color_palette(\"Blues\", len(sector_counts))"
            ]
        },
        {
            "cell_type": "code",
            "execution_count": 37,
            "metadata": {},
            "outputs": [
                {
                    "data": {
                        "image/png": "[encoded data removed]",
                        "text/plain": [
                            "<Figure size 2500x2500 with 1 Axes>"
                        ]
                    },
                    "metadata": {},
                    "output_type": "display_data"
                },
                {
                    "data": {
                        "image/png": "[encoded data removed]",
                        "text/plain": [
                            "<Figure size 800x800 with 1 Axes>"
                        ]
                    },
                    "metadata": {},
                    "output_type": "display_data"
                },
                {
                    "data": {
                        "image/png": "[encoded data removed]",
                        "text/plain": [
                            "<Figure size 800x500 with 1 Axes>"
                        ]
                    },
                    "metadata": {},
                    "output_type": "display_data"
                }
            ],
            "source": [
                "# Function to Create a Series of Graphs to Show the Distribution and Makeup of the Sector Membership\n",
                "def display_sector_graphs(colors, sector_counts, sector_counts_series):\n",
                "\n",
                "    \"\"\"\n",
                "    Function to create three different graphical representations of the Industry/Sector Member Split.\n",
                "    Executed as three different figures given it displays better in Ed than as one figure with three\n",
                "    different subplots.\n",
                "    \"\"\"\n",
                "    \n",
                "    # Display Pie Chart Showing Industry Size Split\n",
                "    fig1 = plt.figure(figsize=(25, 25))\n",
                "    ax = fig1.add_subplot(3, 1, 1)\n",
                "    ax.pie(sector_counts_series, labels = sector_counts.index,colors = colors)\n",
                "    ax.set_title('Sector Split by Number of Members', fontweight='bold')\n",
                "\n",
                "    # Bar Chart of Which Industries Have the Most Members\n",
                "    fig2 = plt.figure(figsize=(8, 8))\n",
                "    ax = fig2.add_subplot(3, 1, 2)\n",
                "    ax.barh(sector_counts_series.index , sector_counts.values)\n",
                "    ax.set_title('Top Sector Member Numbers', fontweight='bold')\n",
                "    ax.set_xlabel('Number of Members')\n",
                "\n",
                "    # Box Plot Of Industry Member Distribution\n",
                "    fig3 = plt.figure(figsize=(8, 5))\n",
                "    ax = fig3.add_subplot(3, 1, 3)\n",
                "    ax.boxplot(all_stocks_info_df.groupby('GICS Sector')['Symbol'].count(), 0, 'rs', 0)\n",
                "    ax.set_title('Distribution of Number of Members Within Each Sector', fontweight='bold')\n",
                "    ax.set_xlabel('Number of Members')\n",
                "\n",
                "    return fig1, fig2, fig3\n",
                "\n",
                "# Run function to display plots\n",
                "fig1, fig2, fig3 = display_sector_graphs(colors, sector_counts, sector_counts)"
            ]
        },
        {
            "attachments": {},
            "cell_type": "markdown",
            "metadata": {},
            "source": [
                "<p style=\"background-color:#B8E2F2;\">\n",
                "    <b>Finding:</b> There is a reasonable level of diversity within Sectors/Industry with our component stocks being distributed across 11 different industries.  \n",
                "    This relatively wide distribution across sectors is an important finding given the key factor we are investigating is sector/ industry type.  For example, it would be problematic if there were only two or three industries and 99% of the members fell into only one industry.\n",
                "</p>"
            ]
        },
        {
            "attachments": {},
            "cell_type": "markdown",
            "metadata": {},
            "source": [
                "<p style=\"background-color:#B8E2F2;\">\n",
                "<b>Finding:</b> Also of note is that given there are 11 different industries for approximately 115 companies, while diversity certaily exists, the definition of what is included within an industry must be reasonably broad. \n",
                "</p>"
            ]
        },
        {
            "cell_type": "code",
            "execution_count": 38,
            "metadata": {},
            "outputs": [
                {
                    "data": {
                        "text/plain": [
                            "GICS Sector\n",
                            "Communication Services     4\n",
                            "Consumer Discretionary    11\n",
                            "Consumer Staples           5\n",
                            "Energy                     3\n",
                            "Financials                22\n",
                            "Health Care               18\n",
                            "Industrials               13\n",
                            "Information Technology    14\n",
                            "Materials                 12\n",
                            "Real Estate                7\n",
                            "Utilities                  6\n",
                            "Name: Symbol, dtype: int64"
                        ]
                    },
                    "execution_count": 38,
                    "metadata": {},
                    "output_type": "execute_result"
                }
            ],
            "source": [
                "all_stocks_info_df.groupby('GICS Sector')['Symbol'].count()"
            ]
        },
        {
            "attachments": {},
            "cell_type": "markdown",
            "metadata": {},
            "source": [
                "Where the Sector only has a single member, comparing members within the same industry will not be possible. "
            ]
        },
        {
            "attachments": {},
            "cell_type": "markdown",
            "metadata": {},
            "source": [
                "Given we are looking to compare companies within the same industry vs companies not in the same industry, we want to identify if any sectors have less than 2 names in them."
            ]
        },
        {
            "cell_type": "code",
            "execution_count": 39,
            "metadata": {},
            "outputs": [
                {
                    "data": {
                        "text/plain": [
                            "GICS Sector\n",
                            "Communication Services     4\n",
                            "Consumer Discretionary    11\n",
                            "Consumer Staples           5\n",
                            "Energy                     3\n",
                            "Financials                22\n",
                            "Health Care               18\n",
                            "Industrials               13\n",
                            "Information Technology    14\n",
                            "Materials                 12\n",
                            "Real Estate                7\n",
                            "Utilities                  6\n",
                            "Name: Symbol, dtype: int64"
                        ]
                    },
                    "execution_count": 39,
                    "metadata": {},
                    "output_type": "execute_result"
                }
            ],
            "source": [
                "all_stocks_info_df.groupby('GICS Sector')['Symbol'].count()"
            ]
        },
        {
            "attachments": {},
            "cell_type": "markdown",
            "metadata": {},
            "source": [
                "<p style=\"background-color:#AFE1AF;\">\n",
                "We can see that all our industries contain at least three members.\n",
                "</p>"
            ]
        },
        {
            "attachments": {},
            "cell_type": "markdown",
            "metadata": {},
            "source": [
                "## Analyse Ratio of Same Industry Vs Different Industry Pairs"
            ]
        },
        {
            "attachments": {},
            "cell_type": "markdown",
            "metadata": {},
            "source": [
                "### Full Universe of Names"
            ]
        },
        {
            "cell_type": "code",
            "execution_count": 40,
            "metadata": {},
            "outputs": [
                {
                    "name": "stdout",
                    "output_type": "stream",
                    "text": [
                        "Number of Pairs In Total: 6,555\n",
                        "Number of Pairs in the Same Industry: 729\n",
                        "Percentage of pairs in the same industry: 11.12%\n"
                    ]
                }
            ],
            "source": [
                "num_pairs_all = len(all_possible_pairs_df.index)\n",
                "num_pairs_same_ind_all = len(all_possible_pairs_df[all_possible_pairs_df['Same Industry'] == 'Yes'].index)\n",
                "\n",
                "print(f\"Number of Pairs In Total: {num_pairs_all:,}\")\n",
                "print(f\"Number of Pairs in the Same Industry: {num_pairs_same_ind_all:,}\")\n",
                "print(f\"Percentage of pairs in the same industry: {num_pairs_same_ind_all/num_pairs_all * 100:,.02f}%\")"
            ]
        },
        {
            "attachments": {},
            "cell_type": "markdown",
            "metadata": {},
            "source": [
                "<p style=\"background-color:#B8E2F2;\">\n",
                "    <b>Finding:</b> A population size of 6,555 pairs overall and 729 pairs in the same industry seems robust enough to generate some meaningful results.\n",
                "</p>"
            ]
        },
        {
            "attachments": {},
            "cell_type": "markdown",
            "metadata": {},
            "source": [
                "### Sample"
            ]
        },
        {
            "cell_type": "code",
            "execution_count": 41,
            "metadata": {},
            "outputs": [
                {
                    "name": "stdout",
                    "output_type": "stream",
                    "text": [
                        "Number of Pairs In Total: 4,000\n",
                        "Number of Pairs in the Same Industry: 455\n",
                        "Percentage of pairs in the same industry: 11.38%\n"
                    ]
                }
            ],
            "source": [
                "num_pairs_all_samp = len(random_pairs_df.index)\n",
                "num_pairs_same_ind_samp = len(random_pairs_df[random_pairs_df['Same Industry'] == 'Yes'].index)\n",
                "\n",
                "print(f\"Number of Pairs In Total: {num_pairs_all_samp:,}\")\n",
                "print(f\"Number of Pairs in the Same Industry: {num_pairs_same_ind_samp:,}\")\n",
                "print(f\"Percentage of pairs in the same industry: {num_pairs_same_ind_samp/num_pairs_all_samp * 100:,.02f}%\")"
            ]
        },
        {
            "attachments": {},
            "cell_type": "markdown",
            "metadata": {},
            "source": [
                "<p style=\"background-color:#B8E2F2;\">\n",
                "    <b>Finding:</b> A sample size of 4,000 pairs overall and 438 pairs in the same industry seems robust enough to generate some meaningful results.\n",
                "</p>"
            ]
        },
        {
            "cell_type": "code",
            "execution_count": 42,
            "metadata": {},
            "outputs": [
                {
                    "data": {
                        "text/html": [
                            "<div>\n",
                            "<style scoped>\n",
                            "    .dataframe tbody tr th:only-of-type {\n",
                            "        vertical-align: middle;\n",
                            "    }\n",
                            "\n",
                            "    .dataframe tbody tr th {\n",
                            "        vertical-align: top;\n",
                            "    }\n",
                            "\n",
                            "    .dataframe thead th {\n",
                            "        text-align: right;\n",
                            "    }\n",
                            "</style>\n",
                            "<table border=\"1\" class=\"dataframe\">\n",
                            "  <thead>\n",
                            "    <tr style=\"text-align: right;\">\n",
                            "      <th></th>\n",
                            "      <th>Number of Total Pairs</th>\n",
                            "      <th>Number of Pairs in Same Industry</th>\n",
                            "      <th>% of Pairs in the Same Industry</th>\n",
                            "    </tr>\n",
                            "  </thead>\n",
                            "  <tbody>\n",
                            "    <tr>\n",
                            "      <th>Entire Population</th>\n",
                            "      <td>6555</td>\n",
                            "      <td>729</td>\n",
                            "      <td>11.121281</td>\n",
                            "    </tr>\n",
                            "    <tr>\n",
                            "      <th>Sample</th>\n",
                            "      <td>4000</td>\n",
                            "      <td>455</td>\n",
                            "      <td>11.375000</td>\n",
                            "    </tr>\n",
                            "  </tbody>\n",
                            "</table>\n",
                            "</div>"
                        ],
                        "text/plain": [
                            "                   Number of Total Pairs  Number of Pairs in Same Industry   \n",
                            "Entire Population                   6555                               729  \\\n",
                            "Sample                              4000                               455   \n",
                            "\n",
                            "                   % of Pairs in the Same Industry  \n",
                            "Entire Population                        11.121281  \n",
                            "Sample                                   11.375000  "
                        ]
                    },
                    "execution_count": 42,
                    "metadata": {},
                    "output_type": "execute_result"
                }
            ],
            "source": [
                "df = pd.DataFrame(data = [[num_pairs_all, num_pairs_same_ind_all, num_pairs_same_ind_all/num_pairs_all * 100], \n",
                "                          [num_pairs_all_samp, num_pairs_same_ind_samp, num_pairs_same_ind_samp/num_pairs_all_samp * 100]], \n",
                "                  columns=['Number of Total Pairs', 'Number of Pairs in Same Industry', '% of Pairs in the Same Industry'])\n",
                "df.index = ['Entire Population', 'Sample']\n",
                "df"
            ]
        },
        {
            "attachments": {},
            "cell_type": "markdown",
            "metadata": {},
            "source": [
                "<p style=\"background-color:#AFE1AF;\">\n",
                "Our sample does seem representative of the total population in term pairs in the same industry vs all pairs.\n",
                "</p>"
            ]
        },
        {
            "attachments": {},
            "cell_type": "markdown",
            "metadata": {},
            "source": [
                "<a id=\"Correlations\"></a>\n",
                "# 10. Correlations"
            ]
        },
        {
            "attachments": {},
            "cell_type": "markdown",
            "metadata": {},
            "source": [
                "## Calculate Correlations"
            ]
        },
        {
            "attachments": {},
            "cell_type": "markdown",
            "metadata": {},
            "source": [
                "First we build a dataframe of correlations for ALL pairs in our sample."
            ]
        },
        {
            "cell_type": "code",
            "execution_count": 43,
            "metadata": {},
            "outputs": [
                {
                    "data": {
                        "text/html": [
                            "<div>\n",
                            "<style scoped>\n",
                            "    .dataframe tbody tr th:only-of-type {\n",
                            "        vertical-align: middle;\n",
                            "    }\n",
                            "\n",
                            "    .dataframe tbody tr th {\n",
                            "        vertical-align: top;\n",
                            "    }\n",
                            "\n",
                            "    .dataframe thead th {\n",
                            "        text-align: right;\n",
                            "    }\n",
                            "</style>\n",
                            "<table border=\"1\" class=\"dataframe\">\n",
                            "  <thead>\n",
                            "    <tr style=\"text-align: right;\">\n",
                            "      <th></th>\n",
                            "      <th>Ticker1</th>\n",
                            "      <th>Ticker2</th>\n",
                            "      <th>Correlation</th>\n",
                            "      <th>Ind1</th>\n",
                            "      <th>Ind2</th>\n",
                            "      <th>Same Industry</th>\n",
                            "    </tr>\n",
                            "  </thead>\n",
                            "  <tbody>\n",
                            "    <tr>\n",
                            "      <th>0</th>\n",
                            "      <td>AME</td>\n",
                            "      <td>CAH</td>\n",
                            "      <td>0.314838</td>\n",
                            "      <td>Industrials</td>\n",
                            "      <td>Health Care</td>\n",
                            "      <td>No</td>\n",
                            "    </tr>\n",
                            "    <tr>\n",
                            "      <th>1</th>\n",
                            "      <td>AMD</td>\n",
                            "      <td>PLS.AX</td>\n",
                            "      <td>-0.439415</td>\n",
                            "      <td>Information Technology</td>\n",
                            "      <td>Materials</td>\n",
                            "      <td>No</td>\n",
                            "    </tr>\n",
                            "    <tr>\n",
                            "      <th>2</th>\n",
                            "      <td>ACGL</td>\n",
                            "      <td>NAB.AX</td>\n",
                            "      <td>0.164571</td>\n",
                            "      <td>Financials</td>\n",
                            "      <td>Financials</td>\n",
                            "      <td>Yes</td>\n",
                            "    </tr>\n",
                            "    <tr>\n",
                            "      <th>3</th>\n",
                            "      <td>AMD</td>\n",
                            "      <td>AVGO</td>\n",
                            "      <td>0.785853</td>\n",
                            "      <td>Information Technology</td>\n",
                            "      <td>Information Technology</td>\n",
                            "      <td>Yes</td>\n",
                            "    </tr>\n",
                            "    <tr>\n",
                            "      <th>4</th>\n",
                            "      <td>ALL</td>\n",
                            "      <td>CBA.AX</td>\n",
                            "      <td>0.470865</td>\n",
                            "      <td>Financials</td>\n",
                            "      <td>Financials</td>\n",
                            "      <td>Yes</td>\n",
                            "    </tr>\n",
                            "    <tr>\n",
                            "      <th>...</th>\n",
                            "      <td>...</td>\n",
                            "      <td>...</td>\n",
                            "      <td>...</td>\n",
                            "      <td>...</td>\n",
                            "      <td>...</td>\n",
                            "      <td>...</td>\n",
                            "    </tr>\n",
                            "    <tr>\n",
                            "      <th>3995</th>\n",
                            "      <td>NCM.AX</td>\n",
                            "      <td>WDS.AX</td>\n",
                            "      <td>-0.194271</td>\n",
                            "      <td>Materials</td>\n",
                            "      <td>Energy</td>\n",
                            "      <td>No</td>\n",
                            "    </tr>\n",
                            "    <tr>\n",
                            "      <th>3996</th>\n",
                            "      <td>ABC</td>\n",
                            "      <td>ABT</td>\n",
                            "      <td>-0.257571</td>\n",
                            "      <td>Health Care</td>\n",
                            "      <td>Health Care</td>\n",
                            "      <td>Yes</td>\n",
                            "    </tr>\n",
                            "    <tr>\n",
                            "      <th>3997</th>\n",
                            "      <td>ABT</td>\n",
                            "      <td>AFL</td>\n",
                            "      <td>0.016097</td>\n",
                            "      <td>Health Care</td>\n",
                            "      <td>Financials</td>\n",
                            "      <td>No</td>\n",
                            "    </tr>\n",
                            "    <tr>\n",
                            "      <th>3998</th>\n",
                            "      <td>BWA</td>\n",
                            "      <td>COF</td>\n",
                            "      <td>0.571470</td>\n",
                            "      <td>Consumer Discretionary</td>\n",
                            "      <td>Financials</td>\n",
                            "      <td>No</td>\n",
                            "    </tr>\n",
                            "    <tr>\n",
                            "      <th>3999</th>\n",
                            "      <td>ACGL</td>\n",
                            "      <td>AME</td>\n",
                            "      <td>0.644854</td>\n",
                            "      <td>Financials</td>\n",
                            "      <td>Industrials</td>\n",
                            "      <td>No</td>\n",
                            "    </tr>\n",
                            "  </tbody>\n",
                            "</table>\n",
                            "<p>4000 rows × 6 columns</p>\n",
                            "</div>"
                        ],
                        "text/plain": [
                            "     Ticker1 Ticker2  Correlation                    Ind1   \n",
                            "0        AME     CAH     0.314838             Industrials  \\\n",
                            "1        AMD  PLS.AX    -0.439415  Information Technology   \n",
                            "2       ACGL  NAB.AX     0.164571              Financials   \n",
                            "3        AMD    AVGO     0.785853  Information Technology   \n",
                            "4        ALL  CBA.AX     0.470865              Financials   \n",
                            "...      ...     ...          ...                     ...   \n",
                            "3995  NCM.AX  WDS.AX    -0.194271               Materials   \n",
                            "3996     ABC     ABT    -0.257571             Health Care   \n",
                            "3997     ABT     AFL     0.016097             Health Care   \n",
                            "3998     BWA     COF     0.571470  Consumer Discretionary   \n",
                            "3999    ACGL     AME     0.644854              Financials   \n",
                            "\n",
                            "                        Ind2 Same Industry  \n",
                            "0                Health Care            No  \n",
                            "1                  Materials            No  \n",
                            "2                 Financials           Yes  \n",
                            "3     Information Technology           Yes  \n",
                            "4                 Financials           Yes  \n",
                            "...                      ...           ...  \n",
                            "3995                  Energy            No  \n",
                            "3996             Health Care           Yes  \n",
                            "3997              Financials            No  \n",
                            "3998              Financials            No  \n",
                            "3999             Industrials            No  \n",
                            "\n",
                            "[4000 rows x 6 columns]"
                        ]
                    },
                    "execution_count": 43,
                    "metadata": {},
                    "output_type": "execute_result"
                }
            ],
            "source": [
                "corr_array = []\n",
                "\n",
                "# Iterate through all the pairs in our sample \n",
                "for i in range(len(random_pairs_df)):\n",
                "    \n",
                "    # Calculate the correlation for each pair\n",
                "    corr = stock_prices_df[random_pairs[i][0]].corr(stock_prices_df[random_pairs[i][1]])\n",
                "    # Append the result\n",
                "    corr_array.append([random_pairs[i][0], random_pairs[i][1], corr])\n",
                "    \n",
                "    i += 1\n",
                "# Create a DataFrame from the correlation array\n",
                "corr_df = pd.DataFrame(data=corr_array, columns=['Ticker1', 'Ticker2', 'Correlation'])\n",
                "# Merge with the random_pairs dataframe to add the descriptive colums\n",
                "corr_df = pd.merge(corr_df, random_pairs_df, how='inner', left_on = ['Ticker1', 'Ticker2'], right_on = ['Ticker1', 'Ticker2'])\n",
                "corr_df"
            ]
        },
        {
            "attachments": {},
            "cell_type": "markdown",
            "metadata": {},
            "source": [
                "## Analyze Correlations"
            ]
        },
        {
            "attachments": {},
            "cell_type": "markdown",
            "metadata": {},
            "source": [
                "We are analyzing the absolute values of the correlations as we are interested in the magnitude of the corrleations - negative correlations are as usual as positive ones."
            ]
        },
        {
            "cell_type": "code",
            "execution_count": 44,
            "metadata": {},
            "outputs": [
                {
                    "data": {
                        "text/html": [
                            "<div>\n",
                            "<style scoped>\n",
                            "    .dataframe tbody tr th:only-of-type {\n",
                            "        vertical-align: middle;\n",
                            "    }\n",
                            "\n",
                            "    .dataframe tbody tr th {\n",
                            "        vertical-align: top;\n",
                            "    }\n",
                            "\n",
                            "    .dataframe thead th {\n",
                            "        text-align: right;\n",
                            "    }\n",
                            "</style>\n",
                            "<table border=\"1\" class=\"dataframe\">\n",
                            "  <thead>\n",
                            "    <tr style=\"text-align: right;\">\n",
                            "      <th></th>\n",
                            "      <th>Corr all</th>\n",
                            "      <th>Corr Same Industry</th>\n",
                            "    </tr>\n",
                            "  </thead>\n",
                            "  <tbody>\n",
                            "    <tr>\n",
                            "      <th>count</th>\n",
                            "      <td>4000.000000</td>\n",
                            "      <td>455.000000</td>\n",
                            "    </tr>\n",
                            "    <tr>\n",
                            "      <th>mean</th>\n",
                            "      <td>0.429872</td>\n",
                            "      <td>0.504072</td>\n",
                            "    </tr>\n",
                            "    <tr>\n",
                            "      <th>std</th>\n",
                            "      <td>0.262724</td>\n",
                            "      <td>0.269478</td>\n",
                            "    </tr>\n",
                            "    <tr>\n",
                            "      <th>min</th>\n",
                            "      <td>0.000052</td>\n",
                            "      <td>0.006391</td>\n",
                            "    </tr>\n",
                            "    <tr>\n",
                            "      <th>25%</th>\n",
                            "      <td>0.201176</td>\n",
                            "      <td>0.283012</td>\n",
                            "    </tr>\n",
                            "    <tr>\n",
                            "      <th>50%</th>\n",
                            "      <td>0.412845</td>\n",
                            "      <td>0.505889</td>\n",
                            "    </tr>\n",
                            "    <tr>\n",
                            "      <th>75%</th>\n",
                            "      <td>0.645061</td>\n",
                            "      <td>0.731465</td>\n",
                            "    </tr>\n",
                            "    <tr>\n",
                            "      <th>max</th>\n",
                            "      <td>0.979934</td>\n",
                            "      <td>0.979934</td>\n",
                            "    </tr>\n",
                            "    <tr>\n",
                            "      <th>Median</th>\n",
                            "      <td>0.412845</td>\n",
                            "      <td>0.505889</td>\n",
                            "    </tr>\n",
                            "  </tbody>\n",
                            "</table>\n",
                            "</div>"
                        ],
                        "text/plain": [
                            "           Corr all  Corr Same Industry\n",
                            "count   4000.000000          455.000000\n",
                            "mean       0.429872            0.504072\n",
                            "std        0.262724            0.269478\n",
                            "min        0.000052            0.006391\n",
                            "25%        0.201176            0.283012\n",
                            "50%        0.412845            0.505889\n",
                            "75%        0.645061            0.731465\n",
                            "max        0.979934            0.979934\n",
                            "Median     0.412845            0.505889"
                        ]
                    },
                    "execution_count": 44,
                    "metadata": {},
                    "output_type": "execute_result"
                }
            ],
            "source": [
                "# Absolute correlation levels for ALL pairs\n",
                "corr_all = abs(corr_df['Correlation']).describe() # Convert correlations to absolute values\n",
                "\n",
                "# Absolute correlation levels for pairs in the same industry\n",
                "corr_same_ind = abs(corr_df[corr_df['Same Industry'] == 'Yes']['Correlation']).describe()\n",
                "\n",
                "# Combine the different correlation serieses into a DF for easier display and analysis\n",
                "df = pd.DataFrame(corr_all)\n",
                "df = pd.DataFrame({'Corr all': corr_all, 'Corr Same Industry': corr_same_ind})\n",
                "df.loc['Median', :]= [abs(corr_df['Correlation']).median(), abs(corr_df[corr_df['Same Industry'] == 'Yes']['Correlation']).median()]\n",
                "df"
            ]
        },
        {
            "attachments": {},
            "cell_type": "markdown",
            "metadata": {},
            "source": [
                "<p style=\"background-color:#B8E2F2;\">\n",
                "    <b>Finding:</b> At a summary level there does appear to be a higher correlation level for pairs in the same industry.\n",
                "</p>"
            ]
        },
        {
            "attachments": {},
            "cell_type": "markdown",
            "metadata": {},
            "source": [
                "## Analyse by Industry : Are Some Industry Groups Better Than Others?"
            ]
        },
        {
            "attachments": {},
            "cell_type": "markdown",
            "metadata": {},
            "source": [
                "Creating a DataFrame which gives us some summary info by Industry for Pairs Which are Both in the Same Industry"
            ]
        },
        {
            "cell_type": "code",
            "execution_count": 45,
            "metadata": {},
            "outputs": [],
            "source": [
                "# Take the df of all correlations, extract same industry pairs and get the median correlation and count for those those pairs\n",
                "df = corr_df[corr_df['Same Industry'] == 'Yes'].groupby('Ind1').agg(Median =('Correlation', 'median'),\\\n",
                "                                                                   Count=('Correlation','count'))\n",
                "df = df.reset_index()\n",
                "df['Median'] = abs(df['Median'])\n",
                "df = df.sort_values(['Median', 'Count']).set_index('Ind1', drop=True)\n",
                "df.index.name = \"\""
            ]
        },
        {
            "attachments": {},
            "cell_type": "markdown",
            "metadata": {},
            "source": [
                "If we only have one pair in an industry, it is difficult to make any comparision of that industry vs another.  Thus we will limit our comparison to industries with at least 10 names in it."
            ]
        },
        {
            "cell_type": "code",
            "execution_count": 46,
            "metadata": {
                "scrolled": true
            },
            "outputs": [
                {
                    "data": {
                        "text/html": [
                            "<div>\n",
                            "<style scoped>\n",
                            "    .dataframe tbody tr th:only-of-type {\n",
                            "        vertical-align: middle;\n",
                            "    }\n",
                            "\n",
                            "    .dataframe tbody tr th {\n",
                            "        vertical-align: top;\n",
                            "    }\n",
                            "\n",
                            "    .dataframe thead th {\n",
                            "        text-align: right;\n",
                            "    }\n",
                            "</style>\n",
                            "<table border=\"1\" class=\"dataframe\">\n",
                            "  <thead>\n",
                            "    <tr style=\"text-align: right;\">\n",
                            "      <th></th>\n",
                            "      <th>Median</th>\n",
                            "      <th>Count</th>\n",
                            "    </tr>\n",
                            "    <tr>\n",
                            "      <th></th>\n",
                            "      <th></th>\n",
                            "      <th></th>\n",
                            "    </tr>\n",
                            "  </thead>\n",
                            "  <tbody>\n",
                            "    <tr>\n",
                            "      <th>Health Care</th>\n",
                            "      <td>0.204827</td>\n",
                            "      <td>96</td>\n",
                            "    </tr>\n",
                            "    <tr>\n",
                            "      <th>Materials</th>\n",
                            "      <td>0.260088</td>\n",
                            "      <td>42</td>\n",
                            "    </tr>\n",
                            "    <tr>\n",
                            "      <th>Industrials</th>\n",
                            "      <td>0.352721</td>\n",
                            "      <td>50</td>\n",
                            "    </tr>\n",
                            "    <tr>\n",
                            "      <th>Financials</th>\n",
                            "      <td>0.410218</td>\n",
                            "      <td>144</td>\n",
                            "    </tr>\n",
                            "    <tr>\n",
                            "      <th>Utilities</th>\n",
                            "      <td>0.570165</td>\n",
                            "      <td>12</td>\n",
                            "    </tr>\n",
                            "    <tr>\n",
                            "      <th>Information Technology</th>\n",
                            "      <td>0.579343</td>\n",
                            "      <td>53</td>\n",
                            "    </tr>\n",
                            "    <tr>\n",
                            "      <th>Consumer Discretionary</th>\n",
                            "      <td>0.738115</td>\n",
                            "      <td>34</td>\n",
                            "    </tr>\n",
                            "    <tr>\n",
                            "      <th>Real Estate</th>\n",
                            "      <td>0.877315</td>\n",
                            "      <td>15</td>\n",
                            "    </tr>\n",
                            "  </tbody>\n",
                            "</table>\n",
                            "</div>"
                        ],
                        "text/plain": [
                            "                          Median  Count\n",
                            "                                       \n",
                            "Health Care             0.204827     96\n",
                            "Materials               0.260088     42\n",
                            "Industrials             0.352721     50\n",
                            "Financials              0.410218    144\n",
                            "Utilities               0.570165     12\n",
                            "Information Technology  0.579343     53\n",
                            "Consumer Discretionary  0.738115     34\n",
                            "Real Estate             0.877315     15"
                        ]
                    },
                    "execution_count": 46,
                    "metadata": {},
                    "output_type": "execute_result"
                }
            ],
            "source": [
                "# Limit our target dataframe to only include sectors with 10 or more members\n",
                "df = df[df['Count']>=10]\n",
                "df = df.sort_values('Median')\n",
                "df"
            ]
        },
        {
            "attachments": {},
            "cell_type": "markdown",
            "metadata": {},
            "source": [
                "## Display Results Graphically"
            ]
        },
        {
            "cell_type": "code",
            "execution_count": 47,
            "metadata": {},
            "outputs": [
                {
                    "data": {
                        "image/png": "[encoded data removed]",
                        "text/plain": [
                            "<Figure size 1000x1000 with 1 Axes>"
                        ]
                    },
                    "metadata": {},
                    "output_type": "display_data"
                }
            ],
            "source": [
                "def same_vs_random_ind_plot():\n",
                "\n",
                "    # Calculate median correlations\n",
                "    medians_same_ind = abs(df['Median'])\n",
                "    medians_all_ind = abs(corr_df.groupby('Ind1')['Correlation'].median())\n",
                "\n",
                "    # We only want to plot the industries that have sufficient same industry pairs\n",
                "    medians_all_ind = medians_all_ind[medians_all_ind.index.isin(df.index)]\n",
                "\n",
                "    # Create figure and axis\n",
                "    fig, ax = plt.subplots(figsize=[10,10])\n",
                "\n",
                "    # Set a width for the bars\n",
                "    b_width = 0.25\n",
                "\n",
                "    # We have to define bar positions if we want the different plots to be side by side\n",
                "    b1_positions = np.arange(len(medians_same_ind))\n",
                "    b2_positions = b1_positions + b_width # Puts the position beside the prior bar\n",
                "\n",
                "    # Create the two bar charts\n",
                "    ax.barh(b1_positions, medians_same_ind, height=b_width, label='Median Correlation by Industry for Pairs in the Same Industry')\n",
                "    ax.barh(b2_positions, medians_all_ind, height=b_width, label='Median Correlation by Industry for ALL Pairs')\n",
                "\n",
                "    # Define tick sizes, x and y labels as well as the title\n",
                "    ax.set_yticks(b1_positions + b_width / 2) # set spacings for the ticks\n",
                "    ax.set_yticklabels(medians_same_ind.index) # label the ticks\n",
                "    ax.set_ylabel('Industry')\n",
                "    ax.set_xlabel('Median Correlation')\n",
                "\n",
                "    ax.set_title('Median Correlation by Industry')\n",
                "\n",
                "    # Show legend\n",
                "    ax.legend()\n",
                "\n",
                "    return ax\n",
                "\n",
                "# Run function to generate bar plot comparing same industry pairs vs random pairs by industry group\n",
                "ax = same_vs_random_ind_plot()\n"
            ]
        },
        {
            "attachments": {},
            "cell_type": "markdown",
            "metadata": {},
            "source": [
                "<p style=\"background-color:#B8E2F2;\">\n",
                "    <b>Finding:</b> The range of correlations does vary signficantly across industries.\n",
                "</p>"
            ]
        },
        {
            "attachments": {},
            "cell_type": "markdown",
            "metadata": {},
            "source": [
                "<p style=\"background-color:#B8E2F2;\">\n",
                "    <b>Finding:</b> This graph also reinforces the earlier finding that the correlation levels are higher for pairs which are both in the same industry vs disparate pairs - as the same industry pairs have higher correlation for almost all industries\n",
                "</p>"
            ]
        },
        {
            "attachments": {},
            "cell_type": "markdown",
            "metadata": {},
            "source": [
                "<p style=\"background-color:#B8E2F2;\">\n",
                "    <b>Finding:</b> It appears that there seems to be INVERSE correlation between the number of members in the Sector and the Median correlation of Sector Members.\n",
                "    \n",
                "One possible explanation for this may be that Sectors with larger numbers of members may also be those defined broadly.  If the Sector is quite broad the business models within that sector are likley to become less closely related.\n",
                "\n",
                "This would require further data analysis and possibly include trying to create sub sectors to see if that creates higher correlation levels.\n",
                "</p>"
            ]
        },
        {
            "cell_type": "code",
            "execution_count": 48,
            "metadata": {},
            "outputs": [
                {
                    "data": {
                        "text/html": [
                            "<div>\n",
                            "<style scoped>\n",
                            "    .dataframe tbody tr th:only-of-type {\n",
                            "        vertical-align: middle;\n",
                            "    }\n",
                            "\n",
                            "    .dataframe tbody tr th {\n",
                            "        vertical-align: top;\n",
                            "    }\n",
                            "\n",
                            "    .dataframe thead th {\n",
                            "        text-align: right;\n",
                            "    }\n",
                            "</style>\n",
                            "<table border=\"1\" class=\"dataframe\">\n",
                            "  <thead>\n",
                            "    <tr style=\"text-align: right;\">\n",
                            "      <th></th>\n",
                            "      <th>Median</th>\n",
                            "      <th>Count</th>\n",
                            "    </tr>\n",
                            "  </thead>\n",
                            "  <tbody>\n",
                            "    <tr>\n",
                            "      <th>Median</th>\n",
                            "      <td>1.000000</td>\n",
                            "      <td>-0.544386</td>\n",
                            "    </tr>\n",
                            "    <tr>\n",
                            "      <th>Count</th>\n",
                            "      <td>-0.544386</td>\n",
                            "      <td>1.000000</td>\n",
                            "    </tr>\n",
                            "  </tbody>\n",
                            "</table>\n",
                            "</div>"
                        ],
                        "text/plain": [
                            "          Median     Count\n",
                            "Median  1.000000 -0.544386\n",
                            "Count  -0.544386  1.000000"
                        ]
                    },
                    "execution_count": 48,
                    "metadata": {},
                    "output_type": "execute_result"
                }
            ],
            "source": [
                "df.corr()"
            ]
        },
        {
            "attachments": {},
            "cell_type": "markdown",
            "metadata": {},
            "source": [
                "<a id=\"Findings\"></a>\n",
                "# 11. Summary of Findings"
            ]
        },
        {
            "attachments": {},
            "cell_type": "markdown",
            "metadata": {},
            "source": [
                "We found that from a sample of 115 stocks we can produce a universe of approximately 6,500 pairs which is seems quite a healthy population size.  We trimmed this to 4,000 pairs to ensure our processing environment can handle our analysis.\n",
                "When we break out how many of those represent pairs in the same industry, we have 729 pairs in our total universe of pairs and then 458 pairs when we trim to a starting sample size of 4,000 pairs.  458 pairs again seems like a reasonably robust sample size to draw some initial conclusions from.\n",
                "\n",
                "Our pairs are split across 11 different sector groups with the Financials and Health Care sectors have the most members and the Energy and Communications Services sectors having the least.  This relatively wide distribution across sectors is important given the key factor we are investigating is sector/ industry type.  For example, it would be problematic if there were only two or three industries and 99% of the members fell into only one industry.\n",
                "\n",
                "The sample population pairs have a mean and median correlation level of .43 and .41.  That is certainly meaningful and demonstrates that even random sets of pairs on average have a reasonable level of correlation.  That is consistent with general stock market findings where overall stocks move in the same direction.  This correlation for all stocks is why it was important we set a benchark to compare the pairs in the same industry - simply finding a non zero corrleation for our same industry pairs would not have helped determine if it is an appropriate factor.\n",
                "\n",
                "The same industry pairs have a mean and median correlation level of .50 (vs 0.43) and 0.51(vs .41) which represents a meaningfully higher level than the random pairs.  Importantly, this higher correlation also appears to occur with a high (but not absolute) level of consistency across sectors.\n",
                "\n",
                "It is definitely the case that the correlation levels vary by sector (when considering pairs in the same sector) and vary quite signficantly:\n",
                "* Real Estate has a median correlation level of 0.88; vs\n",
                "* Healthcare 0.19.\n",
                "    \n",
                "In looking for reasons for the variance across industries one factor we identified was those sectors with a large number of members seemed generally to have lower correlation levels, perhaps indicating that they are 'broader' in their industry definition and thus their are less synergies in the business models of members.  Additional steps we could take to confirm this include:\n",
                "* doing the same analysis at the sub-industry level\n",
                "* doing our analysis for multiple time periods\n",
                "* increasing our population and sample size to analyze a greater number of pairs.\n",
                "    \n"
            ]
        },
        {
            "attachments": {},
            "cell_type": "markdown",
            "metadata": {},
            "source": [
                "<a id=\"References\"></a>\n",
                "# 12. References"
            ]
        },
        {
            "attachments": {},
            "cell_type": "markdown",
            "metadata": {},
            "source": [
                "Aroussi, R., 2023, yfinance.[python library]  \n",
                "> Available at https://pypi.org/project/yfinance/(Accessed: 3 August, 2023)\n",
                "\n",
                "ASX, 2023.  *Top 20 Shares by Value.* [pdf] \n",
                "> Available at https://www.asx.com.au/data/dw_sharesbyvalue.pdf (Accessed, August 3 2023).\n",
                "\n",
                "Investopedia.com, 2023. *Pairs Trade: Definition, How Strategy Works, and Example*\n",
                "https://www.investopedia.com/terms/p/pairstrade.asp (Accessed: 8 August, 2023)\n",
                "\n",
                "Wikipedia, 2023. *S&P 500 component stocks.*\n",
                "> Available at https://en.wikipedia.org/wiki/List_of_S%26P_500_companies (Accessed: July 31 2023)\n",
                "\n",
                "Yahoo Finance, 2023.  *Stock Market and Foreign Currency Historical Market Data.*  \n",
                "> Available at:\n",
                "    https://finance.yahoo.com/quote/[Symbol_Code]/history?p=[Symbol_Code](Accessed: 3 August, 2023)\n",
                "\n",
                "Yahoo Finance, 2023.  *Company Profile Data Incuding Sector Name.*  \n",
                "> Available at:\n",
                "    https://finance.yahoo.com/quote/[Symbol_Code]/profile?p=[Symbol_Code](Accessed: 3 August, 2023)\n",
                "\n",
                "> Note: 115 different stocks and four different foreign currencies were analyzed and thus the individual symbol codes for each are not listed.\n"
            ]
        },
        {
            "cell_type": "code",
            "execution_count": 49,
            "metadata": {},
            "outputs": [
                {
                    "name": "stdout",
                    "output_type": "stream",
                    "text": [
                        "2023-08-10 20:57:04.029012\n"
                    ]
                }
            ],
            "source": [
                "# Observe when notebook was last run all the way through successfully\n",
                "print(datetime.now())"
            ]
        }
    ],
    "metadata": {
        "kernelspec": {
            "display_name": "Python 3 (ipykernel)",
            "language": "python",
            "name": "python3"
        },
        "language_info": {
            "codemirror_mode": {
                "name": "ipython",
                "version": 3
            },
            "file_extension": ".py",
            "mimetype": "text/x-python",
            "name": "python",
            "nbconvert_exporter": "python",
            "pygments_lexer": "ipython3",
            "version": "3.11.3"
        }
    },
    "nbformat": 4,
    "nbformat_minor": 5
}
