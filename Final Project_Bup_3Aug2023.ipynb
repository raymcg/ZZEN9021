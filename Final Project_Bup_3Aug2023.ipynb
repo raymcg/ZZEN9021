{
 "cells": [
  {
   "cell_type": "markdown",
   "id": "930f82c8",
   "metadata": {},
   "source": [
    "# Final Assignment"
   ]
  },
  {
   "cell_type": "markdown",
   "id": "45d766ee",
   "metadata": {},
   "source": [
    "# Correlation Between Companies in The Same Industry\n",
    "\n",
    "Summary of Contents\n",
    "\n",
    "- [1 Introduction](#toc_1)\n",
    "- [2 Questions 2 heading](#toc_2)\n",
    "- [3 Import Required Libraries](#toc_3)\n"
   ]
  },
  {
   "cell_type": "markdown",
   "id": "d149bde3",
   "metadata": {},
   "source": [
    "<a name=\"toc_1\"></a>\n",
    "# Introduction"
   ]
  },
  {
   "cell_type": "markdown",
   "id": "8185240c",
   "metadata": {},
   "source": [
    "intro intro intro"
   ]
  },
  {
   "cell_type": "code",
   "execution_count": null,
   "id": "606424ae",
   "metadata": {},
   "outputs": [],
   "source": []
  },
  {
   "cell_type": "markdown",
   "id": "92063281",
   "metadata": {},
   "source": [
    "# Style Testing"
   ]
  },
  {
   "cell_type": "markdown",
   "id": "dbfe65f6",
   "metadata": {},
   "source": [
    "<p style=\"background-color:Yellow;\">test</p>"
   ]
  },
  {
   "cell_type": "markdown",
   "id": "37429ba4",
   "metadata": {},
   "source": [
    "<p style=\"background-color:#B8E2F2;\">\n",
    "    <b>Finding:</b> test test test \n",
    "</p>"
   ]
  },
  {
   "cell_type": "markdown",
   "id": "5908aaf9",
   "metadata": {},
   "source": [
    "<a name=\"toc_2\"></a>\n",
    "# Questions"
   ]
  },
  {
   "cell_type": "markdown",
   "id": "b3c9c004",
   "metadata": {},
   "source": [
    "Are pairs in the same industry more closely correlated in their price movements than random pairs\n",
    "\n",
    "If pairs are more closely correlated, do they also show higher levels of co-integration.\n",
    "\n",
    "How many different stocks would we have to obtain data for to have a sufficient sample size?\n",
    "\n",
    "How many pairs would would be need to select to have a sufficient sample size?\n",
    "\n",
    "Do some industries show better correlation than others?\n",
    "\n",
    "If there is a corrleation difference, is the correlation difference significant over a longer period such as a year vs a shorter period such as one month.\n",
    "\n"
   ]
  },
  {
   "cell_type": "markdown",
   "id": "d79c2bd5",
   "metadata": {},
   "source": [
    "<a name=\"toc_3\"></a>\n",
    "# Import Required Libraries"
   ]
  },
  {
   "cell_type": "code",
   "execution_count": 1,
   "id": "f7cb2193",
   "metadata": {},
   "outputs": [],
   "source": [
    "import yfinance as yf\n",
    "import numpy as np\n",
    "import pandas as pd\n",
    "\n",
    "from datetime import datetime, timedelta"
   ]
  },
  {
   "cell_type": "code",
   "execution_count": 2,
   "id": "d053b807",
   "metadata": {},
   "outputs": [],
   "source": [
    "import itertools"
   ]
  },
  {
   "cell_type": "code",
   "execution_count": 3,
   "id": "3fcb72b4",
   "metadata": {},
   "outputs": [],
   "source": [
    "from random import sample"
   ]
  },
  {
   "cell_type": "code",
   "execution_count": 4,
   "id": "d8e3bfda",
   "metadata": {},
   "outputs": [],
   "source": [
    "import matplotlib.pyplot as plt\n",
    "import seaborn as sns"
   ]
  },
  {
   "cell_type": "markdown",
   "id": "d9d21196",
   "metadata": {},
   "source": [
    "# Set Inputs"
   ]
  },
  {
   "cell_type": "code",
   "execution_count": 5,
   "id": "b72ac8cb",
   "metadata": {},
   "outputs": [],
   "source": [
    "# Target Input Files\n",
    "STOCK_PRICES_FNAME = \"prices_shares.csv\"\n",
    "FX_PRICES_FNAME = \"prices_fx.csv\"\n",
    "SP500_MEMBERS_FNAME = \"sp500_info.csv\"\n",
    "ASX_MEMBERS_FNAME = \"asx_15_info.csv\"\n",
    "\n",
    "#FILEPATH = \"C:\\\\Dropbox\\\\Variance\\\\UNSW\\\\ZZEN9021\\\\\""
   ]
  },
  {
   "cell_type": "code",
   "execution_count": 6,
   "id": "72200a84",
   "metadata": {},
   "outputs": [
    {
     "data": {
      "text/plain": [
       "\"\\ncols = ['Symbol', 'Security','GICS Sector']\\n\\ndata = [\\n['BHP.AX', 'BHP GROUP' ,'Materials'],\\n['FMG.AX', 'FORTESCUE', 'Materials'],\\n['MQG.AX', 'MACQUARIE GROUP', 'Financials'],\\n['CBA.AX', 'COMMONWEATH BANK', 'Financials'],\\n['RIO.AX', 'RIO TINTO', 'Materials'],\\n['CSL.AX', 'CSL', 'Health Care'],\\n['WDS.AX', 'WOODSIDE','Energy'],\\n['ANZ.AX', 'ANZ GROUP', 'Financials'],\\n['PLS.AX', 'PILBARAMIN', 'Materials'],\\n['NAB.AX', 'NATIONAL AUSTRALIA BANK', 'Financials'],\\n['WBC.AX', 'WESTPAC ', 'Financials'],\\n['RMD.AX', 'RESMED', 'Health Care'],\\n['NCM.AX', 'NEWCREST', 'Materials'],\\n['NST.AX', 'NTH STAR', 'Materials'],\\n['GMG.AX', 'GOODMAN GROUP', 'Real Estate'],\\n]\\n\\ndf = pd.DataFrame(data = data, columns=cols)\\n\\ndf.to_csv('asx_15_info.csv', index=False)\\ndf\\n\""
      ]
     },
     "execution_count": 6,
     "metadata": {},
     "output_type": "execute_result"
    }
   ],
   "source": [
    "\"\"\"\n",
    "cols = ['Symbol', 'Security','GICS Sector']\n",
    "\n",
    "data = [\n",
    "['BHP.AX', 'BHP GROUP' ,'Materials'],\n",
    "['FMG.AX', 'FORTESCUE', 'Materials'],\n",
    "['MQG.AX', 'MACQUARIE GROUP', 'Financials'],\n",
    "['CBA.AX', 'COMMONWEATH BANK', 'Financials'],\n",
    "['RIO.AX', 'RIO TINTO', 'Materials'],\n",
    "['CSL.AX', 'CSL', 'Health Care'],\n",
    "['WDS.AX', 'WOODSIDE','Energy'],\n",
    "['ANZ.AX', 'ANZ GROUP', 'Financials'],\n",
    "['PLS.AX', 'PILBARAMIN', 'Materials'],\n",
    "['NAB.AX', 'NATIONAL AUSTRALIA BANK', 'Financials'],\n",
    "['WBC.AX', 'WESTPAC ', 'Financials'],\n",
    "['RMD.AX', 'RESMED', 'Health Care'],\n",
    "['NCM.AX', 'NEWCREST', 'Materials'],\n",
    "['NST.AX', 'NTH STAR', 'Materials'],\n",
    "['GMG.AX', 'GOODMAN GROUP', 'Real Estate'],\n",
    "]\n",
    "\n",
    "df = pd.DataFrame(data = data, columns=cols)\n",
    "\n",
    "df.to_csv('asx_15_info.csv', index=False)\n",
    "df\n",
    "\"\"\"\n"
   ]
  },
  {
   "cell_type": "code",
   "execution_count": 7,
   "id": "9da2fac5",
   "metadata": {},
   "outputs": [],
   "source": [
    "# List of tickers/symbols of currencies that we wish to handle\n",
    "FX_TICKERS = [\"AUDUSD=X\", \"HKDUSD=X\", \"JPYUSD=X\", \"SGDUSD=X\"]"
   ]
  },
  {
   "cell_type": "markdown",
   "id": "7183d69c",
   "metadata": {},
   "source": [
    "The key data we are accessing is pricing information for stocks and fx rates.\n",
    "\n",
    "Periodically we need to refresh this information as components of the indexes change, corporate actions occur etc.\n",
    "\n",
    "However, obtaining this information requires downloading it and thus we want to limit that to when required and not download it every time we run the program.\n",
    "\n",
    "We thus set a flag (REFRESH_DATA) which we can adjust before running the program identifying  whether to refresh our data or not."
   ]
  },
  {
   "cell_type": "code",
   "execution_count": 8,
   "id": "99e81318",
   "metadata": {},
   "outputs": [],
   "source": [
    "# When running within Ed this needs to remain as False as their are restrictions on accessing external web sites\n",
    "REFRESH_DATA = True"
   ]
  },
  {
   "cell_type": "markdown",
   "id": "f621dde5",
   "metadata": {},
   "source": [
    "Set constants to determine limits on file size and number of pairs processed to limit processing and memory requirements."
   ]
  },
  {
   "cell_type": "code",
   "execution_count": 9,
   "id": "89c963e7",
   "metadata": {},
   "outputs": [],
   "source": [
    "# Instead of choosing all 500 names from the S&P500, pick a selection to reduce the file sizes\n",
    "SP500_SAMPLE_SIZE = 100\n",
    "\n",
    "# From our list of all generated pairs, select a random sample to reduce processing requiremens\n",
    "#RDM_SAMPLE_SIZE = 20000\n",
    "RDM_SAMPLE_SIZE = 4000"
   ]
  },
  {
   "cell_type": "markdown",
   "id": "26b0c185",
   "metadata": {},
   "source": [
    "# Obtain Names in SP500"
   ]
  },
  {
   "cell_type": "markdown",
   "id": "86e93ef2",
   "metadata": {},
   "source": [
    "If the refresh data flag is set to True, we run the function to scrape the list of names in the S&P500 from Wikipedia and save this to a csv file.\n",
    "\n",
    "If flag is set to false, the program will use the current version of the csv file."
   ]
  },
  {
   "cell_type": "code",
   "execution_count": 10,
   "id": "47f17342",
   "metadata": {},
   "outputs": [],
   "source": [
    "def obtain_sp500_info():\n",
    "    \"\"\"\n",
    "    Function to Scrape Details About S&P500 Components from Wikipedia.\n",
    "    Saves the current S&P Components into a csv file.\n",
    "    \"\"\"\n",
    "\n",
    "    # Scrape the list of components companies in the S&P500 as per Wikipedia\n",
    "    table=pd.read_html('https://en.wikipedia.org/wiki/List_of_S%26P_500_companies')\n",
    "    \n",
    "    # Take the first item in the list obtained from table which contains a dataframe of current S&P components \n",
    "    df = table[0]\n",
    "      \n",
    "    # Save the component stocks to a csv file\n",
    "    df.to_csv(SP500_MEMBERS_FNAME, index=False)\n",
    "    \n",
    "# If refresh flag is True, download current data via running the obtain_sp_500_info function\n",
    "if REFRESH_DATA:\n",
    "    obtain_sp500_info()\n",
    "    "
   ]
  },
  {
   "cell_type": "markdown",
   "id": "143e6d97",
   "metadata": {},
   "source": [
    "Read the Most current version of the csv file that contains the S&P component information."
   ]
  },
  {
   "cell_type": "code",
   "execution_count": 11,
   "id": "8cc59efe",
   "metadata": {},
   "outputs": [
    {
     "data": {
      "text/html": [
       "<div>\n",
       "<style scoped>\n",
       "    .dataframe tbody tr th:only-of-type {\n",
       "        vertical-align: middle;\n",
       "    }\n",
       "\n",
       "    .dataframe tbody tr th {\n",
       "        vertical-align: top;\n",
       "    }\n",
       "\n",
       "    .dataframe thead th {\n",
       "        text-align: right;\n",
       "    }\n",
       "</style>\n",
       "<table border=\"1\" class=\"dataframe\">\n",
       "  <thead>\n",
       "    <tr style=\"text-align: right;\">\n",
       "      <th></th>\n",
       "      <th>Symbol</th>\n",
       "      <th>Security</th>\n",
       "      <th>GICS Sector</th>\n",
       "      <th>GICS Sub-Industry</th>\n",
       "      <th>Headquarters Location</th>\n",
       "      <th>Date added</th>\n",
       "      <th>CIK</th>\n",
       "      <th>Founded</th>\n",
       "    </tr>\n",
       "  </thead>\n",
       "  <tbody>\n",
       "    <tr>\n",
       "      <th>0</th>\n",
       "      <td>MMM</td>\n",
       "      <td>3M</td>\n",
       "      <td>Industrials</td>\n",
       "      <td>Industrial Conglomerates</td>\n",
       "      <td>Saint Paul, Minnesota</td>\n",
       "      <td>1957-03-04</td>\n",
       "      <td>66740</td>\n",
       "      <td>1902</td>\n",
       "    </tr>\n",
       "    <tr>\n",
       "      <th>1</th>\n",
       "      <td>AOS</td>\n",
       "      <td>A. O. Smith</td>\n",
       "      <td>Industrials</td>\n",
       "      <td>Building Products</td>\n",
       "      <td>Milwaukee, Wisconsin</td>\n",
       "      <td>2017-07-26</td>\n",
       "      <td>91142</td>\n",
       "      <td>1916</td>\n",
       "    </tr>\n",
       "    <tr>\n",
       "      <th>2</th>\n",
       "      <td>ABT</td>\n",
       "      <td>Abbott</td>\n",
       "      <td>Health Care</td>\n",
       "      <td>Health Care Equipment</td>\n",
       "      <td>North Chicago, Illinois</td>\n",
       "      <td>1957-03-04</td>\n",
       "      <td>1800</td>\n",
       "      <td>1888</td>\n",
       "    </tr>\n",
       "    <tr>\n",
       "      <th>3</th>\n",
       "      <td>ABBV</td>\n",
       "      <td>AbbVie</td>\n",
       "      <td>Health Care</td>\n",
       "      <td>Pharmaceuticals</td>\n",
       "      <td>North Chicago, Illinois</td>\n",
       "      <td>2012-12-31</td>\n",
       "      <td>1551152</td>\n",
       "      <td>2013 (1888)</td>\n",
       "    </tr>\n",
       "    <tr>\n",
       "      <th>4</th>\n",
       "      <td>ACN</td>\n",
       "      <td>Accenture</td>\n",
       "      <td>Information Technology</td>\n",
       "      <td>IT Consulting &amp; Other Services</td>\n",
       "      <td>Dublin, Ireland</td>\n",
       "      <td>2011-07-06</td>\n",
       "      <td>1467373</td>\n",
       "      <td>1989</td>\n",
       "    </tr>\n",
       "    <tr>\n",
       "      <th>...</th>\n",
       "      <td>...</td>\n",
       "      <td>...</td>\n",
       "      <td>...</td>\n",
       "      <td>...</td>\n",
       "      <td>...</td>\n",
       "      <td>...</td>\n",
       "      <td>...</td>\n",
       "      <td>...</td>\n",
       "    </tr>\n",
       "    <tr>\n",
       "      <th>498</th>\n",
       "      <td>YUM</td>\n",
       "      <td>Yum! Brands</td>\n",
       "      <td>Consumer Discretionary</td>\n",
       "      <td>Restaurants</td>\n",
       "      <td>Louisville, Kentucky</td>\n",
       "      <td>1997-10-06</td>\n",
       "      <td>1041061</td>\n",
       "      <td>1997</td>\n",
       "    </tr>\n",
       "    <tr>\n",
       "      <th>499</th>\n",
       "      <td>ZBRA</td>\n",
       "      <td>Zebra Technologies</td>\n",
       "      <td>Information Technology</td>\n",
       "      <td>Electronic Equipment &amp; Instruments</td>\n",
       "      <td>Lincolnshire, Illinois</td>\n",
       "      <td>2019-12-23</td>\n",
       "      <td>877212</td>\n",
       "      <td>1969</td>\n",
       "    </tr>\n",
       "    <tr>\n",
       "      <th>500</th>\n",
       "      <td>ZBH</td>\n",
       "      <td>Zimmer Biomet</td>\n",
       "      <td>Health Care</td>\n",
       "      <td>Health Care Equipment</td>\n",
       "      <td>Warsaw, Indiana</td>\n",
       "      <td>2001-08-07</td>\n",
       "      <td>1136869</td>\n",
       "      <td>1927</td>\n",
       "    </tr>\n",
       "    <tr>\n",
       "      <th>501</th>\n",
       "      <td>ZION</td>\n",
       "      <td>Zions Bancorporation</td>\n",
       "      <td>Financials</td>\n",
       "      <td>Regional Banks</td>\n",
       "      <td>Salt Lake City, Utah</td>\n",
       "      <td>2001-06-22</td>\n",
       "      <td>109380</td>\n",
       "      <td>1873</td>\n",
       "    </tr>\n",
       "    <tr>\n",
       "      <th>502</th>\n",
       "      <td>ZTS</td>\n",
       "      <td>Zoetis</td>\n",
       "      <td>Health Care</td>\n",
       "      <td>Pharmaceuticals</td>\n",
       "      <td>Parsippany, New Jersey</td>\n",
       "      <td>2013-06-21</td>\n",
       "      <td>1555280</td>\n",
       "      <td>1952</td>\n",
       "    </tr>\n",
       "  </tbody>\n",
       "</table>\n",
       "<p>503 rows × 8 columns</p>\n",
       "</div>"
      ],
      "text/plain": [
       "    Symbol              Security             GICS Sector  \\\n",
       "0      MMM                    3M             Industrials   \n",
       "1      AOS           A. O. Smith             Industrials   \n",
       "2      ABT                Abbott             Health Care   \n",
       "3     ABBV                AbbVie             Health Care   \n",
       "4      ACN             Accenture  Information Technology   \n",
       "..     ...                   ...                     ...   \n",
       "498    YUM           Yum! Brands  Consumer Discretionary   \n",
       "499   ZBRA    Zebra Technologies  Information Technology   \n",
       "500    ZBH         Zimmer Biomet             Health Care   \n",
       "501   ZION  Zions Bancorporation              Financials   \n",
       "502    ZTS                Zoetis             Health Care   \n",
       "\n",
       "                      GICS Sub-Industry    Headquarters Location  Date added  \\\n",
       "0              Industrial Conglomerates    Saint Paul, Minnesota  1957-03-04   \n",
       "1                     Building Products     Milwaukee, Wisconsin  2017-07-26   \n",
       "2                 Health Care Equipment  North Chicago, Illinois  1957-03-04   \n",
       "3                       Pharmaceuticals  North Chicago, Illinois  2012-12-31   \n",
       "4        IT Consulting & Other Services          Dublin, Ireland  2011-07-06   \n",
       "..                                  ...                      ...         ...   \n",
       "498                         Restaurants     Louisville, Kentucky  1997-10-06   \n",
       "499  Electronic Equipment & Instruments   Lincolnshire, Illinois  2019-12-23   \n",
       "500               Health Care Equipment          Warsaw, Indiana  2001-08-07   \n",
       "501                      Regional Banks     Salt Lake City, Utah  2001-06-22   \n",
       "502                     Pharmaceuticals   Parsippany, New Jersey  2013-06-21   \n",
       "\n",
       "         CIK      Founded  \n",
       "0      66740         1902  \n",
       "1      91142         1916  \n",
       "2       1800         1888  \n",
       "3    1551152  2013 (1888)  \n",
       "4    1467373         1989  \n",
       "..       ...          ...  \n",
       "498  1041061         1997  \n",
       "499   877212         1969  \n",
       "500  1136869         1927  \n",
       "501   109380         1873  \n",
       "502  1555280         1952  \n",
       "\n",
       "[503 rows x 8 columns]"
      ]
     },
     "execution_count": 11,
     "metadata": {},
     "output_type": "execute_result"
    }
   ],
   "source": [
    "sp500_info_df = pd.read_csv(SP500_MEMBERS_FNAME)\n",
    "sp500_info_df"
   ]
  },
  {
   "cell_type": "code",
   "execution_count": 12,
   "id": "756cc4a1",
   "metadata": {},
   "outputs": [],
   "source": [
    "# Trim the number of S&P500 members we are going to review given processing constraints\n",
    "\n",
    "sp500_info_df = sp500_info_df[:SP500_SAMPLE_SIZE].copy()"
   ]
  },
  {
   "cell_type": "markdown",
   "id": "c047e40d",
   "metadata": {},
   "source": [
    "Review the number of members to check that it equals the input constant SP500_SAMPLE_SIZE and also that there are no duplicate symbols"
   ]
  },
  {
   "cell_type": "code",
   "execution_count": 13,
   "id": "532b593d",
   "metadata": {},
   "outputs": [
    {
     "name": "stdout",
     "output_type": "stream",
     "text": [
      "100\n",
      "100\n",
      "100\n"
     ]
    }
   ],
   "source": [
    "print(SP500_SAMPLE_SIZE)\n",
    "print(sp500_info_df['Symbol'].count())\n",
    "print(len(sp500_info_df['Symbol'].unique()))"
   ]
  },
  {
   "cell_type": "markdown",
   "id": "2fc67d4c",
   "metadata": {},
   "source": [
    "<span style=\"color:green\">&#x2705;</span>"
   ]
  },
  {
   "cell_type": "markdown",
   "id": "244d5daf",
   "metadata": {},
   "source": [
    "Check for any periods in the stock names for US listed stocks (which includes all our S&P500 members).  Yahoo Finance, which is where we download the prices from, uses the convention that A shares and B shares utilize dashes in their names instead of periods."
   ]
  },
  {
   "cell_type": "code",
   "execution_count": 14,
   "id": "95180de9",
   "metadata": {},
   "outputs": [
    {
     "data": {
      "text/html": [
       "<div>\n",
       "<style scoped>\n",
       "    .dataframe tbody tr th:only-of-type {\n",
       "        vertical-align: middle;\n",
       "    }\n",
       "\n",
       "    .dataframe tbody tr th {\n",
       "        vertical-align: top;\n",
       "    }\n",
       "\n",
       "    .dataframe thead th {\n",
       "        text-align: right;\n",
       "    }\n",
       "</style>\n",
       "<table border=\"1\" class=\"dataframe\">\n",
       "  <thead>\n",
       "    <tr style=\"text-align: right;\">\n",
       "      <th></th>\n",
       "      <th>Symbol</th>\n",
       "      <th>Security</th>\n",
       "      <th>GICS Sector</th>\n",
       "      <th>GICS Sub-Industry</th>\n",
       "      <th>Headquarters Location</th>\n",
       "      <th>Date added</th>\n",
       "      <th>CIK</th>\n",
       "      <th>Founded</th>\n",
       "    </tr>\n",
       "  </thead>\n",
       "  <tbody>\n",
       "    <tr>\n",
       "      <th>65</th>\n",
       "      <td>BRK.B</td>\n",
       "      <td>Berkshire Hathaway</td>\n",
       "      <td>Financials</td>\n",
       "      <td>Multi-Sector Holdings</td>\n",
       "      <td>Omaha, Nebraska</td>\n",
       "      <td>2010-02-16</td>\n",
       "      <td>1067983</td>\n",
       "      <td>1839</td>\n",
       "    </tr>\n",
       "    <tr>\n",
       "      <th>81</th>\n",
       "      <td>BF.B</td>\n",
       "      <td>Brown–Forman</td>\n",
       "      <td>Consumer Staples</td>\n",
       "      <td>Distillers &amp; Vintners</td>\n",
       "      <td>Louisville, Kentucky</td>\n",
       "      <td>1982-10-31</td>\n",
       "      <td>14693</td>\n",
       "      <td>1870</td>\n",
       "    </tr>\n",
       "  </tbody>\n",
       "</table>\n",
       "</div>"
      ],
      "text/plain": [
       "   Symbol            Security       GICS Sector      GICS Sub-Industry  \\\n",
       "65  BRK.B  Berkshire Hathaway        Financials  Multi-Sector Holdings   \n",
       "81   BF.B        Brown–Forman  Consumer Staples  Distillers & Vintners   \n",
       "\n",
       "   Headquarters Location  Date added      CIK Founded  \n",
       "65       Omaha, Nebraska  2010-02-16  1067983    1839  \n",
       "81  Louisville, Kentucky  1982-10-31    14693    1870  "
      ]
     },
     "execution_count": 14,
     "metadata": {},
     "output_type": "execute_result"
    }
   ],
   "source": [
    "sp500_info_df[sp500_info_df['Symbol'].str.contains(\".\", regex=False)]"
   ]
  },
  {
   "cell_type": "code",
   "execution_count": 15,
   "id": "e3c27668",
   "metadata": {},
   "outputs": [
    {
     "data": {
      "text/html": [
       "<div>\n",
       "<style scoped>\n",
       "    .dataframe tbody tr th:only-of-type {\n",
       "        vertical-align: middle;\n",
       "    }\n",
       "\n",
       "    .dataframe tbody tr th {\n",
       "        vertical-align: top;\n",
       "    }\n",
       "\n",
       "    .dataframe thead th {\n",
       "        text-align: right;\n",
       "    }\n",
       "</style>\n",
       "<table border=\"1\" class=\"dataframe\">\n",
       "  <thead>\n",
       "    <tr style=\"text-align: right;\">\n",
       "      <th></th>\n",
       "      <th>Symbol</th>\n",
       "      <th>Security</th>\n",
       "      <th>GICS Sector</th>\n",
       "      <th>GICS Sub-Industry</th>\n",
       "      <th>Headquarters Location</th>\n",
       "      <th>Date added</th>\n",
       "      <th>CIK</th>\n",
       "      <th>Founded</th>\n",
       "    </tr>\n",
       "  </thead>\n",
       "  <tbody>\n",
       "  </tbody>\n",
       "</table>\n",
       "</div>"
      ],
      "text/plain": [
       "Empty DataFrame\n",
       "Columns: [Symbol, Security, GICS Sector, GICS Sub-Industry, Headquarters Location, Date added, CIK, Founded]\n",
       "Index: []"
      ]
     },
     "execution_count": 15,
     "metadata": {},
     "output_type": "execute_result"
    }
   ],
   "source": [
    "# We need to replace periods with dashs within the Symbol columns for S&P500 related names as per Yahoo Finance convention\n",
    "sp500_info_df['Symbol'] = sp500_info_df['Symbol'].str.replace(\".\", \"-\", regex=False)\n",
    "\n",
    "# Check to ensure this was successful\n",
    "sp500_info_df[sp500_info_df['Symbol'].str.contains(\".\", regex=False)]"
   ]
  },
  {
   "cell_type": "markdown",
   "id": "5d8ad570",
   "metadata": {},
   "source": [
    "<span style=\"color:green\">&#x2705;</span>"
   ]
  },
  {
   "cell_type": "markdown",
   "id": "7b6833e3",
   "metadata": {},
   "source": [
    "# Obtain Names in ASX"
   ]
  },
  {
   "cell_type": "code",
   "execution_count": 16,
   "id": "d11afe87",
   "metadata": {},
   "outputs": [
    {
     "data": {
      "text/html": [
       "<div>\n",
       "<style scoped>\n",
       "    .dataframe tbody tr th:only-of-type {\n",
       "        vertical-align: middle;\n",
       "    }\n",
       "\n",
       "    .dataframe tbody tr th {\n",
       "        vertical-align: top;\n",
       "    }\n",
       "\n",
       "    .dataframe thead th {\n",
       "        text-align: right;\n",
       "    }\n",
       "</style>\n",
       "<table border=\"1\" class=\"dataframe\">\n",
       "  <thead>\n",
       "    <tr style=\"text-align: right;\">\n",
       "      <th></th>\n",
       "      <th>Symbol</th>\n",
       "      <th>Security</th>\n",
       "      <th>GICS Sector</th>\n",
       "    </tr>\n",
       "  </thead>\n",
       "  <tbody>\n",
       "    <tr>\n",
       "      <th>0</th>\n",
       "      <td>BHP.AX</td>\n",
       "      <td>BHP GROUP</td>\n",
       "      <td>Materials</td>\n",
       "    </tr>\n",
       "    <tr>\n",
       "      <th>1</th>\n",
       "      <td>FMG.AX</td>\n",
       "      <td>FORTESCUE</td>\n",
       "      <td>Materials</td>\n",
       "    </tr>\n",
       "    <tr>\n",
       "      <th>2</th>\n",
       "      <td>MQG.AX</td>\n",
       "      <td>MACQUARIE GROUP</td>\n",
       "      <td>Financials</td>\n",
       "    </tr>\n",
       "    <tr>\n",
       "      <th>3</th>\n",
       "      <td>CBA.AX</td>\n",
       "      <td>COMMONWEATH BANK</td>\n",
       "      <td>Financials</td>\n",
       "    </tr>\n",
       "    <tr>\n",
       "      <th>4</th>\n",
       "      <td>RIO.AX</td>\n",
       "      <td>RIO TINTO</td>\n",
       "      <td>Materials</td>\n",
       "    </tr>\n",
       "    <tr>\n",
       "      <th>5</th>\n",
       "      <td>CSL.AX</td>\n",
       "      <td>CSL</td>\n",
       "      <td>Health Care</td>\n",
       "    </tr>\n",
       "    <tr>\n",
       "      <th>6</th>\n",
       "      <td>WDS.AX</td>\n",
       "      <td>WOODSIDE</td>\n",
       "      <td>Energy</td>\n",
       "    </tr>\n",
       "    <tr>\n",
       "      <th>7</th>\n",
       "      <td>ANZ.AX</td>\n",
       "      <td>ANZ GROUP</td>\n",
       "      <td>Financials</td>\n",
       "    </tr>\n",
       "    <tr>\n",
       "      <th>8</th>\n",
       "      <td>PLS.AX</td>\n",
       "      <td>PILBARAMIN</td>\n",
       "      <td>Materials</td>\n",
       "    </tr>\n",
       "    <tr>\n",
       "      <th>9</th>\n",
       "      <td>NAB.AX</td>\n",
       "      <td>NATIONAL AUSTRALIA BANK</td>\n",
       "      <td>Financials</td>\n",
       "    </tr>\n",
       "    <tr>\n",
       "      <th>10</th>\n",
       "      <td>WBC.AX</td>\n",
       "      <td>WESTPAC</td>\n",
       "      <td>Financials</td>\n",
       "    </tr>\n",
       "    <tr>\n",
       "      <th>11</th>\n",
       "      <td>RMD.AX</td>\n",
       "      <td>RESMED</td>\n",
       "      <td>Health Care</td>\n",
       "    </tr>\n",
       "    <tr>\n",
       "      <th>12</th>\n",
       "      <td>NCM.AX</td>\n",
       "      <td>NEWCREST</td>\n",
       "      <td>Materials</td>\n",
       "    </tr>\n",
       "    <tr>\n",
       "      <th>13</th>\n",
       "      <td>NST.AX</td>\n",
       "      <td>NTH STAR</td>\n",
       "      <td>Materials</td>\n",
       "    </tr>\n",
       "    <tr>\n",
       "      <th>14</th>\n",
       "      <td>GMG.AX</td>\n",
       "      <td>GOODMAN GROUP</td>\n",
       "      <td>Real Estate</td>\n",
       "    </tr>\n",
       "  </tbody>\n",
       "</table>\n",
       "</div>"
      ],
      "text/plain": [
       "    Symbol                 Security  GICS Sector\n",
       "0   BHP.AX                BHP GROUP    Materials\n",
       "1   FMG.AX                FORTESCUE    Materials\n",
       "2   MQG.AX          MACQUARIE GROUP   Financials\n",
       "3   CBA.AX         COMMONWEATH BANK   Financials\n",
       "4   RIO.AX                RIO TINTO    Materials\n",
       "5   CSL.AX                      CSL  Health Care\n",
       "6   WDS.AX                 WOODSIDE       Energy\n",
       "7   ANZ.AX                ANZ GROUP   Financials\n",
       "8   PLS.AX               PILBARAMIN    Materials\n",
       "9   NAB.AX  NATIONAL AUSTRALIA BANK   Financials\n",
       "10  WBC.AX                 WESTPAC    Financials\n",
       "11  RMD.AX                   RESMED  Health Care\n",
       "12  NCM.AX                 NEWCREST    Materials\n",
       "13  NST.AX                 NTH STAR    Materials\n",
       "14  GMG.AX            GOODMAN GROUP  Real Estate"
      ]
     },
     "execution_count": 16,
     "metadata": {},
     "output_type": "execute_result"
    }
   ],
   "source": [
    "asx_info_df = pd.read_csv(ASX_MEMBERS_FNAME)\n",
    "asx_info_df"
   ]
  },
  {
   "cell_type": "markdown",
   "id": "ed4283b7",
   "metadata": {},
   "source": [
    "# Merge ASX and S&P500 Names "
   ]
  },
  {
   "cell_type": "code",
   "execution_count": 17,
   "id": "aaec244d",
   "metadata": {},
   "outputs": [
    {
     "data": {
      "text/html": [
       "<div>\n",
       "<style scoped>\n",
       "    .dataframe tbody tr th:only-of-type {\n",
       "        vertical-align: middle;\n",
       "    }\n",
       "\n",
       "    .dataframe tbody tr th {\n",
       "        vertical-align: top;\n",
       "    }\n",
       "\n",
       "    .dataframe thead th {\n",
       "        text-align: right;\n",
       "    }\n",
       "</style>\n",
       "<table border=\"1\" class=\"dataframe\">\n",
       "  <thead>\n",
       "    <tr style=\"text-align: right;\">\n",
       "      <th></th>\n",
       "      <th>Symbol</th>\n",
       "      <th>Security</th>\n",
       "      <th>GICS Sector</th>\n",
       "    </tr>\n",
       "  </thead>\n",
       "  <tbody>\n",
       "    <tr>\n",
       "      <th>0</th>\n",
       "      <td>BHP.AX</td>\n",
       "      <td>BHP GROUP</td>\n",
       "      <td>Materials</td>\n",
       "    </tr>\n",
       "    <tr>\n",
       "      <th>1</th>\n",
       "      <td>FMG.AX</td>\n",
       "      <td>FORTESCUE</td>\n",
       "      <td>Materials</td>\n",
       "    </tr>\n",
       "    <tr>\n",
       "      <th>2</th>\n",
       "      <td>MQG.AX</td>\n",
       "      <td>MACQUARIE GROUP</td>\n",
       "      <td>Financials</td>\n",
       "    </tr>\n",
       "    <tr>\n",
       "      <th>3</th>\n",
       "      <td>CBA.AX</td>\n",
       "      <td>COMMONWEATH BANK</td>\n",
       "      <td>Financials</td>\n",
       "    </tr>\n",
       "    <tr>\n",
       "      <th>4</th>\n",
       "      <td>RIO.AX</td>\n",
       "      <td>RIO TINTO</td>\n",
       "      <td>Materials</td>\n",
       "    </tr>\n",
       "    <tr>\n",
       "      <th>...</th>\n",
       "      <td>...</td>\n",
       "      <td>...</td>\n",
       "      <td>...</td>\n",
       "    </tr>\n",
       "    <tr>\n",
       "      <th>95</th>\n",
       "      <td>CBOE</td>\n",
       "      <td>Cboe Global Markets</td>\n",
       "      <td>Financials</td>\n",
       "    </tr>\n",
       "    <tr>\n",
       "      <th>96</th>\n",
       "      <td>CBRE</td>\n",
       "      <td>CBRE Group</td>\n",
       "      <td>Real Estate</td>\n",
       "    </tr>\n",
       "    <tr>\n",
       "      <th>97</th>\n",
       "      <td>CDW</td>\n",
       "      <td>CDW</td>\n",
       "      <td>Information Technology</td>\n",
       "    </tr>\n",
       "    <tr>\n",
       "      <th>98</th>\n",
       "      <td>CE</td>\n",
       "      <td>Celanese</td>\n",
       "      <td>Materials</td>\n",
       "    </tr>\n",
       "    <tr>\n",
       "      <th>99</th>\n",
       "      <td>CNC</td>\n",
       "      <td>Centene Corporation</td>\n",
       "      <td>Health Care</td>\n",
       "    </tr>\n",
       "  </tbody>\n",
       "</table>\n",
       "<p>115 rows × 3 columns</p>\n",
       "</div>"
      ],
      "text/plain": [
       "    Symbol             Security             GICS Sector\n",
       "0   BHP.AX            BHP GROUP               Materials\n",
       "1   FMG.AX            FORTESCUE               Materials\n",
       "2   MQG.AX      MACQUARIE GROUP              Financials\n",
       "3   CBA.AX     COMMONWEATH BANK              Financials\n",
       "4   RIO.AX            RIO TINTO               Materials\n",
       "..     ...                  ...                     ...\n",
       "95    CBOE  Cboe Global Markets              Financials\n",
       "96    CBRE           CBRE Group             Real Estate\n",
       "97     CDW                  CDW  Information Technology\n",
       "98      CE             Celanese               Materials\n",
       "99     CNC  Centene Corporation             Health Care\n",
       "\n",
       "[115 rows x 3 columns]"
      ]
     },
     "execution_count": 17,
     "metadata": {},
     "output_type": "execute_result"
    }
   ],
   "source": [
    "all_stocks_info_df = pd.concat([asx_info_df, sp500_info_df[['Symbol', 'Security', 'GICS Sector']]])\n",
    "all_stocks_info_df                    "
   ]
  },
  {
   "cell_type": "code",
   "execution_count": 18,
   "id": "af6ceb63",
   "metadata": {},
   "outputs": [
    {
     "data": {
      "text/plain": [
       "array(['Materials', 'Financials', 'Health Care', 'Energy', 'Real Estate',\n",
       "       'Industrials', 'Information Technology', 'Communication Services',\n",
       "       'Consumer Staples', 'Consumer Discretionary', 'Utilities'],\n",
       "      dtype=object)"
      ]
     },
     "execution_count": 18,
     "metadata": {},
     "output_type": "execute_result"
    }
   ],
   "source": [
    "all_stocks_info_df['GICS Sector'].unique()"
   ]
  },
  {
   "cell_type": "markdown",
   "id": "12c0e2f8",
   "metadata": {},
   "source": [
    "# Obtain Prices From CSV or Yahoo Finance"
   ]
  },
  {
   "cell_type": "markdown",
   "id": "884ef1c0",
   "metadata": {},
   "source": [
    "If we have chosen to refresh the data, we will now download the latest prices from Yahoo Finance using the yfinance Library.\n",
    "\n",
    "We will download prices for both our stocks and also for the Foreign Exchange (FX) rates.\n",
    "\n",
    "We will then update the pricing related csv files."
   ]
  },
  {
   "cell_type": "code",
   "execution_count": 19,
   "id": "7f981648",
   "metadata": {},
   "outputs": [
    {
     "name": "stdout",
     "output_type": "stream",
     "text": [
      "[*********************100%***********************]  115 of 115 completed\n",
      "[*********************100%***********************]  4 of 4 completed\n"
     ]
    }
   ],
   "source": [
    "if REFRESH_DATA:\n",
    "    \n",
    "    # Download stock data and FX data from yfinance\n",
    "    stock_prices_df = yf.download(list(all_stocks_info_df['Symbol']), start=\"2022-01-01\", end=\"2022-12-31\")[\"Adj Close\"]\n",
    "    raw_fx_prices_df = yf.download(FX_TICKERS, start=\"2022-01-01\", end=\"2022-12-31\")[\"Adj Close\"]\n",
    "    \n",
    "    # Write new prices to csv\n",
    "    stock_prices_df.to_csv(STOCK_PRICES_FNAME)\n",
    "    raw_fx_prices_df.to_csv(FX_PRICES_FNAME)\n",
    "\n"
   ]
  },
  {
   "cell_type": "markdown",
   "id": "26ab7972",
   "metadata": {},
   "source": [
    "Whether we have just refreshed the prices or not, we will read the share and FX prices from their csv files.  If refreshed, they will contain the data just downloaded.  If not, the prior version of the file."
   ]
  },
  {
   "cell_type": "code",
   "execution_count": 20,
   "id": "9cd462a7",
   "metadata": {},
   "outputs": [],
   "source": [
    "# Read the Daily Prices for the Stocks and FX Rates from their respective csv files\n",
    "stock_prices_df = pd.read_csv(STOCK_PRICES_FNAME)\n",
    "raw_fx_prices_df = pd.read_csv(FX_PRICES_FNAME)\n",
    "    "
   ]
  },
  {
   "cell_type": "markdown",
   "id": "0a8afa5f",
   "metadata": {},
   "source": [
    "## Review the Raw FX Data"
   ]
  },
  {
   "cell_type": "code",
   "execution_count": 21,
   "id": "7ca79a6b",
   "metadata": {},
   "outputs": [
    {
     "data": {
      "text/html": [
       "<div>\n",
       "<style scoped>\n",
       "    .dataframe tbody tr th:only-of-type {\n",
       "        vertical-align: middle;\n",
       "    }\n",
       "\n",
       "    .dataframe tbody tr th {\n",
       "        vertical-align: top;\n",
       "    }\n",
       "\n",
       "    .dataframe thead th {\n",
       "        text-align: right;\n",
       "    }\n",
       "</style>\n",
       "<table border=\"1\" class=\"dataframe\">\n",
       "  <thead>\n",
       "    <tr style=\"text-align: right;\">\n",
       "      <th></th>\n",
       "      <th>AUDUSD=X</th>\n",
       "      <th>HKDUSD=X</th>\n",
       "      <th>JPYUSD=X</th>\n",
       "      <th>SGDUSD=X</th>\n",
       "    </tr>\n",
       "  </thead>\n",
       "  <tbody>\n",
       "    <tr>\n",
       "      <th>count</th>\n",
       "      <td>261.000000</td>\n",
       "      <td>259.000000</td>\n",
       "      <td>261.000000</td>\n",
       "      <td>261.000000</td>\n",
       "    </tr>\n",
       "    <tr>\n",
       "      <th>mean</th>\n",
       "      <td>0.695038</td>\n",
       "      <td>0.127714</td>\n",
       "      <td>0.007659</td>\n",
       "      <td>0.725619</td>\n",
       "    </tr>\n",
       "    <tr>\n",
       "      <th>std</th>\n",
       "      <td>0.031389</td>\n",
       "      <td>0.000396</td>\n",
       "      <td>0.000634</td>\n",
       "      <td>0.013144</td>\n",
       "    </tr>\n",
       "    <tr>\n",
       "      <th>min</th>\n",
       "      <td>0.622394</td>\n",
       "      <td>0.127372</td>\n",
       "      <td>0.006659</td>\n",
       "      <td>0.695082</td>\n",
       "    </tr>\n",
       "    <tr>\n",
       "      <th>25%</th>\n",
       "      <td>0.674332</td>\n",
       "      <td>0.127400</td>\n",
       "      <td>0.007209</td>\n",
       "      <td>0.716692</td>\n",
       "    </tr>\n",
       "    <tr>\n",
       "      <th>50%</th>\n",
       "      <td>0.695300</td>\n",
       "      <td>0.127457</td>\n",
       "      <td>0.007465</td>\n",
       "      <td>0.726639</td>\n",
       "    </tr>\n",
       "    <tr>\n",
       "      <th>75%</th>\n",
       "      <td>0.718649</td>\n",
       "      <td>0.128077</td>\n",
       "      <td>0.008143</td>\n",
       "      <td>0.737300</td>\n",
       "    </tr>\n",
       "    <tr>\n",
       "      <th>max</th>\n",
       "      <td>0.758570</td>\n",
       "      <td>0.128718</td>\n",
       "      <td>0.008789</td>\n",
       "      <td>0.745379</td>\n",
       "    </tr>\n",
       "  </tbody>\n",
       "</table>\n",
       "</div>"
      ],
      "text/plain": [
       "         AUDUSD=X    HKDUSD=X    JPYUSD=X    SGDUSD=X\n",
       "count  261.000000  259.000000  261.000000  261.000000\n",
       "mean     0.695038    0.127714    0.007659    0.725619\n",
       "std      0.031389    0.000396    0.000634    0.013144\n",
       "min      0.622394    0.127372    0.006659    0.695082\n",
       "25%      0.674332    0.127400    0.007209    0.716692\n",
       "50%      0.695300    0.127457    0.007465    0.726639\n",
       "75%      0.718649    0.128077    0.008143    0.737300\n",
       "max      0.758570    0.128718    0.008789    0.745379"
      ]
     },
     "execution_count": 21,
     "metadata": {},
     "output_type": "execute_result"
    }
   ],
   "source": [
    "raw_fx_prices_df.describe()"
   ]
  },
  {
   "cell_type": "markdown",
   "id": "fdda10a7",
   "metadata": {},
   "source": [
    "It quite difficult to analyze the JPY and HKD columns given they are inverted vs how they are conventionally displayed.\n",
    "\n",
    "Inverting them for reasonableness analysis:"
   ]
  },
  {
   "cell_type": "code",
   "execution_count": 22,
   "id": "b34d437d",
   "metadata": {},
   "outputs": [
    {
     "data": {
      "text/html": [
       "<div>\n",
       "<style scoped>\n",
       "    .dataframe tbody tr th:only-of-type {\n",
       "        vertical-align: middle;\n",
       "    }\n",
       "\n",
       "    .dataframe tbody tr th {\n",
       "        vertical-align: top;\n",
       "    }\n",
       "\n",
       "    .dataframe thead th {\n",
       "        text-align: right;\n",
       "    }\n",
       "</style>\n",
       "<table border=\"1\" class=\"dataframe\">\n",
       "  <thead>\n",
       "    <tr style=\"text-align: right;\">\n",
       "      <th></th>\n",
       "      <th>AUDUSD=X</th>\n",
       "      <th>HKDUSD=X</th>\n",
       "      <th>JPYUSD=X</th>\n",
       "      <th>SGDUSD=X</th>\n",
       "    </tr>\n",
       "  </thead>\n",
       "  <tbody>\n",
       "    <tr>\n",
       "      <th>count</th>\n",
       "      <td>261.000000</td>\n",
       "      <td>259.000000</td>\n",
       "      <td>261.000000</td>\n",
       "      <td>261.000000</td>\n",
       "    </tr>\n",
       "    <tr>\n",
       "      <th>mean</th>\n",
       "      <td>0.695038</td>\n",
       "      <td>7.829972</td>\n",
       "      <td>130.558193</td>\n",
       "      <td>0.725619</td>\n",
       "    </tr>\n",
       "    <tr>\n",
       "      <th>std</th>\n",
       "      <td>0.031389</td>\n",
       "      <td>0.000396</td>\n",
       "      <td>0.000634</td>\n",
       "      <td>0.013144</td>\n",
       "    </tr>\n",
       "    <tr>\n",
       "      <th>min</th>\n",
       "      <td>0.622394</td>\n",
       "      <td>7.851000</td>\n",
       "      <td>150.175992</td>\n",
       "      <td>0.695082</td>\n",
       "    </tr>\n",
       "    <tr>\n",
       "      <th>25%</th>\n",
       "      <td>0.674332</td>\n",
       "      <td>0.127400</td>\n",
       "      <td>0.007209</td>\n",
       "      <td>0.716692</td>\n",
       "    </tr>\n",
       "    <tr>\n",
       "      <th>50%</th>\n",
       "      <td>0.695300</td>\n",
       "      <td>0.127457</td>\n",
       "      <td>0.007465</td>\n",
       "      <td>0.726639</td>\n",
       "    </tr>\n",
       "    <tr>\n",
       "      <th>75%</th>\n",
       "      <td>0.718649</td>\n",
       "      <td>0.128077</td>\n",
       "      <td>0.008143</td>\n",
       "      <td>0.737300</td>\n",
       "    </tr>\n",
       "    <tr>\n",
       "      <th>max</th>\n",
       "      <td>0.758570</td>\n",
       "      <td>7.768900</td>\n",
       "      <td>113.785000</td>\n",
       "      <td>0.745379</td>\n",
       "    </tr>\n",
       "  </tbody>\n",
       "</table>\n",
       "</div>"
      ],
      "text/plain": [
       "         AUDUSD=X    HKDUSD=X    JPYUSD=X    SGDUSD=X\n",
       "count  261.000000  259.000000  261.000000  261.000000\n",
       "mean     0.695038    7.829972  130.558193    0.725619\n",
       "std      0.031389    0.000396    0.000634    0.013144\n",
       "min      0.622394    7.851000  150.175992    0.695082\n",
       "25%      0.674332    0.127400    0.007209    0.716692\n",
       "50%      0.695300    0.127457    0.007465    0.726639\n",
       "75%      0.718649    0.128077    0.008143    0.737300\n",
       "max      0.758570    7.768900  113.785000    0.745379"
      ]
     },
     "execution_count": 22,
     "metadata": {},
     "output_type": "execute_result"
    }
   ],
   "source": [
    "fx_summ = raw_fx_prices_df.describe()\n",
    "# Invert FX Rate for display purposes for JPY and HKD to what is conventionally displayed\n",
    "fx_summ.loc[['mean', 'min', 'max'],['JPYUSD=X', 'HKDUSD=X']] \\\n",
    "            = 1 / fx_summ.loc[['mean', 'min', 'max'],['JPYUSD=X', 'HKDUSD=X']]\n",
    "fx_summ\n"
   ]
  },
  {
   "cell_type": "markdown",
   "id": "86d3466a",
   "metadata": {},
   "source": [
    "<div class=\"alert alert-block alert-success\">\n",
    "Min and max ranges as well as distributions seem in line with the known characteristics of the currencies\n",
    "</div>"
   ]
  },
  {
   "cell_type": "markdown",
   "id": "944f0acd",
   "metadata": {},
   "source": [
    "<div class=\"alert alert-block alert-danger\">\n",
    "We do not have the same number of records for each currency\n",
    "</div>"
   ]
  },
  {
   "cell_type": "markdown",
   "id": "31d9beda",
   "metadata": {},
   "source": [
    "<p style=\"background-color:Yellow;\">test</p>"
   ]
  },
  {
   "cell_type": "markdown",
   "id": "9e545450",
   "metadata": {},
   "source": [
    "&#10060;"
   ]
  },
  {
   "cell_type": "markdown",
   "id": "911a44b1",
   "metadata": {},
   "source": [
    "To fix this we will resample the data using the ffil() function.\n",
    "First though we'll create a copy of the data to avoid changing original data removing need to reload if rerunning workbook"
   ]
  },
  {
   "cell_type": "code",
   "execution_count": 23,
   "id": "f375da6f",
   "metadata": {},
   "outputs": [],
   "source": [
    " fx_prices = raw_fx_prices_df.copy()"
   ]
  },
  {
   "cell_type": "markdown",
   "id": "ab9740dd",
   "metadata": {},
   "source": [
    "Prior to doing the resampling and for later analysis it is better if we convert dates from being string values a column,  to Datetime values and also set them as the index."
   ]
  },
  {
   "cell_type": "code",
   "execution_count": 24,
   "id": "b354d6cc",
   "metadata": {},
   "outputs": [],
   "source": [
    "# Format the Date and set as the Index\n",
    "fx_prices['Date'] = pd.to_datetime(fx_prices['Date'], format = \"%Y-%m-%d\")\n",
    "fx_prices = fx_prices.set_index('Date', drop=True)"
   ]
  },
  {
   "cell_type": "code",
   "execution_count": 25,
   "id": "6b01bf69",
   "metadata": {},
   "outputs": [],
   "source": [
    "# Resampling data to fill any missing values\n",
    "# This will also give a price for the week-ends, but that will get dropped later when we merge with the share prices df\n",
    "fx_prices = fx_prices.resample('D').last().ffill()"
   ]
  },
  {
   "cell_type": "code",
   "execution_count": 26,
   "id": "8e152c7c",
   "metadata": {},
   "outputs": [
    {
     "data": {
      "text/plain": [
       "AUDUSD=X    365.0\n",
       "HKDUSD=X    365.0\n",
       "JPYUSD=X    365.0\n",
       "SGDUSD=X    365.0\n",
       "Name: count, dtype: float64"
      ]
     },
     "execution_count": 26,
     "metadata": {},
     "output_type": "execute_result"
    }
   ],
   "source": [
    "# Check the column counts to ensure they are now consistent\n",
    "fx_prices.describe().loc['count']"
   ]
  },
  {
   "cell_type": "markdown",
   "id": "333af8b1",
   "metadata": {},
   "source": [
    "&#x2705;"
   ]
  },
  {
   "cell_type": "markdown",
   "id": "f10ed620",
   "metadata": {},
   "source": [
    "Here is how our FX data now looks:"
   ]
  },
  {
   "cell_type": "code",
   "execution_count": 27,
   "id": "c2a3f848",
   "metadata": {},
   "outputs": [
    {
     "data": {
      "text/html": [
       "<div>\n",
       "<style scoped>\n",
       "    .dataframe tbody tr th:only-of-type {\n",
       "        vertical-align: middle;\n",
       "    }\n",
       "\n",
       "    .dataframe tbody tr th {\n",
       "        vertical-align: top;\n",
       "    }\n",
       "\n",
       "    .dataframe thead th {\n",
       "        text-align: right;\n",
       "    }\n",
       "</style>\n",
       "<table border=\"1\" class=\"dataframe\">\n",
       "  <thead>\n",
       "    <tr style=\"text-align: right;\">\n",
       "      <th></th>\n",
       "      <th>AUDUSD=X</th>\n",
       "      <th>HKDUSD=X</th>\n",
       "      <th>JPYUSD=X</th>\n",
       "      <th>SGDUSD=X</th>\n",
       "    </tr>\n",
       "    <tr>\n",
       "      <th>Date</th>\n",
       "      <th></th>\n",
       "      <th></th>\n",
       "      <th></th>\n",
       "      <th></th>\n",
       "    </tr>\n",
       "  </thead>\n",
       "  <tbody>\n",
       "    <tr>\n",
       "      <th>2021-12-31</th>\n",
       "      <td>0.724980</td>\n",
       "      <td>0.128245</td>\n",
       "      <td>0.008691</td>\n",
       "      <td>0.739694</td>\n",
       "    </tr>\n",
       "    <tr>\n",
       "      <th>2022-01-01</th>\n",
       "      <td>0.724980</td>\n",
       "      <td>0.128245</td>\n",
       "      <td>0.008691</td>\n",
       "      <td>0.739694</td>\n",
       "    </tr>\n",
       "    <tr>\n",
       "      <th>2022-01-02</th>\n",
       "      <td>0.724980</td>\n",
       "      <td>0.128245</td>\n",
       "      <td>0.008691</td>\n",
       "      <td>0.739694</td>\n",
       "    </tr>\n",
       "    <tr>\n",
       "      <th>2022-01-03</th>\n",
       "      <td>0.726818</td>\n",
       "      <td>0.128272</td>\n",
       "      <td>0.008685</td>\n",
       "      <td>0.741730</td>\n",
       "    </tr>\n",
       "    <tr>\n",
       "      <th>2022-01-04</th>\n",
       "      <td>0.719800</td>\n",
       "      <td>0.128243</td>\n",
       "      <td>0.008671</td>\n",
       "      <td>0.739033</td>\n",
       "    </tr>\n",
       "    <tr>\n",
       "      <th>...</th>\n",
       "      <td>...</td>\n",
       "      <td>...</td>\n",
       "      <td>...</td>\n",
       "      <td>...</td>\n",
       "    </tr>\n",
       "    <tr>\n",
       "      <th>2022-12-26</th>\n",
       "      <td>0.671249</td>\n",
       "      <td>0.128147</td>\n",
       "      <td>0.007531</td>\n",
       "      <td>0.739809</td>\n",
       "    </tr>\n",
       "    <tr>\n",
       "      <th>2022-12-27</th>\n",
       "      <td>0.674459</td>\n",
       "      <td>0.128121</td>\n",
       "      <td>0.007532</td>\n",
       "      <td>0.742501</td>\n",
       "    </tr>\n",
       "    <tr>\n",
       "      <th>2022-12-28</th>\n",
       "      <td>0.672993</td>\n",
       "      <td>0.128199</td>\n",
       "      <td>0.007491</td>\n",
       "      <td>0.742060</td>\n",
       "    </tr>\n",
       "    <tr>\n",
       "      <th>2022-12-29</th>\n",
       "      <td>0.674710</td>\n",
       "      <td>0.128307</td>\n",
       "      <td>0.007461</td>\n",
       "      <td>0.741158</td>\n",
       "    </tr>\n",
       "    <tr>\n",
       "      <th>2022-12-30</th>\n",
       "      <td>0.676600</td>\n",
       "      <td>0.128297</td>\n",
       "      <td>0.007524</td>\n",
       "      <td>0.744313</td>\n",
       "    </tr>\n",
       "  </tbody>\n",
       "</table>\n",
       "<p>365 rows × 4 columns</p>\n",
       "</div>"
      ],
      "text/plain": [
       "            AUDUSD=X  HKDUSD=X  JPYUSD=X  SGDUSD=X\n",
       "Date                                              \n",
       "2021-12-31  0.724980  0.128245  0.008691  0.739694\n",
       "2022-01-01  0.724980  0.128245  0.008691  0.739694\n",
       "2022-01-02  0.724980  0.128245  0.008691  0.739694\n",
       "2022-01-03  0.726818  0.128272  0.008685  0.741730\n",
       "2022-01-04  0.719800  0.128243  0.008671  0.739033\n",
       "...              ...       ...       ...       ...\n",
       "2022-12-26  0.671249  0.128147  0.007531  0.739809\n",
       "2022-12-27  0.674459  0.128121  0.007532  0.742501\n",
       "2022-12-28  0.672993  0.128199  0.007491  0.742060\n",
       "2022-12-29  0.674710  0.128307  0.007461  0.741158\n",
       "2022-12-30  0.676600  0.128297  0.007524  0.744313\n",
       "\n",
       "[365 rows x 4 columns]"
      ]
     },
     "execution_count": 27,
     "metadata": {},
     "output_type": "execute_result"
    }
   ],
   "source": [
    "fx_prices"
   ]
  },
  {
   "cell_type": "markdown",
   "id": "2cce0bff",
   "metadata": {},
   "source": [
    "&#x2705;"
   ]
  },
  {
   "cell_type": "markdown",
   "id": "1fccf238",
   "metadata": {},
   "source": [
    "## Review the Stock Price Data"
   ]
  },
  {
   "cell_type": "code",
   "execution_count": 28,
   "id": "2f538e4d",
   "metadata": {},
   "outputs": [
    {
     "data": {
      "text/html": [
       "<div>\n",
       "<style scoped>\n",
       "    .dataframe tbody tr th:only-of-type {\n",
       "        vertical-align: middle;\n",
       "    }\n",
       "\n",
       "    .dataframe tbody tr th {\n",
       "        vertical-align: top;\n",
       "    }\n",
       "\n",
       "    .dataframe thead th {\n",
       "        text-align: right;\n",
       "    }\n",
       "</style>\n",
       "<table border=\"1\" class=\"dataframe\">\n",
       "  <thead>\n",
       "    <tr style=\"text-align: right;\">\n",
       "      <th></th>\n",
       "      <th>Date</th>\n",
       "      <th>A</th>\n",
       "      <th>AAL</th>\n",
       "      <th>AAP</th>\n",
       "      <th>AAPL</th>\n",
       "      <th>ABBV</th>\n",
       "      <th>ABC</th>\n",
       "      <th>ABT</th>\n",
       "      <th>ACGL</th>\n",
       "      <th>ACN</th>\n",
       "      <th>...</th>\n",
       "      <th>NCM.AX</th>\n",
       "      <th>NST.AX</th>\n",
       "      <th>PLS.AX</th>\n",
       "      <th>RIO.AX</th>\n",
       "      <th>RMD.AX</th>\n",
       "      <th>T</th>\n",
       "      <th>TECH</th>\n",
       "      <th>WBC.AX</th>\n",
       "      <th>WDS.AX</th>\n",
       "      <th>WRB</th>\n",
       "    </tr>\n",
       "  </thead>\n",
       "  <tbody>\n",
       "    <tr>\n",
       "      <th>0</th>\n",
       "      <td>2021-12-31</td>\n",
       "      <td>157.838791</td>\n",
       "      <td>17.959999</td>\n",
       "      <td>227.873291</td>\n",
       "      <td>176.032745</td>\n",
       "      <td>126.515991</td>\n",
       "      <td>130.465134</td>\n",
       "      <td>136.453812</td>\n",
       "      <td>44.450001</td>\n",
       "      <td>404.244263</td>\n",
       "      <td>...</td>\n",
       "      <td>NaN</td>\n",
       "      <td>NaN</td>\n",
       "      <td>NaN</td>\n",
       "      <td>NaN</td>\n",
       "      <td>NaN</td>\n",
       "      <td>16.512589</td>\n",
       "      <td>128.615051</td>\n",
       "      <td>NaN</td>\n",
       "      <td>NaN</td>\n",
       "      <td>53.633766</td>\n",
       "    </tr>\n",
       "    <tr>\n",
       "      <th>1</th>\n",
       "      <td>2022-01-03</td>\n",
       "      <td>154.908524</td>\n",
       "      <td>18.750000</td>\n",
       "      <td>224.928452</td>\n",
       "      <td>180.434296</td>\n",
       "      <td>126.534698</td>\n",
       "      <td>130.200043</td>\n",
       "      <td>134.805557</td>\n",
       "      <td>44.549999</td>\n",
       "      <td>397.086700</td>\n",
       "      <td>...</td>\n",
       "      <td>NaN</td>\n",
       "      <td>NaN</td>\n",
       "      <td>NaN</td>\n",
       "      <td>NaN</td>\n",
       "      <td>NaN</td>\n",
       "      <td>17.069727</td>\n",
       "      <td>121.268661</td>\n",
       "      <td>NaN</td>\n",
       "      <td>NaN</td>\n",
       "      <td>52.898170</td>\n",
       "    </tr>\n",
       "    <tr>\n",
       "      <th>2</th>\n",
       "      <td>2022-01-04</td>\n",
       "      <td>149.671646</td>\n",
       "      <td>19.020000</td>\n",
       "      <td>225.184921</td>\n",
       "      <td>178.144302</td>\n",
       "      <td>126.291786</td>\n",
       "      <td>128.963043</td>\n",
       "      <td>131.635147</td>\n",
       "      <td>45.130001</td>\n",
       "      <td>394.249084</td>\n",
       "      <td>...</td>\n",
       "      <td>23.705288</td>\n",
       "      <td>9.090141</td>\n",
       "      <td>3.428028</td>\n",
       "      <td>92.659821</td>\n",
       "      <td>35.888367</td>\n",
       "      <td>17.210688</td>\n",
       "      <td>116.353676</td>\n",
       "      <td>19.889442</td>\n",
       "      <td>19.334044</td>\n",
       "      <td>53.685848</td>\n",
       "    </tr>\n",
       "    <tr>\n",
       "      <th>3</th>\n",
       "      <td>2022-01-05</td>\n",
       "      <td>147.107651</td>\n",
       "      <td>18.680000</td>\n",
       "      <td>224.614975</td>\n",
       "      <td>173.405685</td>\n",
       "      <td>126.955185</td>\n",
       "      <td>130.082245</td>\n",
       "      <td>131.043762</td>\n",
       "      <td>44.599998</td>\n",
       "      <td>387.306122</td>\n",
       "      <td>...</td>\n",
       "      <td>24.005354</td>\n",
       "      <td>9.138391</td>\n",
       "      <td>3.486461</td>\n",
       "      <td>93.394104</td>\n",
       "      <td>34.698040</td>\n",
       "      <td>17.593296</td>\n",
       "      <td>108.077507</td>\n",
       "      <td>20.054729</td>\n",
       "      <td>19.419329</td>\n",
       "      <td>53.086952</td>\n",
       "    </tr>\n",
       "    <tr>\n",
       "      <th>4</th>\n",
       "      <td>2022-01-06</td>\n",
       "      <td>147.622437</td>\n",
       "      <td>18.570000</td>\n",
       "      <td>229.554672</td>\n",
       "      <td>170.510956</td>\n",
       "      <td>126.357155</td>\n",
       "      <td>128.069672</td>\n",
       "      <td>131.024338</td>\n",
       "      <td>44.860001</td>\n",
       "      <td>368.602905</td>\n",
       "      <td>...</td>\n",
       "      <td>23.260027</td>\n",
       "      <td>8.723448</td>\n",
       "      <td>3.311164</td>\n",
       "      <td>94.072617</td>\n",
       "      <td>33.368839</td>\n",
       "      <td>17.526173</td>\n",
       "      <td>106.041397</td>\n",
       "      <td>19.724155</td>\n",
       "      <td>18.941734</td>\n",
       "      <td>53.991802</td>\n",
       "    </tr>\n",
       "    <tr>\n",
       "      <th>...</th>\n",
       "      <td>...</td>\n",
       "      <td>...</td>\n",
       "      <td>...</td>\n",
       "      <td>...</td>\n",
       "      <td>...</td>\n",
       "      <td>...</td>\n",
       "      <td>...</td>\n",
       "      <td>...</td>\n",
       "      <td>...</td>\n",
       "      <td>...</td>\n",
       "      <td>...</td>\n",
       "      <td>...</td>\n",
       "      <td>...</td>\n",
       "      <td>...</td>\n",
       "      <td>...</td>\n",
       "      <td>...</td>\n",
       "      <td>...</td>\n",
       "      <td>...</td>\n",
       "      <td>...</td>\n",
       "      <td>...</td>\n",
       "      <td>...</td>\n",
       "    </tr>\n",
       "    <tr>\n",
       "      <th>254</th>\n",
       "      <td>2022-12-23</td>\n",
       "      <td>148.481888</td>\n",
       "      <td>12.710000</td>\n",
       "      <td>141.008743</td>\n",
       "      <td>131.477127</td>\n",
       "      <td>158.336105</td>\n",
       "      <td>169.002655</td>\n",
       "      <td>106.645416</td>\n",
       "      <td>63.380001</td>\n",
       "      <td>263.014862</td>\n",
       "      <td>...</td>\n",
       "      <td>20.513069</td>\n",
       "      <td>10.947768</td>\n",
       "      <td>3.700712</td>\n",
       "      <td>112.412163</td>\n",
       "      <td>31.405985</td>\n",
       "      <td>17.485210</td>\n",
       "      <td>82.562065</td>\n",
       "      <td>22.741936</td>\n",
       "      <td>33.806393</td>\n",
       "      <td>72.699135</td>\n",
       "    </tr>\n",
       "    <tr>\n",
       "      <th>255</th>\n",
       "      <td>2022-12-27</td>\n",
       "      <td>148.800293</td>\n",
       "      <td>12.530000</td>\n",
       "      <td>142.721176</td>\n",
       "      <td>129.652435</td>\n",
       "      <td>158.229309</td>\n",
       "      <td>167.998657</td>\n",
       "      <td>107.029884</td>\n",
       "      <td>63.619999</td>\n",
       "      <td>262.243866</td>\n",
       "      <td>...</td>\n",
       "      <td>NaN</td>\n",
       "      <td>NaN</td>\n",
       "      <td>NaN</td>\n",
       "      <td>NaN</td>\n",
       "      <td>NaN</td>\n",
       "      <td>17.628452</td>\n",
       "      <td>82.043114</td>\n",
       "      <td>NaN</td>\n",
       "      <td>NaN</td>\n",
       "      <td>73.154449</td>\n",
       "    </tr>\n",
       "    <tr>\n",
       "      <th>256</th>\n",
       "      <td>2022-12-28</td>\n",
       "      <td>147.347595</td>\n",
       "      <td>12.320000</td>\n",
       "      <td>142.996735</td>\n",
       "      <td>125.674019</td>\n",
       "      <td>157.491501</td>\n",
       "      <td>166.368378</td>\n",
       "      <td>106.300385</td>\n",
       "      <td>62.599998</td>\n",
       "      <td>260.079224</td>\n",
       "      <td>...</td>\n",
       "      <td>20.562428</td>\n",
       "      <td>11.007159</td>\n",
       "      <td>3.564371</td>\n",
       "      <td>114.720200</td>\n",
       "      <td>30.418627</td>\n",
       "      <td>17.399265</td>\n",
       "      <td>80.526199</td>\n",
       "      <td>22.732258</td>\n",
       "      <td>34.701988</td>\n",
       "      <td>72.055794</td>\n",
       "    </tr>\n",
       "    <tr>\n",
       "      <th>257</th>\n",
       "      <td>2022-12-29</td>\n",
       "      <td>150.332550</td>\n",
       "      <td>12.700000</td>\n",
       "      <td>143.990723</td>\n",
       "      <td>129.233658</td>\n",
       "      <td>157.811859</td>\n",
       "      <td>165.066132</td>\n",
       "      <td>108.745201</td>\n",
       "      <td>63.110001</td>\n",
       "      <td>265.278412</td>\n",
       "      <td>...</td>\n",
       "      <td>20.434097</td>\n",
       "      <td>10.957666</td>\n",
       "      <td>3.583848</td>\n",
       "      <td>114.019028</td>\n",
       "      <td>30.398680</td>\n",
       "      <td>17.618904</td>\n",
       "      <td>84.298531</td>\n",
       "      <td>22.519356</td>\n",
       "      <td>33.127625</td>\n",
       "      <td>72.491295</td>\n",
       "    </tr>\n",
       "    <tr>\n",
       "      <th>258</th>\n",
       "      <td>2022-12-30</td>\n",
       "      <td>149.121826</td>\n",
       "      <td>12.720000</td>\n",
       "      <td>144.699310</td>\n",
       "      <td>129.552719</td>\n",
       "      <td>156.889603</td>\n",
       "      <td>164.728149</td>\n",
       "      <td>108.232574</td>\n",
       "      <td>62.779999</td>\n",
       "      <td>263.756226</td>\n",
       "      <td>...</td>\n",
       "      <td>20.374866</td>\n",
       "      <td>10.799290</td>\n",
       "      <td>3.652019</td>\n",
       "      <td>113.366539</td>\n",
       "      <td>30.877399</td>\n",
       "      <td>17.580706</td>\n",
       "      <td>82.711754</td>\n",
       "      <td>22.596775</td>\n",
       "      <td>33.410442</td>\n",
       "      <td>71.828140</td>\n",
       "    </tr>\n",
       "  </tbody>\n",
       "</table>\n",
       "<p>259 rows × 116 columns</p>\n",
       "</div>"
      ],
      "text/plain": [
       "           Date           A        AAL         AAP        AAPL        ABBV  \\\n",
       "0    2021-12-31  157.838791  17.959999  227.873291  176.032745  126.515991   \n",
       "1    2022-01-03  154.908524  18.750000  224.928452  180.434296  126.534698   \n",
       "2    2022-01-04  149.671646  19.020000  225.184921  178.144302  126.291786   \n",
       "3    2022-01-05  147.107651  18.680000  224.614975  173.405685  126.955185   \n",
       "4    2022-01-06  147.622437  18.570000  229.554672  170.510956  126.357155   \n",
       "..          ...         ...        ...         ...         ...         ...   \n",
       "254  2022-12-23  148.481888  12.710000  141.008743  131.477127  158.336105   \n",
       "255  2022-12-27  148.800293  12.530000  142.721176  129.652435  158.229309   \n",
       "256  2022-12-28  147.347595  12.320000  142.996735  125.674019  157.491501   \n",
       "257  2022-12-29  150.332550  12.700000  143.990723  129.233658  157.811859   \n",
       "258  2022-12-30  149.121826  12.720000  144.699310  129.552719  156.889603   \n",
       "\n",
       "            ABC         ABT       ACGL         ACN  ...     NCM.AX     NST.AX  \\\n",
       "0    130.465134  136.453812  44.450001  404.244263  ...        NaN        NaN   \n",
       "1    130.200043  134.805557  44.549999  397.086700  ...        NaN        NaN   \n",
       "2    128.963043  131.635147  45.130001  394.249084  ...  23.705288   9.090141   \n",
       "3    130.082245  131.043762  44.599998  387.306122  ...  24.005354   9.138391   \n",
       "4    128.069672  131.024338  44.860001  368.602905  ...  23.260027   8.723448   \n",
       "..          ...         ...        ...         ...  ...        ...        ...   \n",
       "254  169.002655  106.645416  63.380001  263.014862  ...  20.513069  10.947768   \n",
       "255  167.998657  107.029884  63.619999  262.243866  ...        NaN        NaN   \n",
       "256  166.368378  106.300385  62.599998  260.079224  ...  20.562428  11.007159   \n",
       "257  165.066132  108.745201  63.110001  265.278412  ...  20.434097  10.957666   \n",
       "258  164.728149  108.232574  62.779999  263.756226  ...  20.374866  10.799290   \n",
       "\n",
       "       PLS.AX      RIO.AX     RMD.AX          T        TECH     WBC.AX  \\\n",
       "0         NaN         NaN        NaN  16.512589  128.615051        NaN   \n",
       "1         NaN         NaN        NaN  17.069727  121.268661        NaN   \n",
       "2    3.428028   92.659821  35.888367  17.210688  116.353676  19.889442   \n",
       "3    3.486461   93.394104  34.698040  17.593296  108.077507  20.054729   \n",
       "4    3.311164   94.072617  33.368839  17.526173  106.041397  19.724155   \n",
       "..        ...         ...        ...        ...         ...        ...   \n",
       "254  3.700712  112.412163  31.405985  17.485210   82.562065  22.741936   \n",
       "255       NaN         NaN        NaN  17.628452   82.043114        NaN   \n",
       "256  3.564371  114.720200  30.418627  17.399265   80.526199  22.732258   \n",
       "257  3.583848  114.019028  30.398680  17.618904   84.298531  22.519356   \n",
       "258  3.652019  113.366539  30.877399  17.580706   82.711754  22.596775   \n",
       "\n",
       "        WDS.AX        WRB  \n",
       "0          NaN  53.633766  \n",
       "1          NaN  52.898170  \n",
       "2    19.334044  53.685848  \n",
       "3    19.419329  53.086952  \n",
       "4    18.941734  53.991802  \n",
       "..         ...        ...  \n",
       "254  33.806393  72.699135  \n",
       "255        NaN  73.154449  \n",
       "256  34.701988  72.055794  \n",
       "257  33.127625  72.491295  \n",
       "258  33.410442  71.828140  \n",
       "\n",
       "[259 rows x 116 columns]"
      ]
     },
     "execution_count": 28,
     "metadata": {},
     "output_type": "execute_result"
    }
   ],
   "source": [
    "stock_prices_df"
   ]
  },
  {
   "cell_type": "markdown",
   "id": "c2447cde",
   "metadata": {},
   "source": [
    "**Lets Review the price values for reasonableness**"
   ]
  },
  {
   "cell_type": "code",
   "execution_count": 29,
   "id": "9ff705cd",
   "metadata": {},
   "outputs": [
    {
     "name": "stdout",
     "output_type": "stream",
     "text": [
      "Minimium Share Price Value Across All Stocks: $1.99\n",
      "Maximum Share Price Value Across All Stocks: $2,703.26\n",
      "Mean Share Price Value Across All Stocks: $160.76\n"
     ]
    }
   ],
   "source": [
    "print(f\"Minimium Share Price Value Across All Stocks: ${stock_prices_df.select_dtypes(include='number').min().min():,.02f}\")\n",
    "print(f\"Maximum Share Price Value Across All Stocks: ${stock_prices_df.select_dtypes(include='number').max().max():,.02f}\")\n",
    "print(f\"Mean Share Price Value Across All Stocks: ${stock_prices_df.select_dtypes(include='number').mean().mean():,.02f}\")"
   ]
  },
  {
   "cell_type": "markdown",
   "id": "7634f294",
   "metadata": {},
   "source": [
    "The range of values for individual shares prices is quite large and thus direct comparision of absolute values would required scaling of the prices.\n",
    "However, the range seems reasonable given the dataset - there are no negative values and no extremely large or small values."
   ]
  },
  {
   "cell_type": "markdown",
   "id": "99bb1088",
   "metadata": {},
   "source": [
    "&#x2705;"
   ]
  },
  {
   "cell_type": "markdown",
   "id": "443b5a77",
   "metadata": {},
   "source": [
    "Lets create a scatter plot to visualize the price data"
   ]
  },
  {
   "cell_type": "code",
   "execution_count": 30,
   "id": "4755305a",
   "metadata": {},
   "outputs": [
    {
     "data": {
      "text/plain": [
       "Text(0.5, 1.0, 'Mean Price for Each Company')"
      ]
     },
     "execution_count": 30,
     "metadata": {},
     "output_type": "execute_result"
    },
    {
     "data": {
      "image/png": "[encoded data removed]",
      "text/plain": [
       "<Figure size 432x288 with 1 Axes>"
      ]
     },
     "metadata": {
      "needs_background": "light"
     },
     "output_type": "display_data"
    }
   ],
   "source": [
    "av_prices_by_stock = stock_prices_df.select_dtypes(include='number').mean()\n",
    "av_prices_by_stock.index = pd.Series(range(len(av_prices_by_stock)))\n",
    "plt.scatter(x = av_prices_by_stock.values,\n",
    "            y = av_prices_by_stock.index,\n",
    "           )\n",
    "plt.xlabel('Price')\n",
    "plt.ylabel('Company Number')\n",
    "plt.title('Mean Price for Each Company')"
   ]
  },
  {
   "cell_type": "markdown",
   "id": "7ce68e5d",
   "metadata": {},
   "source": [
    "<div class=\"alert alert-block alert-warning\">\n",
    "<b>Not Great:</b> That does not look so great with a small number of obvious outliers.\n",
    "</div>"
   ]
  },
  {
   "cell_type": "markdown",
   "id": "ad2919f6",
   "metadata": {},
   "source": [
    "Lets check to see if these represent errors or just outliers."
   ]
  },
  {
   "cell_type": "code",
   "execution_count": 31,
   "id": "b51f486d",
   "metadata": {},
   "outputs": [
    {
     "data": {
      "text/plain": [
       "AZO     2579.00000\n",
       "BKNG    2703.26001\n",
       "dtype: float64"
      ]
     },
     "execution_count": 31,
     "metadata": {},
     "output_type": "execute_result"
    }
   ],
   "source": [
    "# Largest two price values by stock\n",
    "stock_prices_df.select_dtypes(include='number').max().sort_values()[-2:]\n"
   ]
  },
  {
   "cell_type": "markdown",
   "id": "0ffc2b26",
   "metadata": {},
   "source": [
    "Checking these manually to price sources **, the prices look accurate.  Thus the values represent outliers rather than errors.\n",
    "\n",
    "While there are several ways to handle these outliers depending the analysis being performed and the reason for the outliers, for our analysis we are going to retain them in our data set.\n",
    "\n",
    "** \n",
    "https://finance.yahoo.com/quote/NVR?p=NVR&.tsrc=fin-srch\n",
    "https://finance.yahoo.com/quote/BKNG?p=BKNG&.tsrc=fin-srch"
   ]
  },
  {
   "cell_type": "markdown",
   "id": "9ef27eb9",
   "metadata": {},
   "source": [
    "**Examing the Number of Records for Each Stock**"
   ]
  },
  {
   "cell_type": "code",
   "execution_count": 32,
   "id": "893cfd93",
   "metadata": {},
   "outputs": [
    {
     "name": "stdout",
     "output_type": "stream",
     "text": [
      "count    115.000000\n",
      "mean     251.852174\n",
      "std        0.423922\n",
      "min      249.000000\n",
      "25%      252.000000\n",
      "50%      252.000000\n",
      "75%      252.000000\n",
      "max      252.000000\n",
      "Name: count, dtype: float64\n"
     ]
    }
   ],
   "source": [
    "print(stock_prices_df.describe().loc['count'].describe())"
   ]
  },
  {
   "cell_type": "markdown",
   "id": "9ab25f2a",
   "metadata": {},
   "source": [
    "<div class=\"alert alert-block alert-success\">\n",
    "The maximum number of rows is 252, and this is the case for >75% of the rows.  As a reasonableness check, there are 260 (52 * 5) week days in the year and some of these will be public holidays.  So we expect somewhere around 250 trading days in a year given stock markets are not open on week-ends and we have to then deduct for public holidays - so 252 looks reasonable.\n",
    "</div>"
   ]
  },
  {
   "cell_type": "markdown",
   "id": "3339acc5",
   "metadata": {},
   "source": [
    "# Format Share Pricing Data"
   ]
  },
  {
   "cell_type": "markdown",
   "id": "642e66a6",
   "metadata": {},
   "source": [
    "## Convert Share Prices to USD Equivalent"
   ]
  },
  {
   "cell_type": "code",
   "execution_count": 33,
   "id": "e55e3a0a",
   "metadata": {},
   "outputs": [],
   "source": [
    "#Then we convert the dates to datetime format and set them as the index\n",
    "\n",
    "stock_prices_df['Date'] = pd.to_datetime(stock_prices_df['Date'], format = \"%Y-%m-%d\")\n",
    "stock_prices_df = stock_prices_df.set_index('Date', drop=True)"
   ]
  },
  {
   "cell_type": "markdown",
   "id": "f2513a33",
   "metadata": {},
   "source": [
    "Now we add a column for the FX rate applicable given the ticker code format:\n",
    "* Australian stocks have .AX in their ticker, \n",
    "* Japanese stocks have .T, \n",
    "* Hong Kong stocks .HK, \n",
    "* Singapore stocks .SI; and\n",
    "* US stocks have no period in their ticker"
   ]
  },
  {
   "cell_type": "code",
   "execution_count": 34,
   "id": "44200690",
   "metadata": {},
   "outputs": [],
   "source": [
    "# Add currency column based on ticker code format\n",
    "for ticker in stock_prices_df.columns:\n",
    "    if \".AX\" in ticker:\n",
    "        stock_prices_df[ticker] = stock_prices_df[ticker] * fx_prices[\"AUDUSD=X\"]\n",
    "    elif \".HK\" in ticker:\n",
    "        stock_prices_df[ticker] = stock_prices_df[ticker] * fx_prices[\"HKDUSD=X\"]\n",
    "    elif \".T\" in ticker:\n",
    "        stock_prices_df[ticker] = stock_prices_df[ticker] * fx_prices[\"JPYUSD=X\"]\n",
    "    elif \".SI\" in ticker:\n",
    "        stock_prices_df[ticker] = stock_prices_df[ticker] * fx_prices[\"SGDUSD=X\"]"
   ]
  },
  {
   "cell_type": "markdown",
   "id": "101ead97",
   "metadata": {},
   "source": [
    "## Eliminate shares with less than 245 trading days"
   ]
  },
  {
   "cell_type": "code",
   "execution_count": 35,
   "id": "3e7323fc",
   "metadata": {},
   "outputs": [
    {
     "name": "stdout",
     "output_type": "stream",
     "text": [
      "ANZ.AX    249\n",
      "dtype: int64\n",
      "['ANZ.AX']\n"
     ]
    }
   ],
   "source": [
    "# Identify Names Which Should be Eliminated\n",
    "low_counts = stock_prices_df.count()[stock_prices_df.count()<250]\n",
    "print(low_counts)\n",
    "\n",
    "low_counts = list(low_counts.index)\n",
    "print(low_counts)"
   ]
  },
  {
   "cell_type": "code",
   "execution_count": 36,
   "id": "2c2d5761",
   "metadata": {},
   "outputs": [],
   "source": [
    "# Eliminate Names with a Low Number of Trading Days Present\n",
    "stock_prices_df = stock_prices_df.drop(columns=low_counts).copy()"
   ]
  },
  {
   "cell_type": "code",
   "execution_count": 37,
   "id": "6f25e4a0",
   "metadata": {},
   "outputs": [
    {
     "data": {
      "text/plain": [
       "251"
      ]
     },
     "execution_count": 37,
     "metadata": {},
     "output_type": "execute_result"
    }
   ],
   "source": [
    "# Check removal was successful\n",
    "stock_prices_df.count().min()"
   ]
  },
  {
   "cell_type": "markdown",
   "id": "6a06a21c",
   "metadata": {},
   "source": [
    "&#x2705;"
   ]
  },
  {
   "cell_type": "markdown",
   "id": "12d7470a",
   "metadata": {},
   "source": [
    "## Fill Prices for Names Missing only a Small Number of Days"
   ]
  },
  {
   "cell_type": "code",
   "execution_count": 38,
   "id": "21d6522a",
   "metadata": {},
   "outputs": [
    {
     "data": {
      "text/html": [
       "<div>\n",
       "<style scoped>\n",
       "    .dataframe tbody tr th:only-of-type {\n",
       "        vertical-align: middle;\n",
       "    }\n",
       "\n",
       "    .dataframe tbody tr th {\n",
       "        vertical-align: top;\n",
       "    }\n",
       "\n",
       "    .dataframe thead th {\n",
       "        text-align: right;\n",
       "    }\n",
       "</style>\n",
       "<table border=\"1\" class=\"dataframe\">\n",
       "  <thead>\n",
       "    <tr style=\"text-align: right;\">\n",
       "      <th></th>\n",
       "      <th>A</th>\n",
       "      <th>AAL</th>\n",
       "      <th>AAP</th>\n",
       "      <th>AAPL</th>\n",
       "      <th>ABBV</th>\n",
       "      <th>ABC</th>\n",
       "      <th>ABT</th>\n",
       "      <th>ACGL</th>\n",
       "      <th>ACN</th>\n",
       "      <th>ADBE</th>\n",
       "      <th>...</th>\n",
       "      <th>NCM.AX</th>\n",
       "      <th>NST.AX</th>\n",
       "      <th>PLS.AX</th>\n",
       "      <th>RIO.AX</th>\n",
       "      <th>RMD.AX</th>\n",
       "      <th>T</th>\n",
       "      <th>TECH</th>\n",
       "      <th>WBC.AX</th>\n",
       "      <th>WDS.AX</th>\n",
       "      <th>WRB</th>\n",
       "    </tr>\n",
       "    <tr>\n",
       "      <th>Date</th>\n",
       "      <th></th>\n",
       "      <th></th>\n",
       "      <th></th>\n",
       "      <th></th>\n",
       "      <th></th>\n",
       "      <th></th>\n",
       "      <th></th>\n",
       "      <th></th>\n",
       "      <th></th>\n",
       "      <th></th>\n",
       "      <th></th>\n",
       "      <th></th>\n",
       "      <th></th>\n",
       "      <th></th>\n",
       "      <th></th>\n",
       "      <th></th>\n",
       "      <th></th>\n",
       "      <th></th>\n",
       "      <th></th>\n",
       "      <th></th>\n",
       "      <th></th>\n",
       "    </tr>\n",
       "  </thead>\n",
       "  <tbody>\n",
       "    <tr>\n",
       "      <th>2021-12-31</th>\n",
       "      <td>157.838791</td>\n",
       "      <td>17.959999</td>\n",
       "      <td>227.873291</td>\n",
       "      <td>176.032745</td>\n",
       "      <td>126.515991</td>\n",
       "      <td>130.465134</td>\n",
       "      <td>136.453812</td>\n",
       "      <td>44.450001</td>\n",
       "      <td>404.244263</td>\n",
       "      <td>567.059998</td>\n",
       "      <td>...</td>\n",
       "      <td>17.063065</td>\n",
       "      <td>6.543083</td>\n",
       "      <td>2.467495</td>\n",
       "      <td>66.696533</td>\n",
       "      <td>25.832444</td>\n",
       "      <td>16.512589</td>\n",
       "      <td>128.615051</td>\n",
       "      <td>14.316419</td>\n",
       "      <td>13.916643</td>\n",
       "      <td>53.633766</td>\n",
       "    </tr>\n",
       "    <tr>\n",
       "      <th>2022-01-03</th>\n",
       "      <td>154.908524</td>\n",
       "      <td>18.750000</td>\n",
       "      <td>224.928452</td>\n",
       "      <td>180.434296</td>\n",
       "      <td>126.534698</td>\n",
       "      <td>130.200043</td>\n",
       "      <td>134.805557</td>\n",
       "      <td>44.549999</td>\n",
       "      <td>397.086700</td>\n",
       "      <td>564.369995</td>\n",
       "      <td>...</td>\n",
       "      <td>17.063065</td>\n",
       "      <td>6.543083</td>\n",
       "      <td>2.467495</td>\n",
       "      <td>66.696533</td>\n",
       "      <td>25.832444</td>\n",
       "      <td>17.069727</td>\n",
       "      <td>121.268661</td>\n",
       "      <td>14.316419</td>\n",
       "      <td>13.916643</td>\n",
       "      <td>52.898170</td>\n",
       "    </tr>\n",
       "    <tr>\n",
       "      <th>2022-01-04</th>\n",
       "      <td>149.671646</td>\n",
       "      <td>19.020000</td>\n",
       "      <td>225.184921</td>\n",
       "      <td>178.144302</td>\n",
       "      <td>126.291786</td>\n",
       "      <td>128.963043</td>\n",
       "      <td>131.635147</td>\n",
       "      <td>45.130001</td>\n",
       "      <td>394.249084</td>\n",
       "      <td>554.000000</td>\n",
       "      <td>...</td>\n",
       "      <td>17.063065</td>\n",
       "      <td>6.543083</td>\n",
       "      <td>2.467495</td>\n",
       "      <td>66.696533</td>\n",
       "      <td>25.832444</td>\n",
       "      <td>17.210688</td>\n",
       "      <td>116.353676</td>\n",
       "      <td>14.316419</td>\n",
       "      <td>13.916643</td>\n",
       "      <td>53.685848</td>\n",
       "    </tr>\n",
       "    <tr>\n",
       "      <th>2022-01-05</th>\n",
       "      <td>147.107651</td>\n",
       "      <td>18.680000</td>\n",
       "      <td>224.614975</td>\n",
       "      <td>173.405685</td>\n",
       "      <td>126.955185</td>\n",
       "      <td>130.082245</td>\n",
       "      <td>131.043762</td>\n",
       "      <td>44.599998</td>\n",
       "      <td>387.306122</td>\n",
       "      <td>514.429993</td>\n",
       "      <td>...</td>\n",
       "      <td>17.377001</td>\n",
       "      <td>6.615100</td>\n",
       "      <td>2.523780</td>\n",
       "      <td>67.606146</td>\n",
       "      <td>25.117225</td>\n",
       "      <td>17.593296</td>\n",
       "      <td>108.077507</td>\n",
       "      <td>14.517222</td>\n",
       "      <td>14.057268</td>\n",
       "      <td>53.086952</td>\n",
       "    </tr>\n",
       "    <tr>\n",
       "      <th>2022-01-06</th>\n",
       "      <td>147.622437</td>\n",
       "      <td>18.570000</td>\n",
       "      <td>229.554672</td>\n",
       "      <td>170.510956</td>\n",
       "      <td>126.357155</td>\n",
       "      <td>128.069672</td>\n",
       "      <td>131.024338</td>\n",
       "      <td>44.860001</td>\n",
       "      <td>368.602905</td>\n",
       "      <td>514.119995</td>\n",
       "      <td>...</td>\n",
       "      <td>16.795601</td>\n",
       "      <td>6.299028</td>\n",
       "      <td>2.390925</td>\n",
       "      <td>67.927960</td>\n",
       "      <td>24.094973</td>\n",
       "      <td>17.526173</td>\n",
       "      <td>106.041397</td>\n",
       "      <td>14.242419</td>\n",
       "      <td>13.677448</td>\n",
       "      <td>53.991802</td>\n",
       "    </tr>\n",
       "    <tr>\n",
       "      <th>...</th>\n",
       "      <td>...</td>\n",
       "      <td>...</td>\n",
       "      <td>...</td>\n",
       "      <td>...</td>\n",
       "      <td>...</td>\n",
       "      <td>...</td>\n",
       "      <td>...</td>\n",
       "      <td>...</td>\n",
       "      <td>...</td>\n",
       "      <td>...</td>\n",
       "      <td>...</td>\n",
       "      <td>...</td>\n",
       "      <td>...</td>\n",
       "      <td>...</td>\n",
       "      <td>...</td>\n",
       "      <td>...</td>\n",
       "      <td>...</td>\n",
       "      <td>...</td>\n",
       "      <td>...</td>\n",
       "      <td>...</td>\n",
       "      <td>...</td>\n",
       "    </tr>\n",
       "    <tr>\n",
       "      <th>2022-12-23</th>\n",
       "      <td>148.481888</td>\n",
       "      <td>12.710000</td>\n",
       "      <td>141.008743</td>\n",
       "      <td>131.477127</td>\n",
       "      <td>158.336105</td>\n",
       "      <td>169.002655</td>\n",
       "      <td>106.645416</td>\n",
       "      <td>63.380001</td>\n",
       "      <td>263.014862</td>\n",
       "      <td>338.450012</td>\n",
       "      <td>...</td>\n",
       "      <td>13.698630</td>\n",
       "      <td>7.310921</td>\n",
       "      <td>2.471336</td>\n",
       "      <td>75.068857</td>\n",
       "      <td>20.972921</td>\n",
       "      <td>17.485210</td>\n",
       "      <td>82.562065</td>\n",
       "      <td>15.187068</td>\n",
       "      <td>22.575913</td>\n",
       "      <td>72.699135</td>\n",
       "    </tr>\n",
       "    <tr>\n",
       "      <th>2022-12-27</th>\n",
       "      <td>148.800293</td>\n",
       "      <td>12.530000</td>\n",
       "      <td>142.721176</td>\n",
       "      <td>129.652435</td>\n",
       "      <td>158.229309</td>\n",
       "      <td>167.998657</td>\n",
       "      <td>107.029884</td>\n",
       "      <td>63.619999</td>\n",
       "      <td>262.243866</td>\n",
       "      <td>335.089996</td>\n",
       "      <td>...</td>\n",
       "      <td>13.698630</td>\n",
       "      <td>7.310921</td>\n",
       "      <td>2.471336</td>\n",
       "      <td>75.068857</td>\n",
       "      <td>20.972921</td>\n",
       "      <td>17.628452</td>\n",
       "      <td>82.043114</td>\n",
       "      <td>15.187068</td>\n",
       "      <td>22.575913</td>\n",
       "      <td>73.154449</td>\n",
       "    </tr>\n",
       "    <tr>\n",
       "      <th>2022-12-28</th>\n",
       "      <td>147.347595</td>\n",
       "      <td>12.320000</td>\n",
       "      <td>142.996735</td>\n",
       "      <td>125.674019</td>\n",
       "      <td>157.491501</td>\n",
       "      <td>166.368378</td>\n",
       "      <td>106.300385</td>\n",
       "      <td>62.599998</td>\n",
       "      <td>260.079224</td>\n",
       "      <td>328.329987</td>\n",
       "      <td>...</td>\n",
       "      <td>13.838365</td>\n",
       "      <td>7.407739</td>\n",
       "      <td>2.398796</td>\n",
       "      <td>77.205864</td>\n",
       "      <td>20.471516</td>\n",
       "      <td>17.399265</td>\n",
       "      <td>80.526199</td>\n",
       "      <td>15.298645</td>\n",
       "      <td>23.354187</td>\n",
       "      <td>72.055794</td>\n",
       "    </tr>\n",
       "    <tr>\n",
       "      <th>2022-12-29</th>\n",
       "      <td>150.332550</td>\n",
       "      <td>12.700000</td>\n",
       "      <td>143.990723</td>\n",
       "      <td>129.233658</td>\n",
       "      <td>157.811859</td>\n",
       "      <td>165.066132</td>\n",
       "      <td>108.745201</td>\n",
       "      <td>63.110001</td>\n",
       "      <td>265.278412</td>\n",
       "      <td>337.579987</td>\n",
       "      <td>...</td>\n",
       "      <td>13.787092</td>\n",
       "      <td>7.393248</td>\n",
       "      <td>2.418058</td>\n",
       "      <td>76.929789</td>\n",
       "      <td>20.510296</td>\n",
       "      <td>17.618904</td>\n",
       "      <td>84.298531</td>\n",
       "      <td>15.194037</td>\n",
       "      <td>22.351543</td>\n",
       "      <td>72.491295</td>\n",
       "    </tr>\n",
       "    <tr>\n",
       "      <th>2022-12-30</th>\n",
       "      <td>149.121826</td>\n",
       "      <td>12.720000</td>\n",
       "      <td>144.699310</td>\n",
       "      <td>129.552719</td>\n",
       "      <td>156.889603</td>\n",
       "      <td>164.728149</td>\n",
       "      <td>108.232574</td>\n",
       "      <td>62.779999</td>\n",
       "      <td>263.756226</td>\n",
       "      <td>336.529999</td>\n",
       "      <td>...</td>\n",
       "      <td>13.785635</td>\n",
       "      <td>7.306800</td>\n",
       "      <td>2.470956</td>\n",
       "      <td>76.703805</td>\n",
       "      <td>20.891650</td>\n",
       "      <td>17.580706</td>\n",
       "      <td>82.711754</td>\n",
       "      <td>15.288979</td>\n",
       "      <td>22.605507</td>\n",
       "      <td>71.828140</td>\n",
       "    </tr>\n",
       "  </tbody>\n",
       "</table>\n",
       "<p>259 rows × 114 columns</p>\n",
       "</div>"
      ],
      "text/plain": [
       "                     A        AAL         AAP        AAPL        ABBV  \\\n",
       "Date                                                                    \n",
       "2021-12-31  157.838791  17.959999  227.873291  176.032745  126.515991   \n",
       "2022-01-03  154.908524  18.750000  224.928452  180.434296  126.534698   \n",
       "2022-01-04  149.671646  19.020000  225.184921  178.144302  126.291786   \n",
       "2022-01-05  147.107651  18.680000  224.614975  173.405685  126.955185   \n",
       "2022-01-06  147.622437  18.570000  229.554672  170.510956  126.357155   \n",
       "...                ...        ...         ...         ...         ...   \n",
       "2022-12-23  148.481888  12.710000  141.008743  131.477127  158.336105   \n",
       "2022-12-27  148.800293  12.530000  142.721176  129.652435  158.229309   \n",
       "2022-12-28  147.347595  12.320000  142.996735  125.674019  157.491501   \n",
       "2022-12-29  150.332550  12.700000  143.990723  129.233658  157.811859   \n",
       "2022-12-30  149.121826  12.720000  144.699310  129.552719  156.889603   \n",
       "\n",
       "                   ABC         ABT       ACGL         ACN        ADBE  ...  \\\n",
       "Date                                                                   ...   \n",
       "2021-12-31  130.465134  136.453812  44.450001  404.244263  567.059998  ...   \n",
       "2022-01-03  130.200043  134.805557  44.549999  397.086700  564.369995  ...   \n",
       "2022-01-04  128.963043  131.635147  45.130001  394.249084  554.000000  ...   \n",
       "2022-01-05  130.082245  131.043762  44.599998  387.306122  514.429993  ...   \n",
       "2022-01-06  128.069672  131.024338  44.860001  368.602905  514.119995  ...   \n",
       "...                ...         ...        ...         ...         ...  ...   \n",
       "2022-12-23  169.002655  106.645416  63.380001  263.014862  338.450012  ...   \n",
       "2022-12-27  167.998657  107.029884  63.619999  262.243866  335.089996  ...   \n",
       "2022-12-28  166.368378  106.300385  62.599998  260.079224  328.329987  ...   \n",
       "2022-12-29  165.066132  108.745201  63.110001  265.278412  337.579987  ...   \n",
       "2022-12-30  164.728149  108.232574  62.779999  263.756226  336.529999  ...   \n",
       "\n",
       "               NCM.AX    NST.AX    PLS.AX     RIO.AX     RMD.AX          T  \\\n",
       "Date                                                                         \n",
       "2021-12-31  17.063065  6.543083  2.467495  66.696533  25.832444  16.512589   \n",
       "2022-01-03  17.063065  6.543083  2.467495  66.696533  25.832444  17.069727   \n",
       "2022-01-04  17.063065  6.543083  2.467495  66.696533  25.832444  17.210688   \n",
       "2022-01-05  17.377001  6.615100  2.523780  67.606146  25.117225  17.593296   \n",
       "2022-01-06  16.795601  6.299028  2.390925  67.927960  24.094973  17.526173   \n",
       "...               ...       ...       ...        ...        ...        ...   \n",
       "2022-12-23  13.698630  7.310921  2.471336  75.068857  20.972921  17.485210   \n",
       "2022-12-27  13.698630  7.310921  2.471336  75.068857  20.972921  17.628452   \n",
       "2022-12-28  13.838365  7.407739  2.398796  77.205864  20.471516  17.399265   \n",
       "2022-12-29  13.787092  7.393248  2.418058  76.929789  20.510296  17.618904   \n",
       "2022-12-30  13.785635  7.306800  2.470956  76.703805  20.891650  17.580706   \n",
       "\n",
       "                  TECH     WBC.AX     WDS.AX        WRB  \n",
       "Date                                                     \n",
       "2021-12-31  128.615051  14.316419  13.916643  53.633766  \n",
       "2022-01-03  121.268661  14.316419  13.916643  52.898170  \n",
       "2022-01-04  116.353676  14.316419  13.916643  53.685848  \n",
       "2022-01-05  108.077507  14.517222  14.057268  53.086952  \n",
       "2022-01-06  106.041397  14.242419  13.677448  53.991802  \n",
       "...                ...        ...        ...        ...  \n",
       "2022-12-23   82.562065  15.187068  22.575913  72.699135  \n",
       "2022-12-27   82.043114  15.187068  22.575913  73.154449  \n",
       "2022-12-28   80.526199  15.298645  23.354187  72.055794  \n",
       "2022-12-29   84.298531  15.194037  22.351543  72.491295  \n",
       "2022-12-30   82.711754  15.288979  22.605507  71.828140  \n",
       "\n",
       "[259 rows x 114 columns]"
      ]
     },
     "execution_count": 38,
     "metadata": {},
     "output_type": "execute_result"
    }
   ],
   "source": [
    "# Forward fill any missing stock prices\n",
    "stock_prices_df.fillna(method='ffill', inplace=True)\n",
    "\n",
    "# Backward fill any remaining missing stock prices\n",
    "stock_prices_df.fillna(method='bfill', inplace=True)\n",
    "\n",
    "stock_prices_df"
   ]
  },
  {
   "cell_type": "markdown",
   "id": "74d5c4db",
   "metadata": {},
   "source": [
    "# Create a Universe of Pairs"
   ]
  },
  {
   "cell_type": "markdown",
   "id": "08b271b0",
   "metadata": {},
   "source": [
    "Now that we have imported and cleansed the data, we need to start manipulating it to get the answers required.\n",
    "\n",
    "Key to this is breaking the price data for all the companies into pairs that can be analyzed.  For Example, Microsoft (MSFT) vs Google (GOOGL).\n"
   ]
  },
  {
   "cell_type": "markdown",
   "id": "17263e6b",
   "metadata": {},
   "source": [
    "Using all the names we have data for, we can create a list of all possible pair combinations using the itertools library."
   ]
  },
  {
   "cell_type": "code",
   "execution_count": 39,
   "id": "9faa9fe6",
   "metadata": {},
   "outputs": [
    {
     "name": "stdout",
     "output_type": "stream",
     "text": [
      "The Number of All Possible Unique Pairs is: 6,441\n",
      "\n",
      "Some Examples: [['A', 'AAL'], ['A', 'AAP'], ['A', 'AAPL'], ['A', 'ABBV'], ['A', 'ABC']] \n",
      "[['TECH', 'WDS.AX'], ['TECH', 'WRB'], ['WBC.AX', 'WDS.AX'], ['WBC.AX', 'WRB'], ['WDS.AX', 'WRB']]\n"
     ]
    }
   ],
   "source": [
    "all_possible_pairs = [list(pair) for pair in itertools.combinations(stock_prices_df.columns, 2)]\n",
    "\n",
    "print(f\"The Number of All Possible Unique Pairs is: {len(all_possible_pairs):,.0f}\")\n",
    "print(f\"\\nSome Examples: {all_possible_pairs[:5]} \\n{all_possible_pairs[-5:]}\")\n"
   ]
  },
  {
   "cell_type": "markdown",
   "id": "31774d18",
   "metadata": {},
   "source": [
    "We may want to instead look at a sample of names, instead of the full universe.  This may be because we have processing constrainsts etc.  However, we want a random sample rather than just picking the first 100 names in case their is some bias in the way they are ordered.\n",
    "\n",
    "We have set the sample size via the input constant (RDM_SAMPLE_SIZE) in the Set Inputs section."
   ]
  },
  {
   "cell_type": "code",
   "execution_count": 40,
   "id": "e4c0f724",
   "metadata": {},
   "outputs": [
    {
     "name": "stdout",
     "output_type": "stream",
     "text": [
      "[['BF-B', 'CAH'], ['AMD', 'ANSS'], ['AEE', 'BHP.AX'], ['BR', 'CNC'], ['AKAM', 'CARR']]\n"
     ]
    }
   ],
   "source": [
    "# Select a sample of pairs randomly from the our universe of all possible pairs\n",
    "random_pairs = sample(all_possible_pairs, RDM_SAMPLE_SIZE)\n",
    "print(random_pairs[:5])"
   ]
  },
  {
   "cell_type": "markdown",
   "id": "0f9d4170",
   "metadata": {},
   "source": [
    "## Add Industry to Pairs List"
   ]
  },
  {
   "cell_type": "markdown",
   "id": "570bcf54",
   "metadata": {},
   "source": [
    "The key factor we are seeking to test is Industry.  That is, if in names in the same industry show better correlation or related statistics vs random pairs. \n",
    "\n",
    "To do this we are going to have to merge information from multiple inputs:\n",
    "- the ticker names for the pairs will come from the list of pairs we generated;\n",
    "- the Industry name will come from the all_stocks_info_df\n",
    "- Same Industry Column will be a engineered column we create\n",
    "\n",
    "The Same Industry column will make queries and analysis on the dataset simplier.\n"
   ]
  },
  {
   "cell_type": "code",
   "execution_count": 41,
   "id": "31265a52",
   "metadata": {},
   "outputs": [
    {
     "data": {
      "text/html": [
       "<div>\n",
       "<style scoped>\n",
       "    .dataframe tbody tr th:only-of-type {\n",
       "        vertical-align: middle;\n",
       "    }\n",
       "\n",
       "    .dataframe tbody tr th {\n",
       "        vertical-align: top;\n",
       "    }\n",
       "\n",
       "    .dataframe thead th {\n",
       "        text-align: right;\n",
       "    }\n",
       "</style>\n",
       "<table border=\"1\" class=\"dataframe\">\n",
       "  <thead>\n",
       "    <tr style=\"text-align: right;\">\n",
       "      <th></th>\n",
       "      <th>Ticker1</th>\n",
       "      <th>Ticker2</th>\n",
       "      <th>Ind1</th>\n",
       "      <th>Ind2</th>\n",
       "      <th>Same Industry</th>\n",
       "    </tr>\n",
       "  </thead>\n",
       "  <tbody>\n",
       "    <tr>\n",
       "      <th>0</th>\n",
       "      <td>A</td>\n",
       "      <td>AAL</td>\n",
       "      <td>Health Care</td>\n",
       "      <td>Industrials</td>\n",
       "      <td>No</td>\n",
       "    </tr>\n",
       "    <tr>\n",
       "      <th>1</th>\n",
       "      <td>A</td>\n",
       "      <td>AAP</td>\n",
       "      <td>Health Care</td>\n",
       "      <td>Consumer Discretionary</td>\n",
       "      <td>No</td>\n",
       "    </tr>\n",
       "    <tr>\n",
       "      <th>2</th>\n",
       "      <td>AAL</td>\n",
       "      <td>AAP</td>\n",
       "      <td>Industrials</td>\n",
       "      <td>Consumer Discretionary</td>\n",
       "      <td>No</td>\n",
       "    </tr>\n",
       "    <tr>\n",
       "      <th>3</th>\n",
       "      <td>A</td>\n",
       "      <td>AAPL</td>\n",
       "      <td>Health Care</td>\n",
       "      <td>Information Technology</td>\n",
       "      <td>No</td>\n",
       "    </tr>\n",
       "    <tr>\n",
       "      <th>4</th>\n",
       "      <td>AAL</td>\n",
       "      <td>AAPL</td>\n",
       "      <td>Industrials</td>\n",
       "      <td>Information Technology</td>\n",
       "      <td>No</td>\n",
       "    </tr>\n",
       "    <tr>\n",
       "      <th>...</th>\n",
       "      <td>...</td>\n",
       "      <td>...</td>\n",
       "      <td>...</td>\n",
       "      <td>...</td>\n",
       "      <td>...</td>\n",
       "    </tr>\n",
       "    <tr>\n",
       "      <th>6436</th>\n",
       "      <td>RMD.AX</td>\n",
       "      <td>WRB</td>\n",
       "      <td>Health Care</td>\n",
       "      <td>Financials</td>\n",
       "      <td>No</td>\n",
       "    </tr>\n",
       "    <tr>\n",
       "      <th>6437</th>\n",
       "      <td>T</td>\n",
       "      <td>WRB</td>\n",
       "      <td>Communication Services</td>\n",
       "      <td>Financials</td>\n",
       "      <td>No</td>\n",
       "    </tr>\n",
       "    <tr>\n",
       "      <th>6438</th>\n",
       "      <td>TECH</td>\n",
       "      <td>WRB</td>\n",
       "      <td>Health Care</td>\n",
       "      <td>Financials</td>\n",
       "      <td>No</td>\n",
       "    </tr>\n",
       "    <tr>\n",
       "      <th>6439</th>\n",
       "      <td>WBC.AX</td>\n",
       "      <td>WRB</td>\n",
       "      <td>Financials</td>\n",
       "      <td>Financials</td>\n",
       "      <td>Yes</td>\n",
       "    </tr>\n",
       "    <tr>\n",
       "      <th>6440</th>\n",
       "      <td>WDS.AX</td>\n",
       "      <td>WRB</td>\n",
       "      <td>Energy</td>\n",
       "      <td>Financials</td>\n",
       "      <td>No</td>\n",
       "    </tr>\n",
       "  </tbody>\n",
       "</table>\n",
       "<p>6441 rows × 5 columns</p>\n",
       "</div>"
      ],
      "text/plain": [
       "     Ticker1 Ticker2                    Ind1                    Ind2  \\\n",
       "0          A     AAL             Health Care             Industrials   \n",
       "1          A     AAP             Health Care  Consumer Discretionary   \n",
       "2        AAL     AAP             Industrials  Consumer Discretionary   \n",
       "3          A    AAPL             Health Care  Information Technology   \n",
       "4        AAL    AAPL             Industrials  Information Technology   \n",
       "...      ...     ...                     ...                     ...   \n",
       "6436  RMD.AX     WRB             Health Care              Financials   \n",
       "6437       T     WRB  Communication Services              Financials   \n",
       "6438    TECH     WRB             Health Care              Financials   \n",
       "6439  WBC.AX     WRB              Financials              Financials   \n",
       "6440  WDS.AX     WRB                  Energy              Financials   \n",
       "\n",
       "     Same Industry  \n",
       "0               No  \n",
       "1               No  \n",
       "2               No  \n",
       "3               No  \n",
       "4               No  \n",
       "...            ...  \n",
       "6436            No  \n",
       "6437            No  \n",
       "6438            No  \n",
       "6439           Yes  \n",
       "6440            No  \n",
       "\n",
       "[6441 rows x 5 columns]"
      ]
     },
     "execution_count": 41,
     "metadata": {},
     "output_type": "execute_result"
    }
   ],
   "source": [
    "# Build a DataFrame which lists all possible pairs, the industry of each name in the pair and if they are the same.\n",
    "\n",
    "# Start with the all the pair combinations\n",
    "all_possible_pairs_df = pd.DataFrame(all_possible_pairs, columns=['Ticker1', 'Ticker2'])\n",
    "\n",
    "# write to csv to check file size\n",
    "all_possible_pairs_df.to_csv(\"all_possible_pairs_df.csv\")\n",
    "\n",
    "# Add the Industry Name for the first ticker\n",
    "all_possible_pairs_df = pd.merge(all_possible_pairs_df, all_stocks_info_df[['Symbol', 'GICS Sector']], how='inner', left_on = 'Ticker1', right_on = 'Symbol')\n",
    "# Add the Industry name for the second ticker\n",
    "all_possible_pairs_df = pd.merge(all_possible_pairs_df, all_stocks_info_df[['Symbol', 'GICS Sector']], how='inner', left_on = 'Ticker2', right_on = 'Symbol')\n",
    "\n",
    "# Remove excess columns and tidy up column names\n",
    "all_possible_pairs_df.drop(columns = ['Symbol_x', 'Symbol_y'], inplace=True)\n",
    "all_possible_pairs_df.rename(columns={\"GICS Sector_x\": \"Ind1\", \"GICS Sector_y\": \"Ind2\"}, inplace=True)\n",
    "\n",
    "# Create a new column 'Same Industry' which identifies if all the two names in the pair are from the same industry\n",
    "all_possible_pairs_df['Same Industry'] = np.where(all_possible_pairs_df['Ind1'] == all_possible_pairs_df['Ind2'], 'Yes', 'No')\n",
    "all_possible_pairs_df"
   ]
  },
  {
   "cell_type": "markdown",
   "id": "29828fcc",
   "metadata": {},
   "source": [
    "Construct a DataFrame for the Random Pairs sample in the same format as that for all the possible pairs."
   ]
  },
  {
   "cell_type": "code",
   "execution_count": 42,
   "id": "26fa8d60",
   "metadata": {},
   "outputs": [
    {
     "data": {
      "text/html": [
       "<div>\n",
       "<style scoped>\n",
       "    .dataframe tbody tr th:only-of-type {\n",
       "        vertical-align: middle;\n",
       "    }\n",
       "\n",
       "    .dataframe tbody tr th {\n",
       "        vertical-align: top;\n",
       "    }\n",
       "\n",
       "    .dataframe thead th {\n",
       "        text-align: right;\n",
       "    }\n",
       "</style>\n",
       "<table border=\"1\" class=\"dataframe\">\n",
       "  <thead>\n",
       "    <tr style=\"text-align: right;\">\n",
       "      <th></th>\n",
       "      <th>Ticker1</th>\n",
       "      <th>Ticker2</th>\n",
       "      <th>Ind1</th>\n",
       "      <th>Ind2</th>\n",
       "      <th>Same Industry</th>\n",
       "    </tr>\n",
       "  </thead>\n",
       "  <tbody>\n",
       "    <tr>\n",
       "      <th>0</th>\n",
       "      <td>BF-B</td>\n",
       "      <td>CAH</td>\n",
       "      <td>Consumer Staples</td>\n",
       "      <td>Health Care</td>\n",
       "      <td>No</td>\n",
       "    </tr>\n",
       "    <tr>\n",
       "      <th>1</th>\n",
       "      <td>AMD</td>\n",
       "      <td>ANSS</td>\n",
       "      <td>Information Technology</td>\n",
       "      <td>Information Technology</td>\n",
       "      <td>Yes</td>\n",
       "    </tr>\n",
       "    <tr>\n",
       "      <th>2</th>\n",
       "      <td>AEE</td>\n",
       "      <td>BHP.AX</td>\n",
       "      <td>Utilities</td>\n",
       "      <td>Materials</td>\n",
       "      <td>No</td>\n",
       "    </tr>\n",
       "    <tr>\n",
       "      <th>3</th>\n",
       "      <td>BR</td>\n",
       "      <td>CNC</td>\n",
       "      <td>Industrials</td>\n",
       "      <td>Health Care</td>\n",
       "      <td>No</td>\n",
       "    </tr>\n",
       "    <tr>\n",
       "      <th>4</th>\n",
       "      <td>AKAM</td>\n",
       "      <td>CARR</td>\n",
       "      <td>Information Technology</td>\n",
       "      <td>Industrials</td>\n",
       "      <td>No</td>\n",
       "    </tr>\n",
       "    <tr>\n",
       "      <th>...</th>\n",
       "      <td>...</td>\n",
       "      <td>...</td>\n",
       "      <td>...</td>\n",
       "      <td>...</td>\n",
       "      <td>...</td>\n",
       "    </tr>\n",
       "    <tr>\n",
       "      <th>3995</th>\n",
       "      <td>AEP</td>\n",
       "      <td>NST.AX</td>\n",
       "      <td>Utilities</td>\n",
       "      <td>Materials</td>\n",
       "      <td>No</td>\n",
       "    </tr>\n",
       "    <tr>\n",
       "      <th>3996</th>\n",
       "      <td>ATVI</td>\n",
       "      <td>BLK</td>\n",
       "      <td>Communication Services</td>\n",
       "      <td>Financials</td>\n",
       "      <td>No</td>\n",
       "    </tr>\n",
       "    <tr>\n",
       "      <th>3997</th>\n",
       "      <td>ACGL</td>\n",
       "      <td>AEP</td>\n",
       "      <td>Financials</td>\n",
       "      <td>Utilities</td>\n",
       "      <td>No</td>\n",
       "    </tr>\n",
       "    <tr>\n",
       "      <th>3998</th>\n",
       "      <td>AMP</td>\n",
       "      <td>CSL.AX</td>\n",
       "      <td>Financials</td>\n",
       "      <td>Health Care</td>\n",
       "      <td>No</td>\n",
       "    </tr>\n",
       "    <tr>\n",
       "      <th>3999</th>\n",
       "      <td>CPT</td>\n",
       "      <td>RIO.AX</td>\n",
       "      <td>Real Estate</td>\n",
       "      <td>Materials</td>\n",
       "      <td>No</td>\n",
       "    </tr>\n",
       "  </tbody>\n",
       "</table>\n",
       "<p>4000 rows × 5 columns</p>\n",
       "</div>"
      ],
      "text/plain": [
       "     Ticker1 Ticker2                    Ind1                    Ind2  \\\n",
       "0       BF-B     CAH        Consumer Staples             Health Care   \n",
       "1        AMD    ANSS  Information Technology  Information Technology   \n",
       "2        AEE  BHP.AX               Utilities               Materials   \n",
       "3         BR     CNC             Industrials             Health Care   \n",
       "4       AKAM    CARR  Information Technology             Industrials   \n",
       "...      ...     ...                     ...                     ...   \n",
       "3995     AEP  NST.AX               Utilities               Materials   \n",
       "3996    ATVI     BLK  Communication Services              Financials   \n",
       "3997    ACGL     AEP              Financials               Utilities   \n",
       "3998     AMP  CSL.AX              Financials             Health Care   \n",
       "3999     CPT  RIO.AX             Real Estate               Materials   \n",
       "\n",
       "     Same Industry  \n",
       "0               No  \n",
       "1              Yes  \n",
       "2               No  \n",
       "3               No  \n",
       "4               No  \n",
       "...            ...  \n",
       "3995            No  \n",
       "3996            No  \n",
       "3997            No  \n",
       "3998            No  \n",
       "3999            No  \n",
       "\n",
       "[4000 rows x 5 columns]"
      ]
     },
     "execution_count": 42,
     "metadata": {},
     "output_type": "execute_result"
    }
   ],
   "source": [
    "#Build the base df from the list of list of random pairs\n",
    "random_pairs_df = pd.DataFrame(random_pairs, columns=['Ticker1', 'Ticker2'])\n",
    "\n",
    "# Add the extra columns required via merging with the df containing all the pairs\n",
    "random_pairs_df = pd.merge(random_pairs_df, all_possible_pairs_df, how='inner',\n",
    "                          left_on= ['Ticker1', 'Ticker2'],\n",
    "                          right_on= ['Ticker1', 'Ticker2'])\n",
    "\n",
    "random_pairs_df\n"
   ]
  },
  {
   "cell_type": "markdown",
   "id": "cb924ae5",
   "metadata": {},
   "source": [
    "### Analysis of Names by Sector ###"
   ]
  },
  {
   "cell_type": "code",
   "execution_count": 43,
   "id": "d98e0334",
   "metadata": {},
   "outputs": [
    {
     "data": {
      "text/plain": [
       "count            115\n",
       "unique            11\n",
       "top       Financials\n",
       "freq              22\n",
       "Name: GICS Sector, dtype: object"
      ]
     },
     "execution_count": 43,
     "metadata": {},
     "output_type": "execute_result"
    }
   ],
   "source": [
    "all_stocks_info_df['GICS Sector'].describe()"
   ]
  },
  {
   "cell_type": "code",
   "execution_count": 44,
   "id": "1f78723e",
   "metadata": {},
   "outputs": [
    {
     "name": "stdout",
     "output_type": "stream",
     "text": [
      "The Minimum Number of Members within a Sector Group is: 3\n",
      "The Median Number of Members within a Sector Group is: 11.0\n"
     ]
    }
   ],
   "source": [
    "print(f\"The Minimum Number of Members within a Sector Group is: {all_stocks_info_df.groupby('GICS Sector').size().min()}\")\n",
    "print(f\"The Median Number of Members within a Sector Group is: {all_stocks_info_df.groupby('GICS Sector').size().median()}\")\n"
   ]
  },
  {
   "cell_type": "code",
   "execution_count": 45,
   "id": "c681c663",
   "metadata": {},
   "outputs": [
    {
     "data": {
      "text/plain": [
       "GICS Sector\n",
       "Communication Services     4\n",
       "Consumer Discretionary    11\n",
       "Consumer Staples           5\n",
       "Energy                     3\n",
       "Financials                22\n",
       "Health Care               18\n",
       "Industrials               13\n",
       "Information Technology    14\n",
       "Materials                 12\n",
       "Real Estate                7\n",
       "Utilities                  6\n",
       "dtype: int64"
      ]
     },
     "execution_count": 45,
     "metadata": {},
     "output_type": "execute_result"
    }
   ],
   "source": [
    "all_stocks_info_df.groupby('GICS Sector').size()"
   ]
  },
  {
   "cell_type": "markdown",
   "id": "899c4993",
   "metadata": {},
   "source": [
    "### Build and Display Graphs Analysing the Distribution of the Sector Groups"
   ]
  },
  {
   "cell_type": "code",
   "execution_count": 46,
   "id": "51010275",
   "metadata": {},
   "outputs": [],
   "source": [
    "# Get Counts of The Number of Names Within Each Sector\n",
    "sub_industry_counts = all_stocks_info_df.groupby('GICS Sector')['Symbol'].count().sort_values(axis=0)\n",
    "\n",
    "# Bucket The Industries into Those That Have a High Number of Members and \"Others\"\n",
    "sub_industry_graph_series = sub_industry_counts[-8:]\n",
    "sub_industry_graph_series['Other'] = sub_industry_counts[:-8].sum()"
   ]
  },
  {
   "cell_type": "code",
   "execution_count": 47,
   "id": "b33ad633",
   "metadata": {},
   "outputs": [],
   "source": [
    "# Create a seaborn color palette for our graphs\n",
    "colors = sns.color_palette(\"Blues\", len(sub_industry_graph_series))"
   ]
  },
  {
   "cell_type": "code",
   "execution_count": 48,
   "id": "fcfe5ff7",
   "metadata": {},
   "outputs": [],
   "source": [
    "# Function to Create a Series of Graphs to Show the Distribution and Makeup of the Sector Membership\n",
    "def display_subindustry_graphs(colors, sub_industry_counts, sub_industry_graph_series):\n",
    "    \n",
    "    fig = plt.figure(figsize=(10, 25))\n",
    "    fig.suptitle('Sector Category Splits', y = 0.95, fontweight='bold')\n",
    "\n",
    "    \"\"\"\n",
    "    # Display Histogram Showing What Are the Most Common Number of Members Within a Sector Group\n",
    "    ax = fig.add_subplot(4, 1, 1)\n",
    "    ax.hist(sub_industry_counts,\n",
    "            bins = len(np.arange(1,sub_industry_counts.max())+1),\n",
    "            )\n",
    "    ax.set_ylabel('Frequency of Occurence')\n",
    "    ax.set_xlabel('Number of Members Within Sub-Index')\n",
    "    ax.set_title('Breakout of the Number of Members Within Each Sector')\n",
    "    \"\"\"\n",
    "\n",
    "    # Display Pie Chart\n",
    "    ax = fig.add_subplot(3, 1, 1)\n",
    "    ax.pie(sub_industry_graph_series,\n",
    "        labels = sub_industry_graph_series.index,\n",
    "        colors = colors,\n",
    "            )\n",
    "    ax.set_title('Sub_Industry Category Split', fontweight='bold')\n",
    "\n",
    "    # Bar Chart of the Sub-Industries With the Most Members\n",
    "    ax = fig.add_subplot(3, 1, 2)\n",
    "    ax.barh(sub_industry_graph_series[:-1].index , sub_industry_graph_series[:-1].values)\n",
    "    ax.set_title('Top Sector Member Numbers', fontweight='bold')\n",
    "\n",
    "    # Display Box Plot\n",
    "    ax = fig.add_subplot(3, 1, 3)\n",
    "    ax.boxplot(all_stocks_info_df.groupby('GICS Sector')['Symbol'].count())\n",
    "    ax.set_title('Distribution of Number of Members Within Each Sector', fontweight='bold')\n",
    "\n",
    "    #fig.tight_layout()\n",
    "    plt.subplots_adjust(hspace = 0.5)\n",
    "    \n",
    "    return fig"
   ]
  },
  {
   "cell_type": "markdown",
   "id": "aa044edb",
   "metadata": {},
   "source": [
    "When we review the how many stocks/ companies fall into each Sector we see that most Sub-Industries only have a very small number of members.  However, there are also a small number of Sub-Industries that have 10 plus members.\n",
    "\n",
    "So the distribution is definitely quite skewed.\n",
    "\n",
    "The following graphs demonstrate that distribution and also highlights which Sector groups have the most number of members."
   ]
  },
  {
   "cell_type": "code",
   "execution_count": 49,
   "id": "125382e2",
   "metadata": {},
   "outputs": [
    {
     "data": {
      "image/png": "[encoded data removed]",
      "text/plain": [
       "<Figure size 720x1800 with 3 Axes>"
      ]
     },
     "metadata": {
      "needs_background": "light"
     },
     "output_type": "display_data"
    }
   ],
   "source": [
    "fig = display_subindustry_graphs(colors, sub_industry_counts, sub_industry_graph_series)\n",
    "#plt.show()"
   ]
  },
  {
   "cell_type": "markdown",
   "id": "5e9f77d9",
   "metadata": {},
   "source": [
    "Where the Sector only has a single member, comparing members within the same industry will not be possible."
   ]
  },
  {
   "cell_type": "markdown",
   "id": "dc18e21a",
   "metadata": {},
   "source": [
    "Given we are looking to compare companies within the same industry vs companies not in the same industry, we want to identify if any sectors have less than 2 names in them."
   ]
  },
  {
   "cell_type": "code",
   "execution_count": 50,
   "id": "6f4b45a9",
   "metadata": {},
   "outputs": [
    {
     "data": {
      "text/plain": [
       "GICS Sector\n",
       "Communication Services     4\n",
       "Consumer Discretionary    11\n",
       "Consumer Staples           5\n",
       "Energy                     3\n",
       "Financials                22\n",
       "Health Care               18\n",
       "Industrials               13\n",
       "Information Technology    14\n",
       "Materials                 12\n",
       "Real Estate                7\n",
       "Utilities                  6\n",
       "Name: Symbol, dtype: int64"
      ]
     },
     "execution_count": 50,
     "metadata": {},
     "output_type": "execute_result"
    }
   ],
   "source": [
    "all_stocks_info_df.groupby('GICS Sector')['Symbol'].count()"
   ]
  },
  {
   "cell_type": "markdown",
   "id": "3b0fa3a7",
   "metadata": {},
   "source": [
    "## Analyse Ratio of Same Industry Vs Different Industry Pairs"
   ]
  },
  {
   "cell_type": "markdown",
   "id": "33335aff",
   "metadata": {},
   "source": [
    "### Full Universe of Names"
   ]
  },
  {
   "cell_type": "code",
   "execution_count": 51,
   "id": "de73500e",
   "metadata": {},
   "outputs": [
    {
     "name": "stdout",
     "output_type": "stream",
     "text": [
      "Number of Pairs In Total: 6,441\n",
      "Number of Pairs in the Same Industry: 708\n",
      "Percentage of pairs in the same industry: 10.99%\n"
     ]
    }
   ],
   "source": [
    "num_pairs_all = len(all_possible_pairs_df.index)\n",
    "num_pairs_same_ind_all = len(all_possible_pairs_df[all_possible_pairs_df['Same Industry'] == 'Yes'].index)\n",
    "\n",
    "print(f\"Number of Pairs In Total: {num_pairs_all:,}\")\n",
    "print(f\"Number of Pairs in the Same Industry: {num_pairs_same_ind_all:,}\")\n",
    "print(f\"Percentage of pairs in the same industry: {num_pairs_same_ind_all/num_pairs_all * 100:,.02f}%\")"
   ]
  },
  {
   "cell_type": "markdown",
   "id": "d90cea62",
   "metadata": {},
   "source": [
    "### Sample"
   ]
  },
  {
   "cell_type": "code",
   "execution_count": 52,
   "id": "e54960dc",
   "metadata": {},
   "outputs": [
    {
     "name": "stdout",
     "output_type": "stream",
     "text": [
      "Number of Pairs In Total: 4,000\n",
      "Number of Pairs in the Same Industry: 453\n",
      "Percentage of pairs in the same industry: 11.33%\n"
     ]
    }
   ],
   "source": [
    "num_pairs_all_samp = len(random_pairs_df.index)\n",
    "num_pairs_same_ind_samp = len(random_pairs_df[random_pairs_df['Same Industry'] == 'Yes'].index)\n",
    "\n",
    "print(f\"Number of Pairs In Total: {num_pairs_all_samp:,}\")\n",
    "print(f\"Number of Pairs in the Same Industry: {num_pairs_same_ind_samp:,}\")\n",
    "print(f\"Percentage of pairs in the same industry: {num_pairs_same_ind_samp/num_pairs_all_samp * 100:,.02f}%\")"
   ]
  },
  {
   "cell_type": "code",
   "execution_count": 53,
   "id": "dce1f40d",
   "metadata": {},
   "outputs": [
    {
     "data": {
      "text/html": [
       "<div>\n",
       "<style scoped>\n",
       "    .dataframe tbody tr th:only-of-type {\n",
       "        vertical-align: middle;\n",
       "    }\n",
       "\n",
       "    .dataframe tbody tr th {\n",
       "        vertical-align: top;\n",
       "    }\n",
       "\n",
       "    .dataframe thead th {\n",
       "        text-align: right;\n",
       "    }\n",
       "</style>\n",
       "<table border=\"1\" class=\"dataframe\">\n",
       "  <thead>\n",
       "    <tr style=\"text-align: right;\">\n",
       "      <th></th>\n",
       "      <th>Number of Total Pairs</th>\n",
       "      <th>Number of Pairs in Same Industry</th>\n",
       "      <th>% of Pairs in the Same Industry</th>\n",
       "    </tr>\n",
       "  </thead>\n",
       "  <tbody>\n",
       "    <tr>\n",
       "      <th>Entire Population</th>\n",
       "      <td>6441</td>\n",
       "      <td>708</td>\n",
       "      <td>10.992082</td>\n",
       "    </tr>\n",
       "    <tr>\n",
       "      <th>Sample</th>\n",
       "      <td>4000</td>\n",
       "      <td>453</td>\n",
       "      <td>11.325000</td>\n",
       "    </tr>\n",
       "  </tbody>\n",
       "</table>\n",
       "</div>"
      ],
      "text/plain": [
       "                   Number of Total Pairs  Number of Pairs in Same Industry  \\\n",
       "Entire Population                   6441                               708   \n",
       "Sample                              4000                               453   \n",
       "\n",
       "                   % of Pairs in the Same Industry  \n",
       "Entire Population                        10.992082  \n",
       "Sample                                   11.325000  "
      ]
     },
     "execution_count": 53,
     "metadata": {},
     "output_type": "execute_result"
    }
   ],
   "source": [
    "df = pd.DataFrame(data = [[num_pairs_all, num_pairs_same_ind_all, num_pairs_same_ind_all/num_pairs_all * 100], \n",
    "                          [num_pairs_all_samp, num_pairs_same_ind_samp, num_pairs_same_ind_samp/num_pairs_all_samp * 100]], \n",
    "                  columns=['Number of Total Pairs', 'Number of Pairs in Same Industry', '% of Pairs in the Same Industry'])\n",
    "df.index = ['Entire Population', 'Sample']\n",
    "df"
   ]
  },
  {
   "cell_type": "markdown",
   "id": "85f7c7c4",
   "metadata": {},
   "source": [
    "<div class=\"alert alert-block alert-success\">\n",
    "Our sample does seem representative of the total population in term pairs in the same industry vs all pairs.\n",
    "</div>"
   ]
  },
  {
   "cell_type": "markdown",
   "id": "337e722b",
   "metadata": {},
   "source": [
    "# Correlation"
   ]
  },
  {
   "cell_type": "markdown",
   "id": "2bc31b4f",
   "metadata": {},
   "source": [
    "# Calculate The Correlation Between Various Pairs"
   ]
  },
  {
   "cell_type": "code",
   "execution_count": 54,
   "id": "2c24fe61",
   "metadata": {},
   "outputs": [
    {
     "data": {
      "text/html": [
       "<div>\n",
       "<style scoped>\n",
       "    .dataframe tbody tr th:only-of-type {\n",
       "        vertical-align: middle;\n",
       "    }\n",
       "\n",
       "    .dataframe tbody tr th {\n",
       "        vertical-align: top;\n",
       "    }\n",
       "\n",
       "    .dataframe thead th {\n",
       "        text-align: right;\n",
       "    }\n",
       "</style>\n",
       "<table border=\"1\" class=\"dataframe\">\n",
       "  <thead>\n",
       "    <tr style=\"text-align: right;\">\n",
       "      <th></th>\n",
       "      <th>Ticker1</th>\n",
       "      <th>Ticker2</th>\n",
       "      <th>Correlation</th>\n",
       "      <th>Ind1</th>\n",
       "      <th>Ind2</th>\n",
       "      <th>Same Industry</th>\n",
       "    </tr>\n",
       "  </thead>\n",
       "  <tbody>\n",
       "    <tr>\n",
       "      <th>0</th>\n",
       "      <td>BF-B</td>\n",
       "      <td>CAH</td>\n",
       "      <td>0.292612</td>\n",
       "      <td>Consumer Staples</td>\n",
       "      <td>Health Care</td>\n",
       "      <td>No</td>\n",
       "    </tr>\n",
       "    <tr>\n",
       "      <th>1</th>\n",
       "      <td>AMD</td>\n",
       "      <td>ANSS</td>\n",
       "      <td>0.937245</td>\n",
       "      <td>Information Technology</td>\n",
       "      <td>Information Technology</td>\n",
       "      <td>Yes</td>\n",
       "    </tr>\n",
       "    <tr>\n",
       "      <th>2</th>\n",
       "      <td>AEE</td>\n",
       "      <td>BHP.AX</td>\n",
       "      <td>0.322128</td>\n",
       "      <td>Utilities</td>\n",
       "      <td>Materials</td>\n",
       "      <td>No</td>\n",
       "    </tr>\n",
       "    <tr>\n",
       "      <th>3</th>\n",
       "      <td>BR</td>\n",
       "      <td>CNC</td>\n",
       "      <td>0.554595</td>\n",
       "      <td>Industrials</td>\n",
       "      <td>Health Care</td>\n",
       "      <td>No</td>\n",
       "    </tr>\n",
       "    <tr>\n",
       "      <th>4</th>\n",
       "      <td>AKAM</td>\n",
       "      <td>CARR</td>\n",
       "      <td>0.653585</td>\n",
       "      <td>Information Technology</td>\n",
       "      <td>Industrials</td>\n",
       "      <td>No</td>\n",
       "    </tr>\n",
       "    <tr>\n",
       "      <th>...</th>\n",
       "      <td>...</td>\n",
       "      <td>...</td>\n",
       "      <td>...</td>\n",
       "      <td>...</td>\n",
       "      <td>...</td>\n",
       "      <td>...</td>\n",
       "    </tr>\n",
       "    <tr>\n",
       "      <th>3995</th>\n",
       "      <td>AEP</td>\n",
       "      <td>NST.AX</td>\n",
       "      <td>0.083239</td>\n",
       "      <td>Utilities</td>\n",
       "      <td>Materials</td>\n",
       "      <td>No</td>\n",
       "    </tr>\n",
       "    <tr>\n",
       "      <th>3996</th>\n",
       "      <td>ATVI</td>\n",
       "      <td>BLK</td>\n",
       "      <td>-0.106844</td>\n",
       "      <td>Communication Services</td>\n",
       "      <td>Financials</td>\n",
       "      <td>No</td>\n",
       "    </tr>\n",
       "    <tr>\n",
       "      <th>3997</th>\n",
       "      <td>ACGL</td>\n",
       "      <td>AEP</td>\n",
       "      <td>0.020938</td>\n",
       "      <td>Financials</td>\n",
       "      <td>Utilities</td>\n",
       "      <td>No</td>\n",
       "    </tr>\n",
       "    <tr>\n",
       "      <th>3998</th>\n",
       "      <td>AMP</td>\n",
       "      <td>CSL.AX</td>\n",
       "      <td>0.167444</td>\n",
       "      <td>Financials</td>\n",
       "      <td>Health Care</td>\n",
       "      <td>No</td>\n",
       "    </tr>\n",
       "    <tr>\n",
       "      <th>3999</th>\n",
       "      <td>CPT</td>\n",
       "      <td>RIO.AX</td>\n",
       "      <td>0.633677</td>\n",
       "      <td>Real Estate</td>\n",
       "      <td>Materials</td>\n",
       "      <td>No</td>\n",
       "    </tr>\n",
       "  </tbody>\n",
       "</table>\n",
       "<p>4000 rows × 6 columns</p>\n",
       "</div>"
      ],
      "text/plain": [
       "     Ticker1 Ticker2  Correlation                    Ind1  \\\n",
       "0       BF-B     CAH     0.292612        Consumer Staples   \n",
       "1        AMD    ANSS     0.937245  Information Technology   \n",
       "2        AEE  BHP.AX     0.322128               Utilities   \n",
       "3         BR     CNC     0.554595             Industrials   \n",
       "4       AKAM    CARR     0.653585  Information Technology   \n",
       "...      ...     ...          ...                     ...   \n",
       "3995     AEP  NST.AX     0.083239               Utilities   \n",
       "3996    ATVI     BLK    -0.106844  Communication Services   \n",
       "3997    ACGL     AEP     0.020938              Financials   \n",
       "3998     AMP  CSL.AX     0.167444              Financials   \n",
       "3999     CPT  RIO.AX     0.633677             Real Estate   \n",
       "\n",
       "                        Ind2 Same Industry  \n",
       "0                Health Care            No  \n",
       "1     Information Technology           Yes  \n",
       "2                  Materials            No  \n",
       "3                Health Care            No  \n",
       "4                Industrials            No  \n",
       "...                      ...           ...  \n",
       "3995               Materials            No  \n",
       "3996              Financials            No  \n",
       "3997               Utilities            No  \n",
       "3998             Health Care            No  \n",
       "3999               Materials            No  \n",
       "\n",
       "[4000 rows x 6 columns]"
      ]
     },
     "execution_count": 54,
     "metadata": {},
     "output_type": "execute_result"
    }
   ],
   "source": [
    "corr_array = []\n",
    "for i in range(len(random_pairs_df)):\n",
    "    \n",
    "    #ratio = stock_prices_df[pair[0]]/ stock_prices_df[pair[1]]\n",
    "    corr = stock_prices_df[random_pairs[i][0]].corr(stock_prices_df[random_pairs[i][1]])\n",
    "    \n",
    "    corr_array.append([random_pairs[i][0], random_pairs[i][1], corr])\n",
    "    \n",
    "    i += 1\n",
    "    \n",
    "corr_df = pd.DataFrame(data=corr_array, columns=['Ticker1', 'Ticker2', 'Correlation'])\n",
    "corr_df = pd.merge(corr_df, random_pairs_df, how='inner',\n",
    "                  left_on = ['Ticker1', 'Ticker2'], right_on = ['Ticker1', 'Ticker2'])\n",
    "\n",
    "corr_df"
   ]
  },
  {
   "cell_type": "code",
   "execution_count": 55,
   "id": "f5c336e9",
   "metadata": {},
   "outputs": [
    {
     "data": {
      "text/html": [
       "<div>\n",
       "<style scoped>\n",
       "    .dataframe tbody tr th:only-of-type {\n",
       "        vertical-align: middle;\n",
       "    }\n",
       "\n",
       "    .dataframe tbody tr th {\n",
       "        vertical-align: top;\n",
       "    }\n",
       "\n",
       "    .dataframe thead th {\n",
       "        text-align: right;\n",
       "    }\n",
       "</style>\n",
       "<table border=\"1\" class=\"dataframe\">\n",
       "  <thead>\n",
       "    <tr style=\"text-align: right;\">\n",
       "      <th></th>\n",
       "      <th>A</th>\n",
       "      <th>AAL</th>\n",
       "      <th>AAP</th>\n",
       "      <th>AAPL</th>\n",
       "      <th>ABBV</th>\n",
       "    </tr>\n",
       "    <tr>\n",
       "      <th>Date</th>\n",
       "      <th></th>\n",
       "      <th></th>\n",
       "      <th></th>\n",
       "      <th></th>\n",
       "      <th></th>\n",
       "    </tr>\n",
       "  </thead>\n",
       "  <tbody>\n",
       "    <tr>\n",
       "      <th>2021-12-31</th>\n",
       "      <td>157.838791</td>\n",
       "      <td>17.959999</td>\n",
       "      <td>227.873291</td>\n",
       "      <td>176.032745</td>\n",
       "      <td>126.515991</td>\n",
       "    </tr>\n",
       "    <tr>\n",
       "      <th>2022-01-03</th>\n",
       "      <td>154.908524</td>\n",
       "      <td>18.750000</td>\n",
       "      <td>224.928452</td>\n",
       "      <td>180.434296</td>\n",
       "      <td>126.534698</td>\n",
       "    </tr>\n",
       "    <tr>\n",
       "      <th>2022-01-04</th>\n",
       "      <td>149.671646</td>\n",
       "      <td>19.020000</td>\n",
       "      <td>225.184921</td>\n",
       "      <td>178.144302</td>\n",
       "      <td>126.291786</td>\n",
       "    </tr>\n",
       "    <tr>\n",
       "      <th>2022-01-05</th>\n",
       "      <td>147.107651</td>\n",
       "      <td>18.680000</td>\n",
       "      <td>224.614975</td>\n",
       "      <td>173.405685</td>\n",
       "      <td>126.955185</td>\n",
       "    </tr>\n",
       "    <tr>\n",
       "      <th>2022-01-06</th>\n",
       "      <td>147.622437</td>\n",
       "      <td>18.570000</td>\n",
       "      <td>229.554672</td>\n",
       "      <td>170.510956</td>\n",
       "      <td>126.357155</td>\n",
       "    </tr>\n",
       "  </tbody>\n",
       "</table>\n",
       "</div>"
      ],
      "text/plain": [
       "                     A        AAL         AAP        AAPL        ABBV\n",
       "Date                                                                 \n",
       "2021-12-31  157.838791  17.959999  227.873291  176.032745  126.515991\n",
       "2022-01-03  154.908524  18.750000  224.928452  180.434296  126.534698\n",
       "2022-01-04  149.671646  19.020000  225.184921  178.144302  126.291786\n",
       "2022-01-05  147.107651  18.680000  224.614975  173.405685  126.955185\n",
       "2022-01-06  147.622437  18.570000  229.554672  170.510956  126.357155"
      ]
     },
     "execution_count": 55,
     "metadata": {},
     "output_type": "execute_result"
    }
   ],
   "source": [
    "stock_prices_df.iloc[:,:5].head()"
   ]
  },
  {
   "cell_type": "markdown",
   "id": "ddddbd7e",
   "metadata": {},
   "source": [
    "## Analyze Correlations"
   ]
  },
  {
   "cell_type": "markdown",
   "id": "00caffcd",
   "metadata": {},
   "source": [
    "We are analyzing the absolute values of the correlations as we are interested in the magnitude of the corrleations - negative correlations are as usual as positive ones."
   ]
  },
  {
   "cell_type": "code",
   "execution_count": 56,
   "id": "d4b3f448",
   "metadata": {},
   "outputs": [
    {
     "data": {
      "text/html": [
       "<div>\n",
       "<style scoped>\n",
       "    .dataframe tbody tr th:only-of-type {\n",
       "        vertical-align: middle;\n",
       "    }\n",
       "\n",
       "    .dataframe tbody tr th {\n",
       "        vertical-align: top;\n",
       "    }\n",
       "\n",
       "    .dataframe thead th {\n",
       "        text-align: right;\n",
       "    }\n",
       "</style>\n",
       "<table border=\"1\" class=\"dataframe\">\n",
       "  <thead>\n",
       "    <tr style=\"text-align: right;\">\n",
       "      <th></th>\n",
       "      <th>Corr all</th>\n",
       "      <th>Corr Same Industry</th>\n",
       "    </tr>\n",
       "  </thead>\n",
       "  <tbody>\n",
       "    <tr>\n",
       "      <th>count</th>\n",
       "      <td>4000.000000</td>\n",
       "      <td>453.000000</td>\n",
       "    </tr>\n",
       "    <tr>\n",
       "      <th>mean</th>\n",
       "      <td>0.428046</td>\n",
       "      <td>0.482284</td>\n",
       "    </tr>\n",
       "    <tr>\n",
       "      <th>std</th>\n",
       "      <td>0.262312</td>\n",
       "      <td>0.272170</td>\n",
       "    </tr>\n",
       "    <tr>\n",
       "      <th>min</th>\n",
       "      <td>0.000659</td>\n",
       "      <td>0.000789</td>\n",
       "    </tr>\n",
       "    <tr>\n",
       "      <th>25%</th>\n",
       "      <td>0.199762</td>\n",
       "      <td>0.255059</td>\n",
       "    </tr>\n",
       "    <tr>\n",
       "      <th>50%</th>\n",
       "      <td>0.409504</td>\n",
       "      <td>0.489396</td>\n",
       "    </tr>\n",
       "    <tr>\n",
       "      <th>75%</th>\n",
       "      <td>0.637049</td>\n",
       "      <td>0.699728</td>\n",
       "    </tr>\n",
       "    <tr>\n",
       "      <th>max</th>\n",
       "      <td>0.999788</td>\n",
       "      <td>0.999788</td>\n",
       "    </tr>\n",
       "    <tr>\n",
       "      <th>Median</th>\n",
       "      <td>0.409504</td>\n",
       "      <td>0.489396</td>\n",
       "    </tr>\n",
       "  </tbody>\n",
       "</table>\n",
       "</div>"
      ],
      "text/plain": [
       "           Corr all  Corr Same Industry\n",
       "count   4000.000000          453.000000\n",
       "mean       0.428046            0.482284\n",
       "std        0.262312            0.272170\n",
       "min        0.000659            0.000789\n",
       "25%        0.199762            0.255059\n",
       "50%        0.409504            0.489396\n",
       "75%        0.637049            0.699728\n",
       "max        0.999788            0.999788\n",
       "Median     0.409504            0.489396"
      ]
     },
     "execution_count": 56,
     "metadata": {},
     "output_type": "execute_result"
    }
   ],
   "source": [
    "corr_all = abs(corr_df['Correlation']).describe()\n",
    "corr_same_ind = abs(corr_df[corr_df['Same Industry'] == 'Yes']['Correlation']).describe()\n",
    "\n",
    "df = pd.DataFrame(corr_all)\n",
    "df = pd.DataFrame({'Corr all': corr_all, 'Corr Same Industry': corr_same_ind})\n",
    "\n",
    "df.loc['Median', :] \\\n",
    "= [abs(corr_df['Correlation']).median(), abs(corr_df[corr_df['Same Industry'] == 'Yes']['Correlation']).median()]\n",
    "df"
   ]
  },
  {
   "cell_type": "markdown",
   "id": "8ac9c72d",
   "metadata": {},
   "source": [
    "<div class=\"alert alert-block alert-info\">\n",
    "<b>Finding:</b> At a summary level there does appear to be a higher correlation level for pairs in the same industry</div>"
   ]
  },
  {
   "cell_type": "markdown",
   "id": "69411f2d",
   "metadata": {},
   "source": [
    "<p style=\"background-color:#B8E2F2;\">\n",
    "    <b>Finding:</b> test test test \n",
    "</p>"
   ]
  },
  {
   "cell_type": "markdown",
   "id": "0c0ee619",
   "metadata": {},
   "source": [
    "## Analyse by Industry : Are Some Industry Groups Better Than Others?"
   ]
  },
  {
   "cell_type": "markdown",
   "id": "bc1393ab",
   "metadata": {},
   "source": [
    "Build a DataFrame which gives us some summary info by Industry for Pairs Which are Both in the Same Industry"
   ]
  },
  {
   "cell_type": "code",
   "execution_count": 57,
   "id": "d0fe7d6c",
   "metadata": {},
   "outputs": [],
   "source": [
    "# Take the df of all correlations, extract same industry pairs and get the median correlation and count for those those pairs\n",
    "df = corr_df[corr_df['Same Industry'] == 'Yes'].groupby('Ind1').agg(Median =('Correlation', 'median'),\\\n",
    "                                                                   Count=('Correlation','count'))\n",
    "df = df.reset_index()\n",
    "df['Median'] = abs(df['Median'])\n",
    "df = df.sort_values(['Median', 'Count']).set_index('Ind1', drop=True)\n",
    "df.index.name = \"\"\n"
   ]
  },
  {
   "cell_type": "markdown",
   "id": "db5cd761",
   "metadata": {},
   "source": [
    "If we only have one pair in an industry, it is difficult to make any comparision of that industry vs another.  Thus we will limit our comparison to industries with at least 8 names in it."
   ]
  },
  {
   "cell_type": "code",
   "execution_count": 58,
   "id": "5c8c00b4",
   "metadata": {
    "scrolled": true
   },
   "outputs": [
    {
     "data": {
      "text/html": [
       "<div>\n",
       "<style scoped>\n",
       "    .dataframe tbody tr th:only-of-type {\n",
       "        vertical-align: middle;\n",
       "    }\n",
       "\n",
       "    .dataframe tbody tr th {\n",
       "        vertical-align: top;\n",
       "    }\n",
       "\n",
       "    .dataframe thead th {\n",
       "        text-align: right;\n",
       "    }\n",
       "</style>\n",
       "<table border=\"1\" class=\"dataframe\">\n",
       "  <thead>\n",
       "    <tr style=\"text-align: right;\">\n",
       "      <th></th>\n",
       "      <th>Median</th>\n",
       "      <th>Count</th>\n",
       "    </tr>\n",
       "    <tr>\n",
       "      <th></th>\n",
       "      <th></th>\n",
       "      <th></th>\n",
       "    </tr>\n",
       "  </thead>\n",
       "  <tbody>\n",
       "    <tr>\n",
       "      <th>Health Care</th>\n",
       "      <td>0.127148</td>\n",
       "      <td>93</td>\n",
       "    </tr>\n",
       "    <tr>\n",
       "      <th>Materials</th>\n",
       "      <td>0.180447</td>\n",
       "      <td>47</td>\n",
       "    </tr>\n",
       "    <tr>\n",
       "      <th>Industrials</th>\n",
       "      <td>0.347828</td>\n",
       "      <td>47</td>\n",
       "    </tr>\n",
       "    <tr>\n",
       "      <th>Financials</th>\n",
       "      <td>0.398443</td>\n",
       "      <td>136</td>\n",
       "    </tr>\n",
       "    <tr>\n",
       "      <th>Information Technology</th>\n",
       "      <td>0.668683</td>\n",
       "      <td>58</td>\n",
       "    </tr>\n",
       "    <tr>\n",
       "      <th>Consumer Discretionary</th>\n",
       "      <td>0.722097</td>\n",
       "      <td>34</td>\n",
       "    </tr>\n",
       "    <tr>\n",
       "      <th>Real Estate</th>\n",
       "      <td>0.870667</td>\n",
       "      <td>14</td>\n",
       "    </tr>\n",
       "  </tbody>\n",
       "</table>\n",
       "</div>"
      ],
      "text/plain": [
       "                          Median  Count\n",
       "                                       \n",
       "Health Care             0.127148     93\n",
       "Materials               0.180447     47\n",
       "Industrials             0.347828     47\n",
       "Financials              0.398443    136\n",
       "Information Technology  0.668683     58\n",
       "Consumer Discretionary  0.722097     34\n",
       "Real Estate             0.870667     14"
      ]
     },
     "execution_count": 58,
     "metadata": {},
     "output_type": "execute_result"
    }
   ],
   "source": [
    "# Limit our target dataframe to only include sectors with 10 or more members\n",
    "df = df.sort_values('Count')\n",
    "df = df[df['Count']>=10]\n",
    "\n",
    "df = df.sort_values('Median')\n",
    "df"
   ]
  },
  {
   "cell_type": "code",
   "execution_count": 59,
   "id": "7746a1b2",
   "metadata": {},
   "outputs": [
    {
     "data": {
      "text/plain": [
       "<matplotlib.legend.Legend at 0x1fbad2d8cd0>"
      ]
     },
     "execution_count": 59,
     "metadata": {},
     "output_type": "execute_result"
    },
    {
     "data": {
      "image/png": "[encoded data removed]",
      "text/plain": [
       "<Figure size 720x720 with 1 Axes>"
      ]
     },
     "metadata": {
      "needs_background": "light"
     },
     "output_type": "display_data"
    }
   ],
   "source": [
    "# Calculate median correlations\n",
    "medians_same_ind = abs(df['Median'])\n",
    "medians_all_ind = abs(corr_df.groupby('Ind1')['Correlation'].median())\n",
    "\n",
    "# We only want to plot the industries that have sufficient same industry pairs\n",
    "medians_all_ind = medians_all_ind[medians_all_ind.index.isin(df.index)]\n",
    "\n",
    "# Create figure and axis\n",
    "fig, ax = plt.subplots(figsize=[10,10])\n",
    "\n",
    "# Set a width for the bars\n",
    "bar_width = 0.3\n",
    "\n",
    "# We have to define bar positions if we want the different plots to be side by side\n",
    "bar1_positions = np.arange(len(medians_same_ind))\n",
    "bar2_positions = bar1_positions + bar_width # Puts the position beside the prior bar\n",
    "\n",
    "# Create our bar charts\n",
    "ax.barh(bar1_positions, medians_same_ind, height=bar_width, label='Median Correlation by Industry for Pairs in the Same Industry')\n",
    "ax.barh(bar2_positions, medians_all_ind, height=bar_width, label='Median Correlation by Industry for ALL Pairs')\n",
    "\n",
    "# Define y labels and title\n",
    "ax.set_yticks(bar1_positions + bar_width / 2)\n",
    "ax.set_yticklabels(medians_same_ind.index)\n",
    "ax.set_xlabel('Median Correlation')\n",
    "ax.set_ylabel('Industry')\n",
    "ax.set_title('Median Correlation by Industry')\n",
    "\n",
    "# Show legend\n",
    "ax.legend()\n",
    "\n",
    "# Show plot\n",
    "#plt.show()"
   ]
  },
  {
   "cell_type": "markdown",
   "id": "da0d6656",
   "metadata": {},
   "source": [
    "<div class=\"alert alert-block alert-info\">\n",
    "<b>Finding:</b> The range of correlations does vary signficantly across industries\n",
    "</div>"
   ]
  },
  {
   "cell_type": "markdown",
   "id": "b3963554",
   "metadata": {},
   "source": [
    "<div class=\"alert alert-block alert-info\">\n",
    "<b>Finding:</b> This graph also reinforces the earlier finding that the correlation levels are higher for pairs which are both in the same industry vs disparate pairs - as the same industry pairs have higher correlation for almost all industries</div>"
   ]
  },
  {
   "cell_type": "markdown",
   "id": "670e6d06",
   "metadata": {},
   "source": [
    "<div class=\"alert alert-block alert-info\">\n",
    "<b>Finding:</b> It appears that there seems to be INVERSE correlation between the number of members in the Sector and the Median correlation of Sector Members.\n",
    "    \n",
    "One possible explanation for this may be that Sectors with larger numbers of members may also be those defined broadly.  If the Sector is quite broad the business models within that sector are likley to become less closely related.\n",
    "\n",
    "This would require further data analysis and possibly include trying to create sub sectors to see if that creates higher correlation levels.\n",
    "</div>"
   ]
  },
  {
   "cell_type": "code",
   "execution_count": 60,
   "id": "6bcc7c91",
   "metadata": {},
   "outputs": [
    {
     "data": {
      "text/html": [
       "<div>\n",
       "<style scoped>\n",
       "    .dataframe tbody tr th:only-of-type {\n",
       "        vertical-align: middle;\n",
       "    }\n",
       "\n",
       "    .dataframe tbody tr th {\n",
       "        vertical-align: top;\n",
       "    }\n",
       "\n",
       "    .dataframe thead th {\n",
       "        text-align: right;\n",
       "    }\n",
       "</style>\n",
       "<table border=\"1\" class=\"dataframe\">\n",
       "  <thead>\n",
       "    <tr style=\"text-align: right;\">\n",
       "      <th></th>\n",
       "      <th>Median</th>\n",
       "      <th>Count</th>\n",
       "    </tr>\n",
       "  </thead>\n",
       "  <tbody>\n",
       "    <tr>\n",
       "      <th>Median</th>\n",
       "      <td>1.000000</td>\n",
       "      <td>-0.529018</td>\n",
       "    </tr>\n",
       "    <tr>\n",
       "      <th>Count</th>\n",
       "      <td>-0.529018</td>\n",
       "      <td>1.000000</td>\n",
       "    </tr>\n",
       "  </tbody>\n",
       "</table>\n",
       "</div>"
      ],
      "text/plain": [
       "          Median     Count\n",
       "Median  1.000000 -0.529018\n",
       "Count  -0.529018  1.000000"
      ]
     },
     "execution_count": 60,
     "metadata": {},
     "output_type": "execute_result"
    }
   ],
   "source": [
    "df.corr()"
   ]
  },
  {
   "cell_type": "markdown",
   "id": "97e0d321",
   "metadata": {},
   "source": [
    "# CoIntegration"
   ]
  },
  {
   "cell_type": "code",
   "execution_count": 61,
   "id": "73098e47",
   "metadata": {},
   "outputs": [],
   "source": [
    "#pscore_1yr, pvalue_1yr, _ = coint(train_series1,train_series2)"
   ]
  },
  {
   "cell_type": "code",
   "execution_count": null,
   "id": "aee38212",
   "metadata": {},
   "outputs": [],
   "source": []
  },
  {
   "cell_type": "markdown",
   "id": "3c9336e7",
   "metadata": {},
   "source": [
    "# References"
   ]
  },
  {
   "cell_type": "markdown",
   "id": "55a8fa6f",
   "metadata": {},
   "source": [
    "wikipedia: 'https://en.wikipedia.org/wiki/List_of_S%26P_500_companies'\n",
    "\n",
    "data sources: yahoo finance\n",
    "\n"
   ]
  },
  {
   "cell_type": "raw",
   "id": "38d2a104",
   "metadata": {},
   "source": [
    "Price Verification:\n",
    "    \n",
    "https://finance.yahoo.com/quote/NVR?p=NVR&.tsrc=fin-srch\n",
    "\n",
    "https://finance.yahoo.com/quote/BKNG?p=BKNG&.tsrc=fin-srch"
   ]
  },
  {
   "cell_type": "markdown",
   "id": "6d05bd88",
   "metadata": {},
   "source": [
    "ASX: https://www.asx.com.au/data/dw_sharesbyvalue.pdf\n",
    "\n",
    "Used the ASX document for determining the top companies by market cap and their symbol.\n",
    "Supplemented that with details from Yahoo Finance's, looking at each company's profile on Yahoo Finance.\n"
   ]
  },
  {
   "cell_type": "markdown",
   "id": "565453cd",
   "metadata": {},
   "source": [
    "# Discarded Graphs etc"
   ]
  },
  {
   "cell_type": "code",
   "execution_count": null,
   "id": "359d9873",
   "metadata": {},
   "outputs": [],
   "source": []
  },
  {
   "cell_type": "code",
   "execution_count": 62,
   "id": "be4b03a3",
   "metadata": {},
   "outputs": [
    {
     "data": {
      "text/plain": [
       "array([[<AxesSubplot:xlabel='A', ylabel='A'>,\n",
       "        <AxesSubplot:xlabel='AAL', ylabel='A'>,\n",
       "        <AxesSubplot:xlabel='AAP', ylabel='A'>],\n",
       "       [<AxesSubplot:xlabel='A', ylabel='AAL'>,\n",
       "        <AxesSubplot:xlabel='AAL', ylabel='AAL'>,\n",
       "        <AxesSubplot:xlabel='AAP', ylabel='AAL'>],\n",
       "       [<AxesSubplot:xlabel='A', ylabel='AAP'>,\n",
       "        <AxesSubplot:xlabel='AAL', ylabel='AAP'>,\n",
       "        <AxesSubplot:xlabel='AAP', ylabel='AAP'>]], dtype=object)"
      ]
     },
     "execution_count": 62,
     "metadata": {},
     "output_type": "execute_result"
    },
    {
     "data": {
      "image/png": "[encoded data removed]",
      "text/plain": [
       "<Figure size 432x288 with 9 Axes>"
      ]
     },
     "metadata": {
      "needs_background": "light"
     },
     "output_type": "display_data"
    }
   ],
   "source": [
    "graph_df = stock_prices_df.iloc[:,:3].copy()\n",
    "\n",
    "pd.plotting.scatter_matrix(graph_df)"
   ]
  },
  {
   "cell_type": "code",
   "execution_count": 63,
   "id": "de7eb7fe",
   "metadata": {},
   "outputs": [],
   "source": [
    "# A Pairplot on Correlations Might Show Something About Industries\n",
    "\n",
    "# Not really!"
   ]
  },
  {
   "cell_type": "code",
   "execution_count": 64,
   "id": "ccf0f642",
   "metadata": {},
   "outputs": [
    {
     "data": {
      "text/plain": [
       "<seaborn.axisgrid.PairGrid at 0x1fbad7acc40>"
      ]
     },
     "execution_count": 64,
     "metadata": {},
     "output_type": "execute_result"
    },
    {
     "data": {
      "image/png": "[encoded data removed]",
      "text/plain": [
       "<Figure size 391.925x360 with 2 Axes>"
      ]
     },
     "metadata": {},
     "output_type": "display_data"
    }
   ],
   "source": [
    "\n",
    "sns.set()\n",
    "sns.pairplot(\n",
    "    #data = corr_df.head(),\n",
    "    data = corr_df,\n",
    "    hue = 'Ind1',\n",
    "    height = 5\n",
    "        )\n"
   ]
  },
  {
   "cell_type": "code",
   "execution_count": 65,
   "id": "75abf9f0",
   "metadata": {
    "scrolled": true
   },
   "outputs": [
    {
     "data": {
      "text/plain": [
       "<seaborn.axisgrid.PairGrid at 0x1fbab06b6a0>"
      ]
     },
     "execution_count": 65,
     "metadata": {},
     "output_type": "execute_result"
    },
    {
     "data": {
      "image/png": "[encoded data removed]",
      "text/plain": [
       "<Figure size 446.175x360 with 2 Axes>"
      ]
     },
     "metadata": {},
     "output_type": "display_data"
    }
   ],
   "source": [
    "sns.pairplot(\n",
    "    #data = corr_df.head(),\n",
    "    data = corr_df,\n",
    "    hue = 'Same Industry',\n",
    "    height = 5\n",
    "    \n",
    "        )"
   ]
  },
  {
   "cell_type": "code",
   "execution_count": null,
   "id": "d5c07391",
   "metadata": {},
   "outputs": [],
   "source": []
  },
  {
   "cell_type": "code",
   "execution_count": 66,
   "id": "8f91fa42",
   "metadata": {},
   "outputs": [
    {
     "name": "stdout",
     "output_type": "stream",
     "text": [
      "2023-07-31 12:28:01.806520\n"
     ]
    }
   ],
   "source": [
    "# Observe when notebook was last run all the way through successfully\n",
    "\n",
    "print(datetime.now())"
   ]
  },
  {
   "cell_type": "code",
   "execution_count": null,
   "id": "28a25739",
   "metadata": {},
   "outputs": [],
   "source": []
  }
 ],
 "metadata": {
  "kernelspec": {
   "display_name": "Python 3 (ipykernel)",
   "language": "python",
   "name": "python3"
  },
  "language_info": {
   "codemirror_mode": {
    "name": "ipython",
    "version": 3
   },
   "file_extension": ".py",
   "mimetype": "text/x-python",
   "name": "python",
   "nbconvert_exporter": "python",
   "pygments_lexer": "ipython3",
   "version": "3.11.3"
  },
  "toc": {
   "base_numbering": 1,
   "nav_menu": {},
   "number_sections": true,
   "sideBar": true,
   "skip_h1_title": false,
   "title_cell": "Table of Contents",
   "title_sidebar": "Contents",
   "toc_cell": false,
   "toc_position": {
    "height": "calc(100% - 180px)",
    "left": "10px",
    "top": "150px",
    "width": "373px"
   },
   "toc_section_display": true,
   "toc_window_display": true
  },
  "varInspector": {
   "cols": {
    "lenName": 16,
    "lenType": 16,
    "lenVar": 40
   },
   "kernels_config": {
    "python": {
     "delete_cmd_postfix": "",
     "delete_cmd_prefix": "del ",
     "library": "var_list.py",
     "varRefreshCmd": "print(var_dic_list())"
    },
    "r": {
     "delete_cmd_postfix": ") ",
     "delete_cmd_prefix": "rm(",
     "library": "var_list.r",
     "varRefreshCmd": "cat(var_dic_list()) "
    }
   },
   "types_to_exclude": [
    "module",
    "function",
    "builtin_function_or_method",
    "instance",
    "_Feature"
   ],
   "window_display": false
  }
 },
 "nbformat": 4,
 "nbformat_minor": 5
}
