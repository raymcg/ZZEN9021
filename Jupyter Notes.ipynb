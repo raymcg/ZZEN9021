{
 "cells": [
  {
   "cell_type": "code",
   "execution_count": null,
   "id": "03cefdfb",
   "metadata": {},
   "outputs": [],
   "source": [
    "https://medium.com/analytics-vidhya/the-ultimate-markdown-guide-for-jupyter-notebook-d5e5abf728fd"
   ]
  },
  {
   "cell_type": "markdown",
   "id": "7a28dce0",
   "metadata": {},
   "source": [
    "# Table of Contents\n",
    "\n",
    "# Text and Images\n",
    "- [1.1 Level 1 heading](#toc_1.1)\n",
    "- [1.2 Level 2 heading](#toc_1.2)\n",
    "- [1.3 Formatting Text](#toc_1.3)\n",
    "- [1.4 Insert a Hyperlink](#toc_1.4)\n",
    "- [1.5 Insert an Image](#toc_1.5)\n"
   ]
  },
  {
   "cell_type": "raw",
   "id": "4879b052",
   "metadata": {},
   "source": [
    "The text in the square brackets is what is displayed in the ToC page but it does not cause the same text to be displayed at the actual heading (the destination header cell) further down the page.\n",
    "\n",
    "The text further down the page is determined by what you type in at that point.  \n",
    "\n",
    "The two are linked via the (#toc_1.1) in the ToC Header and then the \n",
    "    <a name=\"toc_1.1\"></a>\n",
    "    \n",
    "The is input at the top of the destination header cell."
   ]
  },
  {
   "cell_type": "raw",
   "id": "453a1fe8",
   "metadata": {},
   "source": [
    "[&nbsp;&nbsp;Text Header](#toc_....)\n",
    "    \n",
    "The nbsp is html to advise not to create a new line"
   ]
  },
  {
   "cell_type": "code",
   "execution_count": 1,
   "id": "9b54f91c",
   "metadata": {},
   "outputs": [
    {
     "data": {
      "text/plain": [
       "'\\n- [&nbsp;&nbsp;3.1 Abstract](#toc_40015_3.1)\\n- [&nbsp;&nbsp;3.2 NumPy Arrays](#toc_40015_3.2)\\n- [&nbsp;&nbsp;3.3 Vector Creation](#toc_40015_3.3)\\n- [&nbsp;&nbsp;3.4 Operations on Vectors](#toc_40015_3.4)\\n- [4 Matrices](#toc_40015_4)\\n- [&nbsp;&nbsp;4.1 Abstract](#toc_40015_4.1)\\n- [&nbsp;&nbsp;4.2 NumPy Arrays](#toc_40015_4.2)\\n- [&nbsp;&nbsp;4.3 Matrix Creation](#toc_40015_4.3)\\n- [&nbsp;&nbsp;4.4 Operations on Matrices](#toc_40015_4.4)\\n'"
      ]
     },
     "execution_count": 1,
     "metadata": {},
     "output_type": "execute_result"
    }
   ],
   "source": [
    "\"\"\"\n",
    "- [&nbsp;&nbsp;3.1 Abstract](#toc_40015_3.1)\n",
    "- [&nbsp;&nbsp;3.2 NumPy Arrays](#toc_40015_3.2)\n",
    "- [&nbsp;&nbsp;3.3 Vector Creation](#toc_40015_3.3)\n",
    "- [&nbsp;&nbsp;3.4 Operations on Vectors](#toc_40015_3.4)\n",
    "- [4 Matrices](#toc_40015_4)\n",
    "- [&nbsp;&nbsp;4.1 Abstract](#toc_40015_4.1)\n",
    "- [&nbsp;&nbsp;4.2 NumPy Arrays](#toc_40015_4.2)\n",
    "- [&nbsp;&nbsp;4.3 Matrix Creation](#toc_40015_4.3)\n",
    "- [&nbsp;&nbsp;4.4 Operations on Matrices](#toc_40015_4.4)\n",
    "\"\"\""
   ]
  },
  {
   "cell_type": "markdown",
   "id": "45f201cc",
   "metadata": {},
   "source": [
    "<a name=\"toc_1.1\"></a>\n",
    "# 1.1 A Level 1 heading"
   ]
  },
  {
   "cell_type": "markdown",
   "id": "b1f07cf2",
   "metadata": {},
   "source": [
    "<a name=\"toc_1.2\"></a>\n",
    "## 1.2 A Level 2 heading"
   ]
  },
  {
   "cell_type": "markdown",
   "id": "61602ff7",
   "metadata": {},
   "source": [
    "<a name=\"toc_1.3\"></a>\n",
    "## 1.3 Formatting Text"
   ]
  },
  {
   "cell_type": "raw",
   "id": "9a463f3f",
   "metadata": {},
   "source": [
    "Words can be in **bold** or __bold__ or *italic* or _italic_"
   ]
  },
  {
   "cell_type": "markdown",
   "id": "47c235c9",
   "metadata": {},
   "source": [
    "Words can be in **bold** or __bold__ or *italic* or _italic_"
   ]
  },
  {
   "cell_type": "markdown",
   "id": "b8341609",
   "metadata": {},
   "source": [
    "## Coloring Cells"
   ]
  },
  {
   "cell_type": "markdown",
   "id": "3fa4f4bd",
   "metadata": {},
   "source": [
    "<div class=\"alert alert-block alert-info\">\n",
    "<b>Tip:</b> Use blue boxes (alert-info) for tips and notes.</div>"
   ]
  },
  {
   "cell_type": "markdown",
   "id": "c93944e2",
   "metadata": {},
   "source": [
    "<div class=\"alert alert-block alert-success\">\n",
    "<b>Success:</b> This alert box indicates a successful or positive action.\n",
    "</div>"
   ]
  },
  {
   "cell_type": "markdown",
   "id": "759cfdfd",
   "metadata": {},
   "source": [
    "<div class=\"alert alert-block alert-danger\">\n",
    "<b>Danger:</b> This alert box indicates a dangerous or potentially negative action.\n",
    "</div>"
   ]
  },
  {
   "cell_type": "markdown",
   "id": "d41bf677",
   "metadata": {},
   "source": [
    "## Ticks and Crosses"
   ]
  },
  {
   "cell_type": "markdown",
   "id": "42e17a1b",
   "metadata": {},
   "source": [
    "&#x2705;"
   ]
  },
  {
   "cell_type": "markdown",
   "id": "5bc500c3",
   "metadata": {},
   "source": [
    "&#10060;"
   ]
  },
  {
   "cell_type": "markdown",
   "id": "f0ea1f54",
   "metadata": {},
   "source": [
    "<a name=\"toc_1.4\"></a>\n",
    "## 1.4 Adding a Hyperlink"
   ]
  },
  {
   "cell_type": "markdown",
   "id": "a9966a9d",
   "metadata": {},
   "source": [
    "[A hyperlink](https://www.example.com)"
   ]
  },
  {
   "cell_type": "raw",
   "id": "e8b26f5f",
   "metadata": {},
   "source": [
    "[A hyperlink](https://www.example.com)"
   ]
  },
  {
   "cell_type": "markdown",
   "id": "7dad050b",
   "metadata": {},
   "source": [
    "<a name=\"toc_1.5\"></a>\n",
    "## 1.5 Adding an image"
   ]
  },
  {
   "cell_type": "raw",
   "id": "69d163dc",
   "metadata": {},
   "source": [
    "![](crypto.jpg) # assumes the file is in the same directory"
   ]
  },
  {
   "cell_type": "markdown",
   "id": "a0168b5a",
   "metadata": {},
   "source": [
    "![An Image](crypto.jpg)"
   ]
  },
  {
   "cell_type": "markdown",
   "id": "9fb5075f",
   "metadata": {},
   "source": [
    "# Adding a Task List"
   ]
  },
  {
   "cell_type": "markdown",
   "id": "18fb7e35",
   "metadata": {},
   "source": [
    "- [x] List syntax is required\n",
    "- [x] This item is complete\n",
    "- [ ] This item is not complete"
   ]
  },
  {
   "cell_type": "code",
   "execution_count": null,
   "id": "a3d0298c",
   "metadata": {},
   "outputs": [],
   "source": []
  },
  {
   "cell_type": "markdown",
   "id": "416c3f08",
   "metadata": {},
   "source": [
    "# Edit Vs Command Mode"
   ]
  },
  {
   "cell_type": "markdown",
   "id": "3a1515da",
   "metadata": {},
   "source": [
    "There is always one active cell in your notebook, highlighted with a coloured border. The colour of the border shows what mode the cell is in. There are two modes:\n",
    "\n",
    "Edit mode (green outline)\n",
    "\n",
    "Command mode (blue outline)\n",
    "\n",
    "When a cell is in edit mode you can make changes to its contents. When it is in command mode you can do a variety of things, such as change the kind of cell it is. "
   ]
  },
  {
   "cell_type": "markdown",
   "id": "95442206",
   "metadata": {},
   "source": [
    "When in edit mode, pressing Esc switches the cell to command mode."
   ]
  },
  {
   "cell_type": "markdown",
   "id": "834107c5",
   "metadata": {},
   "source": [
    "# Getting Help"
   ]
  },
  {
   "cell_type": "markdown",
   "id": "4f1e66ac",
   "metadata": {},
   "source": [
    "Press Shift-Tab when inside the brackets of a function.\n",
    "\n",
    "Eg print(Shift-Tab)"
   ]
  },
  {
   "cell_type": "markdown",
   "id": "d7419460",
   "metadata": {},
   "source": [
    "# Timeit"
   ]
  },
  {
   "cell_type": "code",
   "execution_count": null,
   "id": "72601252",
   "metadata": {},
   "outputs": [],
   "source": [
    "%%time\n",
    "for i in range(0,10000):\n",
    "    i = i+1"
   ]
  },
  {
   "cell_type": "markdown",
   "id": "328a14bf",
   "metadata": {},
   "source": [
    "# Run as a Commandline Command From the Notebook"
   ]
  },
  {
   "cell_type": "code",
   "execution_count": null,
   "id": "8b76a52f",
   "metadata": {},
   "outputs": [],
   "source": [
    "!dir"
   ]
  },
  {
   "cell_type": "code",
   "execution_count": null,
   "id": "93239899",
   "metadata": {},
   "outputs": [],
   "source": [
    "dir_output = !dir"
   ]
  },
  {
   "cell_type": "code",
   "execution_count": null,
   "id": "78234cd7",
   "metadata": {},
   "outputs": [],
   "source": [
    "print(type(dir_output))\n",
    "print(len(dir_output))\n",
    "\n",
    "print(dir_output[0])\n",
    "print('-----------')\n",
    "print(dir_output[1])\n",
    "print('-----------')\n",
    "print(dir_output[2])\n",
    "print('-----------')\n",
    "print()\n",
    "dir_output"
   ]
  },
  {
   "cell_type": "code",
   "execution_count": null,
   "id": "4bfb8f74",
   "metadata": {},
   "outputs": [],
   "source": []
  }
 ],
 "metadata": {
  "kernelspec": {
   "display_name": "Python 3 (ipykernel)",
   "language": "python",
   "name": "python3"
  },
  "language_info": {
   "codemirror_mode": {
    "name": "ipython",
    "version": 3
   },
   "file_extension": ".py",
   "mimetype": "text/x-python",
   "name": "python",
   "nbconvert_exporter": "python",
   "pygments_lexer": "ipython3",
   "version": "3.8.12"
  },
  "toc": {
   "base_numbering": 1,
   "nav_menu": {},
   "number_sections": true,
   "sideBar": true,
   "skip_h1_title": false,
   "title_cell": "Table of Contents",
   "title_sidebar": "Contents",
   "toc_cell": false,
   "toc_position": {},
   "toc_section_display": true,
   "toc_window_display": false
  }
 },
 "nbformat": 4,
 "nbformat_minor": 5
}
