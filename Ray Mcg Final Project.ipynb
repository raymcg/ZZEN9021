{
    "metadata": {
        "kernelspec": {
            "name": "python3",
            "display_name": "Python 3 (ipykernel)",
            "language": "python"
        }
    },
    "nbformat": 4,
    "nbformat_minor": 5,
    "cells": [
        {
            "attachments": {},
            "cell_type": "markdown",
            "metadata": {},
            "source": [
                "# Correlation Between Companies in The Same Industry\n",
                "\n",
                "1. \u003ca href='#Introduction'\u003eIntroduction\u003c/a\u003e\n",
                "2. \u003ca href='#Questions'\u003eQuestions\u003c/a\u003e \n",
                "3. \u003ca href='#Data_Sources'\u003eData Sources\u003c/a\u003e \n",
                "4. \u003ca href='#Libraries'\u003eImport Required Libraries \u003c/a\u003e\n",
                "5. \u003ca href='#Inputs'\u003eSet Inputs \u003c/a\u003e\n",
                "6. \u003ca href='#Names'\u003eLoad and Format S\u0026P500 and ASX Names and Details\u003c/a\u003e\n",
                "9. \u003ca href='#Prices'\u003eLoad, Review and Format Prices for FX Rates and Shares\u003c/a\u003e\n",
                "10. \u003ca href='#Pairs'\u003eCreate a Universe of Pairs\u003c/a\u003e\n",
                "11. \u003ca href='#Sectors'\u003eAnalysis of Names by Sector\u003c/a\u003e\n",
                "13. \u003ca href='#Correlations'\u003eCorrelation Results\u003c/a\u003e\n",
                "14. \u003ca href='#Findings'\u003eSummary of Findings\u003c/a\u003e\n",
                "14. \u003ca href='#References'\u003eReferences\u003c/a\u003e"
            ]
        },
        {
            "attachments": {},
            "cell_type": "markdown",
            "metadata": {},
            "source": [
                "\u003ca id=\"introduction\"\u003e\u003c/a\u003e\n",
                "# Introduction"
            ]
        },
        {
            "attachments": {},
            "cell_type": "markdown",
            "metadata": {},
            "source": [
                "With the recent advances in Neural Nets I became interested in whether Machine Learning could effectively be applied to improve investing and trading results.  What I discovered is that Quantitative techniques generally are very useful tools for this, but like all tools, they are better suited to some tasks than others.\n",
                "\n",
                "Pairs Trading is a task/ strategy I believe quantitative tools are well suited for.  \"A pairs trade is a trading strategy that involves matching a long position with a short position in two stocks with a high correlation.\" (Investopida.com 2023). In simple terms, you find two stocks whose prices show high level of correlation.  When they deviate from this correlation, you buy one stock and sell the other and wait for the prior level of correlation to revert to its mean.  If it does so, you will make a profit and vice versa.  Key to this strategy is identifying stocks whose prices  have a high level of correlation to each other - and which are likely to continue to have a high degree of correlation in the future.\n",
                "\n",
                "We can identify which pairs have historically shown a high level of correlation through by generating correlation statistics for every single combination of pairs possible and then select those which appear stronger than a threshold.  However, the weakness of this approach is that some pairs will show high levels of correlation historically through randomness rather than fundamentals - and their correlation is less likely to persist into the future.  For this reason it helps to determine factors which identify when a high correlation is likely to be due to fundamentals.  \n",
                "\n",
                "This project will assess **whether stocks being members of the same sector** are such a factor.  That is, if two companies are in the same sector (industry) are their prices more likely to be correlated  than the prices of two random companies (likely to be in different industries).  We will use the term Sector and Industry interchangeably.\n",
                "\n",
                "*Sample Required*\n",
                "\n",
                "With enough computing power it would be technically possible to generate a list of pairs of using a population of every  single share listed on specified stock exchanges.  However, given the memory and processing constrainsts of the Ed environment we need to quite strictly limit our sample size.  For this reason we have started with 100 stocks from the S\u0026P500 and 15 shares from the ASX.  From that we have then selected a sample of 4000 random pairs generated from that population.  We have set both the 100 S\u0026P500 members and the number of random pairs as an input that could be changed if desired.\n",
                "\n",
                "*Only a First Step*\n",
                "\n",
                "This assignment is not a comprehensive test of using a stock's industry as a selection factor for a pairs trading strategy - ***it is only a first step***.  It is identifying if industry appears to be a factor worth assessing further.  Further assessement would include steps such as:\n",
                "* Analysing the pairs over multiple time periods;\n",
                "* Increasing the same size;\n",
                "* Testing not only if historical correlation of pairs in the same industry is stronger than a benchmark, but also if that persists on a forward basis.\n",
                "\n",
                "*Approach*\n",
                "\n",
                "Our approach is to first analyse if using industry as a factor is practical in the first place:\n",
                "* How many different sectors/industries are there?\n",
                "* What is the distribution across sectors?\n",
                "* Do we have have enough pairs within our data to perform a meaningful test?\n",
                "\n",
                "We then to analyse the correlation of the pairs generated to form our conclusions from this first step."
            ]
        },
        {
            "attachments": {},
            "cell_type": "markdown",
            "metadata": {},
            "source": [
                "\u003ca id=\"Questions\"\u003e\u003c/a\u003e\n",
                "# Questions"
            ]
        },
        {
            "attachments": {},
            "cell_type": "markdown",
            "metadata": {},
            "source": [
                "Given our stated approach and desired outcomes, we seek to answer the following specific questions:\n",
                "\n",
                "1. Given a sample of 115 diferent stocks:\n",
                "    * How many different pairs are possible to analyze?\n",
                "    * How many different pairs within the same industry are possible to analyze and compare to the 'total' universe of stocks?\n",
                "\n",
                "2. What is the break down by industry of the sample set of companies taken from the S\u0026P500?\n",
                "\n",
                "3. What is the overall correlation profile of the pairs within the sample?  \n",
                "\n",
                "4. Are pairs in the same industry more closely correlated in their price movements than random pairs?\n",
                "\n",
                "5. Do pairs in some industries show better correlation than others?\n",
                "\n",
                "6. If there is a difference in correlation across industries, are there any apparent reasons for this or additional steps that could be taken to try and determine those reasons?"
            ]
        },
        {
            "attachments": {},
            "cell_type": "markdown",
            "metadata": {},
            "source": [
                "\u003ca id=\"Data_Sources\"\u003e\u003c/a\u003e\n",
                "# Data Sources"
            ]
        },
        {
            "attachments": {},
            "cell_type": "markdown",
            "metadata": {},
            "source": [
                "This project uses the following data sets the information contained within are publicly available:\n",
                "\n",
                "1. sp500_info.csv: \n",
                "    * S\u0026P 500 component stocks including their symbol and sector name, and sub sector name \u003cbr\u003e\n",
                "    (Wikipedia 2023)  \n",
                "    \n",
                "2. asx_15_info.csv: \n",
                "    * Top 20 Shares by Value for the ASX \u003cbr\u003e\n",
                "    (ASX 2023)  \n",
                "      \n",
                "3. prices_shares.csv: \u003cbr\u003e\n",
                "    * 12 Months Historical Data for 100 S\u0026P500 shares and 15 ASX shares (in their local currency): \u003cbr\u003e\n",
                "    (Aroussi, 2023; Yahoo Finance, 2023)  \n",
                "        \n",
                "4. prices_fx.csv: \n",
                "    * 12 Months Historical Data for a basket of currencies: \u003cbr\u003e\n",
                "    (Aroussi, 2023; Yahoo Finance, 2023)\n",
                "    "
            ]
        },
        {
            "attachments": {},
            "cell_type": "markdown",
            "metadata": {},
            "source": [
                "\u003ca id=\"Libraries\"\u003e\u003c/a\u003e\n",
                "# Import Required Libraries"
            ]
        },
        {
            "cell_type": "code",
            "execution_count": 1,
            "metadata": {},
            "outputs": [],
            "source": [
                "import yfinance as yf\n",
                "import numpy as np\n",
                "import pandas as pd\n",
                "\n",
                "from datetime import datetime, timedelta\n",
                "\n",
                "import itertools\n",
                "\n",
                "from random import sample\n",
                "\n",
                "import matplotlib.pyplot as plt\n",
                "import seaborn as sns"
            ]
        },
        {
            "attachments": {},
            "cell_type": "markdown",
            "metadata": {},
            "source": [
                "\u003ca id=\"Inputs\"\u003e\u003c/a\u003e\n",
                "# Set Inputs"
            ]
        },
        {
            "cell_type": "code",
            "execution_count": 2,
            "metadata": {},
            "outputs": [],
            "source": [
                "# Target Input Files\n",
                "STOCK_PRICES_FNAME = \"prices_shares.csv\"\n",
                "FX_PRICES_FNAME = \"prices_fx.csv\"\n",
                "SP500_MEMBERS_FNAME = \"sp500_info.csv\"\n",
                "ASX_MEMBERS_FNAME = \"asx_15_info.csv\""
            ]
        },
        {
            "cell_type": "code",
            "execution_count": 3,
            "metadata": {},
            "outputs": [],
            "source": [
                "# Instead of choosing all 500 names from the S\u0026P500, pick a selection to reduce the file sizes\n",
                "SP500_SAMPLE_SIZE = 100"
            ]
        },
        {
            "cell_type": "code",
            "execution_count": 4,
            "metadata": {},
            "outputs": [],
            "source": [
                "# From our list of all generated pairs, select a random sample to reduce processing requiremens\n",
                "RDM_SAMPLE_SIZE = 4000"
            ]
        },
        {
            "attachments": {},
            "cell_type": "markdown",
            "metadata": {},
            "source": [
                "\u003ca id=\"Names\"\u003e\u003c/a\u003e\n",
                "# Load and Format SP500 and ASX Names and Details"
            ]
        },
        {
            "attachments": {},
            "cell_type": "markdown",
            "metadata": {},
            "source": [
                "##  Obtain Names in SP500"
            ]
        },
        {
            "cell_type": "code",
            "execution_count": 5,
            "metadata": {},
            "outputs": [
                {
                    "data": {
                        "text/html": "\u003cdiv\u003e\n\u003cstyle scoped\u003e\n    .dataframe tbody tr th:only-of-type {\n        vertical-align: middle;\n    }\n\n    .dataframe tbody tr th {\n        vertical-align: top;\n    }\n\n    .dataframe thead th {\n        text-align: right;\n    }\n\u003c/style\u003e\n\u003ctable border=\"1\" class=\"dataframe\"\u003e\n  \u003cthead\u003e\n    \u003ctr style=\"text-align: right;\"\u003e\n      \u003cth\u003e\u003c/th\u003e\n      \u003cth\u003eSymbol\u003c/th\u003e\n      \u003cth\u003eSecurity\u003c/th\u003e\n      \u003cth\u003eGICS Sector\u003c/th\u003e\n      \u003cth\u003eGICS Sub-Industry\u003c/th\u003e\n      \u003cth\u003eHeadquarters Location\u003c/th\u003e\n      \u003cth\u003eDate added\u003c/th\u003e\n      \u003cth\u003eCIK\u003c/th\u003e\n      \u003cth\u003eFounded\u003c/th\u003e\n    \u003c/tr\u003e\n  \u003c/thead\u003e\n  \u003ctbody\u003e\n    \u003ctr\u003e\n      \u003cth\u003e0\u003c/th\u003e\n      \u003ctd\u003eMMM\u003c/td\u003e\n      \u003ctd\u003e3M\u003c/td\u003e\n      \u003ctd\u003eIndustrials\u003c/td\u003e\n      \u003ctd\u003eIndustrial Conglomerates\u003c/td\u003e\n      \u003ctd\u003eSaint Paul, Minnesota\u003c/td\u003e\n      \u003ctd\u003e1957-03-04\u003c/td\u003e\n      \u003ctd\u003e66740\u003c/td\u003e\n      \u003ctd\u003e1902\u003c/td\u003e\n    \u003c/tr\u003e\n    \u003ctr\u003e\n      \u003cth\u003e1\u003c/th\u003e\n      \u003ctd\u003eAOS\u003c/td\u003e\n      \u003ctd\u003eA. O. Smith\u003c/td\u003e\n      \u003ctd\u003eIndustrials\u003c/td\u003e\n      \u003ctd\u003eBuilding Products\u003c/td\u003e\n      \u003ctd\u003eMilwaukee, Wisconsin\u003c/td\u003e\n      \u003ctd\u003e2017-07-26\u003c/td\u003e\n      \u003ctd\u003e91142\u003c/td\u003e\n      \u003ctd\u003e1916\u003c/td\u003e\n    \u003c/tr\u003e\n    \u003ctr\u003e\n      \u003cth\u003e2\u003c/th\u003e\n      \u003ctd\u003eABT\u003c/td\u003e\n      \u003ctd\u003eAbbott\u003c/td\u003e\n      \u003ctd\u003eHealth Care\u003c/td\u003e\n      \u003ctd\u003eHealth Care Equipment\u003c/td\u003e\n      \u003ctd\u003eNorth Chicago, Illinois\u003c/td\u003e\n      \u003ctd\u003e1957-03-04\u003c/td\u003e\n      \u003ctd\u003e1800\u003c/td\u003e\n      \u003ctd\u003e1888\u003c/td\u003e\n    \u003c/tr\u003e\n    \u003ctr\u003e\n      \u003cth\u003e3\u003c/th\u003e\n      \u003ctd\u003eABBV\u003c/td\u003e\n      \u003ctd\u003eAbbVie\u003c/td\u003e\n      \u003ctd\u003eHealth Care\u003c/td\u003e\n      \u003ctd\u003ePharmaceuticals\u003c/td\u003e\n      \u003ctd\u003eNorth Chicago, Illinois\u003c/td\u003e\n      \u003ctd\u003e2012-12-31\u003c/td\u003e\n      \u003ctd\u003e1551152\u003c/td\u003e\n      \u003ctd\u003e2013 (1888)\u003c/td\u003e\n    \u003c/tr\u003e\n    \u003ctr\u003e\n      \u003cth\u003e4\u003c/th\u003e\n      \u003ctd\u003eACN\u003c/td\u003e\n      \u003ctd\u003eAccenture\u003c/td\u003e\n      \u003ctd\u003eInformation Technology\u003c/td\u003e\n      \u003ctd\u003eIT Consulting \u0026amp; Other Services\u003c/td\u003e\n      \u003ctd\u003eDublin, Ireland\u003c/td\u003e\n      \u003ctd\u003e2011-07-06\u003c/td\u003e\n      \u003ctd\u003e1467373\u003c/td\u003e\n      \u003ctd\u003e1989\u003c/td\u003e\n    \u003c/tr\u003e\n    \u003ctr\u003e\n      \u003cth\u003e...\u003c/th\u003e\n      \u003ctd\u003e...\u003c/td\u003e\n      \u003ctd\u003e...\u003c/td\u003e\n      \u003ctd\u003e...\u003c/td\u003e\n      \u003ctd\u003e...\u003c/td\u003e\n      \u003ctd\u003e...\u003c/td\u003e\n      \u003ctd\u003e...\u003c/td\u003e\n      \u003ctd\u003e...\u003c/td\u003e\n      \u003ctd\u003e...\u003c/td\u003e\n    \u003c/tr\u003e\n    \u003ctr\u003e\n      \u003cth\u003e498\u003c/th\u003e\n      \u003ctd\u003eYUM\u003c/td\u003e\n      \u003ctd\u003eYum! Brands\u003c/td\u003e\n      \u003ctd\u003eConsumer Discretionary\u003c/td\u003e\n      \u003ctd\u003eRestaurants\u003c/td\u003e\n      \u003ctd\u003eLouisville, Kentucky\u003c/td\u003e\n      \u003ctd\u003e1997-10-06\u003c/td\u003e\n      \u003ctd\u003e1041061\u003c/td\u003e\n      \u003ctd\u003e1997\u003c/td\u003e\n    \u003c/tr\u003e\n    \u003ctr\u003e\n      \u003cth\u003e499\u003c/th\u003e\n      \u003ctd\u003eZBRA\u003c/td\u003e\n      \u003ctd\u003eZebra Technologies\u003c/td\u003e\n      \u003ctd\u003eInformation Technology\u003c/td\u003e\n      \u003ctd\u003eElectronic Equipment \u0026amp; Instruments\u003c/td\u003e\n      \u003ctd\u003eLincolnshire, Illinois\u003c/td\u003e\n      \u003ctd\u003e2019-12-23\u003c/td\u003e\n      \u003ctd\u003e877212\u003c/td\u003e\n      \u003ctd\u003e1969\u003c/td\u003e\n    \u003c/tr\u003e\n    \u003ctr\u003e\n      \u003cth\u003e500\u003c/th\u003e\n      \u003ctd\u003eZBH\u003c/td\u003e\n      \u003ctd\u003eZimmer Biomet\u003c/td\u003e\n      \u003ctd\u003eHealth Care\u003c/td\u003e\n      \u003ctd\u003eHealth Care Equipment\u003c/td\u003e\n      \u003ctd\u003eWarsaw, Indiana\u003c/td\u003e\n      \u003ctd\u003e2001-08-07\u003c/td\u003e\n      \u003ctd\u003e1136869\u003c/td\u003e\n      \u003ctd\u003e1927\u003c/td\u003e\n    \u003c/tr\u003e\n    \u003ctr\u003e\n      \u003cth\u003e501\u003c/th\u003e\n      \u003ctd\u003eZION\u003c/td\u003e\n      \u003ctd\u003eZions Bancorporation\u003c/td\u003e\n      \u003ctd\u003eFinancials\u003c/td\u003e\n      \u003ctd\u003eRegional Banks\u003c/td\u003e\n      \u003ctd\u003eSalt Lake City, Utah\u003c/td\u003e\n      \u003ctd\u003e2001-06-22\u003c/td\u003e\n      \u003ctd\u003e109380\u003c/td\u003e\n      \u003ctd\u003e1873\u003c/td\u003e\n    \u003c/tr\u003e\n    \u003ctr\u003e\n      \u003cth\u003e502\u003c/th\u003e\n      \u003ctd\u003eZTS\u003c/td\u003e\n      \u003ctd\u003eZoetis\u003c/td\u003e\n      \u003ctd\u003eHealth Care\u003c/td\u003e\n      \u003ctd\u003ePharmaceuticals\u003c/td\u003e\n      \u003ctd\u003eParsippany, New Jersey\u003c/td\u003e\n      \u003ctd\u003e2013-06-21\u003c/td\u003e\n      \u003ctd\u003e1555280\u003c/td\u003e\n      \u003ctd\u003e1952\u003c/td\u003e\n    \u003c/tr\u003e\n  \u003c/tbody\u003e\n\u003c/table\u003e\n\u003cp\u003e503 rows × 8 columns\u003c/p\u003e\n\u003c/div\u003e",
                        "text/plain": "    Symbol              Security             GICS Sector  \\\n0      MMM                    3M             Industrials   \n1      AOS           A. O. Smith             Industrials   \n2      ABT                Abbott             Health Care   \n3     ABBV                AbbVie             Health Care   \n4      ACN             Accenture  Information Technology   \n..     ...                   ...                     ...   \n498    YUM           Yum! Brands  Consumer Discretionary   \n499   ZBRA    Zebra Technologies  Information Technology   \n500    ZBH         Zimmer Biomet             Health Care   \n501   ZION  Zions Bancorporation              Financials   \n502    ZTS                Zoetis             Health Care   \n\n                      GICS Sub-Industry    Headquarters Location  Date added  \\\n0              Industrial Conglomerates    Saint Paul, Minnesota  1957-03-04   \n1                     Building Products     Milwaukee, Wisconsin  2017-07-26   \n2                 Health Care Equipment  North Chicago, Illinois  1957-03-04   \n3                       Pharmaceuticals  North Chicago, Illinois  2012-12-31   \n4        IT Consulting \u0026 Other Services          Dublin, Ireland  2011-07-06   \n..                                  ...                      ...         ...   \n498                         Restaurants     Louisville, Kentucky  1997-10-06   \n499  Electronic Equipment \u0026 Instruments   Lincolnshire, Illinois  2019-12-23   \n500               Health Care Equipment          Warsaw, Indiana  2001-08-07   \n501                      Regional Banks     Salt Lake City, Utah  2001-06-22   \n502                     Pharmaceuticals   Parsippany, New Jersey  2013-06-21   \n\n         CIK      Founded  \n0      66740         1902  \n1      91142         1916  \n2       1800         1888  \n3    1551152  2013 (1888)  \n4    1467373         1989  \n..       ...          ...  \n498  1041061         1997  \n499   877212         1969  \n500  1136869         1927  \n501   109380         1873  \n502  1555280         1952  \n\n[503 rows x 8 columns]"
                    },
                    "execution_count": 5,
                    "metadata": {},
                    "output_type": "execute_result"
                }
            ],
            "source": [
                "#Read the csv file that contains the S\u0026P component information.\n",
                "sp500_info_df = pd.read_csv(SP500_MEMBERS_FNAME)\n",
                "sp500_info_df"
            ]
        },
        {
            "cell_type": "code",
            "execution_count": 6,
            "metadata": {},
            "outputs": [],
            "source": [
                "# Trim the number of S\u0026P500 members we are going to review given processing constraints\n",
                "sp500_info_df = sp500_info_df[:SP500_SAMPLE_SIZE].copy()"
            ]
        },
        {
            "attachments": {},
            "cell_type": "markdown",
            "metadata": {},
            "source": [
                "Review the number of members to check that it equals the input constant SP500_SAMPLE_SIZE and also that there are no duplicate symbols"
            ]
        },
        {
            "cell_type": "code",
            "execution_count": 7,
            "metadata": {},
            "outputs": [
                {
                    "name": "stdout",
                    "output_type": "stream",
                    "text": "100 100 100\n"
                }
            ],
            "source": [
                "print(SP500_SAMPLE_SIZE, sp500_info_df['Symbol'].count(),len(sp500_info_df['Symbol'].unique()))"
            ]
        },
        {
            "attachments": {},
            "cell_type": "markdown",
            "metadata": {},
            "source": [
                "\u003cspan style=\"color:green\"\u003e\u0026#x2705;\u003c/span\u003e"
            ]
        },
        {
            "attachments": {},
            "cell_type": "markdown",
            "metadata": {},
            "source": [
                "## Data Formatting for S\u0026P500 Names"
            ]
        },
        {
            "attachments": {},
            "cell_type": "markdown",
            "metadata": {},
            "source": [
                "Check for any periods in the stock symbols for US listed stocks (which includes all our S\u0026P500 members).  Yahoo Finance, which is where we download the prices from, uses the convention that A shares and B shares utilize dashes in their names instead of periods."
            ]
        },
        {
            "cell_type": "code",
            "execution_count": 8,
            "metadata": {},
            "outputs": [
                {
                    "data": {
                        "text/html": "\u003cdiv\u003e\n\u003cstyle scoped\u003e\n    .dataframe tbody tr th:only-of-type {\n        vertical-align: middle;\n    }\n\n    .dataframe tbody tr th {\n        vertical-align: top;\n    }\n\n    .dataframe thead th {\n        text-align: right;\n    }\n\u003c/style\u003e\n\u003ctable border=\"1\" class=\"dataframe\"\u003e\n  \u003cthead\u003e\n    \u003ctr style=\"text-align: right;\"\u003e\n      \u003cth\u003e\u003c/th\u003e\n      \u003cth\u003eSymbol\u003c/th\u003e\n      \u003cth\u003eSecurity\u003c/th\u003e\n      \u003cth\u003eGICS Sector\u003c/th\u003e\n      \u003cth\u003eGICS Sub-Industry\u003c/th\u003e\n      \u003cth\u003eHeadquarters Location\u003c/th\u003e\n      \u003cth\u003eDate added\u003c/th\u003e\n      \u003cth\u003eCIK\u003c/th\u003e\n      \u003cth\u003eFounded\u003c/th\u003e\n    \u003c/tr\u003e\n  \u003c/thead\u003e\n  \u003ctbody\u003e\n    \u003ctr\u003e\n      \u003cth\u003e65\u003c/th\u003e\n      \u003ctd\u003eBRK.B\u003c/td\u003e\n      \u003ctd\u003eBerkshire Hathaway\u003c/td\u003e\n      \u003ctd\u003eFinancials\u003c/td\u003e\n      \u003ctd\u003eMulti-Sector Holdings\u003c/td\u003e\n      \u003ctd\u003eOmaha, Nebraska\u003c/td\u003e\n      \u003ctd\u003e2010-02-16\u003c/td\u003e\n      \u003ctd\u003e1067983\u003c/td\u003e\n      \u003ctd\u003e1839\u003c/td\u003e\n    \u003c/tr\u003e\n    \u003ctr\u003e\n      \u003cth\u003e81\u003c/th\u003e\n      \u003ctd\u003eBF.B\u003c/td\u003e\n      \u003ctd\u003eBrown–Forman\u003c/td\u003e\n      \u003ctd\u003eConsumer Staples\u003c/td\u003e\n      \u003ctd\u003eDistillers \u0026amp; Vintners\u003c/td\u003e\n      \u003ctd\u003eLouisville, Kentucky\u003c/td\u003e\n      \u003ctd\u003e1982-10-31\u003c/td\u003e\n      \u003ctd\u003e14693\u003c/td\u003e\n      \u003ctd\u003e1870\u003c/td\u003e\n    \u003c/tr\u003e\n  \u003c/tbody\u003e\n\u003c/table\u003e\n\u003c/div\u003e",
                        "text/plain": "   Symbol            Security       GICS Sector      GICS Sub-Industry  \\\n65  BRK.B  Berkshire Hathaway        Financials  Multi-Sector Holdings   \n81   BF.B        Brown–Forman  Consumer Staples  Distillers \u0026 Vintners   \n\n   Headquarters Location  Date added      CIK Founded  \n65       Omaha, Nebraska  2010-02-16  1067983    1839  \n81  Louisville, Kentucky  1982-10-31    14693    1870  "
                    },
                    "execution_count": 8,
                    "metadata": {},
                    "output_type": "execute_result"
                }
            ],
            "source": [
                "sp500_info_df[sp500_info_df['Symbol'].str.contains(\".\", regex=False)]"
            ]
        },
        {
            "cell_type": "code",
            "execution_count": 9,
            "metadata": {},
            "outputs": [
                {
                    "data": {
                        "text/html": "\u003cdiv\u003e\n\u003cstyle scoped\u003e\n    .dataframe tbody tr th:only-of-type {\n        vertical-align: middle;\n    }\n\n    .dataframe tbody tr th {\n        vertical-align: top;\n    }\n\n    .dataframe thead th {\n        text-align: right;\n    }\n\u003c/style\u003e\n\u003ctable border=\"1\" class=\"dataframe\"\u003e\n  \u003cthead\u003e\n    \u003ctr style=\"text-align: right;\"\u003e\n      \u003cth\u003e\u003c/th\u003e\n      \u003cth\u003eSymbol\u003c/th\u003e\n      \u003cth\u003eSecurity\u003c/th\u003e\n      \u003cth\u003eGICS Sector\u003c/th\u003e\n      \u003cth\u003eGICS Sub-Industry\u003c/th\u003e\n      \u003cth\u003eHeadquarters Location\u003c/th\u003e\n      \u003cth\u003eDate added\u003c/th\u003e\n      \u003cth\u003eCIK\u003c/th\u003e\n      \u003cth\u003eFounded\u003c/th\u003e\n    \u003c/tr\u003e\n  \u003c/thead\u003e\n  \u003ctbody\u003e\n  \u003c/tbody\u003e\n\u003c/table\u003e\n\u003c/div\u003e",
                        "text/plain": "Empty DataFrame\nColumns: [Symbol, Security, GICS Sector, GICS Sub-Industry, Headquarters Location, Date added, CIK, Founded]\nIndex: []"
                    },
                    "execution_count": 9,
                    "metadata": {},
                    "output_type": "execute_result"
                }
            ],
            "source": [
                "# We need to replace periods with dashs within the Symbol columns for S\u0026P500 related names as per Yahoo Finance convention\n",
                "sp500_info_df['Symbol'] = sp500_info_df['Symbol'].str.replace(\".\", \"-\", regex=False)\n",
                "\n",
                "# Check to ensure this was successful\n",
                "sp500_info_df[sp500_info_df['Symbol'].str.contains(\".\", regex=False)]"
            ]
        },
        {
            "attachments": {},
            "cell_type": "markdown",
            "metadata": {},
            "source": [
                "\u003cspan style=\"color:green\"\u003e\u0026#x2705;\u003c/span\u003e"
            ]
        },
        {
            "attachments": {},
            "cell_type": "markdown",
            "metadata": {},
            "source": [
                "## Obtain Names in ASX"
            ]
        },
        {
            "cell_type": "code",
            "execution_count": 10,
            "metadata": {},
            "outputs": [
                {
                    "data": {
                        "text/html": "\u003cdiv\u003e\n\u003cstyle scoped\u003e\n    .dataframe tbody tr th:only-of-type {\n        vertical-align: middle;\n    }\n\n    .dataframe tbody tr th {\n        vertical-align: top;\n    }\n\n    .dataframe thead th {\n        text-align: right;\n    }\n\u003c/style\u003e\n\u003ctable border=\"1\" class=\"dataframe\"\u003e\n  \u003cthead\u003e\n    \u003ctr style=\"text-align: right;\"\u003e\n      \u003cth\u003e\u003c/th\u003e\n      \u003cth\u003eSymbol\u003c/th\u003e\n      \u003cth\u003eSecurity\u003c/th\u003e\n      \u003cth\u003eGICS Sector\u003c/th\u003e\n    \u003c/tr\u003e\n  \u003c/thead\u003e\n  \u003ctbody\u003e\n    \u003ctr\u003e\n      \u003cth\u003e0\u003c/th\u003e\n      \u003ctd\u003eBHP.AX\u003c/td\u003e\n      \u003ctd\u003eBHP GROUP\u003c/td\u003e\n      \u003ctd\u003eMaterials\u003c/td\u003e\n    \u003c/tr\u003e\n    \u003ctr\u003e\n      \u003cth\u003e1\u003c/th\u003e\n      \u003ctd\u003eFMG.AX\u003c/td\u003e\n      \u003ctd\u003eFORTESCUE\u003c/td\u003e\n      \u003ctd\u003eMaterials\u003c/td\u003e\n    \u003c/tr\u003e\n    \u003ctr\u003e\n      \u003cth\u003e2\u003c/th\u003e\n      \u003ctd\u003eMQG.AX\u003c/td\u003e\n      \u003ctd\u003eMACQUARIE GROUP\u003c/td\u003e\n      \u003ctd\u003eFinancials\u003c/td\u003e\n    \u003c/tr\u003e\n    \u003ctr\u003e\n      \u003cth\u003e3\u003c/th\u003e\n      \u003ctd\u003eCBA.AX\u003c/td\u003e\n      \u003ctd\u003eCOMMONWEATH BANK\u003c/td\u003e\n      \u003ctd\u003eFinancials\u003c/td\u003e\n    \u003c/tr\u003e\n    \u003ctr\u003e\n      \u003cth\u003e4\u003c/th\u003e\n      \u003ctd\u003eRIO.AX\u003c/td\u003e\n      \u003ctd\u003eRIO TINTO\u003c/td\u003e\n      \u003ctd\u003eMaterials\u003c/td\u003e\n    \u003c/tr\u003e\n    \u003ctr\u003e\n      \u003cth\u003e5\u003c/th\u003e\n      \u003ctd\u003eCSL.AX\u003c/td\u003e\n      \u003ctd\u003eCSL\u003c/td\u003e\n      \u003ctd\u003eHealth Care\u003c/td\u003e\n    \u003c/tr\u003e\n    \u003ctr\u003e\n      \u003cth\u003e6\u003c/th\u003e\n      \u003ctd\u003eWDS.AX\u003c/td\u003e\n      \u003ctd\u003eWOODSIDE\u003c/td\u003e\n      \u003ctd\u003eEnergy\u003c/td\u003e\n    \u003c/tr\u003e\n    \u003ctr\u003e\n      \u003cth\u003e7\u003c/th\u003e\n      \u003ctd\u003eANZ.AX\u003c/td\u003e\n      \u003ctd\u003eANZ GROUP\u003c/td\u003e\n      \u003ctd\u003eFinancials\u003c/td\u003e\n    \u003c/tr\u003e\n    \u003ctr\u003e\n      \u003cth\u003e8\u003c/th\u003e\n      \u003ctd\u003ePLS.AX\u003c/td\u003e\n      \u003ctd\u003ePILBARAMIN\u003c/td\u003e\n      \u003ctd\u003eMaterials\u003c/td\u003e\n    \u003c/tr\u003e\n    \u003ctr\u003e\n      \u003cth\u003e9\u003c/th\u003e\n      \u003ctd\u003eNAB.AX\u003c/td\u003e\n      \u003ctd\u003eNATIONAL AUSTRALIA BANK\u003c/td\u003e\n      \u003ctd\u003eFinancials\u003c/td\u003e\n    \u003c/tr\u003e\n    \u003ctr\u003e\n      \u003cth\u003e10\u003c/th\u003e\n      \u003ctd\u003eWBC.AX\u003c/td\u003e\n      \u003ctd\u003eWESTPAC\u003c/td\u003e\n      \u003ctd\u003eFinancials\u003c/td\u003e\n    \u003c/tr\u003e\n    \u003ctr\u003e\n      \u003cth\u003e11\u003c/th\u003e\n      \u003ctd\u003eRMD.AX\u003c/td\u003e\n      \u003ctd\u003eRESMED\u003c/td\u003e\n      \u003ctd\u003eHealth Care\u003c/td\u003e\n    \u003c/tr\u003e\n    \u003ctr\u003e\n      \u003cth\u003e12\u003c/th\u003e\n      \u003ctd\u003eNCM.AX\u003c/td\u003e\n      \u003ctd\u003eNEWCREST\u003c/td\u003e\n      \u003ctd\u003eMaterials\u003c/td\u003e\n    \u003c/tr\u003e\n    \u003ctr\u003e\n      \u003cth\u003e13\u003c/th\u003e\n      \u003ctd\u003eNST.AX\u003c/td\u003e\n      \u003ctd\u003eNTH STAR\u003c/td\u003e\n      \u003ctd\u003eMaterials\u003c/td\u003e\n    \u003c/tr\u003e\n    \u003ctr\u003e\n      \u003cth\u003e14\u003c/th\u003e\n      \u003ctd\u003eGMG.AX\u003c/td\u003e\n      \u003ctd\u003eGOODMAN GROUP\u003c/td\u003e\n      \u003ctd\u003eReal Estate\u003c/td\u003e\n    \u003c/tr\u003e\n  \u003c/tbody\u003e\n\u003c/table\u003e\n\u003c/div\u003e",
                        "text/plain": "    Symbol                 Security  GICS Sector\n0   BHP.AX                BHP GROUP    Materials\n1   FMG.AX                FORTESCUE    Materials\n2   MQG.AX          MACQUARIE GROUP   Financials\n3   CBA.AX         COMMONWEATH BANK   Financials\n4   RIO.AX                RIO TINTO    Materials\n5   CSL.AX                      CSL  Health Care\n6   WDS.AX                 WOODSIDE       Energy\n7   ANZ.AX                ANZ GROUP   Financials\n8   PLS.AX               PILBARAMIN    Materials\n9   NAB.AX  NATIONAL AUSTRALIA BANK   Financials\n10  WBC.AX                 WESTPAC    Financials\n11  RMD.AX                   RESMED  Health Care\n12  NCM.AX                 NEWCREST    Materials\n13  NST.AX                 NTH STAR    Materials\n14  GMG.AX            GOODMAN GROUP  Real Estate"
                    },
                    "execution_count": 10,
                    "metadata": {},
                    "output_type": "execute_result"
                }
            ],
            "source": [
                "#Read the csv file that contains the details of 15 ASX member companies.\n",
                "asx_info_df = pd.read_csv(ASX_MEMBERS_FNAME)\n",
                "asx_info_df"
            ]
        },
        {
            "attachments": {},
            "cell_type": "markdown",
            "metadata": {},
            "source": [
                "## Merge ASX and S\u0026P500 Names "
            ]
        },
        {
            "cell_type": "code",
            "execution_count": 11,
            "metadata": {},
            "outputs": [
                {
                    "data": {
                        "text/html": "\u003cdiv\u003e\n\u003cstyle scoped\u003e\n    .dataframe tbody tr th:only-of-type {\n        vertical-align: middle;\n    }\n\n    .dataframe tbody tr th {\n        vertical-align: top;\n    }\n\n    .dataframe thead th {\n        text-align: right;\n    }\n\u003c/style\u003e\n\u003ctable border=\"1\" class=\"dataframe\"\u003e\n  \u003cthead\u003e\n    \u003ctr style=\"text-align: right;\"\u003e\n      \u003cth\u003e\u003c/th\u003e\n      \u003cth\u003eSymbol\u003c/th\u003e\n      \u003cth\u003eSecurity\u003c/th\u003e\n      \u003cth\u003eGICS Sector\u003c/th\u003e\n    \u003c/tr\u003e\n  \u003c/thead\u003e\n  \u003ctbody\u003e\n    \u003ctr\u003e\n      \u003cth\u003e0\u003c/th\u003e\n      \u003ctd\u003eBHP.AX\u003c/td\u003e\n      \u003ctd\u003eBHP GROUP\u003c/td\u003e\n      \u003ctd\u003eMaterials\u003c/td\u003e\n    \u003c/tr\u003e\n    \u003ctr\u003e\n      \u003cth\u003e1\u003c/th\u003e\n      \u003ctd\u003eFMG.AX\u003c/td\u003e\n      \u003ctd\u003eFORTESCUE\u003c/td\u003e\n      \u003ctd\u003eMaterials\u003c/td\u003e\n    \u003c/tr\u003e\n    \u003ctr\u003e\n      \u003cth\u003e2\u003c/th\u003e\n      \u003ctd\u003eMQG.AX\u003c/td\u003e\n      \u003ctd\u003eMACQUARIE GROUP\u003c/td\u003e\n      \u003ctd\u003eFinancials\u003c/td\u003e\n    \u003c/tr\u003e\n    \u003ctr\u003e\n      \u003cth\u003e3\u003c/th\u003e\n      \u003ctd\u003eCBA.AX\u003c/td\u003e\n      \u003ctd\u003eCOMMONWEATH BANK\u003c/td\u003e\n      \u003ctd\u003eFinancials\u003c/td\u003e\n    \u003c/tr\u003e\n    \u003ctr\u003e\n      \u003cth\u003e4\u003c/th\u003e\n      \u003ctd\u003eRIO.AX\u003c/td\u003e\n      \u003ctd\u003eRIO TINTO\u003c/td\u003e\n      \u003ctd\u003eMaterials\u003c/td\u003e\n    \u003c/tr\u003e\n    \u003ctr\u003e\n      \u003cth\u003e...\u003c/th\u003e\n      \u003ctd\u003e...\u003c/td\u003e\n      \u003ctd\u003e...\u003c/td\u003e\n      \u003ctd\u003e...\u003c/td\u003e\n    \u003c/tr\u003e\n    \u003ctr\u003e\n      \u003cth\u003e95\u003c/th\u003e\n      \u003ctd\u003eCBOE\u003c/td\u003e\n      \u003ctd\u003eCboe Global Markets\u003c/td\u003e\n      \u003ctd\u003eFinancials\u003c/td\u003e\n    \u003c/tr\u003e\n    \u003ctr\u003e\n      \u003cth\u003e96\u003c/th\u003e\n      \u003ctd\u003eCBRE\u003c/td\u003e\n      \u003ctd\u003eCBRE Group\u003c/td\u003e\n      \u003ctd\u003eReal Estate\u003c/td\u003e\n    \u003c/tr\u003e\n    \u003ctr\u003e\n      \u003cth\u003e97\u003c/th\u003e\n      \u003ctd\u003eCDW\u003c/td\u003e\n      \u003ctd\u003eCDW\u003c/td\u003e\n      \u003ctd\u003eInformation Technology\u003c/td\u003e\n    \u003c/tr\u003e\n    \u003ctr\u003e\n      \u003cth\u003e98\u003c/th\u003e\n      \u003ctd\u003eCE\u003c/td\u003e\n      \u003ctd\u003eCelanese\u003c/td\u003e\n      \u003ctd\u003eMaterials\u003c/td\u003e\n    \u003c/tr\u003e\n    \u003ctr\u003e\n      \u003cth\u003e99\u003c/th\u003e\n      \u003ctd\u003eCNC\u003c/td\u003e\n      \u003ctd\u003eCentene Corporation\u003c/td\u003e\n      \u003ctd\u003eHealth Care\u003c/td\u003e\n    \u003c/tr\u003e\n  \u003c/tbody\u003e\n\u003c/table\u003e\n\u003cp\u003e115 rows × 3 columns\u003c/p\u003e\n\u003c/div\u003e",
                        "text/plain": "    Symbol             Security             GICS Sector\n0   BHP.AX            BHP GROUP               Materials\n1   FMG.AX            FORTESCUE               Materials\n2   MQG.AX      MACQUARIE GROUP              Financials\n3   CBA.AX     COMMONWEATH BANK              Financials\n4   RIO.AX            RIO TINTO               Materials\n..     ...                  ...                     ...\n95    CBOE  Cboe Global Markets              Financials\n96    CBRE           CBRE Group             Real Estate\n97     CDW                  CDW  Information Technology\n98      CE             Celanese               Materials\n99     CNC  Centene Corporation             Health Care\n\n[115 rows x 3 columns]"
                    },
                    "execution_count": 11,
                    "metadata": {},
                    "output_type": "execute_result"
                }
            ],
            "source": [
                "all_stocks_info_df = pd.concat([asx_info_df, sp500_info_df[['Symbol', 'Security', 'GICS Sector']]])\n",
                "all_stocks_info_df                    "
            ]
        },
        {
            "attachments": {},
            "cell_type": "markdown",
            "metadata": {},
            "source": [
                "\u003ca id=\"Prices\"\u003e\u003c/a\u003e\n",
                "# Load prices for Shares and FX Rates"
            ]
        },
        {
            "cell_type": "code",
            "execution_count": 12,
            "metadata": {},
            "outputs": [],
            "source": [
                "# Read the Daily Historical Prices for the Stocks and FX Rates from their respective csv files\n",
                "stock_prices_df = pd.read_csv(STOCK_PRICES_FNAME) # stock prices\n",
                "fx_prices_df = pd.read_csv(FX_PRICES_FNAME) # foreign exchange prices"
            ]
        },
        {
            "attachments": {},
            "cell_type": "markdown",
            "metadata": {},
            "source": [
                "## Review the Raw FX Data"
            ]
        },
        {
            "cell_type": "code",
            "execution_count": 13,
            "metadata": {},
            "outputs": [
                {
                    "data": {
                        "text/html": "\u003cdiv\u003e\n\u003cstyle scoped\u003e\n    .dataframe tbody tr th:only-of-type {\n        vertical-align: middle;\n    }\n\n    .dataframe tbody tr th {\n        vertical-align: top;\n    }\n\n    .dataframe thead th {\n        text-align: right;\n    }\n\u003c/style\u003e\n\u003ctable border=\"1\" class=\"dataframe\"\u003e\n  \u003cthead\u003e\n    \u003ctr style=\"text-align: right;\"\u003e\n      \u003cth\u003e\u003c/th\u003e\n      \u003cth\u003eAUDUSD=X\u003c/th\u003e\n      \u003cth\u003eHKDUSD=X\u003c/th\u003e\n      \u003cth\u003eJPYUSD=X\u003c/th\u003e\n      \u003cth\u003eSGDUSD=X\u003c/th\u003e\n    \u003c/tr\u003e\n  \u003c/thead\u003e\n  \u003ctbody\u003e\n    \u003ctr\u003e\n      \u003cth\u003ecount\u003c/th\u003e\n      \u003ctd\u003e261.000000\u003c/td\u003e\n      \u003ctd\u003e259.000000\u003c/td\u003e\n      \u003ctd\u003e261.000000\u003c/td\u003e\n      \u003ctd\u003e261.000000\u003c/td\u003e\n    \u003c/tr\u003e\n    \u003ctr\u003e\n      \u003cth\u003emean\u003c/th\u003e\n      \u003ctd\u003e0.695038\u003c/td\u003e\n      \u003ctd\u003e0.127714\u003c/td\u003e\n      \u003ctd\u003e0.007659\u003c/td\u003e\n      \u003ctd\u003e0.725619\u003c/td\u003e\n    \u003c/tr\u003e\n    \u003ctr\u003e\n      \u003cth\u003estd\u003c/th\u003e\n      \u003ctd\u003e0.031389\u003c/td\u003e\n      \u003ctd\u003e0.000396\u003c/td\u003e\n      \u003ctd\u003e0.000634\u003c/td\u003e\n      \u003ctd\u003e0.013144\u003c/td\u003e\n    \u003c/tr\u003e\n    \u003ctr\u003e\n      \u003cth\u003emin\u003c/th\u003e\n      \u003ctd\u003e0.622394\u003c/td\u003e\n      \u003ctd\u003e0.127372\u003c/td\u003e\n      \u003ctd\u003e0.006659\u003c/td\u003e\n      \u003ctd\u003e0.695082\u003c/td\u003e\n    \u003c/tr\u003e\n    \u003ctr\u003e\n      \u003cth\u003e25%\u003c/th\u003e\n      \u003ctd\u003e0.674332\u003c/td\u003e\n      \u003ctd\u003e0.127400\u003c/td\u003e\n      \u003ctd\u003e0.007209\u003c/td\u003e\n      \u003ctd\u003e0.716692\u003c/td\u003e\n    \u003c/tr\u003e\n    \u003ctr\u003e\n      \u003cth\u003e50%\u003c/th\u003e\n      \u003ctd\u003e0.695300\u003c/td\u003e\n      \u003ctd\u003e0.127457\u003c/td\u003e\n      \u003ctd\u003e0.007465\u003c/td\u003e\n      \u003ctd\u003e0.726639\u003c/td\u003e\n    \u003c/tr\u003e\n    \u003ctr\u003e\n      \u003cth\u003e75%\u003c/th\u003e\n      \u003ctd\u003e0.718649\u003c/td\u003e\n      \u003ctd\u003e0.128077\u003c/td\u003e\n      \u003ctd\u003e0.008143\u003c/td\u003e\n      \u003ctd\u003e0.737300\u003c/td\u003e\n    \u003c/tr\u003e\n    \u003ctr\u003e\n      \u003cth\u003emax\u003c/th\u003e\n      \u003ctd\u003e0.758570\u003c/td\u003e\n      \u003ctd\u003e0.128718\u003c/td\u003e\n      \u003ctd\u003e0.008789\u003c/td\u003e\n      \u003ctd\u003e0.745379\u003c/td\u003e\n    \u003c/tr\u003e\n  \u003c/tbody\u003e\n\u003c/table\u003e\n\u003c/div\u003e",
                        "text/plain": "         AUDUSD=X    HKDUSD=X    JPYUSD=X    SGDUSD=X\ncount  261.000000  259.000000  261.000000  261.000000\nmean     0.695038    0.127714    0.007659    0.725619\nstd      0.031389    0.000396    0.000634    0.013144\nmin      0.622394    0.127372    0.006659    0.695082\n25%      0.674332    0.127400    0.007209    0.716692\n50%      0.695300    0.127457    0.007465    0.726639\n75%      0.718649    0.128077    0.008143    0.737300\nmax      0.758570    0.128718    0.008789    0.745379"
                    },
                    "execution_count": 13,
                    "metadata": {},
                    "output_type": "execute_result"
                }
            ],
            "source": [
                "fx_prices_df.describe()"
            ]
        },
        {
            "attachments": {},
            "cell_type": "markdown",
            "metadata": {},
            "source": [
                "It quite difficult to analyze the JPY and HKD columns given they are inverted vs how they are conventionally displayed.\n",
                "\n",
                "Inverting them for reasonableness analysis:"
            ]
        },
        {
            "cell_type": "code",
            "execution_count": 14,
            "metadata": {},
            "outputs": [
                {
                    "data": {
                        "text/html": "\u003cdiv\u003e\n\u003cstyle scoped\u003e\n    .dataframe tbody tr th:only-of-type {\n        vertical-align: middle;\n    }\n\n    .dataframe tbody tr th {\n        vertical-align: top;\n    }\n\n    .dataframe thead th {\n        text-align: right;\n    }\n\u003c/style\u003e\n\u003ctable border=\"1\" class=\"dataframe\"\u003e\n  \u003cthead\u003e\n    \u003ctr style=\"text-align: right;\"\u003e\n      \u003cth\u003e\u003c/th\u003e\n      \u003cth\u003eAUDUSD=X\u003c/th\u003e\n      \u003cth\u003eHKDUSD=X\u003c/th\u003e\n      \u003cth\u003eJPYUSD=X\u003c/th\u003e\n      \u003cth\u003eSGDUSD=X\u003c/th\u003e\n    \u003c/tr\u003e\n  \u003c/thead\u003e\n  \u003ctbody\u003e\n    \u003ctr\u003e\n      \u003cth\u003ecount\u003c/th\u003e\n      \u003ctd\u003e261.000000\u003c/td\u003e\n      \u003ctd\u003e259.000000\u003c/td\u003e\n      \u003ctd\u003e261.000000\u003c/td\u003e\n      \u003ctd\u003e261.000000\u003c/td\u003e\n    \u003c/tr\u003e\n    \u003ctr\u003e\n      \u003cth\u003emean\u003c/th\u003e\n      \u003ctd\u003e0.695038\u003c/td\u003e\n      \u003ctd\u003e7.829972\u003c/td\u003e\n      \u003ctd\u003e130.558193\u003c/td\u003e\n      \u003ctd\u003e0.725619\u003c/td\u003e\n    \u003c/tr\u003e\n    \u003ctr\u003e\n      \u003cth\u003estd\u003c/th\u003e\n      \u003ctd\u003e0.031389\u003c/td\u003e\n      \u003ctd\u003e0.000396\u003c/td\u003e\n      \u003ctd\u003e0.000634\u003c/td\u003e\n      \u003ctd\u003e0.013144\u003c/td\u003e\n    \u003c/tr\u003e\n    \u003ctr\u003e\n      \u003cth\u003emin\u003c/th\u003e\n      \u003ctd\u003e0.622394\u003c/td\u003e\n      \u003ctd\u003e7.851000\u003c/td\u003e\n      \u003ctd\u003e150.175992\u003c/td\u003e\n      \u003ctd\u003e0.695082\u003c/td\u003e\n    \u003c/tr\u003e\n    \u003ctr\u003e\n      \u003cth\u003e25%\u003c/th\u003e\n      \u003ctd\u003e0.674332\u003c/td\u003e\n      \u003ctd\u003e0.127400\u003c/td\u003e\n      \u003ctd\u003e0.007209\u003c/td\u003e\n      \u003ctd\u003e0.716692\u003c/td\u003e\n    \u003c/tr\u003e\n    \u003ctr\u003e\n      \u003cth\u003e50%\u003c/th\u003e\n      \u003ctd\u003e0.695300\u003c/td\u003e\n      \u003ctd\u003e0.127457\u003c/td\u003e\n      \u003ctd\u003e0.007465\u003c/td\u003e\n      \u003ctd\u003e0.726639\u003c/td\u003e\n    \u003c/tr\u003e\n    \u003ctr\u003e\n      \u003cth\u003e75%\u003c/th\u003e\n      \u003ctd\u003e0.718649\u003c/td\u003e\n      \u003ctd\u003e0.128077\u003c/td\u003e\n      \u003ctd\u003e0.008143\u003c/td\u003e\n      \u003ctd\u003e0.737300\u003c/td\u003e\n    \u003c/tr\u003e\n    \u003ctr\u003e\n      \u003cth\u003emax\u003c/th\u003e\n      \u003ctd\u003e0.758570\u003c/td\u003e\n      \u003ctd\u003e7.768900\u003c/td\u003e\n      \u003ctd\u003e113.785000\u003c/td\u003e\n      \u003ctd\u003e0.745379\u003c/td\u003e\n    \u003c/tr\u003e\n  \u003c/tbody\u003e\n\u003c/table\u003e\n\u003c/div\u003e",
                        "text/plain": "         AUDUSD=X    HKDUSD=X    JPYUSD=X    SGDUSD=X\ncount  261.000000  259.000000  261.000000  261.000000\nmean     0.695038    7.829972  130.558193    0.725619\nstd      0.031389    0.000396    0.000634    0.013144\nmin      0.622394    7.851000  150.175992    0.695082\n25%      0.674332    0.127400    0.007209    0.716692\n50%      0.695300    0.127457    0.007465    0.726639\n75%      0.718649    0.128077    0.008143    0.737300\nmax      0.758570    7.768900  113.785000    0.745379"
                    },
                    "execution_count": 14,
                    "metadata": {},
                    "output_type": "execute_result"
                }
            ],
            "source": [
                "fx_summ = fx_prices_df.describe()\n",
                "# Invert FX Rate for display purposes for JPY and HKD to what is conventionally displayed\n",
                "fx_summ.loc[['mean', 'min', 'max'],['JPYUSD=X', 'HKDUSD=X']] \\\n",
                "            = 1 / fx_summ.loc[['mean', 'min', 'max'],['JPYUSD=X', 'HKDUSD=X']]\n",
                "fx_summ\n",
                ""
            ]
        },
        {
            "attachments": {},
            "cell_type": "markdown",
            "metadata": {},
            "source": [
                "\u003cp style=\"background-color:#AFE1AF;\"\u003e\n",
                "Min and max ranges as well as distributions seem in line with the known characteristics of the currencies.\u003c/p\u003e"
            ]
        },
        {
            "attachments": {},
            "cell_type": "markdown",
            "metadata": {},
            "source": [
                "\u003cp style=\"background-color:#F88379;\"\u003e\n",
                "We do not have the same number of records for each currency.\n",
                "To fix this we will resample the data using the ffil() function when cleansing and formatting the data.\u003c/p\u003e"
            ]
        },
        {
            "attachments": {},
            "cell_type": "markdown",
            "metadata": {},
            "source": [
                "\u0026#10060;"
            ]
        },
        {
            "attachments": {},
            "cell_type": "markdown",
            "metadata": {},
            "source": [
                "## Cleanse/ Format FX Prices"
            ]
        },
        {
            "attachments": {},
            "cell_type": "markdown",
            "metadata": {},
            "source": [
                "Prior to doing the resampling and for later analysis it is better if we convert dates from being string values to Datetime values and also set the Date as the index."
            ]
        },
        {
            "cell_type": "code",
            "execution_count": 15,
            "metadata": {},
            "outputs": [],
            "source": [
                "# Format the Date and set as the Index\n",
                "fx_prices_df['Date'] = pd.to_datetime(fx_prices_df['Date'], format = \"%Y-%m-%d\")\n",
                "fx_prices_df = fx_prices_df.set_index('Date', drop=True)"
            ]
        },
        {
            "attachments": {},
            "cell_type": "markdown",
            "metadata": {},
            "source": [
                "Resample data to fill any missing values"
            ]
        },
        {
            "cell_type": "code",
            "execution_count": 16,
            "metadata": {},
            "outputs": [],
            "source": [
                "# Forward Fill prices\n",
                "# Note: This will also give a price for the week-ends, but that will get dropped later when we merge with the share prices df\n",
                "fx_prices_df = fx_prices_df.resample('D').last().ffill()"
            ]
        },
        {
            "attachments": {},
            "cell_type": "markdown",
            "metadata": {},
            "source": [
                "Check the column counts to ensure they are now consistent"
            ]
        },
        {
            "cell_type": "code",
            "execution_count": 17,
            "metadata": {},
            "outputs": [
                {
                    "data": {
                        "text/plain": "AUDUSD=X    365.0\nHKDUSD=X    365.0\nJPYUSD=X    365.0\nSGDUSD=X    365.0\nName: count, dtype: float64"
                    },
                    "execution_count": 17,
                    "metadata": {},
                    "output_type": "execute_result"
                }
            ],
            "source": [
                "fx_prices_df.describe().loc['count']"
            ]
        },
        {
            "attachments": {},
            "cell_type": "markdown",
            "metadata": {},
            "source": [
                "\u0026#x2705;"
            ]
        },
        {
            "attachments": {},
            "cell_type": "markdown",
            "metadata": {},
            "source": [
                "Here is how our FX data now looks:"
            ]
        },
        {
            "cell_type": "code",
            "execution_count": 18,
            "metadata": {},
            "outputs": [
                {
                    "data": {
                        "text/html": "\u003cdiv\u003e\n\u003cstyle scoped\u003e\n    .dataframe tbody tr th:only-of-type {\n        vertical-align: middle;\n    }\n\n    .dataframe tbody tr th {\n        vertical-align: top;\n    }\n\n    .dataframe thead th {\n        text-align: right;\n    }\n\u003c/style\u003e\n\u003ctable border=\"1\" class=\"dataframe\"\u003e\n  \u003cthead\u003e\n    \u003ctr style=\"text-align: right;\"\u003e\n      \u003cth\u003e\u003c/th\u003e\n      \u003cth\u003eAUDUSD=X\u003c/th\u003e\n      \u003cth\u003eHKDUSD=X\u003c/th\u003e\n      \u003cth\u003eJPYUSD=X\u003c/th\u003e\n      \u003cth\u003eSGDUSD=X\u003c/th\u003e\n    \u003c/tr\u003e\n    \u003ctr\u003e\n      \u003cth\u003eDate\u003c/th\u003e\n      \u003cth\u003e\u003c/th\u003e\n      \u003cth\u003e\u003c/th\u003e\n      \u003cth\u003e\u003c/th\u003e\n      \u003cth\u003e\u003c/th\u003e\n    \u003c/tr\u003e\n  \u003c/thead\u003e\n  \u003ctbody\u003e\n    \u003ctr\u003e\n      \u003cth\u003e2021-12-31\u003c/th\u003e\n      \u003ctd\u003e0.724980\u003c/td\u003e\n      \u003ctd\u003e0.128245\u003c/td\u003e\n      \u003ctd\u003e0.008691\u003c/td\u003e\n      \u003ctd\u003e0.739694\u003c/td\u003e\n    \u003c/tr\u003e\n    \u003ctr\u003e\n      \u003cth\u003e2022-01-01\u003c/th\u003e\n      \u003ctd\u003e0.724980\u003c/td\u003e\n      \u003ctd\u003e0.128245\u003c/td\u003e\n      \u003ctd\u003e0.008691\u003c/td\u003e\n      \u003ctd\u003e0.739694\u003c/td\u003e\n    \u003c/tr\u003e\n    \u003ctr\u003e\n      \u003cth\u003e2022-01-02\u003c/th\u003e\n      \u003ctd\u003e0.724980\u003c/td\u003e\n      \u003ctd\u003e0.128245\u003c/td\u003e\n      \u003ctd\u003e0.008691\u003c/td\u003e\n      \u003ctd\u003e0.739694\u003c/td\u003e\n    \u003c/tr\u003e\n    \u003ctr\u003e\n      \u003cth\u003e2022-01-03\u003c/th\u003e\n      \u003ctd\u003e0.726818\u003c/td\u003e\n      \u003ctd\u003e0.128272\u003c/td\u003e\n      \u003ctd\u003e0.008685\u003c/td\u003e\n      \u003ctd\u003e0.741730\u003c/td\u003e\n    \u003c/tr\u003e\n    \u003ctr\u003e\n      \u003cth\u003e2022-01-04\u003c/th\u003e\n      \u003ctd\u003e0.719800\u003c/td\u003e\n      \u003ctd\u003e0.128243\u003c/td\u003e\n      \u003ctd\u003e0.008671\u003c/td\u003e\n      \u003ctd\u003e0.739033\u003c/td\u003e\n    \u003c/tr\u003e\n    \u003ctr\u003e\n      \u003cth\u003e...\u003c/th\u003e\n      \u003ctd\u003e...\u003c/td\u003e\n      \u003ctd\u003e...\u003c/td\u003e\n      \u003ctd\u003e...\u003c/td\u003e\n      \u003ctd\u003e...\u003c/td\u003e\n    \u003c/tr\u003e\n    \u003ctr\u003e\n      \u003cth\u003e2022-12-26\u003c/th\u003e\n      \u003ctd\u003e0.671249\u003c/td\u003e\n      \u003ctd\u003e0.128147\u003c/td\u003e\n      \u003ctd\u003e0.007531\u003c/td\u003e\n      \u003ctd\u003e0.739809\u003c/td\u003e\n    \u003c/tr\u003e\n    \u003ctr\u003e\n      \u003cth\u003e2022-12-27\u003c/th\u003e\n      \u003ctd\u003e0.674459\u003c/td\u003e\n      \u003ctd\u003e0.128121\u003c/td\u003e\n      \u003ctd\u003e0.007532\u003c/td\u003e\n      \u003ctd\u003e0.742501\u003c/td\u003e\n    \u003c/tr\u003e\n    \u003ctr\u003e\n      \u003cth\u003e2022-12-28\u003c/th\u003e\n      \u003ctd\u003e0.672993\u003c/td\u003e\n      \u003ctd\u003e0.128199\u003c/td\u003e\n      \u003ctd\u003e0.007491\u003c/td\u003e\n      \u003ctd\u003e0.742060\u003c/td\u003e\n    \u003c/tr\u003e\n    \u003ctr\u003e\n      \u003cth\u003e2022-12-29\u003c/th\u003e\n      \u003ctd\u003e0.674710\u003c/td\u003e\n      \u003ctd\u003e0.128307\u003c/td\u003e\n      \u003ctd\u003e0.007461\u003c/td\u003e\n      \u003ctd\u003e0.741158\u003c/td\u003e\n    \u003c/tr\u003e\n    \u003ctr\u003e\n      \u003cth\u003e2022-12-30\u003c/th\u003e\n      \u003ctd\u003e0.676600\u003c/td\u003e\n      \u003ctd\u003e0.128297\u003c/td\u003e\n      \u003ctd\u003e0.007524\u003c/td\u003e\n      \u003ctd\u003e0.744313\u003c/td\u003e\n    \u003c/tr\u003e\n  \u003c/tbody\u003e\n\u003c/table\u003e\n\u003cp\u003e365 rows × 4 columns\u003c/p\u003e\n\u003c/div\u003e",
                        "text/plain": "            AUDUSD=X  HKDUSD=X  JPYUSD=X  SGDUSD=X\nDate                                              \n2021-12-31  0.724980  0.128245  0.008691  0.739694\n2022-01-01  0.724980  0.128245  0.008691  0.739694\n2022-01-02  0.724980  0.128245  0.008691  0.739694\n2022-01-03  0.726818  0.128272  0.008685  0.741730\n2022-01-04  0.719800  0.128243  0.008671  0.739033\n...              ...       ...       ...       ...\n2022-12-26  0.671249  0.128147  0.007531  0.739809\n2022-12-27  0.674459  0.128121  0.007532  0.742501\n2022-12-28  0.672993  0.128199  0.007491  0.742060\n2022-12-29  0.674710  0.128307  0.007461  0.741158\n2022-12-30  0.676600  0.128297  0.007524  0.744313\n\n[365 rows x 4 columns]"
                    },
                    "execution_count": 18,
                    "metadata": {},
                    "output_type": "execute_result"
                }
            ],
            "source": [
                "fx_prices_df"
            ]
        },
        {
            "attachments": {},
            "cell_type": "markdown",
            "metadata": {},
            "source": [
                "\u0026#x2705;"
            ]
        },
        {
            "attachments": {},
            "cell_type": "markdown",
            "metadata": {},
            "source": [
                "## Review the Stock Price Data"
            ]
        },
        {
            "cell_type": "code",
            "execution_count": 19,
            "metadata": {},
            "outputs": [
                {
                    "data": {
                        "text/html": "\u003cdiv\u003e\n\u003cstyle scoped\u003e\n    .dataframe tbody tr th:only-of-type {\n        vertical-align: middle;\n    }\n\n    .dataframe tbody tr th {\n        vertical-align: top;\n    }\n\n    .dataframe thead th {\n        text-align: right;\n    }\n\u003c/style\u003e\n\u003ctable border=\"1\" class=\"dataframe\"\u003e\n  \u003cthead\u003e\n    \u003ctr style=\"text-align: right;\"\u003e\n      \u003cth\u003e\u003c/th\u003e\n      \u003cth\u003eDate\u003c/th\u003e\n      \u003cth\u003eA\u003c/th\u003e\n      \u003cth\u003eAAL\u003c/th\u003e\n      \u003cth\u003eAAP\u003c/th\u003e\n      \u003cth\u003eAAPL\u003c/th\u003e\n      \u003cth\u003eABBV\u003c/th\u003e\n      \u003cth\u003eABC\u003c/th\u003e\n      \u003cth\u003eABT\u003c/th\u003e\n      \u003cth\u003eACGL\u003c/th\u003e\n      \u003cth\u003eACN\u003c/th\u003e\n      \u003cth\u003e...\u003c/th\u003e\n      \u003cth\u003eNCM.AX\u003c/th\u003e\n      \u003cth\u003eNST.AX\u003c/th\u003e\n      \u003cth\u003ePLS.AX\u003c/th\u003e\n      \u003cth\u003eRIO.AX\u003c/th\u003e\n      \u003cth\u003eRMD.AX\u003c/th\u003e\n      \u003cth\u003eT\u003c/th\u003e\n      \u003cth\u003eTECH\u003c/th\u003e\n      \u003cth\u003eWBC.AX\u003c/th\u003e\n      \u003cth\u003eWDS.AX\u003c/th\u003e\n      \u003cth\u003eWRB\u003c/th\u003e\n    \u003c/tr\u003e\n  \u003c/thead\u003e\n  \u003ctbody\u003e\n    \u003ctr\u003e\n      \u003cth\u003e0\u003c/th\u003e\n      \u003ctd\u003e2022-01-03\u003c/td\u003e\n      \u003ctd\u003e154.908508\u003c/td\u003e\n      \u003ctd\u003e18.750000\u003c/td\u003e\n      \u003ctd\u003e224.928452\u003c/td\u003e\n      \u003ctd\u003e180.434311\u003c/td\u003e\n      \u003ctd\u003e126.534706\u003c/td\u003e\n      \u003ctd\u003e130.200043\u003c/td\u003e\n      \u003ctd\u003e134.805557\u003c/td\u003e\n      \u003ctd\u003e44.549999\u003c/td\u003e\n      \u003ctd\u003e397.086761\u003c/td\u003e\n      \u003ctd\u003e...\u003c/td\u003e\n      \u003ctd\u003eNaN\u003c/td\u003e\n      \u003ctd\u003eNaN\u003c/td\u003e\n      \u003ctd\u003eNaN\u003c/td\u003e\n      \u003ctd\u003eNaN\u003c/td\u003e\n      \u003ctd\u003eNaN\u003c/td\u003e\n      \u003ctd\u003e17.069723\u003c/td\u003e\n      \u003ctd\u003e121.268669\u003c/td\u003e\n      \u003ctd\u003eNaN\u003c/td\u003e\n      \u003ctd\u003eNaN\u003c/td\u003e\n      \u003ctd\u003e52.898167\u003c/td\u003e\n    \u003c/tr\u003e\n    \u003ctr\u003e\n      \u003cth\u003e1\u003c/th\u003e\n      \u003ctd\u003e2022-01-04\u003c/td\u003e\n      \u003ctd\u003e149.671646\u003c/td\u003e\n      \u003ctd\u003e19.020000\u003c/td\u003e\n      \u003ctd\u003e225.184921\u003c/td\u003e\n      \u003ctd\u003e178.144302\u003c/td\u003e\n      \u003ctd\u003e126.291786\u003c/td\u003e\n      \u003ctd\u003e128.963074\u003c/td\u003e\n      \u003ctd\u003e131.635162\u003c/td\u003e\n      \u003ctd\u003e45.130001\u003c/td\u003e\n      \u003ctd\u003e394.249115\u003c/td\u003e\n      \u003ctd\u003e...\u003c/td\u003e\n      \u003ctd\u003e23.705288\u003c/td\u003e\n      \u003ctd\u003e9.090141\u003c/td\u003e\n      \u003ctd\u003e3.428028\u003c/td\u003e\n      \u003ctd\u003e92.659813\u003c/td\u003e\n      \u003ctd\u003e35.888363\u003c/td\u003e\n      \u003ctd\u003e17.210688\u003c/td\u003e\n      \u003ctd\u003e116.353668\u003c/td\u003e\n      \u003ctd\u003e19.889442\u003c/td\u003e\n      \u003ctd\u003e19.334044\u003c/td\u003e\n      \u003ctd\u003e53.685848\u003c/td\u003e\n    \u003c/tr\u003e\n    \u003ctr\u003e\n      \u003cth\u003e2\u003c/th\u003e\n      \u003ctd\u003e2022-01-05\u003c/td\u003e\n      \u003ctd\u003e147.107651\u003c/td\u003e\n      \u003ctd\u003e18.680000\u003c/td\u003e\n      \u003ctd\u003e224.614975\u003c/td\u003e\n      \u003ctd\u003e173.405670\u003c/td\u003e\n      \u003ctd\u003e126.955170\u003c/td\u003e\n      \u003ctd\u003e130.082260\u003c/td\u003e\n      \u003ctd\u003e131.043747\u003c/td\u003e\n      \u003ctd\u003e44.599998\u003c/td\u003e\n      \u003ctd\u003e387.306091\u003c/td\u003e\n      \u003ctd\u003e...\u003c/td\u003e\n      \u003ctd\u003e24.005354\u003c/td\u003e\n      \u003ctd\u003e9.138391\u003c/td\u003e\n      \u003ctd\u003e3.486461\u003c/td\u003e\n      \u003ctd\u003e93.394104\u003c/td\u003e\n      \u003ctd\u003e34.698036\u003c/td\u003e\n      \u003ctd\u003e17.593298\u003c/td\u003e\n      \u003ctd\u003e108.077499\u003c/td\u003e\n      \u003ctd\u003e20.054728\u003c/td\u003e\n      \u003ctd\u003e19.419329\u003c/td\u003e\n      \u003ctd\u003e53.086952\u003c/td\u003e\n    \u003c/tr\u003e\n    \u003ctr\u003e\n      \u003cth\u003e3\u003c/th\u003e\n      \u003ctd\u003e2022-01-06\u003c/td\u003e\n      \u003ctd\u003e147.622437\u003c/td\u003e\n      \u003ctd\u003e18.570000\u003c/td\u003e\n      \u003ctd\u003e229.554672\u003c/td\u003e\n      \u003ctd\u003e170.510956\u003c/td\u003e\n      \u003ctd\u003e126.357178\u003c/td\u003e\n      \u003ctd\u003e128.069656\u003c/td\u003e\n      \u003ctd\u003e131.024323\u003c/td\u003e\n      \u003ctd\u003e44.860001\u003c/td\u003e\n      \u003ctd\u003e368.602905\u003c/td\u003e\n      \u003ctd\u003e...\u003c/td\u003e\n      \u003ctd\u003e23.260027\u003c/td\u003e\n      \u003ctd\u003e8.723448\u003c/td\u003e\n      \u003ctd\u003e3.311164\u003c/td\u003e\n      \u003ctd\u003e94.072624\u003c/td\u003e\n      \u003ctd\u003e33.368839\u003c/td\u003e\n      \u003ctd\u003e17.526175\u003c/td\u003e\n      \u003ctd\u003e106.041405\u003c/td\u003e\n      \u003ctd\u003e19.724155\u003c/td\u003e\n      \u003ctd\u003e18.941734\u003c/td\u003e\n      \u003ctd\u003e53.991798\u003c/td\u003e\n    \u003c/tr\u003e\n    \u003ctr\u003e\n      \u003cth\u003e4\u003c/th\u003e\n      \u003ctd\u003e2022-01-07\u003c/td\u003e\n      \u003ctd\u003e143.692291\u003c/td\u003e\n      \u003ctd\u003e19.280001\u003c/td\u003e\n      \u003ctd\u003e226.172867\u003c/td\u003e\n      \u003ctd\u003e170.679489\u003c/td\u003e\n      \u003ctd\u003e126.030144\u003c/td\u003e\n      \u003ctd\u003e130.690933\u003c/td\u003e\n      \u003ctd\u003e131.431549\u003c/td\u003e\n      \u003ctd\u003e45.070000\u003c/td\u003e\n      \u003ctd\u003e361.533112\u003c/td\u003e\n      \u003ctd\u003e...\u003c/td\u003e\n      \u003ctd\u003e23.260027\u003c/td\u003e\n      \u003ctd\u003e8.781346\u003c/td\u003e\n      \u003ctd\u003e3.408551\u003c/td\u003e\n      \u003ctd\u003e96.321960\u003c/td\u003e\n      \u003ctd\u003e33.616825\u003c/td\u003e\n      \u003ctd\u003e18.124920\u003c/td\u003e\n      \u003ctd\u003e103.242081\u003c/td\u003e\n      \u003ctd\u003e19.972084\u003c/td\u003e\n      \u003ctd\u003e19.359629\u003c/td\u003e\n      \u003ctd\u003e55.059402\u003c/td\u003e\n    \u003c/tr\u003e\n  \u003c/tbody\u003e\n\u003c/table\u003e\n\u003cp\u003e5 rows × 116 columns\u003c/p\u003e\n\u003c/div\u003e",
                        "text/plain": "         Date           A        AAL         AAP        AAPL        ABBV  \\\n0  2022-01-03  154.908508  18.750000  224.928452  180.434311  126.534706   \n1  2022-01-04  149.671646  19.020000  225.184921  178.144302  126.291786   \n2  2022-01-05  147.107651  18.680000  224.614975  173.405670  126.955170   \n3  2022-01-06  147.622437  18.570000  229.554672  170.510956  126.357178   \n4  2022-01-07  143.692291  19.280001  226.172867  170.679489  126.030144   \n\n          ABC         ABT       ACGL         ACN  ...     NCM.AX    NST.AX  \\\n0  130.200043  134.805557  44.549999  397.086761  ...        NaN       NaN   \n1  128.963074  131.635162  45.130001  394.249115  ...  23.705288  9.090141   \n2  130.082260  131.043747  44.599998  387.306091  ...  24.005354  9.138391   \n3  128.069656  131.024323  44.860001  368.602905  ...  23.260027  8.723448   \n4  130.690933  131.431549  45.070000  361.533112  ...  23.260027  8.781346   \n\n     PLS.AX     RIO.AX     RMD.AX          T        TECH     WBC.AX  \\\n0       NaN        NaN        NaN  17.069723  121.268669        NaN   \n1  3.428028  92.659813  35.888363  17.210688  116.353668  19.889442   \n2  3.486461  93.394104  34.698036  17.593298  108.077499  20.054728   \n3  3.311164  94.072624  33.368839  17.526175  106.041405  19.724155   \n4  3.408551  96.321960  33.616825  18.124920  103.242081  19.972084   \n\n      WDS.AX        WRB  \n0        NaN  52.898167  \n1  19.334044  53.685848  \n2  19.419329  53.086952  \n3  18.941734  53.991798  \n4  19.359629  55.059402  \n\n[5 rows x 116 columns]"
                    },
                    "execution_count": 19,
                    "metadata": {},
                    "output_type": "execute_result"
                }
            ],
            "source": [
                "stock_prices_df.head()"
            ]
        },
        {
            "attachments": {},
            "cell_type": "markdown",
            "metadata": {},
            "source": [
                "**Lets Review the price values for reasonableness**"
            ]
        },
        {
            "cell_type": "code",
            "execution_count": 20,
            "metadata": {},
            "outputs": [
                {
                    "name": "stdout",
                    "output_type": "stream",
                    "text": "Minimium Share Price Value Across All Stocks: $1.99\nMaximum Share Price Value Across All Stocks: $2,703.26\nMean Share Price Value Across All Stocks: $160.65\n"
                }
            ],
            "source": [
                "print(f\"Minimium Share Price Value Across All Stocks: ${stock_prices_df.select_dtypes(include='number').min().min():,.02f}\")\n",
                "print(f\"Maximum Share Price Value Across All Stocks: ${stock_prices_df.select_dtypes(include='number').max().max():,.02f}\")\n",
                "print(f\"Mean Share Price Value Across All Stocks: ${stock_prices_df.select_dtypes(include='number').mean().mean():,.02f}\")"
            ]
        },
        {
            "attachments": {},
            "cell_type": "markdown",
            "metadata": {},
            "source": [
                "The range of values for individual shares prices is quite large and thus direct comparision of absolute values would required scaling of the prices.\n",
                "However, the range seems reasonable given the dataset - there are no negative values and no extremely large or small values."
            ]
        },
        {
            "attachments": {},
            "cell_type": "markdown",
            "metadata": {},
            "source": [
                "\u0026#x2705;"
            ]
        },
        {
            "attachments": {},
            "cell_type": "markdown",
            "metadata": {},
            "source": [
                "Lets create a scatter plot to visualize the price data"
            ]
        },
        {
            "cell_type": "code",
            "execution_count": 21,
            "metadata": {},
            "outputs": [
                {
                    "data": {
                        "text/plain": "\u003cmodule 'matplotlib.pyplot' from '/usr/lib/python3.11/site-packages/matplotlib/pyplot.py'\u003e"
                    },
                    "execution_count": 21,
                    "metadata": {},
                    "output_type": "execute_result"
                },
                {
                    "data": {
                        "image/png": "[encoded data removed]",
                        "text/plain": "\u003cFigure size 640x480 with 1 Axes\u003e"
                    },
                    "metadata": {},
                    "output_type": "display_data"
                }
            ],
            "source": [
                "def scatter_plot_prices():\n",
                "    \"\"\"\n",
                "    Function to display a scatter plot of the mean price for each stock.\n",
                "    \"\"\"\n",
                "    av_prices_by_stock = stock_prices_df.select_dtypes(include='number').mean()\n",
                "    av_prices_by_stock.index = pd.Series(range(len(av_prices_by_stock)))\n",
                "    plt.scatter(x = av_prices_by_stock.values,\n",
                "                y = av_prices_by_stock.index)\n",
                "    plt.xlabel('Price')\n",
                "    plt.ylabel('Company Number')\n",
                "    plt.title('Mean Price for Each Company')\n",
                "    return plt\n",
                "\n",
                "scatter_plot_prices()"
            ]
        },
        {
            "attachments": {},
            "cell_type": "markdown",
            "metadata": {},
            "source": [
                "\n",
                "\u003cp style=\"background-color:Yellow;\"\u003e\u003cb\u003eNot Great:\u003c/b\u003e That does not look so great with a small number of obvious outliers.\u003c/p\u003e"
            ]
        },
        {
            "attachments": {},
            "cell_type": "markdown",
            "metadata": {},
            "source": [
                "Lets check to see if these represent errors or just outliers."
            ]
        },
        {
            "cell_type": "code",
            "execution_count": 22,
            "metadata": {},
            "outputs": [
                {
                    "data": {
                        "text/plain": "AZO     2579.00000\nBKNG    2703.26001\ndtype: float64"
                    },
                    "execution_count": 22,
                    "metadata": {},
                    "output_type": "execute_result"
                }
            ],
            "source": [
                "# Largest two price values by stock\n",
                "stock_prices_df.select_dtypes(include='number').max().sort_values()[-2:]\n",
                ""
            ]
        },
        {
            "attachments": {},
            "cell_type": "markdown",
            "metadata": {},
            "source": [
                "Checking these manually to price sources (Yahoo Finance, 2023), the prices look accurate.  Thus the values represent outliers rather than errors.\n",
                "\n",
                "While there are several ways to handle these outliers depending the analysis being performed and the reason for the outliers, for our analysis we are going to retain them in our data set."
            ]
        },
        {
            "attachments": {},
            "cell_type": "markdown",
            "metadata": {},
            "source": [
                "**Examing the Number of Records for Each Stock**"
            ]
        },
        {
            "cell_type": "code",
            "execution_count": 23,
            "metadata": {},
            "outputs": [
                {
                    "name": "stdout",
                    "output_type": "stream",
                    "text": "count    115.0\nmean     251.0\nstd        0.0\nmin      251.0\n25%      251.0\n50%      251.0\n75%      251.0\nmax      251.0\nName: count, dtype: float64\n"
                }
            ],
            "source": [
                "print(stock_prices_df.describe().loc['count'].describe())"
            ]
        },
        {
            "attachments": {},
            "cell_type": "markdown",
            "metadata": {},
            "source": [
                "\u003cp style=\"background-color:#AFE1AF;\"\u003e\n",
                "The number of records is consistent for all our stocks at 251 (Both the min and max values are 251) meaning we do not have to remove any names with a low number of trading days, nor do we have to forward fill or back fill any values.\n",
                "\u003c/p\u003e"
            ]
        },
        {
            "attachments": {},
            "cell_type": "markdown",
            "metadata": {},
            "source": [
                "\u003cp style=\"background-color:#AFE1AF;\"\u003e\n",
                "    The  number of records for each of our stocks is 251.  As a reasonableness check, there are 260 (52 * 5) week days in the year and some of these will be public holidays.  So we expect somewhere around 250 trading days in a year given approximately 10 public holidays per year. \n",
                "\u003c/p\u003e"
            ]
        },
        {
            "attachments": {},
            "cell_type": "markdown",
            "metadata": {},
            "source": [
                "## Format Share Pricing Data"
            ]
        },
        {
            "attachments": {},
            "cell_type": "markdown",
            "metadata": {},
            "source": [
                "### Convert the dates to datetime format and set them as the index"
            ]
        },
        {
            "cell_type": "code",
            "execution_count": 24,
            "metadata": {},
            "outputs": [],
            "source": [
                "stock_prices_df['Date'] = pd.to_datetime(stock_prices_df['Date'], format = \"%Y-%m-%d\")\n",
                "stock_prices_df = stock_prices_df.set_index('Date', drop=True)"
            ]
        },
        {
            "attachments": {},
            "cell_type": "markdown",
            "metadata": {},
            "source": [
                "### Convert Share Prices to USD Equivalent"
            ]
        },
        {
            "attachments": {},
            "cell_type": "markdown",
            "metadata": {},
            "source": [
                "We convert all share prices to a USD equivalent value to ensure they are comparable.\n",
                "\n",
                "To convert from local currencies to a USD Equivalent we add a column for the FX rate applicable given the ticker code format:\n",
                "* Australian stocks have .AX in their ticker, \n",
                "* Japanese stocks have .T, \n",
                "* Hong Kong stocks .HK, \n",
                "* Singapore stocks .SI; and\n",
                "* US stocks have no period in their ticker"
            ]
        },
        {
            "cell_type": "code",
            "execution_count": 25,
            "metadata": {},
            "outputs": [],
            "source": [
                "# Add currency column based on ticker code format\n",
                "for ticker in stock_prices_df.columns:\n",
                "    if \".AX\" in ticker:\n",
                "        stock_prices_df[ticker] = stock_prices_df[ticker] * fx_prices_df[\"AUDUSD=X\"]\n",
                "    elif \".HK\" in ticker:\n",
                "        stock_prices_df[ticker] = stock_prices_df[ticker] * fx_prices_df[\"HKDUSD=X\"]\n",
                "    elif \".T\" in ticker:\n",
                "        stock_prices_df[ticker] = stock_prices_df[ticker] * fx_prices_df[\"JPYUSD=X\"]\n",
                "    elif \".SI\" in ticker:\n",
                "        stock_prices_df[ticker] = stock_prices_df[ticker] * fx_prices_df[\"SGDUSD=X\"]"
            ]
        },
        {
            "attachments": {},
            "cell_type": "markdown",
            "metadata": {},
            "source": [
                "\u003ca id=\"Pairs\"\u003e\u003c/a\u003e\n",
                "# Create a Universe of Pairs"
            ]
        },
        {
            "attachments": {},
            "cell_type": "markdown",
            "metadata": {},
            "source": [
                "Now that we have imported and cleansed the data, we need to start manipulating it to get the answers required.\n",
                "\n",
                "Key to this is breaking the price data for all the companies into pairs that can be analyzed.  For Example, Microsoft (MSFT) vs Google (GOOGL).\n",
                ""
            ]
        },
        {
            "attachments": {},
            "cell_type": "markdown",
            "metadata": {},
            "source": [
                "Using all the names we have data for, we can create a list of all possible pair combinations using the itertools library."
            ]
        },
        {
            "cell_type": "code",
            "execution_count": 26,
            "metadata": {},
            "outputs": [],
            "source": [
                "all_possible_pairs = [list(pair) for pair in itertools.combinations(stock_prices_df.columns, 2)]"
            ]
        },
        {
            "cell_type": "code",
            "execution_count": 27,
            "metadata": {},
            "outputs": [
                {
                    "name": "stdout",
                    "output_type": "stream",
                    "text": "The Number of All Possible Unique Pairs is: 6,555\n\nSome Examples: [['A', 'AAL'], ['A', 'AAP'], ['A', 'AAPL'], ['A', 'ABBV'], ['A', 'ABC']] \n[['TECH', 'WDS.AX'], ['TECH', 'WRB'], ['WBC.AX', 'WDS.AX'], ['WBC.AX', 'WRB'], ['WDS.AX', 'WRB']]\n"
                }
            ],
            "source": [
                "print(f\"The Number of All Possible Unique Pairs is: {len(all_possible_pairs):,.0f}\")\n",
                "print(f\"\\nSome Examples: {all_possible_pairs[:5]} \\n{all_possible_pairs[-5:]}\")"
            ]
        },
        {
            "attachments": {},
            "cell_type": "markdown",
            "metadata": {},
            "source": [
                "We want to look at a sample of names, instead of the full universe.  This is primarily because we have processing constrainsts.  However, we want a random sample rather than just picking the first 100 names in case their is some bias in the way they are ordered.\n",
                "\n",
                "We have set the sample size via the input constant (RDM_SAMPLE_SIZE) in the Set Inputs section."
            ]
        },
        {
            "cell_type": "code",
            "execution_count": 28,
            "metadata": {},
            "outputs": [],
            "source": [
                "# Select a sample of pairs randomly from the our universe of all possible pairs\n",
                "random_pairs = sample(all_possible_pairs, RDM_SAMPLE_SIZE)"
            ]
        },
        {
            "cell_type": "code",
            "execution_count": 29,
            "metadata": {},
            "outputs": [
                {
                    "name": "stdout",
                    "output_type": "stream",
                    "text": "Here are five examples of the pairs generated from our random sample:\n[['AMGN', 'FMG.AX'], ['AMT', 'CPT'], ['AAPL', 'NAB.AX'], ['CNC', 'KMX'], ['ADP', 'BF-B']]\n"
                }
            ],
            "source": [
                "print(f\"Here are five examples of the pairs generated from our random sample:\\n{random_pairs[:5]}\")"
            ]
        },
        {
            "attachments": {},
            "cell_type": "markdown",
            "metadata": {},
            "source": [
                "## Add Industry to Pairs List"
            ]
        },
        {
            "attachments": {},
            "cell_type": "markdown",
            "metadata": {},
            "source": [
                "The key factor we are seeking to test is Industry.  That is, if in names in the same industry show better correlation or related statistics vs random pairs. \n",
                "\n",
                "To do this we are going to have to merge information from multiple inputs:\n",
                "- The ticker names for the pairs will come from the list of pairs we generated;\n",
                "- The Industry name will come from the all_stocks_info_df\n",
                "- Same Industry Column will be a engineered column we create\n",
                "\n",
                "The Same Industry column will make queries and analysis on the dataset simplier.\n",
                ""
            ]
        },
        {
            "cell_type": "code",
            "execution_count": 30,
            "metadata": {},
            "outputs": [
                {
                    "data": {
                        "text/html": "\u003cdiv\u003e\n\u003cstyle scoped\u003e\n    .dataframe tbody tr th:only-of-type {\n        vertical-align: middle;\n    }\n\n    .dataframe tbody tr th {\n        vertical-align: top;\n    }\n\n    .dataframe thead th {\n        text-align: right;\n    }\n\u003c/style\u003e\n\u003ctable border=\"1\" class=\"dataframe\"\u003e\n  \u003cthead\u003e\n    \u003ctr style=\"text-align: right;\"\u003e\n      \u003cth\u003e\u003c/th\u003e\n      \u003cth\u003eTicker1\u003c/th\u003e\n      \u003cth\u003eTicker2\u003c/th\u003e\n      \u003cth\u003eInd1\u003c/th\u003e\n      \u003cth\u003eInd2\u003c/th\u003e\n      \u003cth\u003eSame Industry\u003c/th\u003e\n    \u003c/tr\u003e\n  \u003c/thead\u003e\n  \u003ctbody\u003e\n    \u003ctr\u003e\n      \u003cth\u003e0\u003c/th\u003e\n      \u003ctd\u003eA\u003c/td\u003e\n      \u003ctd\u003eAAL\u003c/td\u003e\n      \u003ctd\u003eHealth Care\u003c/td\u003e\n      \u003ctd\u003eIndustrials\u003c/td\u003e\n      \u003ctd\u003eNo\u003c/td\u003e\n    \u003c/tr\u003e\n    \u003ctr\u003e\n      \u003cth\u003e1\u003c/th\u003e\n      \u003ctd\u003eA\u003c/td\u003e\n      \u003ctd\u003eAAP\u003c/td\u003e\n      \u003ctd\u003eHealth Care\u003c/td\u003e\n      \u003ctd\u003eConsumer Discretionary\u003c/td\u003e\n      \u003ctd\u003eNo\u003c/td\u003e\n    \u003c/tr\u003e\n    \u003ctr\u003e\n      \u003cth\u003e2\u003c/th\u003e\n      \u003ctd\u003eAAL\u003c/td\u003e\n      \u003ctd\u003eAAP\u003c/td\u003e\n      \u003ctd\u003eIndustrials\u003c/td\u003e\n      \u003ctd\u003eConsumer Discretionary\u003c/td\u003e\n      \u003ctd\u003eNo\u003c/td\u003e\n    \u003c/tr\u003e\n    \u003ctr\u003e\n      \u003cth\u003e3\u003c/th\u003e\n      \u003ctd\u003eA\u003c/td\u003e\n      \u003ctd\u003eAAPL\u003c/td\u003e\n      \u003ctd\u003eHealth Care\u003c/td\u003e\n      \u003ctd\u003eInformation Technology\u003c/td\u003e\n      \u003ctd\u003eNo\u003c/td\u003e\n    \u003c/tr\u003e\n    \u003ctr\u003e\n      \u003cth\u003e4\u003c/th\u003e\n      \u003ctd\u003eAAL\u003c/td\u003e\n      \u003ctd\u003eAAPL\u003c/td\u003e\n      \u003ctd\u003eIndustrials\u003c/td\u003e\n      \u003ctd\u003eInformation Technology\u003c/td\u003e\n      \u003ctd\u003eNo\u003c/td\u003e\n    \u003c/tr\u003e\n    \u003ctr\u003e\n      \u003cth\u003e...\u003c/th\u003e\n      \u003ctd\u003e...\u003c/td\u003e\n      \u003ctd\u003e...\u003c/td\u003e\n      \u003ctd\u003e...\u003c/td\u003e\n      \u003ctd\u003e...\u003c/td\u003e\n      \u003ctd\u003e...\u003c/td\u003e\n    \u003c/tr\u003e\n    \u003ctr\u003e\n      \u003cth\u003e6550\u003c/th\u003e\n      \u003ctd\u003eRMD.AX\u003c/td\u003e\n      \u003ctd\u003eWRB\u003c/td\u003e\n      \u003ctd\u003eHealth Care\u003c/td\u003e\n      \u003ctd\u003eFinancials\u003c/td\u003e\n      \u003ctd\u003eNo\u003c/td\u003e\n    \u003c/tr\u003e\n    \u003ctr\u003e\n      \u003cth\u003e6551\u003c/th\u003e\n      \u003ctd\u003eT\u003c/td\u003e\n      \u003ctd\u003eWRB\u003c/td\u003e\n      \u003ctd\u003eCommunication Services\u003c/td\u003e\n      \u003ctd\u003eFinancials\u003c/td\u003e\n      \u003ctd\u003eNo\u003c/td\u003e\n    \u003c/tr\u003e\n    \u003ctr\u003e\n      \u003cth\u003e6552\u003c/th\u003e\n      \u003ctd\u003eTECH\u003c/td\u003e\n      \u003ctd\u003eWRB\u003c/td\u003e\n      \u003ctd\u003eHealth Care\u003c/td\u003e\n      \u003ctd\u003eFinancials\u003c/td\u003e\n      \u003ctd\u003eNo\u003c/td\u003e\n    \u003c/tr\u003e\n    \u003ctr\u003e\n      \u003cth\u003e6553\u003c/th\u003e\n      \u003ctd\u003eWBC.AX\u003c/td\u003e\n      \u003ctd\u003eWRB\u003c/td\u003e\n      \u003ctd\u003eFinancials\u003c/td\u003e\n      \u003ctd\u003eFinancials\u003c/td\u003e\n      \u003ctd\u003eYes\u003c/td\u003e\n    \u003c/tr\u003e\n    \u003ctr\u003e\n      \u003cth\u003e6554\u003c/th\u003e\n      \u003ctd\u003eWDS.AX\u003c/td\u003e\n      \u003ctd\u003eWRB\u003c/td\u003e\n      \u003ctd\u003eEnergy\u003c/td\u003e\n      \u003ctd\u003eFinancials\u003c/td\u003e\n      \u003ctd\u003eNo\u003c/td\u003e\n    \u003c/tr\u003e\n  \u003c/tbody\u003e\n\u003c/table\u003e\n\u003cp\u003e6555 rows × 5 columns\u003c/p\u003e\n\u003c/div\u003e",
                        "text/plain": "     Ticker1 Ticker2                    Ind1                    Ind2  \\\n0          A     AAL             Health Care             Industrials   \n1          A     AAP             Health Care  Consumer Discretionary   \n2        AAL     AAP             Industrials  Consumer Discretionary   \n3          A    AAPL             Health Care  Information Technology   \n4        AAL    AAPL             Industrials  Information Technology   \n...      ...     ...                     ...                     ...   \n6550  RMD.AX     WRB             Health Care              Financials   \n6551       T     WRB  Communication Services              Financials   \n6552    TECH     WRB             Health Care              Financials   \n6553  WBC.AX     WRB              Financials              Financials   \n6554  WDS.AX     WRB                  Energy              Financials   \n\n     Same Industry  \n0               No  \n1               No  \n2               No  \n3               No  \n4               No  \n...            ...  \n6550            No  \n6551            No  \n6552            No  \n6553           Yes  \n6554            No  \n\n[6555 rows x 5 columns]"
                    },
                    "execution_count": 30,
                    "metadata": {},
                    "output_type": "execute_result"
                }
            ],
            "source": [
                "# Build a DataFrame which lists all possible pairs, the industry of each name in the pair and if they are the same.\n",
                "\n",
                "# Start with the all the pair combinations\n",
                "all_possible_pairs_df = pd.DataFrame(all_possible_pairs, columns=['Ticker1', 'Ticker2'])\n",
                "\n",
                "# Add the Industry Name for the first ticker\n",
                "all_possible_pairs_df = pd.merge(all_possible_pairs_df, all_stocks_info_df[['Symbol', 'GICS Sector']], how='inner', left_on = 'Ticker1', right_on = 'Symbol')\n",
                "# Add the Industry name for the second ticker\n",
                "all_possible_pairs_df = pd.merge(all_possible_pairs_df, all_stocks_info_df[['Symbol', 'GICS Sector']], how='inner', left_on = 'Ticker2', right_on = 'Symbol')\n",
                "\n",
                "# Remove excess columns and tidy up column names\n",
                "all_possible_pairs_df.drop(columns = ['Symbol_x', 'Symbol_y'], inplace=True)\n",
                "all_possible_pairs_df.rename(columns={\"GICS Sector_x\": \"Ind1\", \"GICS Sector_y\": \"Ind2\"}, inplace=True)\n",
                "\n",
                "# Create a new column 'Same Industry' which identifies if all the two names in the pair are from the same industry\n",
                "all_possible_pairs_df['Same Industry'] = np.where(all_possible_pairs_df['Ind1'] == all_possible_pairs_df['Ind2'], 'Yes', 'No')\n",
                "all_possible_pairs_df"
            ]
        },
        {
            "attachments": {},
            "cell_type": "markdown",
            "metadata": {},
            "source": [
                "Construct a DataFrame for the Random Pairs sample in the same format as that for all the possible pairs."
            ]
        },
        {
            "cell_type": "code",
            "execution_count": 31,
            "metadata": {},
            "outputs": [
                {
                    "data": {
                        "text/html": "\u003cdiv\u003e\n\u003cstyle scoped\u003e\n    .dataframe tbody tr th:only-of-type {\n        vertical-align: middle;\n    }\n\n    .dataframe tbody tr th {\n        vertical-align: top;\n    }\n\n    .dataframe thead th {\n        text-align: right;\n    }\n\u003c/style\u003e\n\u003ctable border=\"1\" class=\"dataframe\"\u003e\n  \u003cthead\u003e\n    \u003ctr style=\"text-align: right;\"\u003e\n      \u003cth\u003e\u003c/th\u003e\n      \u003cth\u003eTicker1\u003c/th\u003e\n      \u003cth\u003eTicker2\u003c/th\u003e\n      \u003cth\u003eInd1\u003c/th\u003e\n      \u003cth\u003eInd2\u003c/th\u003e\n      \u003cth\u003eSame Industry\u003c/th\u003e\n    \u003c/tr\u003e\n  \u003c/thead\u003e\n  \u003ctbody\u003e\n    \u003ctr\u003e\n      \u003cth\u003e0\u003c/th\u003e\n      \u003ctd\u003eAMGN\u003c/td\u003e\n      \u003ctd\u003eFMG.AX\u003c/td\u003e\n      \u003ctd\u003eHealth Care\u003c/td\u003e\n      \u003ctd\u003eMaterials\u003c/td\u003e\n      \u003ctd\u003eNo\u003c/td\u003e\n    \u003c/tr\u003e\n    \u003ctr\u003e\n      \u003cth\u003e1\u003c/th\u003e\n      \u003ctd\u003eAMT\u003c/td\u003e\n      \u003ctd\u003eCPT\u003c/td\u003e\n      \u003ctd\u003eReal Estate\u003c/td\u003e\n      \u003ctd\u003eReal Estate\u003c/td\u003e\n      \u003ctd\u003eYes\u003c/td\u003e\n    \u003c/tr\u003e\n    \u003ctr\u003e\n      \u003cth\u003e2\u003c/th\u003e\n      \u003ctd\u003eAAPL\u003c/td\u003e\n      \u003ctd\u003eNAB.AX\u003c/td\u003e\n      \u003ctd\u003eInformation Technology\u003c/td\u003e\n      \u003ctd\u003eFinancials\u003c/td\u003e\n      \u003ctd\u003eNo\u003c/td\u003e\n    \u003c/tr\u003e\n    \u003ctr\u003e\n      \u003cth\u003e3\u003c/th\u003e\n      \u003ctd\u003eCNC\u003c/td\u003e\n      \u003ctd\u003eKMX\u003c/td\u003e\n      \u003ctd\u003eHealth Care\u003c/td\u003e\n      \u003ctd\u003eConsumer Discretionary\u003c/td\u003e\n      \u003ctd\u003eNo\u003c/td\u003e\n    \u003c/tr\u003e\n    \u003ctr\u003e\n      \u003cth\u003e4\u003c/th\u003e\n      \u003ctd\u003eADP\u003c/td\u003e\n      \u003ctd\u003eBF-B\u003c/td\u003e\n      \u003ctd\u003eIndustrials\u003c/td\u003e\n      \u003ctd\u003eConsumer Staples\u003c/td\u003e\n      \u003ctd\u003eNo\u003c/td\u003e\n    \u003c/tr\u003e\n    \u003ctr\u003e\n      \u003cth\u003e...\u003c/th\u003e\n      \u003ctd\u003e...\u003c/td\u003e\n      \u003ctd\u003e...\u003c/td\u003e\n      \u003ctd\u003e...\u003c/td\u003e\n      \u003ctd\u003e...\u003c/td\u003e\n      \u003ctd\u003e...\u003c/td\u003e\n    \u003c/tr\u003e\n    \u003ctr\u003e\n      \u003cth\u003e3995\u003c/th\u003e\n      \u003ctd\u003eAXP\u003c/td\u003e\n      \u003ctd\u003eBF-B\u003c/td\u003e\n      \u003ctd\u003eFinancials\u003c/td\u003e\n      \u003ctd\u003eConsumer Staples\u003c/td\u003e\n      \u003ctd\u003eNo\u003c/td\u003e\n    \u003c/tr\u003e\n    \u003ctr\u003e\n      \u003cth\u003e3996\u003c/th\u003e\n      \u003ctd\u003eAPH\u003c/td\u003e\n      \u003ctd\u003eCE\u003c/td\u003e\n      \u003ctd\u003eInformation Technology\u003c/td\u003e\n      \u003ctd\u003eMaterials\u003c/td\u003e\n      \u003ctd\u003eNo\u003c/td\u003e\n    \u003c/tr\u003e\n    \u003ctr\u003e\n      \u003cth\u003e3997\u003c/th\u003e\n      \u003ctd\u003eFMG.AX\u003c/td\u003e\n      \u003ctd\u003eWRB\u003c/td\u003e\n      \u003ctd\u003eMaterials\u003c/td\u003e\n      \u003ctd\u003eFinancials\u003c/td\u003e\n      \u003ctd\u003eNo\u003c/td\u003e\n    \u003c/tr\u003e\n    \u003ctr\u003e\n      \u003cth\u003e3998\u003c/th\u003e\n      \u003ctd\u003eATO\u003c/td\u003e\n      \u003ctd\u003eCPT\u003c/td\u003e\n      \u003ctd\u003eUtilities\u003c/td\u003e\n      \u003ctd\u003eReal Estate\u003c/td\u003e\n      \u003ctd\u003eNo\u003c/td\u003e\n    \u003c/tr\u003e\n    \u003ctr\u003e\n      \u003cth\u003e3999\u003c/th\u003e\n      \u003ctd\u003eAPTV\u003c/td\u003e\n      \u003ctd\u003eAVY\u003c/td\u003e\n      \u003ctd\u003eConsumer Discretionary\u003c/td\u003e\n      \u003ctd\u003eMaterials\u003c/td\u003e\n      \u003ctd\u003eNo\u003c/td\u003e\n    \u003c/tr\u003e\n  \u003c/tbody\u003e\n\u003c/table\u003e\n\u003cp\u003e4000 rows × 5 columns\u003c/p\u003e\n\u003c/div\u003e",
                        "text/plain": "     Ticker1 Ticker2                    Ind1                    Ind2  \\\n0       AMGN  FMG.AX             Health Care               Materials   \n1        AMT     CPT             Real Estate             Real Estate   \n2       AAPL  NAB.AX  Information Technology              Financials   \n3        CNC     KMX             Health Care  Consumer Discretionary   \n4        ADP    BF-B             Industrials        Consumer Staples   \n...      ...     ...                     ...                     ...   \n3995     AXP    BF-B              Financials        Consumer Staples   \n3996     APH      CE  Information Technology               Materials   \n3997  FMG.AX     WRB               Materials              Financials   \n3998     ATO     CPT               Utilities             Real Estate   \n3999    APTV     AVY  Consumer Discretionary               Materials   \n\n     Same Industry  \n0               No  \n1              Yes  \n2               No  \n3               No  \n4               No  \n...            ...  \n3995            No  \n3996            No  \n3997            No  \n3998            No  \n3999            No  \n\n[4000 rows x 5 columns]"
                    },
                    "execution_count": 31,
                    "metadata": {},
                    "output_type": "execute_result"
                }
            ],
            "source": [
                "#Build the base df from the list of list of random pairs\n",
                "random_pairs_df = pd.DataFrame(random_pairs, columns=['Ticker1', 'Ticker2'])\n",
                "\n",
                "# Add the extra columns required via merging with the df containing all the pairs\n",
                "random_pairs_df = pd.merge(random_pairs_df, all_possible_pairs_df, how='inner',\n",
                "                    left_on = ['Ticker1', 'Ticker2'], right_on= ['Ticker1', 'Ticker2'])\n",
                "random_pairs_df\n",
                ""
            ]
        },
        {
            "attachments": {},
            "cell_type": "markdown",
            "metadata": {},
            "source": [
                "\u003ca id=\"Sectors\"\u003e\u003c/a\u003e\n",
                "# Analysis of Names by Industry/ Sector"
            ]
        },
        {
            "cell_type": "code",
            "execution_count": 32,
            "metadata": {},
            "outputs": [
                {
                    "data": {
                        "text/plain": "count            115\nunique            11\ntop       Financials\nfreq              22\nName: GICS Sector, dtype: object"
                    },
                    "execution_count": 32,
                    "metadata": {},
                    "output_type": "execute_result"
                }
            ],
            "source": [
                "all_stocks_info_df['GICS Sector'].describe()"
            ]
        },
        {
            "cell_type": "code",
            "execution_count": 33,
            "metadata": {},
            "outputs": [
                {
                    "name": "stdout",
                    "output_type": "stream",
                    "text": "The Minimum Number of Members within a Sector Group is: 3\nThe Median Number of Members within a Sector Group is: 11.0\n"
                }
            ],
            "source": [
                "print(f\"The Minimum Number of Members within a Sector Group is: {all_stocks_info_df.groupby('GICS Sector').size().min()}\")\n",
                "print(f\"The Median Number of Members within a Sector Group is: {all_stocks_info_df.groupby('GICS Sector').size().median()}\")"
            ]
        },
        {
            "cell_type": "code",
            "execution_count": 34,
            "metadata": {},
            "outputs": [
                {
                    "data": {
                        "text/plain": "GICS Sector\nCommunication Services     4\nConsumer Discretionary    11\nConsumer Staples           5\nEnergy                     3\nFinancials                22\nHealth Care               18\nIndustrials               13\nInformation Technology    14\nMaterials                 12\nReal Estate                7\nUtilities                  6\ndtype: int64"
                    },
                    "execution_count": 34,
                    "metadata": {},
                    "output_type": "execute_result"
                }
            ],
            "source": [
                "all_stocks_info_df.groupby('GICS Sector').size()"
            ]
        },
        {
            "attachments": {},
            "cell_type": "markdown",
            "metadata": {},
            "source": [
                "\u003cp style=\"background-color:#B8E2F2;\"\u003e\n",
                "    \u003cb\u003eFinding:\u003c/b\u003e There is a reasonable level of diversity within Sectors/Industry with our component stocks being distributed across 11 different industries.  Also of note is that given there are 11 different industries for approximately 115 companies, while diversity certaily exists the definition of what is included within an industry must be reasonably broad.\n",
                "\u003c/p\u003e"
            ]
        },
        {
            "attachments": {},
            "cell_type": "markdown",
            "metadata": {},
            "source": [
                "### Build and Display Graphs Analysing the Distribution of the Sector Groups"
            ]
        },
        {
            "cell_type": "code",
            "execution_count": 35,
            "metadata": {},
            "outputs": [],
            "source": [
                "# Get Counts of The Number of Names Within Each Sector\n",
                "sector_counts = all_stocks_info_df.groupby('GICS Sector')['Symbol'].count().sort_values(axis=0)"
            ]
        },
        {
            "cell_type": "code",
            "execution_count": 36,
            "metadata": {},
            "outputs": [],
            "source": [
                "# Create a seaborn color palette for our graphs\n",
                "colors = sns.color_palette(\"Blues\", len(sector_counts))"
            ]
        },
        {
            "cell_type": "code",
            "execution_count": 37,
            "metadata": {},
            "outputs": [
                {
                    "data": {
                        "image/png": "[encoded data removed]",
                        "text/plain": "\u003cFigure size 2500x2500 with 1 Axes\u003e"
                    },
                    "metadata": {},
                    "output_type": "display_data"
                },
                {
                    "data": {
                        "image/png": "[encoded data removed]",
                        "text/plain": "\u003cFigure size 800x800 with 1 Axes\u003e"
                    },
                    "metadata": {},
                    "output_type": "display_data"
                },
                {
                    "data": {
                        "image/png": "[encoded data removed]",
                        "text/plain": "\u003cFigure size 800x500 with 1 Axes\u003e"
                    },
                    "metadata": {},
                    "output_type": "display_data"
                }
            ],
            "source": [
                "# Function to Create a Series of Graphs to Show the Distribution and Makeup of the Sector Membership\n",
                "def display_sector_graphs(colors, sector_counts, sector_counts_series):\n",
                "\n",
                "    \"\"\"\n",
                "    Function to create three different graphical representations of the Industry/Sector Member Split.\n",
                "    Executed as three different figures given it displays better in Ed than as one figure with three\n",
                "    different subplots.\n",
                "    \"\"\"\n",
                "    \n",
                "    # Display Pie Chart Showing Industry Size Split\n",
                "    fig1 = plt.figure(figsize=(25, 25))\n",
                "    ax = fig1.add_subplot(3, 1, 1)\n",
                "    ax.pie(sector_counts_series, labels = sector_counts.index,colors = colors)\n",
                "    ax.set_title('Sector Split by Number of Members', fontweight='bold')\n",
                "\n",
                "    # Bar Chart of Which Industries Have the Most Members\n",
                "    fig2 = plt.figure(figsize=(8, 8))\n",
                "    ax = fig2.add_subplot(3, 1, 2)\n",
                "    ax.barh(sector_counts_series.index , sector_counts.values)\n",
                "    ax.set_title('Top Sector Member Numbers', fontweight='bold')\n",
                "    ax.set_xlabel('Number of Members')\n",
                "\n",
                "    # Box Plot Of Industry Member Distribution\n",
                "    fig3 = plt.figure(figsize=(8, 5))\n",
                "    ax = fig3.add_subplot(3, 1, 3)\n",
                "    ax.boxplot(all_stocks_info_df.groupby('GICS Sector')['Symbol'].count(), 0, 'rs', 0)\n",
                "    ax.set_title('Distribution of Number of Members Within Each Sector', fontweight='bold')\n",
                "    ax.set_xlabel('Number of Members')\n",
                "\n",
                "    return fig1, fig2, fig3\n",
                "\n",
                "fig1, fig2, fig3 = display_sector_graphs(colors, sector_counts, sector_counts)"
            ]
        },
        {
            "cell_type": "code",
            "execution_count": 38,
            "metadata": {},
            "outputs": [
                {
                    "data": {
                        "text/plain": "GICS Sector\nCommunication Services     4\nConsumer Discretionary    11\nConsumer Staples           5\nEnergy                     3\nFinancials                22\nHealth Care               18\nIndustrials               13\nInformation Technology    14\nMaterials                 12\nReal Estate                7\nUtilities                  6\nName: Symbol, dtype: int64"
                    },
                    "execution_count": 38,
                    "metadata": {},
                    "output_type": "execute_result"
                }
            ],
            "source": [
                "all_stocks_info_df.groupby('GICS Sector')['Symbol'].count()"
            ]
        },
        {
            "attachments": {},
            "cell_type": "markdown",
            "metadata": {},
            "source": [
                "When we review the how many stocks/ companies fall into each Sector we see that the distribution is definitely quite skewed.\n",
                "\n",
                "The following graphs demonstrate that distribution and also highlights which Sector groups have the most number of members."
            ]
        },
        {
            "attachments": {},
            "cell_type": "markdown",
            "metadata": {},
            "source": [
                "Where the Sector only has a single member, comparing members within the same industry will not be possible. "
            ]
        },
        {
            "attachments": {},
            "cell_type": "markdown",
            "metadata": {},
            "source": [
                "Given we are looking to compare companies within the same industry vs companies not in the same industry, we want to identify if any sectors have less than 2 names in them."
            ]
        },
        {
            "cell_type": "code",
            "execution_count": 39,
            "metadata": {},
            "outputs": [
                {
                    "data": {
                        "text/plain": "GICS Sector\nCommunication Services     4\nConsumer Discretionary    11\nConsumer Staples           5\nEnergy                     3\nFinancials                22\nHealth Care               18\nIndustrials               13\nInformation Technology    14\nMaterials                 12\nReal Estate                7\nUtilities                  6\nName: Symbol, dtype: int64"
                    },
                    "execution_count": 39,
                    "metadata": {},
                    "output_type": "execute_result"
                }
            ],
            "source": [
                "all_stocks_info_df.groupby('GICS Sector')['Symbol'].count()"
            ]
        },
        {
            "attachments": {},
            "cell_type": "markdown",
            "metadata": {},
            "source": [
                "\u003cp style=\"background-color:#AFE1AF;\"\u003e\n",
                "We can see that all our industries contain at least three members.\n",
                "\u003c/p\u003e"
            ]
        },
        {
            "attachments": {},
            "cell_type": "markdown",
            "metadata": {},
            "source": [
                "## Analyse Ratio of Same Industry Vs Different Industry Pairs"
            ]
        },
        {
            "attachments": {},
            "cell_type": "markdown",
            "metadata": {},
            "source": [
                "### Full Universe of Names"
            ]
        },
        {
            "cell_type": "code",
            "execution_count": 40,
            "metadata": {},
            "outputs": [
                {
                    "name": "stdout",
                    "output_type": "stream",
                    "text": "Number of Pairs In Total: 6,555\nNumber of Pairs in the Same Industry: 729\nPercentage of pairs in the same industry: 11.12%\n"
                }
            ],
            "source": [
                "num_pairs_all = len(all_possible_pairs_df.index)\n",
                "num_pairs_same_ind_all = len(all_possible_pairs_df[all_possible_pairs_df['Same Industry'] == 'Yes'].index)\n",
                "\n",
                "print(f\"Number of Pairs In Total: {num_pairs_all:,}\")\n",
                "print(f\"Number of Pairs in the Same Industry: {num_pairs_same_ind_all:,}\")\n",
                "print(f\"Percentage of pairs in the same industry: {num_pairs_same_ind_all/num_pairs_all * 100:,.02f}%\")"
            ]
        },
        {
            "attachments": {},
            "cell_type": "markdown",
            "metadata": {},
            "source": [
                "\u003cp style=\"background-color:#B8E2F2;\"\u003e\n",
                "    \u003cb\u003eFinding:\u003c/b\u003e A population size of 6,555 pairs overall and 729 pairs in the same industry seems robust enough to generate some meaningful results.\n",
                "\u003c/p\u003e"
            ]
        },
        {
            "attachments": {},
            "cell_type": "markdown",
            "metadata": {},
            "source": [
                "### Sample"
            ]
        },
        {
            "cell_type": "code",
            "execution_count": 41,
            "metadata": {},
            "outputs": [
                {
                    "name": "stdout",
                    "output_type": "stream",
                    "text": "Number of Pairs In Total: 4,000\nNumber of Pairs in the Same Industry: 442\nPercentage of pairs in the same industry: 11.05%\n"
                }
            ],
            "source": [
                "num_pairs_all_samp = len(random_pairs_df.index)\n",
                "num_pairs_same_ind_samp = len(random_pairs_df[random_pairs_df['Same Industry'] == 'Yes'].index)\n",
                "\n",
                "print(f\"Number of Pairs In Total: {num_pairs_all_samp:,}\")\n",
                "print(f\"Number of Pairs in the Same Industry: {num_pairs_same_ind_samp:,}\")\n",
                "print(f\"Percentage of pairs in the same industry: {num_pairs_same_ind_samp/num_pairs_all_samp * 100:,.02f}%\")"
            ]
        },
        {
            "attachments": {},
            "cell_type": "markdown",
            "metadata": {},
            "source": [
                "\u003cp style=\"background-color:#B8E2F2;\"\u003e\n",
                "    \u003cb\u003eFinding:\u003c/b\u003e A sample size of 4,000 pairs overall and 438 pairs in the same industry seems robust enough to generate some meaningful results.\n",
                "\u003c/p\u003e"
            ]
        },
        {
            "cell_type": "code",
            "execution_count": 42,
            "metadata": {},
            "outputs": [
                {
                    "data": {
                        "text/html": "\u003cdiv\u003e\n\u003cstyle scoped\u003e\n    .dataframe tbody tr th:only-of-type {\n        vertical-align: middle;\n    }\n\n    .dataframe tbody tr th {\n        vertical-align: top;\n    }\n\n    .dataframe thead th {\n        text-align: right;\n    }\n\u003c/style\u003e\n\u003ctable border=\"1\" class=\"dataframe\"\u003e\n  \u003cthead\u003e\n    \u003ctr style=\"text-align: right;\"\u003e\n      \u003cth\u003e\u003c/th\u003e\n      \u003cth\u003eNumber of Total Pairs\u003c/th\u003e\n      \u003cth\u003eNumber of Pairs in Same Industry\u003c/th\u003e\n      \u003cth\u003e% of Pairs in the Same Industry\u003c/th\u003e\n    \u003c/tr\u003e\n  \u003c/thead\u003e\n  \u003ctbody\u003e\n    \u003ctr\u003e\n      \u003cth\u003eEntire Population\u003c/th\u003e\n      \u003ctd\u003e6555\u003c/td\u003e\n      \u003ctd\u003e729\u003c/td\u003e\n      \u003ctd\u003e11.121281\u003c/td\u003e\n    \u003c/tr\u003e\n    \u003ctr\u003e\n      \u003cth\u003eSample\u003c/th\u003e\n      \u003ctd\u003e4000\u003c/td\u003e\n      \u003ctd\u003e442\u003c/td\u003e\n      \u003ctd\u003e11.050000\u003c/td\u003e\n    \u003c/tr\u003e\n  \u003c/tbody\u003e\n\u003c/table\u003e\n\u003c/div\u003e",
                        "text/plain": "                   Number of Total Pairs  Number of Pairs in Same Industry  \\\nEntire Population                   6555                               729   \nSample                              4000                               442   \n\n                   % of Pairs in the Same Industry  \nEntire Population                        11.121281  \nSample                                   11.050000  "
                    },
                    "execution_count": 42,
                    "metadata": {},
                    "output_type": "execute_result"
                }
            ],
            "source": [
                "df = pd.DataFrame(data = [[num_pairs_all, num_pairs_same_ind_all, num_pairs_same_ind_all/num_pairs_all * 100], \n",
                "                          [num_pairs_all_samp, num_pairs_same_ind_samp, num_pairs_same_ind_samp/num_pairs_all_samp * 100]], \n",
                "                  columns=['Number of Total Pairs', 'Number of Pairs in Same Industry', '% of Pairs in the Same Industry'])\n",
                "df.index = ['Entire Population', 'Sample']\n",
                "df"
            ]
        },
        {
            "attachments": {},
            "cell_type": "markdown",
            "metadata": {},
            "source": [
                "\u003cp style=\"background-color:#AFE1AF;\"\u003e\n",
                "Our sample does seem representative of the total population in term pairs in the same industry vs all pairs.\n",
                "\u003c/p\u003e"
            ]
        },
        {
            "attachments": {},
            "cell_type": "markdown",
            "metadata": {},
            "source": [
                "\u003ca id=\"Correlations\"\u003e\u003c/a\u003e\n",
                "# Correlations"
            ]
        },
        {
            "attachments": {},
            "cell_type": "markdown",
            "metadata": {},
            "source": [
                "## Calculate Correlations"
            ]
        },
        {
            "attachments": {},
            "cell_type": "markdown",
            "metadata": {},
            "source": [
                "First we build a dataframe of correlations for ALL pairs in our sample."
            ]
        },
        {
            "cell_type": "code",
            "execution_count": 43,
            "metadata": {},
            "outputs": [
                {
                    "data": {
                        "text/html": "\u003cdiv\u003e\n\u003cstyle scoped\u003e\n    .dataframe tbody tr th:only-of-type {\n        vertical-align: middle;\n    }\n\n    .dataframe tbody tr th {\n        vertical-align: top;\n    }\n\n    .dataframe thead th {\n        text-align: right;\n    }\n\u003c/style\u003e\n\u003ctable border=\"1\" class=\"dataframe\"\u003e\n  \u003cthead\u003e\n    \u003ctr style=\"text-align: right;\"\u003e\n      \u003cth\u003e\u003c/th\u003e\n      \u003cth\u003eTicker1\u003c/th\u003e\n      \u003cth\u003eTicker2\u003c/th\u003e\n      \u003cth\u003eCorrelation\u003c/th\u003e\n      \u003cth\u003eInd1\u003c/th\u003e\n      \u003cth\u003eInd2\u003c/th\u003e\n      \u003cth\u003eSame Industry\u003c/th\u003e\n    \u003c/tr\u003e\n  \u003c/thead\u003e\n  \u003ctbody\u003e\n    \u003ctr\u003e\n      \u003cth\u003e0\u003c/th\u003e\n      \u003ctd\u003eAMGN\u003c/td\u003e\n      \u003ctd\u003eFMG.AX\u003c/td\u003e\n      \u003ctd\u003e-0.011295\u003c/td\u003e\n      \u003ctd\u003eHealth Care\u003c/td\u003e\n      \u003ctd\u003eMaterials\u003c/td\u003e\n      \u003ctd\u003eNo\u003c/td\u003e\n    \u003c/tr\u003e\n    \u003ctr\u003e\n      \u003cth\u003e1\u003c/th\u003e\n      \u003ctd\u003eAMT\u003c/td\u003e\n      \u003ctd\u003eCPT\u003c/td\u003e\n      \u003ctd\u003e0.547661\u003c/td\u003e\n      \u003ctd\u003eReal Estate\u003c/td\u003e\n      \u003ctd\u003eReal Estate\u003c/td\u003e\n      \u003ctd\u003eYes\u003c/td\u003e\n    \u003c/tr\u003e\n    \u003ctr\u003e\n      \u003cth\u003e2\u003c/th\u003e\n      \u003ctd\u003eAAPL\u003c/td\u003e\n      \u003ctd\u003eNAB.AX\u003c/td\u003e\n      \u003ctd\u003e0.404794\u003c/td\u003e\n      \u003ctd\u003eInformation Technology\u003c/td\u003e\n      \u003ctd\u003eFinancials\u003c/td\u003e\n      \u003ctd\u003eNo\u003c/td\u003e\n    \u003c/tr\u003e\n    \u003ctr\u003e\n      \u003cth\u003e3\u003c/th\u003e\n      \u003ctd\u003eCNC\u003c/td\u003e\n      \u003ctd\u003eKMX\u003c/td\u003e\n      \u003ctd\u003e0.187181\u003c/td\u003e\n      \u003ctd\u003eHealth Care\u003c/td\u003e\n      \u003ctd\u003eConsumer Discretionary\u003c/td\u003e\n      \u003ctd\u003eNo\u003c/td\u003e\n    \u003c/tr\u003e\n    \u003ctr\u003e\n      \u003cth\u003e4\u003c/th\u003e\n      \u003ctd\u003eADP\u003c/td\u003e\n      \u003ctd\u003eBF-B\u003c/td\u003e\n      \u003ctd\u003e0.607954\u003c/td\u003e\n      \u003ctd\u003eIndustrials\u003c/td\u003e\n      \u003ctd\u003eConsumer Staples\u003c/td\u003e\n      \u003ctd\u003eNo\u003c/td\u003e\n    \u003c/tr\u003e\n    \u003ctr\u003e\n      \u003cth\u003e...\u003c/th\u003e\n      \u003ctd\u003e...\u003c/td\u003e\n      \u003ctd\u003e...\u003c/td\u003e\n      \u003ctd\u003e...\u003c/td\u003e\n      \u003ctd\u003e...\u003c/td\u003e\n      \u003ctd\u003e...\u003c/td\u003e\n      \u003ctd\u003e...\u003c/td\u003e\n    \u003c/tr\u003e\n    \u003ctr\u003e\n      \u003cth\u003e3995\u003c/th\u003e\n      \u003ctd\u003eAXP\u003c/td\u003e\n      \u003ctd\u003eBF-B\u003c/td\u003e\n      \u003ctd\u003e-0.214173\u003c/td\u003e\n      \u003ctd\u003eFinancials\u003c/td\u003e\n      \u003ctd\u003eConsumer Staples\u003c/td\u003e\n      \u003ctd\u003eNo\u003c/td\u003e\n    \u003c/tr\u003e\n    \u003ctr\u003e\n      \u003cth\u003e3996\u003c/th\u003e\n      \u003ctd\u003eAPH\u003c/td\u003e\n      \u003ctd\u003eCE\u003c/td\u003e\n      \u003ctd\u003e0.133122\u003c/td\u003e\n      \u003ctd\u003eInformation Technology\u003c/td\u003e\n      \u003ctd\u003eMaterials\u003c/td\u003e\n      \u003ctd\u003eNo\u003c/td\u003e\n    \u003c/tr\u003e\n    \u003ctr\u003e\n      \u003cth\u003e3997\u003c/th\u003e\n      \u003ctd\u003eFMG.AX\u003c/td\u003e\n      \u003ctd\u003eWRB\u003c/td\u003e\n      \u003ctd\u003e-0.041788\u003c/td\u003e\n      \u003ctd\u003eMaterials\u003c/td\u003e\n      \u003ctd\u003eFinancials\u003c/td\u003e\n      \u003ctd\u003eNo\u003c/td\u003e\n    \u003c/tr\u003e\n    \u003ctr\u003e\n      \u003cth\u003e3998\u003c/th\u003e\n      \u003ctd\u003eATO\u003c/td\u003e\n      \u003ctd\u003eCPT\u003c/td\u003e\n      \u003ctd\u003e0.052563\u003c/td\u003e\n      \u003ctd\u003eUtilities\u003c/td\u003e\n      \u003ctd\u003eReal Estate\u003c/td\u003e\n      \u003ctd\u003eNo\u003c/td\u003e\n    \u003c/tr\u003e\n    \u003ctr\u003e\n      \u003cth\u003e3999\u003c/th\u003e\n      \u003ctd\u003eAPTV\u003c/td\u003e\n      \u003ctd\u003eAVY\u003c/td\u003e\n      \u003ctd\u003e0.607163\u003c/td\u003e\n      \u003ctd\u003eConsumer Discretionary\u003c/td\u003e\n      \u003ctd\u003eMaterials\u003c/td\u003e\n      \u003ctd\u003eNo\u003c/td\u003e\n    \u003c/tr\u003e\n  \u003c/tbody\u003e\n\u003c/table\u003e\n\u003cp\u003e4000 rows × 6 columns\u003c/p\u003e\n\u003c/div\u003e",
                        "text/plain": "     Ticker1 Ticker2  Correlation                    Ind1  \\\n0       AMGN  FMG.AX    -0.011295             Health Care   \n1        AMT     CPT     0.547661             Real Estate   \n2       AAPL  NAB.AX     0.404794  Information Technology   \n3        CNC     KMX     0.187181             Health Care   \n4        ADP    BF-B     0.607954             Industrials   \n...      ...     ...          ...                     ...   \n3995     AXP    BF-B    -0.214173              Financials   \n3996     APH      CE     0.133122  Information Technology   \n3997  FMG.AX     WRB    -0.041788               Materials   \n3998     ATO     CPT     0.052563               Utilities   \n3999    APTV     AVY     0.607163  Consumer Discretionary   \n\n                        Ind2 Same Industry  \n0                  Materials            No  \n1                Real Estate           Yes  \n2                 Financials            No  \n3     Consumer Discretionary            No  \n4           Consumer Staples            No  \n...                      ...           ...  \n3995        Consumer Staples            No  \n3996               Materials            No  \n3997              Financials            No  \n3998             Real Estate            No  \n3999               Materials            No  \n\n[4000 rows x 6 columns]"
                    },
                    "execution_count": 43,
                    "metadata": {},
                    "output_type": "execute_result"
                }
            ],
            "source": [
                "corr_array = []\n",
                "\n",
                "# Iterate through all the pairs in our sample \n",
                "for i in range(len(random_pairs_df)):\n",
                "    \n",
                "    # Calculate the correlation for each pair\n",
                "    corr = stock_prices_df[random_pairs[i][0]].corr(stock_prices_df[random_pairs[i][1]])\n",
                "    # Append the result\n",
                "    corr_array.append([random_pairs[i][0], random_pairs[i][1], corr])\n",
                "    \n",
                "    i += 1\n",
                "# Create a DataFrame from the correlation array\n",
                "corr_df = pd.DataFrame(data=corr_array, columns=['Ticker1', 'Ticker2', 'Correlation'])\n",
                "# Merge with the random_pairs dataframe to add the descriptive colums\n",
                "corr_df = pd.merge(corr_df, random_pairs_df, how='inner', left_on = ['Ticker1', 'Ticker2'], right_on = ['Ticker1', 'Ticker2'])\n",
                "corr_df"
            ]
        },
        {
            "attachments": {},
            "cell_type": "markdown",
            "metadata": {},
            "source": [
                "## Analyze Correlations"
            ]
        },
        {
            "attachments": {},
            "cell_type": "markdown",
            "metadata": {},
            "source": [
                "We are analyzing the absolute values of the correlations as we are interested in the magnitude of the corrleations - negative correlations are as usual as positive ones."
            ]
        },
        {
            "cell_type": "code",
            "execution_count": 44,
            "metadata": {},
            "outputs": [
                {
                    "data": {
                        "text/html": "\u003cdiv\u003e\n\u003cstyle scoped\u003e\n    .dataframe tbody tr th:only-of-type {\n        vertical-align: middle;\n    }\n\n    .dataframe tbody tr th {\n        vertical-align: top;\n    }\n\n    .dataframe thead th {\n        text-align: right;\n    }\n\u003c/style\u003e\n\u003ctable border=\"1\" class=\"dataframe\"\u003e\n  \u003cthead\u003e\n    \u003ctr style=\"text-align: right;\"\u003e\n      \u003cth\u003e\u003c/th\u003e\n      \u003cth\u003eCorr all\u003c/th\u003e\n      \u003cth\u003eCorr Same Industry\u003c/th\u003e\n    \u003c/tr\u003e\n  \u003c/thead\u003e\n  \u003ctbody\u003e\n    \u003ctr\u003e\n      \u003cth\u003ecount\u003c/th\u003e\n      \u003ctd\u003e4000.000000\u003c/td\u003e\n      \u003ctd\u003e442.000000\u003c/td\u003e\n    \u003c/tr\u003e\n    \u003ctr\u003e\n      \u003cth\u003emean\u003c/th\u003e\n      \u003ctd\u003e0.430328\u003c/td\u003e\n      \u003ctd\u003e0.484578\u003c/td\u003e\n    \u003c/tr\u003e\n    \u003ctr\u003e\n      \u003cth\u003estd\u003c/th\u003e\n      \u003ctd\u003e0.260194\u003c/td\u003e\n      \u003ctd\u003e0.272954\u003c/td\u003e\n    \u003c/tr\u003e\n    \u003ctr\u003e\n      \u003cth\u003emin\u003c/th\u003e\n      \u003ctd\u003e0.000052\u003c/td\u003e\n      \u003ctd\u003e0.002901\u003c/td\u003e\n    \u003c/tr\u003e\n    \u003ctr\u003e\n      \u003cth\u003e25%\u003c/th\u003e\n      \u003ctd\u003e0.207259\u003c/td\u003e\n      \u003ctd\u003e0.247346\u003c/td\u003e\n    \u003c/tr\u003e\n    \u003ctr\u003e\n      \u003cth\u003e50%\u003c/th\u003e\n      \u003ctd\u003e0.418774\u003c/td\u003e\n      \u003ctd\u003e0.497503\u003c/td\u003e\n    \u003c/tr\u003e\n    \u003ctr\u003e\n      \u003cth\u003e75%\u003c/th\u003e\n      \u003ctd\u003e0.639048\u003c/td\u003e\n      \u003ctd\u003e0.709081\u003c/td\u003e\n    \u003c/tr\u003e\n    \u003ctr\u003e\n      \u003cth\u003emax\u003c/th\u003e\n      \u003ctd\u003e0.979934\u003c/td\u003e\n      \u003ctd\u003e0.979934\u003c/td\u003e\n    \u003c/tr\u003e\n    \u003ctr\u003e\n      \u003cth\u003eMedian\u003c/th\u003e\n      \u003ctd\u003e0.418774\u003c/td\u003e\n      \u003ctd\u003e0.497503\u003c/td\u003e\n    \u003c/tr\u003e\n  \u003c/tbody\u003e\n\u003c/table\u003e\n\u003c/div\u003e",
                        "text/plain": "           Corr all  Corr Same Industry\ncount   4000.000000          442.000000\nmean       0.430328            0.484578\nstd        0.260194            0.272954\nmin        0.000052            0.002901\n25%        0.207259            0.247346\n50%        0.418774            0.497503\n75%        0.639048            0.709081\nmax        0.979934            0.979934\nMedian     0.418774            0.497503"
                    },
                    "execution_count": 44,
                    "metadata": {},
                    "output_type": "execute_result"
                }
            ],
            "source": [
                "# Absolute correlation levels for ALL pairs\n",
                "corr_all = abs(corr_df['Correlation']).describe() # Convert correlations to absolute values\n",
                "\n",
                "# Absolute correlation levels for pairs in the same industry\n",
                "corr_same_ind = abs(corr_df[corr_df['Same Industry'] == 'Yes']['Correlation']).describe()\n",
                "\n",
                "# Combine the different correlation serieses into a DF for easier display and analysis\n",
                "df = pd.DataFrame(corr_all)\n",
                "df = pd.DataFrame({'Corr all': corr_all, 'Corr Same Industry': corr_same_ind})\n",
                "df.loc['Median', :]= [abs(corr_df['Correlation']).median(), abs(corr_df[corr_df['Same Industry'] == 'Yes']['Correlation']).median()]\n",
                "df"
            ]
        },
        {
            "attachments": {},
            "cell_type": "markdown",
            "metadata": {},
            "source": [
                "\u003cp style=\"background-color:#B8E2F2;\"\u003e\n",
                "    \u003cb\u003eFinding:\u003c/b\u003e At a summary level there does appear to be a higher correlation level for pairs in the same industry\n",
                "\u003c/p\u003e"
            ]
        },
        {
            "attachments": {},
            "cell_type": "markdown",
            "metadata": {},
            "source": [
                "## Analyse by Industry : Are Some Industry Groups Better Than Others?"
            ]
        },
        {
            "attachments": {},
            "cell_type": "markdown",
            "metadata": {},
            "source": [
                "Creating a DataFrame which gives us some summary info by Industry for Pairs Which are Both in the Same Industry"
            ]
        },
        {
            "cell_type": "code",
            "execution_count": 45,
            "metadata": {},
            "outputs": [],
            "source": [
                "# Take the df of all correlations, extract same industry pairs and get the median correlation and count for those those pairs\n",
                "df = corr_df[corr_df['Same Industry'] == 'Yes'].groupby('Ind1').agg(Median =('Correlation', 'median'),\\\n",
                "                                                                   Count=('Correlation','count'))\n",
                "df = df.reset_index()\n",
                "df['Median'] = abs(df['Median'])\n",
                "df = df.sort_values(['Median', 'Count']).set_index('Ind1', drop=True)\n",
                "df.index.name = \"\""
            ]
        },
        {
            "attachments": {},
            "cell_type": "markdown",
            "metadata": {},
            "source": [
                "If we only have one pair in an industry, it is difficult to make any comparision of that industry vs another.  Thus we will limit our comparison to industries with at least 10 names in it."
            ]
        },
        {
            "cell_type": "code",
            "execution_count": 46,
            "metadata": {
                "scrolled": true
            },
            "outputs": [
                {
                    "data": {
                        "text/html": "\u003cdiv\u003e\n\u003cstyle scoped\u003e\n    .dataframe tbody tr th:only-of-type {\n        vertical-align: middle;\n    }\n\n    .dataframe tbody tr th {\n        vertical-align: top;\n    }\n\n    .dataframe thead th {\n        text-align: right;\n    }\n\u003c/style\u003e\n\u003ctable border=\"1\" class=\"dataframe\"\u003e\n  \u003cthead\u003e\n    \u003ctr style=\"text-align: right;\"\u003e\n      \u003cth\u003e\u003c/th\u003e\n      \u003cth\u003eMedian\u003c/th\u003e\n      \u003cth\u003eCount\u003c/th\u003e\n    \u003c/tr\u003e\n    \u003ctr\u003e\n      \u003cth\u003e\u003c/th\u003e\n      \u003cth\u003e\u003c/th\u003e\n      \u003cth\u003e\u003c/th\u003e\n    \u003c/tr\u003e\n  \u003c/thead\u003e\n  \u003ctbody\u003e\n    \u003ctr\u003e\n      \u003cth\u003eMaterials\u003c/th\u003e\n      \u003ctd\u003e0.114525\u003c/td\u003e\n      \u003ctd\u003e41\u003c/td\u003e\n    \u003c/tr\u003e\n    \u003ctr\u003e\n      \u003cth\u003eHealth Care\u003c/th\u003e\n      \u003ctd\u003e0.174150\u003c/td\u003e\n      \u003ctd\u003e88\u003c/td\u003e\n    \u003c/tr\u003e\n    \u003ctr\u003e\n      \u003cth\u003eIndustrials\u003c/th\u003e\n      \u003ctd\u003e0.336768\u003c/td\u003e\n      \u003ctd\u003e44\u003c/td\u003e\n    \u003c/tr\u003e\n    \u003ctr\u003e\n      \u003cth\u003eFinancials\u003c/th\u003e\n      \u003ctd\u003e0.399541\u003c/td\u003e\n      \u003ctd\u003e152\u003c/td\u003e\n    \u003c/tr\u003e\n    \u003ctr\u003e\n      \u003cth\u003eInformation Technology\u003c/th\u003e\n      \u003ctd\u003e0.568428\u003c/td\u003e\n      \u003ctd\u003e54\u003c/td\u003e\n    \u003c/tr\u003e\n    \u003ctr\u003e\n      \u003cth\u003eUtilities\u003c/th\u003e\n      \u003ctd\u003e0.570165\u003c/td\u003e\n      \u003ctd\u003e10\u003c/td\u003e\n    \u003c/tr\u003e\n    \u003ctr\u003e\n      \u003cth\u003eConsumer Discretionary\u003c/th\u003e\n      \u003ctd\u003e0.700991\u003c/td\u003e\n      \u003ctd\u003e31\u003c/td\u003e\n    \u003c/tr\u003e\n    \u003ctr\u003e\n      \u003cth\u003eReal Estate\u003c/th\u003e\n      \u003ctd\u003e0.885461\u003c/td\u003e\n      \u003ctd\u003e14\u003c/td\u003e\n    \u003c/tr\u003e\n  \u003c/tbody\u003e\n\u003c/table\u003e\n\u003c/div\u003e",
                        "text/plain": "                          Median  Count\n                                       \nMaterials               0.114525     41\nHealth Care             0.174150     88\nIndustrials             0.336768     44\nFinancials              0.399541    152\nInformation Technology  0.568428     54\nUtilities               0.570165     10\nConsumer Discretionary  0.700991     31\nReal Estate             0.885461     14"
                    },
                    "execution_count": 46,
                    "metadata": {},
                    "output_type": "execute_result"
                }
            ],
            "source": [
                "# Limit our target dataframe to only include sectors with 10 or more members\n",
                "df = df[df['Count']\u003e=10]\n",
                "df = df.sort_values('Median')\n",
                "df"
            ]
        },
        {
            "attachments": {},
            "cell_type": "markdown",
            "metadata": {},
            "source": [
                "## Display Results Graphically"
            ]
        },
        {
            "cell_type": "code",
            "execution_count": 47,
            "metadata": {},
            "outputs": [
                {
                    "data": {
                        "text/plain": "\u003cmatplotlib.legend.Legend at 0x7f5385391750\u003e"
                    },
                    "execution_count": 47,
                    "metadata": {},
                    "output_type": "execute_result"
                },
                {
                    "data": {
                        "image/png": "[encoded data removed]",
                        "text/plain": "\u003cFigure size 1000x1000 with 1 Axes\u003e"
                    },
                    "metadata": {},
                    "output_type": "display_data"
                }
            ],
            "source": [
                "# Calculate median correlations\n",
                "medians_same_ind = abs(df['Median'])\n",
                "medians_all_ind = abs(corr_df.groupby('Ind1')['Correlation'].median())\n",
                "\n",
                "# We only want to plot the industries that have sufficient same industry pairs\n",
                "medians_all_ind = medians_all_ind[medians_all_ind.index.isin(df.index)]\n",
                "\n",
                "# Create figure and axis\n",
                "fig, ax = plt.subplots(figsize=[10,10])\n",
                "\n",
                "# Set a width for the bars\n",
                "bar_width = 0.3\n",
                "\n",
                "# We have to define bar positions if we want the different plots to be side by side\n",
                "bar1_positions = np.arange(len(medians_same_ind))\n",
                "bar2_positions = bar1_positions + bar_width # Puts the position beside the prior bar\n",
                "\n",
                "# Create our bar charts\n",
                "ax.barh(bar1_positions, medians_same_ind, height=bar_width, label='Median Correlation by Industry for Pairs in the Same Industry')\n",
                "ax.barh(bar2_positions, medians_all_ind, height=bar_width, label='Median Correlation by Industry for ALL Pairs')\n",
                "\n",
                "# Define y labels and title\n",
                "ax.set_yticks(bar1_positions + bar_width / 2)\n",
                "ax.set_yticklabels(medians_same_ind.index)\n",
                "ax.set_xlabel('Median Correlation')\n",
                "ax.set_ylabel('Industry')\n",
                "ax.set_title('Median Correlation by Industry')\n",
                "\n",
                "# Show legend\n",
                "ax.legend()"
            ]
        },
        {
            "attachments": {},
            "cell_type": "markdown",
            "metadata": {},
            "source": [
                "\u003cp style=\"background-color:#B8E2F2;\"\u003e\n",
                "    \u003cb\u003eFinding:\u003c/b\u003e The range of correlations does vary signficantly across industries.\n",
                "\u003c/p\u003e"
            ]
        },
        {
            "attachments": {},
            "cell_type": "markdown",
            "metadata": {},
            "source": [
                "\u003cp style=\"background-color:#B8E2F2;\"\u003e\n",
                "    \u003cb\u003eFinding:\u003c/b\u003e This graph also reinforces the earlier finding that the correlation levels are higher for pairs which are both in the same industry vs disparate pairs - as the same industry pairs have higher correlation for almost all industries\n",
                "\u003c/p\u003e"
            ]
        },
        {
            "attachments": {},
            "cell_type": "markdown",
            "metadata": {},
            "source": [
                "\u003cp style=\"background-color:#B8E2F2;\"\u003e\n",
                "    \u003cb\u003eFinding:\u003c/b\u003e It appears that there seems to be INVERSE correlation between the number of members in the Sector and the Median correlation of Sector Members.\n",
                "    \n",
                "One possible explanation for this may be that Sectors with larger numbers of members may also be those defined broadly.  If the Sector is quite broad the business models within that sector are likley to become less closely related.\n",
                "\n",
                "This would require further data analysis and possibly include trying to create sub sectors to see if that creates higher correlation levels.\n",
                "\u003c/p\u003e"
            ]
        },
        {
            "cell_type": "code",
            "execution_count": 48,
            "metadata": {},
            "outputs": [
                {
                    "data": {
                        "text/html": "\u003cdiv\u003e\n\u003cstyle scoped\u003e\n    .dataframe tbody tr th:only-of-type {\n        vertical-align: middle;\n    }\n\n    .dataframe tbody tr th {\n        vertical-align: top;\n    }\n\n    .dataframe thead th {\n        text-align: right;\n    }\n\u003c/style\u003e\n\u003ctable border=\"1\" class=\"dataframe\"\u003e\n  \u003cthead\u003e\n    \u003ctr style=\"text-align: right;\"\u003e\n      \u003cth\u003e\u003c/th\u003e\n      \u003cth\u003eMedian\u003c/th\u003e\n      \u003cth\u003eCount\u003c/th\u003e\n    \u003c/tr\u003e\n  \u003c/thead\u003e\n  \u003ctbody\u003e\n    \u003ctr\u003e\n      \u003cth\u003eMedian\u003c/th\u003e\n      \u003ctd\u003e1.000000\u003c/td\u003e\n      \u003ctd\u003e-0.437728\u003c/td\u003e\n    \u003c/tr\u003e\n    \u003ctr\u003e\n      \u003cth\u003eCount\u003c/th\u003e\n      \u003ctd\u003e-0.437728\u003c/td\u003e\n      \u003ctd\u003e1.000000\u003c/td\u003e\n    \u003c/tr\u003e\n  \u003c/tbody\u003e\n\u003c/table\u003e\n\u003c/div\u003e",
                        "text/plain": "          Median     Count\nMedian  1.000000 -0.437728\nCount  -0.437728  1.000000"
                    },
                    "execution_count": 48,
                    "metadata": {},
                    "output_type": "execute_result"
                }
            ],
            "source": [
                "df.corr()"
            ]
        },
        {
            "attachments": {},
            "cell_type": "markdown",
            "metadata": {},
            "source": [
                "\u003ca id=\"Findings\"\u003e\u003c/a\u003e\n",
                "# Summary of Findings"
            ]
        },
        {
            "attachments": {},
            "cell_type": "markdown",
            "metadata": {},
            "source": [
                "We found that from a sample of 115 stocks we can produce a universe of approximately 6,500 pairs which is seems quite a healthy population size.  We trimmed this to 4,000 pairs to ensure our processing environment can handle our analysis.\n",
                "When we break out how many of those represent pairs in the same industry, we have 729 pairs in our total universe of pairs and then 458 pairs when we trim to a starting sample size of 4,000 pairs.  458 pairs again seems like a reasonably robust sample size to draw some initial conclusions from.\n",
                "\n",
                "Our pairs are split across 11 different sector groups with the Financials and Health Care sectors have the most members and the Energy and Communications Services sectors having the least.\n",
                "\n",
                "The sample population pairs have a mean and median correlation level of .43 and .41.  That is certainly meaningful and demonstrates that even random sets of pairs on average have a reasonable level of correlation.  That is consistent with general stock market findings where overall stocks move in the same direction.  This correlation for all stocks is why it was important we set a benchark to compare the pairs in the same industry - simply finding a non zero corrleation for our same industry pairs would not have helped determine if it is an appropriate factor.\n",
                "\n",
                "The same industry pairs have a mean and median correlation level of .50 (vs 0.43) and 0.51(vs .41) which represents a meaningfully higher level than the random pairs.  Importantly, this higher correlation also appears to occur with a high (but not absolute) level of consistency across sectors.\n",
                "\n",
                "It is definitely the case that the correlation levels vary by sector (when considering pairs in the same sector) and vary quite signficantly:\n",
                "* Real Estate has a median correlation level of 0.88; vs\n",
                "* Healthcare 0.19.\n",
                "    \n",
                "In looking for reasons for the variance across industries one factor we identified was those sectors with a large number of members seemed generally to have lower correlation levels, perhaps indicating that they are 'broader' in their industry definition and thus their are less synergies in the business models of members.  Additional steps we could take to confirm this include:\n",
                "* doing the same analysis at the sub-industry level\n",
                "* doing our analysis for multiple time periods\n",
                "* increasing our population and sample size to analyze a greater number of pairs\n",
                "    \n",
                ""
            ]
        },
        {
            "attachments": {},
            "cell_type": "markdown",
            "metadata": {},
            "source": [
                "\u003ca id=\"References\"\u003e\u003c/a\u003e\n",
                "# References"
            ]
        },
        {
            "attachments": {},
            "cell_type": "markdown",
            "metadata": {},
            "source": [
                "Aroussi, R., 2023, yfinance.[python library]  \n",
                "\u003e Available at https://pypi.org/project/yfinance/(Accessed: 3 August, 2023)\n",
                "\n",
                "ASX, 2023.  *Top 20 Shares by Value.* [pdf] \n",
                "\u003e Available at https://www.asx.com.au/data/dw_sharesbyvalue.pdf (Accessed, August 3 2023).\n",
                "\n",
                "Investopedia.com, 2023. *Pairs Trade: Definition, How Strategy Works, and Example*\n",
                "https://www.investopedia.com/terms/p/pairstrade.asp (Accessed: 8 August, 2023)\n",
                "\n",
                "Wikipedia, 2023. *S\u0026P 500 component stocks.*\n",
                "\u003e Available at https://en.wikipedia.org/wiki/List_of_S%26P_500_companies (Accessed: July 31 2023)\n",
                "\n",
                "Yahoo Finance, 2023.  *Stock Market and Foreign Currency Historical Market Data.*  \n",
                "\u003e Available at:\n",
                "    https://finance.yahoo.com/quote/[Symbol_Code]/history?p=[Symbol_Code](Accessed: 3 August, 2023)\n",
                "\n",
                "Yahoo Finance, 2023.  *Company Profile Data Incuding Sector Name.*  \n",
                "\u003e Available at:\n",
                "    https://finance.yahoo.com/quote/[Symbol_Code]/profile?p=[Symbol_Code](Accessed: 3 August, 2023)\n",
                "\n",
                "\u003e Note: 115 different stocks and four different foreign currencies were analyzed and thus the individual symbol codes for each are not listed.\n",
                ""
            ]
        },
        {
            "cell_type": "code",
            "execution_count": 49,
            "metadata": {},
            "outputs": [
                {
                    "name": "stdout",
                    "output_type": "stream",
                    "text": "2023-08-10 17:04:59.194265\n"
                }
            ],
            "source": [
                "# Observe when notebook was last run all the way through successfully\n",
                "print(datetime.now())"
            ]
        }
    ]
}
