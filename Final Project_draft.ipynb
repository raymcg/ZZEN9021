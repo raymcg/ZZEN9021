{
 "cells": [
  {
   "cell_type": "markdown",
   "id": "421c935d",
   "metadata": {},
   "source": [
    "# Correlation Between Companies in The Same Industry\n",
    "\n",
    "1. <a href='#Introduction'>Introduction</a>\n",
    "2. <a href='#Questions'>Questions</a> \n",
    "3. <a href='#Data_Sources'>Data Sources</a> \n",
    "4. <a href='#Libraries'>Import Required Libraries </a>\n",
    "5. <a href='#Inputs'>Set Inputs </a>\n",
    "6. <a href='#Names'>Load and Format S&P500 and ASX Names</a>\n",
    "9. <a href='#Prices'>Load, Review and Format Prices for FX Rates and Shares</a>\n",
    "10. <a href='#Pairs'>Create a Universe of Pairs</a>\n",
    "11. <a href='#Sectors'>Analysis of Names by Sector</a>\n",
    "13. <a href='#Correlations'>Correlation Results</a>\n",
    "14. <a href='#Findings'>Summary of Findings</a>\n",
    "14. <a href='#References'>References</a>"
   ]
  },
  {
   "cell_type": "markdown",
   "id": "d149bde3",
   "metadata": {},
   "source": [
    "<a id=\"introduction\"></a>\n",
    "# Introduction"
   ]
  },
  {
   "cell_type": "markdown",
   "id": "781dd6f8",
   "metadata": {},
   "source": [
    "Pairs Trading is a strategy I believe quantitative tools are well suited for.  \"A pairs trade is a trading strategy that involves matching a long position with a short position in two stocks with a high correlation.\" (Investopida.com 2023). In simple terms, you find two stocks whose prices show high level of correlation.  When they deviate from this correlation, you buy one stock and sell the other and wait for the prior level of correlation to revert to its mean.  If it does so, you will make a profit and vice versa.  Key to this strategy is identifying stocks whose prices  have a high level of correlation to each other - and which are likely to continue to have a high degree of correlation in the future.\n",
    "\n",
    "We can identify which pairs have historically shown a high level of correlation through by generating correlation statistics for every single combination of pairs possible and then select those which appear stronger than average.  However, the weakness of this approach is that some pairs will show high levels of correlation historically through randomness rather than fundamentals - and their correlation is thus less likely to persist into the future.  We thus need to identify factors which identify when a high correlation is likely to be due to fundamentals if we want to increase the chance of that correlation persisting.  This assignment will assess whether stocks being members of the same sector are such a factor.  That is, if two companies are in the same sector (industry) are their prices more likely to be correlated  than the prices of two random companies (likely to be in different industries).\n",
    "\n",
    "*Sample Required*\n",
    "\n",
    "With enough computing power it would be technically possible to generate a list of pairs of using a population of every  single share listed on specified stock exchanges.  However, given the memory and processing constrainsts of the Ed environment we need to quite strictly limit our sample size.  For this reason we have started with 100 stocks from the S&P500 and 15 shares from the ASX.  From that we have then selected a sample of 4000 random pairs generated from that population.  We have set both the 100 S&P500 members and the number of random pairs as an input that could be changed if desired.\n",
    "\n",
    "*Only a First Step*\n",
    "\n",
    "This assignment is not a comprehensive test of using a stock's sector or industry as a selection factor for a pairs trading strategy - ***it is only a first step***.  It is identifying if sector appears to be a factor worth assessing further.  Further assessement would include steps such as:\n",
    "* Analysing the pairs over multiple time periods;\n",
    "* Increasing the same size;\n",
    "* Testing not only if historical correlation of pairs in the same industry is stronger than a random benchmark, but also if that persists on a forward basis.\n",
    "\n",
    "*Approach*\n",
    "\n",
    "Our approach for this first step is to first analyse if using sector as a factor is practical in the first place:\n",
    "* How many different sectors are there?\n",
    "* What is the distribution across sectors?\n",
    "* Do we have have enough pairs within our data to perform a meaningful test?\n",
    "\n",
    "We then to analyse the correlation of the pairs generated to form our conclusions from this first step."
   ]
  },
  {
   "cell_type": "markdown",
   "id": "5908aaf9",
   "metadata": {},
   "source": [
    "<a id=\"Questions\"></a>\n",
    "# Questions"
   ]
  },
  {
   "cell_type": "markdown",
   "id": "b3c9c004",
   "metadata": {},
   "source": [
    "1. Given a sample of 115 diferent stocks:\n",
    "    * How many different pairs are possible to analyze\n",
    "    * How many different pairs within the same industry are possible to analyze and compare to the 'total' universe of stocks\n",
    "\n",
    "2. What is the break down by industry of the sample set of companies taken from the S&P500.\n",
    "\n",
    "3. What is the overall correlation profile of the pairs within the sample?  \n",
    "\n",
    "4. Are pairs in the same industry more closely correlated in their price movements than random pairs?\n",
    "\n",
    "5. Do pairs in some industries show better correlation than others?\n",
    "\n",
    "6. If there is a difference in correlation across industries, are there any apparent reasons for this or additional steps that could be taken to try and determine those?"
   ]
  },
  {
   "cell_type": "markdown",
   "id": "e865cefa",
   "metadata": {},
   "source": [
    "<a id=\"Data_Sources\"></a>\n",
    "# Data Sources"
   ]
  },
  {
   "cell_type": "markdown",
   "id": "6328d38b",
   "metadata": {},
   "source": [
    "This project uses the following data sets the information contained within are publicly available:\n",
    "\n",
    "1. sp500_info.csv: \n",
    "    * S&P 500 component stocks including their symbol and sector name, and sub sector name <br>\n",
    "    (Wikipedia 2023)  \n",
    "    \n",
    "2. asx_15_info.csv: \n",
    "    * Top 20 Shares by Value for the ASX <br>\n",
    "    (ASX 2023)  \n",
    "      \n",
    "3. prices_shares.csv: <br>\n",
    "    * 12 Months Historical Data for 100 S&P500 shares and 15 ASX shares (in their local currency): <br>\n",
    "    (Aroussi, 2023; Yahoo Finance, 2023)  \n",
    "        \n",
    "4. prices_fx.csv: \n",
    "    * 12 Months Historical Data for a basket of currencies: <br>\n",
    "    (Aroussi, 2023; Yahoo Finance, 2023)\n",
    "    "
   ]
  },
  {
   "cell_type": "markdown",
   "id": "d79c2bd5",
   "metadata": {},
   "source": [
    "<a id=\"Libraries\"></a>\n",
    "# Import Required Libraries"
   ]
  },
  {
   "cell_type": "code",
   "execution_count": 1,
   "id": "f7cb2193",
   "metadata": {},
   "outputs": [],
   "source": [
    "import yfinance as yf\n",
    "import numpy as np\n",
    "import pandas as pd\n",
    "\n",
    "from datetime import datetime, timedelta\n",
    "\n",
    "import itertools\n",
    "\n",
    "from random import sample\n",
    "\n",
    "import matplotlib.pyplot as plt\n",
    "import seaborn as sns"
   ]
  },
  {
   "cell_type": "markdown",
   "id": "d9d21196",
   "metadata": {},
   "source": [
    "<a id=\"Inputs\"></a>\n",
    "# Set Inputs"
   ]
  },
  {
   "cell_type": "code",
   "execution_count": 2,
   "id": "b72ac8cb",
   "metadata": {},
   "outputs": [],
   "source": [
    "# Target Input Files\n",
    "STOCK_PRICES_FNAME = \"prices_shares.csv\"\n",
    "FX_PRICES_FNAME = \"prices_fx.csv\"\n",
    "SP500_MEMBERS_FNAME = \"sp500_info.csv\"\n",
    "ASX_MEMBERS_FNAME = \"asx_15_info.csv\""
   ]
  },
  {
   "cell_type": "code",
   "execution_count": 3,
   "id": "89c963e7",
   "metadata": {},
   "outputs": [],
   "source": [
    "# Instead of choosing all 500 names from the S&P500, pick a selection to reduce the file sizes\n",
    "SP500_SAMPLE_SIZE = 100"
   ]
  },
  {
   "cell_type": "code",
   "execution_count": 4,
   "id": "0d08ac0f",
   "metadata": {},
   "outputs": [],
   "source": [
    "# From our list of all generated pairs, select a random sample to reduce processing requiremens\n",
    "RDM_SAMPLE_SIZE = 4000"
   ]
  },
  {
   "cell_type": "markdown",
   "id": "45e34114",
   "metadata": {},
   "source": [
    "<a id=\"Names\"></a>\n",
    "# Obtain SP500 and ASX Names and Details"
   ]
  },
  {
   "cell_type": "markdown",
   "id": "26b0c185",
   "metadata": {},
   "source": [
    "##  Obtain Names in SP500"
   ]
  },
  {
   "cell_type": "code",
   "execution_count": 5,
   "id": "8cc59efe",
   "metadata": {},
   "outputs": [
    {
     "data": {
      "text/html": [
       "<div>\n",
       "<style scoped>\n",
       "    .dataframe tbody tr th:only-of-type {\n",
       "        vertical-align: middle;\n",
       "    }\n",
       "\n",
       "    .dataframe tbody tr th {\n",
       "        vertical-align: top;\n",
       "    }\n",
       "\n",
       "    .dataframe thead th {\n",
       "        text-align: right;\n",
       "    }\n",
       "</style>\n",
       "<table border=\"1\" class=\"dataframe\">\n",
       "  <thead>\n",
       "    <tr style=\"text-align: right;\">\n",
       "      <th></th>\n",
       "      <th>Symbol</th>\n",
       "      <th>Security</th>\n",
       "      <th>GICS Sector</th>\n",
       "      <th>GICS Sub-Industry</th>\n",
       "      <th>Headquarters Location</th>\n",
       "      <th>Date added</th>\n",
       "      <th>CIK</th>\n",
       "      <th>Founded</th>\n",
       "    </tr>\n",
       "  </thead>\n",
       "  <tbody>\n",
       "    <tr>\n",
       "      <th>0</th>\n",
       "      <td>MMM</td>\n",
       "      <td>3M</td>\n",
       "      <td>Industrials</td>\n",
       "      <td>Industrial Conglomerates</td>\n",
       "      <td>Saint Paul, Minnesota</td>\n",
       "      <td>1957-03-04</td>\n",
       "      <td>66740</td>\n",
       "      <td>1902</td>\n",
       "    </tr>\n",
       "    <tr>\n",
       "      <th>1</th>\n",
       "      <td>AOS</td>\n",
       "      <td>A. O. Smith</td>\n",
       "      <td>Industrials</td>\n",
       "      <td>Building Products</td>\n",
       "      <td>Milwaukee, Wisconsin</td>\n",
       "      <td>2017-07-26</td>\n",
       "      <td>4343243243432434</td>\n",
       "      <td>1916</td>\n",
       "    </tr>\n",
       "    <tr>\n",
       "      <th>2</th>\n",
       "      <td>ABT</td>\n",
       "      <td>Abbott</td>\n",
       "      <td>Health Care</td>\n",
       "      <td>Health Care Equipment</td>\n",
       "      <td>North Chicago, Illinois</td>\n",
       "      <td>1957-03-04</td>\n",
       "      <td>1800</td>\n",
       "      <td>1888</td>\n",
       "    </tr>\n",
       "    <tr>\n",
       "      <th>3</th>\n",
       "      <td>ABBV</td>\n",
       "      <td>AbbVie</td>\n",
       "      <td>Health Care</td>\n",
       "      <td>Pharmaceuticals</td>\n",
       "      <td>North Chicago, Illinois</td>\n",
       "      <td>2012-12-31</td>\n",
       "      <td>1551152</td>\n",
       "      <td>2013 (1888)</td>\n",
       "    </tr>\n",
       "    <tr>\n",
       "      <th>4</th>\n",
       "      <td>ACN</td>\n",
       "      <td>Accenture</td>\n",
       "      <td>Information Technology</td>\n",
       "      <td>IT Consulting &amp; Other Services</td>\n",
       "      <td>Dublin, Ireland</td>\n",
       "      <td>2011-07-06</td>\n",
       "      <td>1467373</td>\n",
       "      <td>1989</td>\n",
       "    </tr>\n",
       "    <tr>\n",
       "      <th>...</th>\n",
       "      <td>...</td>\n",
       "      <td>...</td>\n",
       "      <td>...</td>\n",
       "      <td>...</td>\n",
       "      <td>...</td>\n",
       "      <td>...</td>\n",
       "      <td>...</td>\n",
       "      <td>...</td>\n",
       "    </tr>\n",
       "    <tr>\n",
       "      <th>498</th>\n",
       "      <td>YUM</td>\n",
       "      <td>Yum! Brands</td>\n",
       "      <td>Consumer Discretionary</td>\n",
       "      <td>Restaurants</td>\n",
       "      <td>Louisville, Kentucky</td>\n",
       "      <td>1997-10-06</td>\n",
       "      <td>1041061</td>\n",
       "      <td>1997</td>\n",
       "    </tr>\n",
       "    <tr>\n",
       "      <th>499</th>\n",
       "      <td>ZBRA</td>\n",
       "      <td>Zebra Technologies</td>\n",
       "      <td>Information Technology</td>\n",
       "      <td>Electronic Equipment &amp; Instruments</td>\n",
       "      <td>Lincolnshire, Illinois</td>\n",
       "      <td>2019-12-23</td>\n",
       "      <td>877212</td>\n",
       "      <td>1969</td>\n",
       "    </tr>\n",
       "    <tr>\n",
       "      <th>500</th>\n",
       "      <td>ZBH</td>\n",
       "      <td>Zimmer Biomet</td>\n",
       "      <td>Health Care</td>\n",
       "      <td>Health Care Equipment</td>\n",
       "      <td>Warsaw, Indiana</td>\n",
       "      <td>2001-08-07</td>\n",
       "      <td>1136869</td>\n",
       "      <td>1927</td>\n",
       "    </tr>\n",
       "    <tr>\n",
       "      <th>501</th>\n",
       "      <td>ZION</td>\n",
       "      <td>Zions Bancorporation</td>\n",
       "      <td>Financials</td>\n",
       "      <td>Regional Banks</td>\n",
       "      <td>Salt Lake City, Utah</td>\n",
       "      <td>2001-06-22</td>\n",
       "      <td>109380</td>\n",
       "      <td>1873</td>\n",
       "    </tr>\n",
       "    <tr>\n",
       "      <th>502</th>\n",
       "      <td>ZTS</td>\n",
       "      <td>Zoetis</td>\n",
       "      <td>Health Care</td>\n",
       "      <td>Pharmaceuticals</td>\n",
       "      <td>Parsippany, New Jersey</td>\n",
       "      <td>2013-06-21</td>\n",
       "      <td>1555280</td>\n",
       "      <td>1952</td>\n",
       "    </tr>\n",
       "  </tbody>\n",
       "</table>\n",
       "<p>503 rows × 8 columns</p>\n",
       "</div>"
      ],
      "text/plain": [
       "    Symbol              Security             GICS Sector  \\\n",
       "0      MMM                    3M             Industrials   \n",
       "1      AOS           A. O. Smith             Industrials   \n",
       "2      ABT                Abbott             Health Care   \n",
       "3     ABBV                AbbVie             Health Care   \n",
       "4      ACN             Accenture  Information Technology   \n",
       "..     ...                   ...                     ...   \n",
       "498    YUM           Yum! Brands  Consumer Discretionary   \n",
       "499   ZBRA    Zebra Technologies  Information Technology   \n",
       "500    ZBH         Zimmer Biomet             Health Care   \n",
       "501   ZION  Zions Bancorporation              Financials   \n",
       "502    ZTS                Zoetis             Health Care   \n",
       "\n",
       "                      GICS Sub-Industry    Headquarters Location  Date added  \\\n",
       "0              Industrial Conglomerates    Saint Paul, Minnesota  1957-03-04   \n",
       "1                     Building Products     Milwaukee, Wisconsin  2017-07-26   \n",
       "2                 Health Care Equipment  North Chicago, Illinois  1957-03-04   \n",
       "3                       Pharmaceuticals  North Chicago, Illinois  2012-12-31   \n",
       "4        IT Consulting & Other Services          Dublin, Ireland  2011-07-06   \n",
       "..                                  ...                      ...         ...   \n",
       "498                         Restaurants     Louisville, Kentucky  1997-10-06   \n",
       "499  Electronic Equipment & Instruments   Lincolnshire, Illinois  2019-12-23   \n",
       "500               Health Care Equipment          Warsaw, Indiana  2001-08-07   \n",
       "501                      Regional Banks     Salt Lake City, Utah  2001-06-22   \n",
       "502                     Pharmaceuticals   Parsippany, New Jersey  2013-06-21   \n",
       "\n",
       "                  CIK      Founded  \n",
       "0               66740         1902  \n",
       "1    4343243243432434         1916  \n",
       "2                1800         1888  \n",
       "3             1551152  2013 (1888)  \n",
       "4             1467373         1989  \n",
       "..                ...          ...  \n",
       "498           1041061         1997  \n",
       "499            877212         1969  \n",
       "500           1136869         1927  \n",
       "501            109380         1873  \n",
       "502           1555280         1952  \n",
       "\n",
       "[503 rows x 8 columns]"
      ]
     },
     "execution_count": 5,
     "metadata": {},
     "output_type": "execute_result"
    }
   ],
   "source": [
    "#Read the csv file that contains the S&P component information.\n",
    "sp500_info_df = pd.read_csv(SP500_MEMBERS_FNAME)\n",
    "sp500_info_df"
   ]
  },
  {
   "cell_type": "code",
   "execution_count": 6,
   "id": "756cc4a1",
   "metadata": {},
   "outputs": [],
   "source": [
    "# Trim the number of S&P500 members we are going to review given processing constraints\n",
    "sp500_info_df = sp500_info_df[:SP500_SAMPLE_SIZE].copy()"
   ]
  },
  {
   "cell_type": "markdown",
   "id": "c047e40d",
   "metadata": {},
   "source": [
    "Review the number of members to check that it equals the input constant SP500_SAMPLE_SIZE and also that there are no duplicate symbols"
   ]
  },
  {
   "cell_type": "code",
   "execution_count": 7,
   "id": "532b593d",
   "metadata": {},
   "outputs": [
    {
     "name": "stdout",
     "output_type": "stream",
     "text": [
      "100 100 100\n"
     ]
    }
   ],
   "source": [
    "print(SP500_SAMPLE_SIZE, sp500_info_df['Symbol'].count(),len(sp500_info_df['Symbol'].unique()))"
   ]
  },
  {
   "cell_type": "markdown",
   "id": "2fc67d4c",
   "metadata": {},
   "source": [
    "<span style=\"color:green\">&#x2705;</span>"
   ]
  },
  {
   "cell_type": "markdown",
   "id": "dd416408",
   "metadata": {},
   "source": [
    "## Data Formatting for S&P500 Names"
   ]
  },
  {
   "cell_type": "markdown",
   "id": "244d5daf",
   "metadata": {},
   "source": [
    "Check for any periods in the stock names for US listed stocks (which includes all our S&P500 members).  Yahoo Finance, which is where we download the prices from, uses the convention that A shares and B shares utilize dashes in their names instead of periods."
   ]
  },
  {
   "cell_type": "code",
   "execution_count": 8,
   "id": "95180de9",
   "metadata": {},
   "outputs": [
    {
     "data": {
      "text/html": [
       "<div>\n",
       "<style scoped>\n",
       "    .dataframe tbody tr th:only-of-type {\n",
       "        vertical-align: middle;\n",
       "    }\n",
       "\n",
       "    .dataframe tbody tr th {\n",
       "        vertical-align: top;\n",
       "    }\n",
       "\n",
       "    .dataframe thead th {\n",
       "        text-align: right;\n",
       "    }\n",
       "</style>\n",
       "<table border=\"1\" class=\"dataframe\">\n",
       "  <thead>\n",
       "    <tr style=\"text-align: right;\">\n",
       "      <th></th>\n",
       "      <th>Symbol</th>\n",
       "      <th>Security</th>\n",
       "      <th>GICS Sector</th>\n",
       "      <th>GICS Sub-Industry</th>\n",
       "      <th>Headquarters Location</th>\n",
       "      <th>Date added</th>\n",
       "      <th>CIK</th>\n",
       "      <th>Founded</th>\n",
       "    </tr>\n",
       "  </thead>\n",
       "  <tbody>\n",
       "    <tr>\n",
       "      <th>65</th>\n",
       "      <td>BRK.B</td>\n",
       "      <td>Berkshire Hathaway</td>\n",
       "      <td>Financials</td>\n",
       "      <td>Multi-Sector Holdings</td>\n",
       "      <td>Omaha, Nebraska</td>\n",
       "      <td>2010-02-16</td>\n",
       "      <td>1067983</td>\n",
       "      <td>1839</td>\n",
       "    </tr>\n",
       "    <tr>\n",
       "      <th>81</th>\n",
       "      <td>BF.B</td>\n",
       "      <td>Brown–Forman</td>\n",
       "      <td>Consumer Staples</td>\n",
       "      <td>Distillers &amp; Vintners</td>\n",
       "      <td>Louisville, Kentucky</td>\n",
       "      <td>1982-10-31</td>\n",
       "      <td>14693</td>\n",
       "      <td>1870</td>\n",
       "    </tr>\n",
       "  </tbody>\n",
       "</table>\n",
       "</div>"
      ],
      "text/plain": [
       "   Symbol            Security       GICS Sector      GICS Sub-Industry  \\\n",
       "65  BRK.B  Berkshire Hathaway        Financials  Multi-Sector Holdings   \n",
       "81   BF.B        Brown–Forman  Consumer Staples  Distillers & Vintners   \n",
       "\n",
       "   Headquarters Location  Date added      CIK Founded  \n",
       "65       Omaha, Nebraska  2010-02-16  1067983    1839  \n",
       "81  Louisville, Kentucky  1982-10-31    14693    1870  "
      ]
     },
     "execution_count": 8,
     "metadata": {},
     "output_type": "execute_result"
    }
   ],
   "source": [
    "sp500_info_df[sp500_info_df['Symbol'].str.contains(\".\", regex=False)]"
   ]
  },
  {
   "cell_type": "code",
   "execution_count": 9,
   "id": "e3c27668",
   "metadata": {},
   "outputs": [
    {
     "data": {
      "text/html": [
       "<div>\n",
       "<style scoped>\n",
       "    .dataframe tbody tr th:only-of-type {\n",
       "        vertical-align: middle;\n",
       "    }\n",
       "\n",
       "    .dataframe tbody tr th {\n",
       "        vertical-align: top;\n",
       "    }\n",
       "\n",
       "    .dataframe thead th {\n",
       "        text-align: right;\n",
       "    }\n",
       "</style>\n",
       "<table border=\"1\" class=\"dataframe\">\n",
       "  <thead>\n",
       "    <tr style=\"text-align: right;\">\n",
       "      <th></th>\n",
       "      <th>Symbol</th>\n",
       "      <th>Security</th>\n",
       "      <th>GICS Sector</th>\n",
       "      <th>GICS Sub-Industry</th>\n",
       "      <th>Headquarters Location</th>\n",
       "      <th>Date added</th>\n",
       "      <th>CIK</th>\n",
       "      <th>Founded</th>\n",
       "    </tr>\n",
       "  </thead>\n",
       "  <tbody>\n",
       "  </tbody>\n",
       "</table>\n",
       "</div>"
      ],
      "text/plain": [
       "Empty DataFrame\n",
       "Columns: [Symbol, Security, GICS Sector, GICS Sub-Industry, Headquarters Location, Date added, CIK, Founded]\n",
       "Index: []"
      ]
     },
     "execution_count": 9,
     "metadata": {},
     "output_type": "execute_result"
    }
   ],
   "source": [
    "# We need to replace periods with dashs within the Symbol columns for S&P500 related names as per Yahoo Finance convention\n",
    "sp500_info_df['Symbol'] = sp500_info_df['Symbol'].str.replace(\".\", \"-\", regex=False)\n",
    "\n",
    "# Check to ensure this was successful\n",
    "sp500_info_df[sp500_info_df['Symbol'].str.contains(\".\", regex=False)]"
   ]
  },
  {
   "cell_type": "markdown",
   "id": "5d8ad570",
   "metadata": {},
   "source": [
    "<span style=\"color:green\">&#x2705;</span>"
   ]
  },
  {
   "cell_type": "markdown",
   "id": "7b6833e3",
   "metadata": {},
   "source": [
    "## Obtain Names in ASX"
   ]
  },
  {
   "cell_type": "code",
   "execution_count": 10,
   "id": "d11afe87",
   "metadata": {},
   "outputs": [
    {
     "data": {
      "text/html": [
       "<div>\n",
       "<style scoped>\n",
       "    .dataframe tbody tr th:only-of-type {\n",
       "        vertical-align: middle;\n",
       "    }\n",
       "\n",
       "    .dataframe tbody tr th {\n",
       "        vertical-align: top;\n",
       "    }\n",
       "\n",
       "    .dataframe thead th {\n",
       "        text-align: right;\n",
       "    }\n",
       "</style>\n",
       "<table border=\"1\" class=\"dataframe\">\n",
       "  <thead>\n",
       "    <tr style=\"text-align: right;\">\n",
       "      <th></th>\n",
       "      <th>Symbol</th>\n",
       "      <th>Security</th>\n",
       "      <th>GICS Sector</th>\n",
       "    </tr>\n",
       "  </thead>\n",
       "  <tbody>\n",
       "    <tr>\n",
       "      <th>0</th>\n",
       "      <td>BHP.AX</td>\n",
       "      <td>BHP GROUP</td>\n",
       "      <td>Materials</td>\n",
       "    </tr>\n",
       "    <tr>\n",
       "      <th>1</th>\n",
       "      <td>FMG.AX</td>\n",
       "      <td>FORTESCUE</td>\n",
       "      <td>Materials</td>\n",
       "    </tr>\n",
       "    <tr>\n",
       "      <th>2</th>\n",
       "      <td>MQG.AX</td>\n",
       "      <td>MACQUARIE GROUP</td>\n",
       "      <td>Financials</td>\n",
       "    </tr>\n",
       "    <tr>\n",
       "      <th>3</th>\n",
       "      <td>CBA.AX</td>\n",
       "      <td>COMMONWEATH BANK</td>\n",
       "      <td>Financials</td>\n",
       "    </tr>\n",
       "    <tr>\n",
       "      <th>4</th>\n",
       "      <td>RIO.AX</td>\n",
       "      <td>RIO TINTO</td>\n",
       "      <td>Materials</td>\n",
       "    </tr>\n",
       "    <tr>\n",
       "      <th>5</th>\n",
       "      <td>CSL.AX</td>\n",
       "      <td>CSL</td>\n",
       "      <td>Health Care</td>\n",
       "    </tr>\n",
       "    <tr>\n",
       "      <th>6</th>\n",
       "      <td>WDS.AX</td>\n",
       "      <td>WOODSIDE</td>\n",
       "      <td>Energy</td>\n",
       "    </tr>\n",
       "    <tr>\n",
       "      <th>7</th>\n",
       "      <td>ANZ.AX</td>\n",
       "      <td>ANZ GROUP</td>\n",
       "      <td>Financials</td>\n",
       "    </tr>\n",
       "    <tr>\n",
       "      <th>8</th>\n",
       "      <td>PLS.AX</td>\n",
       "      <td>PILBARAMIN</td>\n",
       "      <td>Materials</td>\n",
       "    </tr>\n",
       "    <tr>\n",
       "      <th>9</th>\n",
       "      <td>NAB.AX</td>\n",
       "      <td>NATIONAL AUSTRALIA BANK</td>\n",
       "      <td>Financials</td>\n",
       "    </tr>\n",
       "    <tr>\n",
       "      <th>10</th>\n",
       "      <td>WBC.AX</td>\n",
       "      <td>WESTPAC</td>\n",
       "      <td>Financials</td>\n",
       "    </tr>\n",
       "    <tr>\n",
       "      <th>11</th>\n",
       "      <td>RMD.AX</td>\n",
       "      <td>RESMED</td>\n",
       "      <td>Health Care</td>\n",
       "    </tr>\n",
       "    <tr>\n",
       "      <th>12</th>\n",
       "      <td>NCM.AX</td>\n",
       "      <td>NEWCREST</td>\n",
       "      <td>Materials</td>\n",
       "    </tr>\n",
       "    <tr>\n",
       "      <th>13</th>\n",
       "      <td>NST.AX</td>\n",
       "      <td>NTH STAR</td>\n",
       "      <td>Materials</td>\n",
       "    </tr>\n",
       "    <tr>\n",
       "      <th>14</th>\n",
       "      <td>GMG.AX</td>\n",
       "      <td>GOODMAN GROUP</td>\n",
       "      <td>Real Estate</td>\n",
       "    </tr>\n",
       "  </tbody>\n",
       "</table>\n",
       "</div>"
      ],
      "text/plain": [
       "    Symbol                 Security  GICS Sector\n",
       "0   BHP.AX                BHP GROUP    Materials\n",
       "1   FMG.AX                FORTESCUE    Materials\n",
       "2   MQG.AX          MACQUARIE GROUP   Financials\n",
       "3   CBA.AX         COMMONWEATH BANK   Financials\n",
       "4   RIO.AX                RIO TINTO    Materials\n",
       "5   CSL.AX                      CSL  Health Care\n",
       "6   WDS.AX                 WOODSIDE       Energy\n",
       "7   ANZ.AX                ANZ GROUP   Financials\n",
       "8   PLS.AX               PILBARAMIN    Materials\n",
       "9   NAB.AX  NATIONAL AUSTRALIA BANK   Financials\n",
       "10  WBC.AX                 WESTPAC    Financials\n",
       "11  RMD.AX                   RESMED  Health Care\n",
       "12  NCM.AX                 NEWCREST    Materials\n",
       "13  NST.AX                 NTH STAR    Materials\n",
       "14  GMG.AX            GOODMAN GROUP  Real Estate"
      ]
     },
     "execution_count": 10,
     "metadata": {},
     "output_type": "execute_result"
    }
   ],
   "source": [
    "asx_info_df = pd.read_csv(ASX_MEMBERS_FNAME)\n",
    "asx_info_df"
   ]
  },
  {
   "cell_type": "markdown",
   "id": "ed4283b7",
   "metadata": {},
   "source": [
    "## Merge ASX and S&P500 Names "
   ]
  },
  {
   "cell_type": "code",
   "execution_count": 11,
   "id": "aaec244d",
   "metadata": {},
   "outputs": [
    {
     "data": {
      "text/html": [
       "<div>\n",
       "<style scoped>\n",
       "    .dataframe tbody tr th:only-of-type {\n",
       "        vertical-align: middle;\n",
       "    }\n",
       "\n",
       "    .dataframe tbody tr th {\n",
       "        vertical-align: top;\n",
       "    }\n",
       "\n",
       "    .dataframe thead th {\n",
       "        text-align: right;\n",
       "    }\n",
       "</style>\n",
       "<table border=\"1\" class=\"dataframe\">\n",
       "  <thead>\n",
       "    <tr style=\"text-align: right;\">\n",
       "      <th></th>\n",
       "      <th>Symbol</th>\n",
       "      <th>Security</th>\n",
       "      <th>GICS Sector</th>\n",
       "    </tr>\n",
       "  </thead>\n",
       "  <tbody>\n",
       "    <tr>\n",
       "      <th>0</th>\n",
       "      <td>BHP.AX</td>\n",
       "      <td>BHP GROUP</td>\n",
       "      <td>Materials</td>\n",
       "    </tr>\n",
       "    <tr>\n",
       "      <th>1</th>\n",
       "      <td>FMG.AX</td>\n",
       "      <td>FORTESCUE</td>\n",
       "      <td>Materials</td>\n",
       "    </tr>\n",
       "    <tr>\n",
       "      <th>2</th>\n",
       "      <td>MQG.AX</td>\n",
       "      <td>MACQUARIE GROUP</td>\n",
       "      <td>Financials</td>\n",
       "    </tr>\n",
       "    <tr>\n",
       "      <th>3</th>\n",
       "      <td>CBA.AX</td>\n",
       "      <td>COMMONWEATH BANK</td>\n",
       "      <td>Financials</td>\n",
       "    </tr>\n",
       "    <tr>\n",
       "      <th>4</th>\n",
       "      <td>RIO.AX</td>\n",
       "      <td>RIO TINTO</td>\n",
       "      <td>Materials</td>\n",
       "    </tr>\n",
       "    <tr>\n",
       "      <th>...</th>\n",
       "      <td>...</td>\n",
       "      <td>...</td>\n",
       "      <td>...</td>\n",
       "    </tr>\n",
       "    <tr>\n",
       "      <th>95</th>\n",
       "      <td>CBOE</td>\n",
       "      <td>Cboe Global Markets</td>\n",
       "      <td>Financials</td>\n",
       "    </tr>\n",
       "    <tr>\n",
       "      <th>96</th>\n",
       "      <td>CBRE</td>\n",
       "      <td>CBRE Group</td>\n",
       "      <td>Real Estate</td>\n",
       "    </tr>\n",
       "    <tr>\n",
       "      <th>97</th>\n",
       "      <td>CDW</td>\n",
       "      <td>CDW</td>\n",
       "      <td>Information Technology</td>\n",
       "    </tr>\n",
       "    <tr>\n",
       "      <th>98</th>\n",
       "      <td>CE</td>\n",
       "      <td>Celanese</td>\n",
       "      <td>Materials</td>\n",
       "    </tr>\n",
       "    <tr>\n",
       "      <th>99</th>\n",
       "      <td>CNC</td>\n",
       "      <td>Centene Corporation</td>\n",
       "      <td>Health Care</td>\n",
       "    </tr>\n",
       "  </tbody>\n",
       "</table>\n",
       "<p>115 rows × 3 columns</p>\n",
       "</div>"
      ],
      "text/plain": [
       "    Symbol             Security             GICS Sector\n",
       "0   BHP.AX            BHP GROUP               Materials\n",
       "1   FMG.AX            FORTESCUE               Materials\n",
       "2   MQG.AX      MACQUARIE GROUP              Financials\n",
       "3   CBA.AX     COMMONWEATH BANK              Financials\n",
       "4   RIO.AX            RIO TINTO               Materials\n",
       "..     ...                  ...                     ...\n",
       "95    CBOE  Cboe Global Markets              Financials\n",
       "96    CBRE           CBRE Group             Real Estate\n",
       "97     CDW                  CDW  Information Technology\n",
       "98      CE             Celanese               Materials\n",
       "99     CNC  Centene Corporation             Health Care\n",
       "\n",
       "[115 rows x 3 columns]"
      ]
     },
     "execution_count": 11,
     "metadata": {},
     "output_type": "execute_result"
    }
   ],
   "source": [
    "all_stocks_info_df = pd.concat([asx_info_df, sp500_info_df[['Symbol', 'Security', 'GICS Sector']]])\n",
    "all_stocks_info_df                    "
   ]
  },
  {
   "cell_type": "markdown",
   "id": "053a6a6d",
   "metadata": {},
   "source": [
    "<a id=\"Prices\"></a>\n",
    "# Load prices for Shares and FX Rates"
   ]
  },
  {
   "cell_type": "code",
   "execution_count": 12,
   "id": "9cd462a7",
   "metadata": {},
   "outputs": [],
   "source": [
    "# Read the Daily Prices for the Stocks and FX Rates from their respective csv files\n",
    "stock_prices_df = pd.read_csv(STOCK_PRICES_FNAME)\n",
    "fx_prices_df = pd.read_csv(FX_PRICES_FNAME)"
   ]
  },
  {
   "cell_type": "markdown",
   "id": "0a8afa5f",
   "metadata": {},
   "source": [
    "## Review the Raw FX Data"
   ]
  },
  {
   "cell_type": "code",
   "execution_count": 13,
   "id": "7ca79a6b",
   "metadata": {},
   "outputs": [
    {
     "data": {
      "text/html": [
       "<div>\n",
       "<style scoped>\n",
       "    .dataframe tbody tr th:only-of-type {\n",
       "        vertical-align: middle;\n",
       "    }\n",
       "\n",
       "    .dataframe tbody tr th {\n",
       "        vertical-align: top;\n",
       "    }\n",
       "\n",
       "    .dataframe thead th {\n",
       "        text-align: right;\n",
       "    }\n",
       "</style>\n",
       "<table border=\"1\" class=\"dataframe\">\n",
       "  <thead>\n",
       "    <tr style=\"text-align: right;\">\n",
       "      <th></th>\n",
       "      <th>AUDUSD=X</th>\n",
       "      <th>HKDUSD=X</th>\n",
       "      <th>JPYUSD=X</th>\n",
       "      <th>SGDUSD=X</th>\n",
       "    </tr>\n",
       "  </thead>\n",
       "  <tbody>\n",
       "    <tr>\n",
       "      <th>count</th>\n",
       "      <td>260.000000</td>\n",
       "      <td>260.000000</td>\n",
       "      <td>260.000000</td>\n",
       "      <td>260.000000</td>\n",
       "    </tr>\n",
       "    <tr>\n",
       "      <th>mean</th>\n",
       "      <td>0.694923</td>\n",
       "      <td>0.127710</td>\n",
       "      <td>0.007655</td>\n",
       "      <td>0.725565</td>\n",
       "    </tr>\n",
       "    <tr>\n",
       "      <th>std</th>\n",
       "      <td>0.031395</td>\n",
       "      <td>0.000395</td>\n",
       "      <td>0.000632</td>\n",
       "      <td>0.013140</td>\n",
       "    </tr>\n",
       "    <tr>\n",
       "      <th>min</th>\n",
       "      <td>0.622394</td>\n",
       "      <td>0.127372</td>\n",
       "      <td>0.006659</td>\n",
       "      <td>0.695082</td>\n",
       "    </tr>\n",
       "    <tr>\n",
       "      <th>25%</th>\n",
       "      <td>0.674324</td>\n",
       "      <td>0.127400</td>\n",
       "      <td>0.007209</td>\n",
       "      <td>0.716651</td>\n",
       "    </tr>\n",
       "    <tr>\n",
       "      <th>50%</th>\n",
       "      <td>0.695210</td>\n",
       "      <td>0.127454</td>\n",
       "      <td>0.007463</td>\n",
       "      <td>0.726607</td>\n",
       "    </tr>\n",
       "    <tr>\n",
       "      <th>75%</th>\n",
       "      <td>0.718500</td>\n",
       "      <td>0.128068</td>\n",
       "      <td>0.008127</td>\n",
       "      <td>0.737178</td>\n",
       "    </tr>\n",
       "    <tr>\n",
       "      <th>max</th>\n",
       "      <td>0.758570</td>\n",
       "      <td>0.128718</td>\n",
       "      <td>0.008789</td>\n",
       "      <td>0.745379</td>\n",
       "    </tr>\n",
       "  </tbody>\n",
       "</table>\n",
       "</div>"
      ],
      "text/plain": [
       "         AUDUSD=X    HKDUSD=X    JPYUSD=X    SGDUSD=X\n",
       "count  260.000000  260.000000  260.000000  260.000000\n",
       "mean     0.694923    0.127710    0.007655    0.725565\n",
       "std      0.031395    0.000395    0.000632    0.013140\n",
       "min      0.622394    0.127372    0.006659    0.695082\n",
       "25%      0.674324    0.127400    0.007209    0.716651\n",
       "50%      0.695210    0.127454    0.007463    0.726607\n",
       "75%      0.718500    0.128068    0.008127    0.737178\n",
       "max      0.758570    0.128718    0.008789    0.745379"
      ]
     },
     "execution_count": 13,
     "metadata": {},
     "output_type": "execute_result"
    }
   ],
   "source": [
    "fx_prices_df.describe()"
   ]
  },
  {
   "cell_type": "markdown",
   "id": "fdda10a7",
   "metadata": {},
   "source": [
    "It quite difficult to analyze the JPY and HKD columns given they are inverted vs how they are conventionally displayed.\n",
    "\n",
    "Inverting them for reasonableness analysis:"
   ]
  },
  {
   "cell_type": "code",
   "execution_count": 14,
   "id": "b34d437d",
   "metadata": {},
   "outputs": [
    {
     "data": {
      "text/html": [
       "<div>\n",
       "<style scoped>\n",
       "    .dataframe tbody tr th:only-of-type {\n",
       "        vertical-align: middle;\n",
       "    }\n",
       "\n",
       "    .dataframe tbody tr th {\n",
       "        vertical-align: top;\n",
       "    }\n",
       "\n",
       "    .dataframe thead th {\n",
       "        text-align: right;\n",
       "    }\n",
       "</style>\n",
       "<table border=\"1\" class=\"dataframe\">\n",
       "  <thead>\n",
       "    <tr style=\"text-align: right;\">\n",
       "      <th></th>\n",
       "      <th>AUDUSD=X</th>\n",
       "      <th>HKDUSD=X</th>\n",
       "      <th>JPYUSD=X</th>\n",
       "      <th>SGDUSD=X</th>\n",
       "    </tr>\n",
       "  </thead>\n",
       "  <tbody>\n",
       "    <tr>\n",
       "      <th>count</th>\n",
       "      <td>260.000000</td>\n",
       "      <td>260.000000</td>\n",
       "      <td>260.000000</td>\n",
       "      <td>260.000000</td>\n",
       "    </tr>\n",
       "    <tr>\n",
       "      <th>mean</th>\n",
       "      <td>0.694923</td>\n",
       "      <td>7.830247</td>\n",
       "      <td>130.625851</td>\n",
       "      <td>0.725565</td>\n",
       "    </tr>\n",
       "    <tr>\n",
       "      <th>std</th>\n",
       "      <td>0.031395</td>\n",
       "      <td>0.000395</td>\n",
       "      <td>0.000632</td>\n",
       "      <td>0.013140</td>\n",
       "    </tr>\n",
       "    <tr>\n",
       "      <th>min</th>\n",
       "      <td>0.622394</td>\n",
       "      <td>7.851000</td>\n",
       "      <td>150.175992</td>\n",
       "      <td>0.695082</td>\n",
       "    </tr>\n",
       "    <tr>\n",
       "      <th>25%</th>\n",
       "      <td>0.674324</td>\n",
       "      <td>0.127400</td>\n",
       "      <td>0.007209</td>\n",
       "      <td>0.716651</td>\n",
       "    </tr>\n",
       "    <tr>\n",
       "      <th>50%</th>\n",
       "      <td>0.695210</td>\n",
       "      <td>0.127454</td>\n",
       "      <td>0.007463</td>\n",
       "      <td>0.726607</td>\n",
       "    </tr>\n",
       "    <tr>\n",
       "      <th>75%</th>\n",
       "      <td>0.718500</td>\n",
       "      <td>0.128068</td>\n",
       "      <td>0.008127</td>\n",
       "      <td>0.737178</td>\n",
       "    </tr>\n",
       "    <tr>\n",
       "      <th>max</th>\n",
       "      <td>0.758570</td>\n",
       "      <td>7.768900</td>\n",
       "      <td>113.785000</td>\n",
       "      <td>0.745379</td>\n",
       "    </tr>\n",
       "  </tbody>\n",
       "</table>\n",
       "</div>"
      ],
      "text/plain": [
       "         AUDUSD=X    HKDUSD=X    JPYUSD=X    SGDUSD=X\n",
       "count  260.000000  260.000000  260.000000  260.000000\n",
       "mean     0.694923    7.830247  130.625851    0.725565\n",
       "std      0.031395    0.000395    0.000632    0.013140\n",
       "min      0.622394    7.851000  150.175992    0.695082\n",
       "25%      0.674324    0.127400    0.007209    0.716651\n",
       "50%      0.695210    0.127454    0.007463    0.726607\n",
       "75%      0.718500    0.128068    0.008127    0.737178\n",
       "max      0.758570    7.768900  113.785000    0.745379"
      ]
     },
     "execution_count": 14,
     "metadata": {},
     "output_type": "execute_result"
    }
   ],
   "source": [
    "fx_summ = fx_prices_df.describe()\n",
    "# Invert FX Rate for display purposes for JPY and HKD to what is conventionally displayed\n",
    "fx_summ.loc[['mean', 'min', 'max'],['JPYUSD=X', 'HKDUSD=X']] \\\n",
    "            = 1 / fx_summ.loc[['mean', 'min', 'max'],['JPYUSD=X', 'HKDUSD=X']]\n",
    "fx_summ\n"
   ]
  },
  {
   "cell_type": "markdown",
   "id": "fa23befa",
   "metadata": {},
   "source": [
    "<p style=\"background-color:#AFE1AF;\">\n",
    "Min and max ranges as well as distributions seem in line with the known characteristics of the currencies.</p>"
   ]
  },
  {
   "cell_type": "markdown",
   "id": "b89747b0",
   "metadata": {},
   "source": [
    "<p style=\"background-color:#F88379;\">\n",
    "We do not have the same number of records for each currency.\n",
    "To fix this we will resample the data using the ffil() function when cleansing and formatting the data.</p>"
   ]
  },
  {
   "cell_type": "markdown",
   "id": "9e545450",
   "metadata": {},
   "source": [
    "&#10060;"
   ]
  },
  {
   "cell_type": "markdown",
   "id": "bf1e0751",
   "metadata": {},
   "source": [
    "## Cleanse/ Format FX Prices"
   ]
  },
  {
   "cell_type": "markdown",
   "id": "ab9740dd",
   "metadata": {},
   "source": [
    "Prior to doing the resampling and for later analysis it is better if we convert dates from being string values a column,  to Datetime values and also set them as the index."
   ]
  },
  {
   "cell_type": "code",
   "execution_count": 15,
   "id": "b354d6cc",
   "metadata": {},
   "outputs": [],
   "source": [
    "# Format the Date and set as the Index\n",
    "fx_prices_df['Date'] = pd.to_datetime(fx_prices_df['Date'], format = \"%Y-%m-%d\")\n",
    "fx_prices_df = fx_prices_df.set_index('Date', drop=True)"
   ]
  },
  {
   "cell_type": "markdown",
   "id": "3a559e39",
   "metadata": {},
   "source": [
    "Resample data to fill any missing values"
   ]
  },
  {
   "cell_type": "code",
   "execution_count": 16,
   "id": "6b01bf69",
   "metadata": {},
   "outputs": [],
   "source": [
    "# Forward Fill prices\n",
    "# Note: This will also give a price for the week-ends, but that will get dropped later when we merge with the share prices df\n",
    "fx_prices_df = fx_prices_df.resample('D').last().ffill()"
   ]
  },
  {
   "cell_type": "markdown",
   "id": "8ca9d5e0",
   "metadata": {},
   "source": [
    "Check the column counts to ensure they are now consistent"
   ]
  },
  {
   "cell_type": "code",
   "execution_count": 17,
   "id": "8e152c7c",
   "metadata": {},
   "outputs": [
    {
     "data": {
      "text/plain": [
       "AUDUSD=X    362.0\n",
       "HKDUSD=X    362.0\n",
       "JPYUSD=X    362.0\n",
       "SGDUSD=X    362.0\n",
       "Name: count, dtype: float64"
      ]
     },
     "execution_count": 17,
     "metadata": {},
     "output_type": "execute_result"
    }
   ],
   "source": [
    "fx_prices_df.describe().loc['count']"
   ]
  },
  {
   "cell_type": "markdown",
   "id": "333af8b1",
   "metadata": {},
   "source": [
    "&#x2705;"
   ]
  },
  {
   "cell_type": "markdown",
   "id": "f10ed620",
   "metadata": {},
   "source": [
    "Here is how our FX data now looks:"
   ]
  },
  {
   "cell_type": "code",
   "execution_count": 18,
   "id": "c2a3f848",
   "metadata": {},
   "outputs": [
    {
     "data": {
      "text/html": [
       "<div>\n",
       "<style scoped>\n",
       "    .dataframe tbody tr th:only-of-type {\n",
       "        vertical-align: middle;\n",
       "    }\n",
       "\n",
       "    .dataframe tbody tr th {\n",
       "        vertical-align: top;\n",
       "    }\n",
       "\n",
       "    .dataframe thead th {\n",
       "        text-align: right;\n",
       "    }\n",
       "</style>\n",
       "<table border=\"1\" class=\"dataframe\">\n",
       "  <thead>\n",
       "    <tr style=\"text-align: right;\">\n",
       "      <th></th>\n",
       "      <th>AUDUSD=X</th>\n",
       "      <th>HKDUSD=X</th>\n",
       "      <th>JPYUSD=X</th>\n",
       "      <th>SGDUSD=X</th>\n",
       "    </tr>\n",
       "    <tr>\n",
       "      <th>Date</th>\n",
       "      <th></th>\n",
       "      <th></th>\n",
       "      <th></th>\n",
       "      <th></th>\n",
       "    </tr>\n",
       "  </thead>\n",
       "  <tbody>\n",
       "    <tr>\n",
       "      <th>2022-01-03</th>\n",
       "      <td>0.726818</td>\n",
       "      <td>0.128272</td>\n",
       "      <td>0.008685</td>\n",
       "      <td>0.741730</td>\n",
       "    </tr>\n",
       "    <tr>\n",
       "      <th>2022-01-04</th>\n",
       "      <td>0.719800</td>\n",
       "      <td>0.128243</td>\n",
       "      <td>0.008671</td>\n",
       "      <td>0.739033</td>\n",
       "    </tr>\n",
       "    <tr>\n",
       "      <th>2022-01-05</th>\n",
       "      <td>0.723880</td>\n",
       "      <td>0.128312</td>\n",
       "      <td>0.008608</td>\n",
       "      <td>0.737621</td>\n",
       "    </tr>\n",
       "    <tr>\n",
       "      <th>2022-01-06</th>\n",
       "      <td>0.722080</td>\n",
       "      <td>0.128284</td>\n",
       "      <td>0.008611</td>\n",
       "      <td>0.736534</td>\n",
       "    </tr>\n",
       "    <tr>\n",
       "      <th>2022-01-07</th>\n",
       "      <td>0.716260</td>\n",
       "      <td>0.128195</td>\n",
       "      <td>0.008631</td>\n",
       "      <td>0.734786</td>\n",
       "    </tr>\n",
       "    <tr>\n",
       "      <th>...</th>\n",
       "      <td>...</td>\n",
       "      <td>...</td>\n",
       "      <td>...</td>\n",
       "      <td>...</td>\n",
       "    </tr>\n",
       "    <tr>\n",
       "      <th>2022-12-26</th>\n",
       "      <td>0.671249</td>\n",
       "      <td>0.128147</td>\n",
       "      <td>0.007531</td>\n",
       "      <td>0.739809</td>\n",
       "    </tr>\n",
       "    <tr>\n",
       "      <th>2022-12-27</th>\n",
       "      <td>0.674459</td>\n",
       "      <td>0.128121</td>\n",
       "      <td>0.007532</td>\n",
       "      <td>0.742501</td>\n",
       "    </tr>\n",
       "    <tr>\n",
       "      <th>2022-12-28</th>\n",
       "      <td>0.672993</td>\n",
       "      <td>0.128199</td>\n",
       "      <td>0.007491</td>\n",
       "      <td>0.742060</td>\n",
       "    </tr>\n",
       "    <tr>\n",
       "      <th>2022-12-29</th>\n",
       "      <td>0.674710</td>\n",
       "      <td>0.128307</td>\n",
       "      <td>0.007461</td>\n",
       "      <td>0.741158</td>\n",
       "    </tr>\n",
       "    <tr>\n",
       "      <th>2022-12-30</th>\n",
       "      <td>0.676600</td>\n",
       "      <td>0.128297</td>\n",
       "      <td>0.007524</td>\n",
       "      <td>0.744313</td>\n",
       "    </tr>\n",
       "  </tbody>\n",
       "</table>\n",
       "<p>362 rows × 4 columns</p>\n",
       "</div>"
      ],
      "text/plain": [
       "            AUDUSD=X  HKDUSD=X  JPYUSD=X  SGDUSD=X\n",
       "Date                                              \n",
       "2022-01-03  0.726818  0.128272  0.008685  0.741730\n",
       "2022-01-04  0.719800  0.128243  0.008671  0.739033\n",
       "2022-01-05  0.723880  0.128312  0.008608  0.737621\n",
       "2022-01-06  0.722080  0.128284  0.008611  0.736534\n",
       "2022-01-07  0.716260  0.128195  0.008631  0.734786\n",
       "...              ...       ...       ...       ...\n",
       "2022-12-26  0.671249  0.128147  0.007531  0.739809\n",
       "2022-12-27  0.674459  0.128121  0.007532  0.742501\n",
       "2022-12-28  0.672993  0.128199  0.007491  0.742060\n",
       "2022-12-29  0.674710  0.128307  0.007461  0.741158\n",
       "2022-12-30  0.676600  0.128297  0.007524  0.744313\n",
       "\n",
       "[362 rows x 4 columns]"
      ]
     },
     "execution_count": 18,
     "metadata": {},
     "output_type": "execute_result"
    }
   ],
   "source": [
    "fx_prices_df"
   ]
  },
  {
   "cell_type": "markdown",
   "id": "2cce0bff",
   "metadata": {},
   "source": [
    "&#x2705;"
   ]
  },
  {
   "cell_type": "markdown",
   "id": "1fccf238",
   "metadata": {},
   "source": [
    "## Review the Stock Price Data"
   ]
  },
  {
   "cell_type": "code",
   "execution_count": 19,
   "id": "2f538e4d",
   "metadata": {},
   "outputs": [
    {
     "data": {
      "text/html": [
       "<div>\n",
       "<style scoped>\n",
       "    .dataframe tbody tr th:only-of-type {\n",
       "        vertical-align: middle;\n",
       "    }\n",
       "\n",
       "    .dataframe tbody tr th {\n",
       "        vertical-align: top;\n",
       "    }\n",
       "\n",
       "    .dataframe thead th {\n",
       "        text-align: right;\n",
       "    }\n",
       "</style>\n",
       "<table border=\"1\" class=\"dataframe\">\n",
       "  <thead>\n",
       "    <tr style=\"text-align: right;\">\n",
       "      <th></th>\n",
       "      <th>Date</th>\n",
       "      <th>A</th>\n",
       "      <th>AAL</th>\n",
       "      <th>AAP</th>\n",
       "      <th>AAPL</th>\n",
       "      <th>ABBV</th>\n",
       "      <th>ABC</th>\n",
       "      <th>ABT</th>\n",
       "      <th>ACGL</th>\n",
       "      <th>ACN</th>\n",
       "      <th>...</th>\n",
       "      <th>NCM.AX</th>\n",
       "      <th>NST.AX</th>\n",
       "      <th>PLS.AX</th>\n",
       "      <th>RIO.AX</th>\n",
       "      <th>RMD.AX</th>\n",
       "      <th>T</th>\n",
       "      <th>TECH</th>\n",
       "      <th>WBC.AX</th>\n",
       "      <th>WDS.AX</th>\n",
       "      <th>WRB</th>\n",
       "    </tr>\n",
       "  </thead>\n",
       "  <tbody>\n",
       "    <tr>\n",
       "      <th>0</th>\n",
       "      <td>2022-01-03</td>\n",
       "      <td>154.908508</td>\n",
       "      <td>18.750000</td>\n",
       "      <td>224.928452</td>\n",
       "      <td>180.434311</td>\n",
       "      <td>126.534706</td>\n",
       "      <td>130.200043</td>\n",
       "      <td>134.805557</td>\n",
       "      <td>44.549999</td>\n",
       "      <td>397.086761</td>\n",
       "      <td>...</td>\n",
       "      <td>NaN</td>\n",
       "      <td>NaN</td>\n",
       "      <td>NaN</td>\n",
       "      <td>NaN</td>\n",
       "      <td>NaN</td>\n",
       "      <td>17.069723</td>\n",
       "      <td>121.268669</td>\n",
       "      <td>NaN</td>\n",
       "      <td>NaN</td>\n",
       "      <td>52.898167</td>\n",
       "    </tr>\n",
       "    <tr>\n",
       "      <th>1</th>\n",
       "      <td>2022-01-04</td>\n",
       "      <td>149.671646</td>\n",
       "      <td>19.020000</td>\n",
       "      <td>225.184921</td>\n",
       "      <td>178.144302</td>\n",
       "      <td>126.291786</td>\n",
       "      <td>128.963074</td>\n",
       "      <td>131.635162</td>\n",
       "      <td>45.130001</td>\n",
       "      <td>394.249115</td>\n",
       "      <td>...</td>\n",
       "      <td>23.705288</td>\n",
       "      <td>9.090141</td>\n",
       "      <td>3.428028</td>\n",
       "      <td>92.659813</td>\n",
       "      <td>35.888363</td>\n",
       "      <td>17.210688</td>\n",
       "      <td>116.353668</td>\n",
       "      <td>19.889442</td>\n",
       "      <td>19.334044</td>\n",
       "      <td>53.685848</td>\n",
       "    </tr>\n",
       "    <tr>\n",
       "      <th>2</th>\n",
       "      <td>2022-01-05</td>\n",
       "      <td>147.107651</td>\n",
       "      <td>18.680000</td>\n",
       "      <td>224.614975</td>\n",
       "      <td>173.405670</td>\n",
       "      <td>126.955170</td>\n",
       "      <td>130.082260</td>\n",
       "      <td>131.043747</td>\n",
       "      <td>44.599998</td>\n",
       "      <td>387.306091</td>\n",
       "      <td>...</td>\n",
       "      <td>24.005354</td>\n",
       "      <td>9.138391</td>\n",
       "      <td>3.486461</td>\n",
       "      <td>93.394104</td>\n",
       "      <td>34.698036</td>\n",
       "      <td>17.593298</td>\n",
       "      <td>108.077499</td>\n",
       "      <td>20.054728</td>\n",
       "      <td>19.419329</td>\n",
       "      <td>53.086952</td>\n",
       "    </tr>\n",
       "    <tr>\n",
       "      <th>3</th>\n",
       "      <td>2022-01-06</td>\n",
       "      <td>147.622437</td>\n",
       "      <td>18.570000</td>\n",
       "      <td>229.554672</td>\n",
       "      <td>170.510956</td>\n",
       "      <td>126.357178</td>\n",
       "      <td>128.069656</td>\n",
       "      <td>131.024323</td>\n",
       "      <td>44.860001</td>\n",
       "      <td>368.602905</td>\n",
       "      <td>...</td>\n",
       "      <td>23.260027</td>\n",
       "      <td>8.723448</td>\n",
       "      <td>3.311164</td>\n",
       "      <td>94.072624</td>\n",
       "      <td>33.368839</td>\n",
       "      <td>17.526175</td>\n",
       "      <td>106.041405</td>\n",
       "      <td>19.724155</td>\n",
       "      <td>18.941734</td>\n",
       "      <td>53.991798</td>\n",
       "    </tr>\n",
       "    <tr>\n",
       "      <th>4</th>\n",
       "      <td>2022-01-07</td>\n",
       "      <td>143.692291</td>\n",
       "      <td>19.280001</td>\n",
       "      <td>226.172867</td>\n",
       "      <td>170.679489</td>\n",
       "      <td>126.030144</td>\n",
       "      <td>130.690933</td>\n",
       "      <td>131.431549</td>\n",
       "      <td>45.070000</td>\n",
       "      <td>361.533112</td>\n",
       "      <td>...</td>\n",
       "      <td>23.260027</td>\n",
       "      <td>8.781346</td>\n",
       "      <td>3.408551</td>\n",
       "      <td>96.321960</td>\n",
       "      <td>33.616825</td>\n",
       "      <td>18.124920</td>\n",
       "      <td>103.242081</td>\n",
       "      <td>19.972084</td>\n",
       "      <td>19.359629</td>\n",
       "      <td>55.059402</td>\n",
       "    </tr>\n",
       "  </tbody>\n",
       "</table>\n",
       "<p>5 rows × 116 columns</p>\n",
       "</div>"
      ],
      "text/plain": [
       "         Date           A        AAL         AAP        AAPL        ABBV  \\\n",
       "0  2022-01-03  154.908508  18.750000  224.928452  180.434311  126.534706   \n",
       "1  2022-01-04  149.671646  19.020000  225.184921  178.144302  126.291786   \n",
       "2  2022-01-05  147.107651  18.680000  224.614975  173.405670  126.955170   \n",
       "3  2022-01-06  147.622437  18.570000  229.554672  170.510956  126.357178   \n",
       "4  2022-01-07  143.692291  19.280001  226.172867  170.679489  126.030144   \n",
       "\n",
       "          ABC         ABT       ACGL         ACN  ...     NCM.AX    NST.AX  \\\n",
       "0  130.200043  134.805557  44.549999  397.086761  ...        NaN       NaN   \n",
       "1  128.963074  131.635162  45.130001  394.249115  ...  23.705288  9.090141   \n",
       "2  130.082260  131.043747  44.599998  387.306091  ...  24.005354  9.138391   \n",
       "3  128.069656  131.024323  44.860001  368.602905  ...  23.260027  8.723448   \n",
       "4  130.690933  131.431549  45.070000  361.533112  ...  23.260027  8.781346   \n",
       "\n",
       "     PLS.AX     RIO.AX     RMD.AX          T        TECH     WBC.AX  \\\n",
       "0       NaN        NaN        NaN  17.069723  121.268669        NaN   \n",
       "1  3.428028  92.659813  35.888363  17.210688  116.353668  19.889442   \n",
       "2  3.486461  93.394104  34.698036  17.593298  108.077499  20.054728   \n",
       "3  3.311164  94.072624  33.368839  17.526175  106.041405  19.724155   \n",
       "4  3.408551  96.321960  33.616825  18.124920  103.242081  19.972084   \n",
       "\n",
       "      WDS.AX        WRB  \n",
       "0        NaN  52.898167  \n",
       "1  19.334044  53.685848  \n",
       "2  19.419329  53.086952  \n",
       "3  18.941734  53.991798  \n",
       "4  19.359629  55.059402  \n",
       "\n",
       "[5 rows x 116 columns]"
      ]
     },
     "execution_count": 19,
     "metadata": {},
     "output_type": "execute_result"
    }
   ],
   "source": [
    "stock_prices_df.head()"
   ]
  },
  {
   "cell_type": "markdown",
   "id": "c2447cde",
   "metadata": {},
   "source": [
    "**Lets Review the price values for reasonableness**"
   ]
  },
  {
   "cell_type": "code",
   "execution_count": 20,
   "id": "9ff705cd",
   "metadata": {},
   "outputs": [
    {
     "name": "stdout",
     "output_type": "stream",
     "text": [
      "Minimium Share Price Value Across All Stocks: $1.99\n",
      "Maximum Share Price Value Across All Stocks: $2,703.26\n",
      "Mean Share Price Value Across All Stocks: $160.65\n"
     ]
    }
   ],
   "source": [
    "print(f\"Minimium Share Price Value Across All Stocks: ${stock_prices_df.select_dtypes(include='number').min().min():,.02f}\")\n",
    "print(f\"Maximum Share Price Value Across All Stocks: ${stock_prices_df.select_dtypes(include='number').max().max():,.02f}\")\n",
    "print(f\"Mean Share Price Value Across All Stocks: ${stock_prices_df.select_dtypes(include='number').mean().mean():,.02f}\")"
   ]
  },
  {
   "cell_type": "markdown",
   "id": "7634f294",
   "metadata": {},
   "source": [
    "The range of values for individual shares prices is quite large and thus direct comparision of absolute values would required scaling of the prices.\n",
    "However, the range seems reasonable given the dataset - there are no negative values and no extremely large or small values."
   ]
  },
  {
   "cell_type": "markdown",
   "id": "99bb1088",
   "metadata": {},
   "source": [
    "&#x2705;"
   ]
  },
  {
   "cell_type": "markdown",
   "id": "443b5a77",
   "metadata": {},
   "source": [
    "Lets create a scatter plot to visualize the price data"
   ]
  },
  {
   "cell_type": "code",
   "execution_count": 21,
   "id": "4755305a",
   "metadata": {},
   "outputs": [
    {
     "data": {
      "text/plain": [
       "Text(0.5, 1.0, 'Mean Price for Each Company')"
      ]
     },
     "execution_count": 21,
     "metadata": {},
     "output_type": "execute_result"
    },
    {
     "data": {
      "image/png": "[encoded data removed]",
      "text/plain": [
       "<Figure size 432x288 with 1 Axes>"
      ]
     },
     "metadata": {
      "needs_background": "light"
     },
     "output_type": "display_data"
    }
   ],
   "source": [
    "av_prices_by_stock = stock_prices_df.select_dtypes(include='number').mean()\n",
    "av_prices_by_stock.index = pd.Series(range(len(av_prices_by_stock)))\n",
    "plt.scatter(x = av_prices_by_stock.values,\n",
    "            y = av_prices_by_stock.index,\n",
    "           )\n",
    "plt.xlabel('Price')\n",
    "plt.ylabel('Company Number')\n",
    "plt.title('Mean Price for Each Company')"
   ]
  },
  {
   "cell_type": "markdown",
   "id": "7ce68e5d",
   "metadata": {},
   "source": [
    "\n",
    "<p style=\"background-color:Yellow;\"><b>Not Great:</b> That does not look so great with a small number of obvious outliers.</p>"
   ]
  },
  {
   "cell_type": "markdown",
   "id": "ad2919f6",
   "metadata": {},
   "source": [
    "Lets check to see if these represent errors or just outliers."
   ]
  },
  {
   "cell_type": "code",
   "execution_count": 22,
   "id": "b51f486d",
   "metadata": {},
   "outputs": [
    {
     "data": {
      "text/plain": [
       "AZO     2579.00000\n",
       "BKNG    2703.26001\n",
       "dtype: float64"
      ]
     },
     "execution_count": 22,
     "metadata": {},
     "output_type": "execute_result"
    }
   ],
   "source": [
    "# Largest two price values by stock\n",
    "stock_prices_df.select_dtypes(include='number').max().sort_values()[-2:]\n"
   ]
  },
  {
   "cell_type": "markdown",
   "id": "0ffc2b26",
   "metadata": {},
   "source": [
    "Checking these manually to price sources (Yahoo Finance, 2023), the prices look accurate.  Thus the values represent outliers rather than errors.\n",
    "\n",
    "While there are several ways to handle these outliers depending the analysis being performed and the reason for the outliers, for our analysis we are going to retain them in our data set."
   ]
  },
  {
   "cell_type": "markdown",
   "id": "9ef27eb9",
   "metadata": {},
   "source": [
    "**Examing the Number of Records for Each Stock**"
   ]
  },
  {
   "cell_type": "code",
   "execution_count": 23,
   "id": "893cfd93",
   "metadata": {},
   "outputs": [
    {
     "name": "stdout",
     "output_type": "stream",
     "text": [
      "count    115.0\n",
      "mean     251.0\n",
      "std        0.0\n",
      "min      251.0\n",
      "25%      251.0\n",
      "50%      251.0\n",
      "75%      251.0\n",
      "max      251.0\n",
      "Name: count, dtype: float64\n"
     ]
    }
   ],
   "source": [
    "print(stock_prices_df.describe().loc['count'].describe())"
   ]
  },
  {
   "cell_type": "markdown",
   "id": "be89f4d2",
   "metadata": {},
   "source": [
    "<p style=\"background-color:#AFE1AF;\">\n",
    "    The maximum number of rows is 252, and this is the case for >75% of the rows.  As a reasonableness check, there are 260 (52 * 5) week days in the year and some of these will be public holidays.  So we expect somewhere around 250 trading days in a year given stock markets are not open on week-ends and we have to then deduct for public holidays - so 252 looks reasonable. \n",
    "</p>"
   ]
  },
  {
   "cell_type": "markdown",
   "id": "3339acc5",
   "metadata": {},
   "source": [
    "## Format Share Pricing Data"
   ]
  },
  {
   "cell_type": "markdown",
   "id": "aa6e09d2",
   "metadata": {},
   "source": [
    "### Convert the dates to datetime format and set them as the index"
   ]
  },
  {
   "cell_type": "code",
   "execution_count": 24,
   "id": "e55e3a0a",
   "metadata": {},
   "outputs": [],
   "source": [
    "stock_prices_df['Date'] = pd.to_datetime(stock_prices_df['Date'], format = \"%Y-%m-%d\")\n",
    "stock_prices_df = stock_prices_df.set_index('Date', drop=True)"
   ]
  },
  {
   "cell_type": "markdown",
   "id": "642e66a6",
   "metadata": {},
   "source": [
    "### Convert Share Prices to USD Equivalent"
   ]
  },
  {
   "cell_type": "markdown",
   "id": "f2513a33",
   "metadata": {},
   "source": [
    "To Convert from local currencies to a USD Equivalent we add a column for the FX rate applicable given the ticker code format:\n",
    "* Australian stocks have .AX in their ticker, \n",
    "* Japanese stocks have .T, \n",
    "* Hong Kong stocks .HK, \n",
    "* Singapore stocks .SI; and\n",
    "* US stocks have no period in their ticker"
   ]
  },
  {
   "cell_type": "code",
   "execution_count": 25,
   "id": "44200690",
   "metadata": {},
   "outputs": [],
   "source": [
    "# Add currency column based on ticker code format\n",
    "for ticker in stock_prices_df.columns:\n",
    "    if \".AX\" in ticker:\n",
    "        stock_prices_df[ticker] = stock_prices_df[ticker] * fx_prices_df[\"AUDUSD=X\"]\n",
    "    elif \".HK\" in ticker:\n",
    "        stock_prices_df[ticker] = stock_prices_df[ticker] * fx_prices_df[\"HKDUSD=X\"]\n",
    "    elif \".T\" in ticker:\n",
    "        stock_prices_df[ticker] = stock_prices_df[ticker] * fx_prices_df[\"JPYUSD=X\"]\n",
    "    elif \".SI\" in ticker:\n",
    "        stock_prices_df[ticker] = stock_prices_df[ticker] * fx_prices_df[\"SGDUSD=X\"]"
   ]
  },
  {
   "cell_type": "markdown",
   "id": "101ead97",
   "metadata": {},
   "source": [
    "### Eliminate shares with less than 245 trading days"
   ]
  },
  {
   "cell_type": "code",
   "execution_count": 26,
   "id": "3e7323fc",
   "metadata": {},
   "outputs": [
    {
     "name": "stdout",
     "output_type": "stream",
     "text": [
      "Series([], dtype: int64)\n",
      "[]\n"
     ]
    }
   ],
   "source": [
    "# Identify Names Which Should be Eliminated\n",
    "low_counts = stock_prices_df.count()[stock_prices_df.count()<250]\n",
    "print(low_counts)\n",
    "\n",
    "low_counts = list(low_counts.index)\n",
    "print(low_counts)"
   ]
  },
  {
   "cell_type": "code",
   "execution_count": 27,
   "id": "2c2d5761",
   "metadata": {},
   "outputs": [],
   "source": [
    "# Eliminate Names with a Low Number of Trading Days Present\n",
    "stock_prices_df = stock_prices_df.drop(columns=low_counts).copy()"
   ]
  },
  {
   "cell_type": "code",
   "execution_count": 28,
   "id": "6f25e4a0",
   "metadata": {},
   "outputs": [
    {
     "data": {
      "text/plain": [
       "251"
      ]
     },
     "execution_count": 28,
     "metadata": {},
     "output_type": "execute_result"
    }
   ],
   "source": [
    "# Check removal was successful\n",
    "stock_prices_df.count().min()"
   ]
  },
  {
   "cell_type": "markdown",
   "id": "6a06a21c",
   "metadata": {},
   "source": [
    "&#x2705;"
   ]
  },
  {
   "cell_type": "markdown",
   "id": "12d7470a",
   "metadata": {},
   "source": [
    "### Fill Prices for Names Missing only a Small Number of Days"
   ]
  },
  {
   "cell_type": "code",
   "execution_count": 29,
   "id": "21d6522a",
   "metadata": {},
   "outputs": [
    {
     "data": {
      "text/html": [
       "<div>\n",
       "<style scoped>\n",
       "    .dataframe tbody tr th:only-of-type {\n",
       "        vertical-align: middle;\n",
       "    }\n",
       "\n",
       "    .dataframe tbody tr th {\n",
       "        vertical-align: top;\n",
       "    }\n",
       "\n",
       "    .dataframe thead th {\n",
       "        text-align: right;\n",
       "    }\n",
       "</style>\n",
       "<table border=\"1\" class=\"dataframe\">\n",
       "  <thead>\n",
       "    <tr style=\"text-align: right;\">\n",
       "      <th></th>\n",
       "      <th>A</th>\n",
       "      <th>AAL</th>\n",
       "      <th>AAP</th>\n",
       "      <th>AAPL</th>\n",
       "      <th>ABBV</th>\n",
       "      <th>ABC</th>\n",
       "      <th>ABT</th>\n",
       "      <th>ACGL</th>\n",
       "      <th>ACN</th>\n",
       "      <th>ADBE</th>\n",
       "      <th>...</th>\n",
       "      <th>NCM.AX</th>\n",
       "      <th>NST.AX</th>\n",
       "      <th>PLS.AX</th>\n",
       "      <th>RIO.AX</th>\n",
       "      <th>RMD.AX</th>\n",
       "      <th>T</th>\n",
       "      <th>TECH</th>\n",
       "      <th>WBC.AX</th>\n",
       "      <th>WDS.AX</th>\n",
       "      <th>WRB</th>\n",
       "    </tr>\n",
       "    <tr>\n",
       "      <th>Date</th>\n",
       "      <th></th>\n",
       "      <th></th>\n",
       "      <th></th>\n",
       "      <th></th>\n",
       "      <th></th>\n",
       "      <th></th>\n",
       "      <th></th>\n",
       "      <th></th>\n",
       "      <th></th>\n",
       "      <th></th>\n",
       "      <th></th>\n",
       "      <th></th>\n",
       "      <th></th>\n",
       "      <th></th>\n",
       "      <th></th>\n",
       "      <th></th>\n",
       "      <th></th>\n",
       "      <th></th>\n",
       "      <th></th>\n",
       "      <th></th>\n",
       "      <th></th>\n",
       "    </tr>\n",
       "  </thead>\n",
       "  <tbody>\n",
       "    <tr>\n",
       "      <th>2022-01-03</th>\n",
       "      <td>154.908508</td>\n",
       "      <td>18.750000</td>\n",
       "      <td>224.928452</td>\n",
       "      <td>180.434311</td>\n",
       "      <td>126.534706</td>\n",
       "      <td>130.200043</td>\n",
       "      <td>134.805557</td>\n",
       "      <td>44.549999</td>\n",
       "      <td>397.086761</td>\n",
       "      <td>564.369995</td>\n",
       "      <td>...</td>\n",
       "      <td>17.063065</td>\n",
       "      <td>6.543083</td>\n",
       "      <td>2.467495</td>\n",
       "      <td>66.696527</td>\n",
       "      <td>25.832441</td>\n",
       "      <td>17.069723</td>\n",
       "      <td>121.268669</td>\n",
       "      <td>14.316419</td>\n",
       "      <td>13.916643</td>\n",
       "      <td>52.898167</td>\n",
       "    </tr>\n",
       "    <tr>\n",
       "      <th>2022-01-04</th>\n",
       "      <td>149.671646</td>\n",
       "      <td>19.020000</td>\n",
       "      <td>225.184921</td>\n",
       "      <td>178.144302</td>\n",
       "      <td>126.291786</td>\n",
       "      <td>128.963074</td>\n",
       "      <td>131.635162</td>\n",
       "      <td>45.130001</td>\n",
       "      <td>394.249115</td>\n",
       "      <td>554.000000</td>\n",
       "      <td>...</td>\n",
       "      <td>17.063065</td>\n",
       "      <td>6.543083</td>\n",
       "      <td>2.467495</td>\n",
       "      <td>66.696527</td>\n",
       "      <td>25.832441</td>\n",
       "      <td>17.210688</td>\n",
       "      <td>116.353668</td>\n",
       "      <td>14.316419</td>\n",
       "      <td>13.916643</td>\n",
       "      <td>53.685848</td>\n",
       "    </tr>\n",
       "    <tr>\n",
       "      <th>2022-01-05</th>\n",
       "      <td>147.107651</td>\n",
       "      <td>18.680000</td>\n",
       "      <td>224.614975</td>\n",
       "      <td>173.405670</td>\n",
       "      <td>126.955170</td>\n",
       "      <td>130.082260</td>\n",
       "      <td>131.043747</td>\n",
       "      <td>44.599998</td>\n",
       "      <td>387.306091</td>\n",
       "      <td>514.429993</td>\n",
       "      <td>...</td>\n",
       "      <td>17.377001</td>\n",
       "      <td>6.615100</td>\n",
       "      <td>2.523780</td>\n",
       "      <td>67.606146</td>\n",
       "      <td>25.117222</td>\n",
       "      <td>17.593298</td>\n",
       "      <td>108.077499</td>\n",
       "      <td>14.517221</td>\n",
       "      <td>14.057268</td>\n",
       "      <td>53.086952</td>\n",
       "    </tr>\n",
       "    <tr>\n",
       "      <th>2022-01-06</th>\n",
       "      <td>147.622437</td>\n",
       "      <td>18.570000</td>\n",
       "      <td>229.554672</td>\n",
       "      <td>170.510956</td>\n",
       "      <td>126.357178</td>\n",
       "      <td>128.069656</td>\n",
       "      <td>131.024323</td>\n",
       "      <td>44.860001</td>\n",
       "      <td>368.602905</td>\n",
       "      <td>514.119995</td>\n",
       "      <td>...</td>\n",
       "      <td>16.795601</td>\n",
       "      <td>6.299028</td>\n",
       "      <td>2.390925</td>\n",
       "      <td>67.927965</td>\n",
       "      <td>24.094973</td>\n",
       "      <td>17.526175</td>\n",
       "      <td>106.041405</td>\n",
       "      <td>14.242419</td>\n",
       "      <td>13.677448</td>\n",
       "      <td>53.991798</td>\n",
       "    </tr>\n",
       "    <tr>\n",
       "      <th>2022-01-07</th>\n",
       "      <td>143.692291</td>\n",
       "      <td>19.280001</td>\n",
       "      <td>226.172867</td>\n",
       "      <td>170.679489</td>\n",
       "      <td>126.030144</td>\n",
       "      <td>130.690933</td>\n",
       "      <td>131.431549</td>\n",
       "      <td>45.070000</td>\n",
       "      <td>361.533112</td>\n",
       "      <td>510.700012</td>\n",
       "      <td>...</td>\n",
       "      <td>16.660227</td>\n",
       "      <td>6.289727</td>\n",
       "      <td>2.441409</td>\n",
       "      <td>68.991569</td>\n",
       "      <td>24.078388</td>\n",
       "      <td>18.124920</td>\n",
       "      <td>103.242081</td>\n",
       "      <td>14.305205</td>\n",
       "      <td>13.866528</td>\n",
       "      <td>55.059402</td>\n",
       "    </tr>\n",
       "    <tr>\n",
       "      <th>...</th>\n",
       "      <td>...</td>\n",
       "      <td>...</td>\n",
       "      <td>...</td>\n",
       "      <td>...</td>\n",
       "      <td>...</td>\n",
       "      <td>...</td>\n",
       "      <td>...</td>\n",
       "      <td>...</td>\n",
       "      <td>...</td>\n",
       "      <td>...</td>\n",
       "      <td>...</td>\n",
       "      <td>...</td>\n",
       "      <td>...</td>\n",
       "      <td>...</td>\n",
       "      <td>...</td>\n",
       "      <td>...</td>\n",
       "      <td>...</td>\n",
       "      <td>...</td>\n",
       "      <td>...</td>\n",
       "      <td>...</td>\n",
       "      <td>...</td>\n",
       "    </tr>\n",
       "    <tr>\n",
       "      <th>2022-12-23</th>\n",
       "      <td>148.481873</td>\n",
       "      <td>12.710000</td>\n",
       "      <td>141.008759</td>\n",
       "      <td>131.477127</td>\n",
       "      <td>158.336105</td>\n",
       "      <td>169.002655</td>\n",
       "      <td>106.645416</td>\n",
       "      <td>63.380001</td>\n",
       "      <td>263.014862</td>\n",
       "      <td>338.450012</td>\n",
       "      <td>...</td>\n",
       "      <td>13.698630</td>\n",
       "      <td>7.310921</td>\n",
       "      <td>2.471336</td>\n",
       "      <td>75.068857</td>\n",
       "      <td>20.972921</td>\n",
       "      <td>17.485210</td>\n",
       "      <td>82.562065</td>\n",
       "      <td>15.187068</td>\n",
       "      <td>22.575913</td>\n",
       "      <td>72.699135</td>\n",
       "    </tr>\n",
       "    <tr>\n",
       "      <th>2022-12-27</th>\n",
       "      <td>148.800278</td>\n",
       "      <td>12.530000</td>\n",
       "      <td>142.721176</td>\n",
       "      <td>129.652435</td>\n",
       "      <td>158.229309</td>\n",
       "      <td>167.998657</td>\n",
       "      <td>107.029884</td>\n",
       "      <td>63.619999</td>\n",
       "      <td>262.243866</td>\n",
       "      <td>335.089996</td>\n",
       "      <td>...</td>\n",
       "      <td>13.698630</td>\n",
       "      <td>7.310921</td>\n",
       "      <td>2.471336</td>\n",
       "      <td>75.068857</td>\n",
       "      <td>20.972921</td>\n",
       "      <td>17.628454</td>\n",
       "      <td>82.043106</td>\n",
       "      <td>15.187068</td>\n",
       "      <td>22.575913</td>\n",
       "      <td>73.154449</td>\n",
       "    </tr>\n",
       "    <tr>\n",
       "      <th>2022-12-28</th>\n",
       "      <td>147.347595</td>\n",
       "      <td>12.320000</td>\n",
       "      <td>142.996735</td>\n",
       "      <td>125.674026</td>\n",
       "      <td>157.491501</td>\n",
       "      <td>166.368362</td>\n",
       "      <td>106.300385</td>\n",
       "      <td>62.599998</td>\n",
       "      <td>260.079224</td>\n",
       "      <td>328.329987</td>\n",
       "      <td>...</td>\n",
       "      <td>13.838365</td>\n",
       "      <td>7.407739</td>\n",
       "      <td>2.398796</td>\n",
       "      <td>77.205864</td>\n",
       "      <td>20.471516</td>\n",
       "      <td>17.399263</td>\n",
       "      <td>80.526199</td>\n",
       "      <td>15.298645</td>\n",
       "      <td>23.354187</td>\n",
       "      <td>72.055794</td>\n",
       "    </tr>\n",
       "    <tr>\n",
       "      <th>2022-12-29</th>\n",
       "      <td>150.332550</td>\n",
       "      <td>12.700000</td>\n",
       "      <td>143.990707</td>\n",
       "      <td>129.233658</td>\n",
       "      <td>157.811859</td>\n",
       "      <td>165.066132</td>\n",
       "      <td>108.745201</td>\n",
       "      <td>63.110001</td>\n",
       "      <td>265.278412</td>\n",
       "      <td>337.579987</td>\n",
       "      <td>...</td>\n",
       "      <td>13.787092</td>\n",
       "      <td>7.393248</td>\n",
       "      <td>2.418058</td>\n",
       "      <td>76.929789</td>\n",
       "      <td>20.510296</td>\n",
       "      <td>17.618904</td>\n",
       "      <td>84.298523</td>\n",
       "      <td>15.194037</td>\n",
       "      <td>22.351543</td>\n",
       "      <td>72.491295</td>\n",
       "    </tr>\n",
       "    <tr>\n",
       "      <th>2022-12-30</th>\n",
       "      <td>149.121841</td>\n",
       "      <td>12.720000</td>\n",
       "      <td>144.699310</td>\n",
       "      <td>129.552719</td>\n",
       "      <td>156.889603</td>\n",
       "      <td>164.728149</td>\n",
       "      <td>108.232582</td>\n",
       "      <td>62.779999</td>\n",
       "      <td>263.756226</td>\n",
       "      <td>336.529999</td>\n",
       "      <td>...</td>\n",
       "      <td>13.785635</td>\n",
       "      <td>7.306800</td>\n",
       "      <td>2.470956</td>\n",
       "      <td>76.703805</td>\n",
       "      <td>20.891650</td>\n",
       "      <td>17.580706</td>\n",
       "      <td>82.711754</td>\n",
       "      <td>15.288979</td>\n",
       "      <td>22.605507</td>\n",
       "      <td>71.828140</td>\n",
       "    </tr>\n",
       "  </tbody>\n",
       "</table>\n",
       "<p>258 rows × 115 columns</p>\n",
       "</div>"
      ],
      "text/plain": [
       "                     A        AAL         AAP        AAPL        ABBV  \\\n",
       "Date                                                                    \n",
       "2022-01-03  154.908508  18.750000  224.928452  180.434311  126.534706   \n",
       "2022-01-04  149.671646  19.020000  225.184921  178.144302  126.291786   \n",
       "2022-01-05  147.107651  18.680000  224.614975  173.405670  126.955170   \n",
       "2022-01-06  147.622437  18.570000  229.554672  170.510956  126.357178   \n",
       "2022-01-07  143.692291  19.280001  226.172867  170.679489  126.030144   \n",
       "...                ...        ...         ...         ...         ...   \n",
       "2022-12-23  148.481873  12.710000  141.008759  131.477127  158.336105   \n",
       "2022-12-27  148.800278  12.530000  142.721176  129.652435  158.229309   \n",
       "2022-12-28  147.347595  12.320000  142.996735  125.674026  157.491501   \n",
       "2022-12-29  150.332550  12.700000  143.990707  129.233658  157.811859   \n",
       "2022-12-30  149.121841  12.720000  144.699310  129.552719  156.889603   \n",
       "\n",
       "                   ABC         ABT       ACGL         ACN        ADBE  ...  \\\n",
       "Date                                                                   ...   \n",
       "2022-01-03  130.200043  134.805557  44.549999  397.086761  564.369995  ...   \n",
       "2022-01-04  128.963074  131.635162  45.130001  394.249115  554.000000  ...   \n",
       "2022-01-05  130.082260  131.043747  44.599998  387.306091  514.429993  ...   \n",
       "2022-01-06  128.069656  131.024323  44.860001  368.602905  514.119995  ...   \n",
       "2022-01-07  130.690933  131.431549  45.070000  361.533112  510.700012  ...   \n",
       "...                ...         ...        ...         ...         ...  ...   \n",
       "2022-12-23  169.002655  106.645416  63.380001  263.014862  338.450012  ...   \n",
       "2022-12-27  167.998657  107.029884  63.619999  262.243866  335.089996  ...   \n",
       "2022-12-28  166.368362  106.300385  62.599998  260.079224  328.329987  ...   \n",
       "2022-12-29  165.066132  108.745201  63.110001  265.278412  337.579987  ...   \n",
       "2022-12-30  164.728149  108.232582  62.779999  263.756226  336.529999  ...   \n",
       "\n",
       "               NCM.AX    NST.AX    PLS.AX     RIO.AX     RMD.AX          T  \\\n",
       "Date                                                                         \n",
       "2022-01-03  17.063065  6.543083  2.467495  66.696527  25.832441  17.069723   \n",
       "2022-01-04  17.063065  6.543083  2.467495  66.696527  25.832441  17.210688   \n",
       "2022-01-05  17.377001  6.615100  2.523780  67.606146  25.117222  17.593298   \n",
       "2022-01-06  16.795601  6.299028  2.390925  67.927965  24.094973  17.526175   \n",
       "2022-01-07  16.660227  6.289727  2.441409  68.991569  24.078388  18.124920   \n",
       "...               ...       ...       ...        ...        ...        ...   \n",
       "2022-12-23  13.698630  7.310921  2.471336  75.068857  20.972921  17.485210   \n",
       "2022-12-27  13.698630  7.310921  2.471336  75.068857  20.972921  17.628454   \n",
       "2022-12-28  13.838365  7.407739  2.398796  77.205864  20.471516  17.399263   \n",
       "2022-12-29  13.787092  7.393248  2.418058  76.929789  20.510296  17.618904   \n",
       "2022-12-30  13.785635  7.306800  2.470956  76.703805  20.891650  17.580706   \n",
       "\n",
       "                  TECH     WBC.AX     WDS.AX        WRB  \n",
       "Date                                                     \n",
       "2022-01-03  121.268669  14.316419  13.916643  52.898167  \n",
       "2022-01-04  116.353668  14.316419  13.916643  53.685848  \n",
       "2022-01-05  108.077499  14.517221  14.057268  53.086952  \n",
       "2022-01-06  106.041405  14.242419  13.677448  53.991798  \n",
       "2022-01-07  103.242081  14.305205  13.866528  55.059402  \n",
       "...                ...        ...        ...        ...  \n",
       "2022-12-23   82.562065  15.187068  22.575913  72.699135  \n",
       "2022-12-27   82.043106  15.187068  22.575913  73.154449  \n",
       "2022-12-28   80.526199  15.298645  23.354187  72.055794  \n",
       "2022-12-29   84.298523  15.194037  22.351543  72.491295  \n",
       "2022-12-30   82.711754  15.288979  22.605507  71.828140  \n",
       "\n",
       "[258 rows x 115 columns]"
      ]
     },
     "execution_count": 29,
     "metadata": {},
     "output_type": "execute_result"
    }
   ],
   "source": [
    "# Forward fill any missing stock prices\n",
    "stock_prices_df.fillna(method='ffill', inplace=True)\n",
    "\n",
    "# Backward fill any remaining missing stock prices\n",
    "stock_prices_df.fillna(method='bfill', inplace=True)\n",
    "\n",
    "stock_prices_df"
   ]
  },
  {
   "cell_type": "markdown",
   "id": "74d5c4db",
   "metadata": {},
   "source": [
    "<a id=\"Pairs\"></a>\n",
    "# Create a Universe of Pairs"
   ]
  },
  {
   "cell_type": "markdown",
   "id": "08b271b0",
   "metadata": {},
   "source": [
    "Now that we have imported and cleansed the data, we need to start manipulating it to get the answers required.\n",
    "\n",
    "Key to this is breaking the price data for all the companies into pairs that can be analyzed.  For Example, Microsoft (MSFT) vs Google (GOOGL).\n"
   ]
  },
  {
   "cell_type": "markdown",
   "id": "17263e6b",
   "metadata": {},
   "source": [
    "Using all the names we have data for, we can create a list of all possible pair combinations using the itertools library."
   ]
  },
  {
   "cell_type": "code",
   "execution_count": 30,
   "id": "9faa9fe6",
   "metadata": {},
   "outputs": [
    {
     "name": "stdout",
     "output_type": "stream",
     "text": [
      "The Number of All Possible Unique Pairs is: 6,555\n",
      "\n",
      "Some Examples: [['A', 'AAL'], ['A', 'AAP'], ['A', 'AAPL'], ['A', 'ABBV'], ['A', 'ABC']] \n",
      "[['TECH', 'WDS.AX'], ['TECH', 'WRB'], ['WBC.AX', 'WDS.AX'], ['WBC.AX', 'WRB'], ['WDS.AX', 'WRB']]\n"
     ]
    }
   ],
   "source": [
    "all_possible_pairs = [list(pair) for pair in itertools.combinations(stock_prices_df.columns, 2)]\n",
    "\n",
    "print(f\"The Number of All Possible Unique Pairs is: {len(all_possible_pairs):,.0f}\")\n",
    "print(f\"\\nSome Examples: {all_possible_pairs[:5]} \\n{all_possible_pairs[-5:]}\")\n"
   ]
  },
  {
   "cell_type": "markdown",
   "id": "31774d18",
   "metadata": {},
   "source": [
    "We may want to instead look at a sample of names, instead of the full universe.  This may be because we have processing constrainsts etc.  However, we want a random sample rather than just picking the first 100 names in case their is some bias in the way they are ordered.\n",
    "\n",
    "We have set the sample size via the input constant (RDM_SAMPLE_SIZE) in the Set Inputs section."
   ]
  },
  {
   "cell_type": "code",
   "execution_count": 31,
   "id": "e4c0f724",
   "metadata": {},
   "outputs": [
    {
     "name": "stdout",
     "output_type": "stream",
     "text": [
      "[['AIG', 'AMZN'], ['MO', 'T'], ['CDW', 'WDS.AX'], ['AOS', 'ATO'], ['AIZ', 'AVY']]\n"
     ]
    }
   ],
   "source": [
    "# Select a sample of pairs randomly from the our universe of all possible pairs\n",
    "random_pairs = sample(all_possible_pairs, RDM_SAMPLE_SIZE)\n",
    "print(random_pairs[:5])"
   ]
  },
  {
   "cell_type": "markdown",
   "id": "0f9d4170",
   "metadata": {},
   "source": [
    "## Add Industry to Pairs List"
   ]
  },
  {
   "cell_type": "markdown",
   "id": "570bcf54",
   "metadata": {},
   "source": [
    "The key factor we are seeking to test is Industry.  That is, if in names in the same industry show better correlation or related statistics vs random pairs. \n",
    "\n",
    "To do this we are going to have to merge information from multiple inputs:\n",
    "- the ticker names for the pairs will come from the list of pairs we generated;\n",
    "- the Industry name will come from the all_stocks_info_df\n",
    "- Same Industry Column will be a engineered column we create\n",
    "\n",
    "The Same Industry column will make queries and analysis on the dataset simplier.\n"
   ]
  },
  {
   "cell_type": "code",
   "execution_count": 32,
   "id": "31265a52",
   "metadata": {},
   "outputs": [
    {
     "data": {
      "text/html": [
       "<div>\n",
       "<style scoped>\n",
       "    .dataframe tbody tr th:only-of-type {\n",
       "        vertical-align: middle;\n",
       "    }\n",
       "\n",
       "    .dataframe tbody tr th {\n",
       "        vertical-align: top;\n",
       "    }\n",
       "\n",
       "    .dataframe thead th {\n",
       "        text-align: right;\n",
       "    }\n",
       "</style>\n",
       "<table border=\"1\" class=\"dataframe\">\n",
       "  <thead>\n",
       "    <tr style=\"text-align: right;\">\n",
       "      <th></th>\n",
       "      <th>Ticker1</th>\n",
       "      <th>Ticker2</th>\n",
       "      <th>Ind1</th>\n",
       "      <th>Ind2</th>\n",
       "      <th>Same Industry</th>\n",
       "    </tr>\n",
       "  </thead>\n",
       "  <tbody>\n",
       "    <tr>\n",
       "      <th>0</th>\n",
       "      <td>A</td>\n",
       "      <td>AAL</td>\n",
       "      <td>Health Care</td>\n",
       "      <td>Industrials</td>\n",
       "      <td>No</td>\n",
       "    </tr>\n",
       "    <tr>\n",
       "      <th>1</th>\n",
       "      <td>A</td>\n",
       "      <td>AAP</td>\n",
       "      <td>Health Care</td>\n",
       "      <td>Consumer Discretionary</td>\n",
       "      <td>No</td>\n",
       "    </tr>\n",
       "    <tr>\n",
       "      <th>2</th>\n",
       "      <td>AAL</td>\n",
       "      <td>AAP</td>\n",
       "      <td>Industrials</td>\n",
       "      <td>Consumer Discretionary</td>\n",
       "      <td>No</td>\n",
       "    </tr>\n",
       "    <tr>\n",
       "      <th>3</th>\n",
       "      <td>A</td>\n",
       "      <td>AAPL</td>\n",
       "      <td>Health Care</td>\n",
       "      <td>Information Technology</td>\n",
       "      <td>No</td>\n",
       "    </tr>\n",
       "    <tr>\n",
       "      <th>4</th>\n",
       "      <td>AAL</td>\n",
       "      <td>AAPL</td>\n",
       "      <td>Industrials</td>\n",
       "      <td>Information Technology</td>\n",
       "      <td>No</td>\n",
       "    </tr>\n",
       "    <tr>\n",
       "      <th>...</th>\n",
       "      <td>...</td>\n",
       "      <td>...</td>\n",
       "      <td>...</td>\n",
       "      <td>...</td>\n",
       "      <td>...</td>\n",
       "    </tr>\n",
       "    <tr>\n",
       "      <th>6550</th>\n",
       "      <td>RMD.AX</td>\n",
       "      <td>WRB</td>\n",
       "      <td>Health Care</td>\n",
       "      <td>Financials</td>\n",
       "      <td>No</td>\n",
       "    </tr>\n",
       "    <tr>\n",
       "      <th>6551</th>\n",
       "      <td>T</td>\n",
       "      <td>WRB</td>\n",
       "      <td>Communication Services</td>\n",
       "      <td>Financials</td>\n",
       "      <td>No</td>\n",
       "    </tr>\n",
       "    <tr>\n",
       "      <th>6552</th>\n",
       "      <td>TECH</td>\n",
       "      <td>WRB</td>\n",
       "      <td>Health Care</td>\n",
       "      <td>Financials</td>\n",
       "      <td>No</td>\n",
       "    </tr>\n",
       "    <tr>\n",
       "      <th>6553</th>\n",
       "      <td>WBC.AX</td>\n",
       "      <td>WRB</td>\n",
       "      <td>Financials</td>\n",
       "      <td>Financials</td>\n",
       "      <td>Yes</td>\n",
       "    </tr>\n",
       "    <tr>\n",
       "      <th>6554</th>\n",
       "      <td>WDS.AX</td>\n",
       "      <td>WRB</td>\n",
       "      <td>Energy</td>\n",
       "      <td>Financials</td>\n",
       "      <td>No</td>\n",
       "    </tr>\n",
       "  </tbody>\n",
       "</table>\n",
       "<p>6555 rows × 5 columns</p>\n",
       "</div>"
      ],
      "text/plain": [
       "     Ticker1 Ticker2                    Ind1                    Ind2  \\\n",
       "0          A     AAL             Health Care             Industrials   \n",
       "1          A     AAP             Health Care  Consumer Discretionary   \n",
       "2        AAL     AAP             Industrials  Consumer Discretionary   \n",
       "3          A    AAPL             Health Care  Information Technology   \n",
       "4        AAL    AAPL             Industrials  Information Technology   \n",
       "...      ...     ...                     ...                     ...   \n",
       "6550  RMD.AX     WRB             Health Care              Financials   \n",
       "6551       T     WRB  Communication Services              Financials   \n",
       "6552    TECH     WRB             Health Care              Financials   \n",
       "6553  WBC.AX     WRB              Financials              Financials   \n",
       "6554  WDS.AX     WRB                  Energy              Financials   \n",
       "\n",
       "     Same Industry  \n",
       "0               No  \n",
       "1               No  \n",
       "2               No  \n",
       "3               No  \n",
       "4               No  \n",
       "...            ...  \n",
       "6550            No  \n",
       "6551            No  \n",
       "6552            No  \n",
       "6553           Yes  \n",
       "6554            No  \n",
       "\n",
       "[6555 rows x 5 columns]"
      ]
     },
     "execution_count": 32,
     "metadata": {},
     "output_type": "execute_result"
    }
   ],
   "source": [
    "# Build a DataFrame which lists all possible pairs, the industry of each name in the pair and if they are the same.\n",
    "\n",
    "# Start with the all the pair combinations\n",
    "all_possible_pairs_df = pd.DataFrame(all_possible_pairs, columns=['Ticker1', 'Ticker2'])\n",
    "\n",
    "# write to csv to check file size\n",
    "all_possible_pairs_df.to_csv(\"all_possible_pairs_df.csv\")\n",
    "\n",
    "# Add the Industry Name for the first ticker\n",
    "all_possible_pairs_df = pd.merge(all_possible_pairs_df, all_stocks_info_df[['Symbol', 'GICS Sector']], how='inner', left_on = 'Ticker1', right_on = 'Symbol')\n",
    "# Add the Industry name for the second ticker\n",
    "all_possible_pairs_df = pd.merge(all_possible_pairs_df, all_stocks_info_df[['Symbol', 'GICS Sector']], how='inner', left_on = 'Ticker2', right_on = 'Symbol')\n",
    "\n",
    "# Remove excess columns and tidy up column names\n",
    "all_possible_pairs_df.drop(columns = ['Symbol_x', 'Symbol_y'], inplace=True)\n",
    "all_possible_pairs_df.rename(columns={\"GICS Sector_x\": \"Ind1\", \"GICS Sector_y\": \"Ind2\"}, inplace=True)\n",
    "\n",
    "# Create a new column 'Same Industry' which identifies if all the two names in the pair are from the same industry\n",
    "all_possible_pairs_df['Same Industry'] = np.where(all_possible_pairs_df['Ind1'] == all_possible_pairs_df['Ind2'], 'Yes', 'No')\n",
    "all_possible_pairs_df"
   ]
  },
  {
   "cell_type": "markdown",
   "id": "29828fcc",
   "metadata": {},
   "source": [
    "Construct a DataFrame for the Random Pairs sample in the same format as that for all the possible pairs."
   ]
  },
  {
   "cell_type": "code",
   "execution_count": 33,
   "id": "26fa8d60",
   "metadata": {},
   "outputs": [
    {
     "data": {
      "text/html": [
       "<div>\n",
       "<style scoped>\n",
       "    .dataframe tbody tr th:only-of-type {\n",
       "        vertical-align: middle;\n",
       "    }\n",
       "\n",
       "    .dataframe tbody tr th {\n",
       "        vertical-align: top;\n",
       "    }\n",
       "\n",
       "    .dataframe thead th {\n",
       "        text-align: right;\n",
       "    }\n",
       "</style>\n",
       "<table border=\"1\" class=\"dataframe\">\n",
       "  <thead>\n",
       "    <tr style=\"text-align: right;\">\n",
       "      <th></th>\n",
       "      <th>Ticker1</th>\n",
       "      <th>Ticker2</th>\n",
       "      <th>Ind1</th>\n",
       "      <th>Ind2</th>\n",
       "      <th>Same Industry</th>\n",
       "    </tr>\n",
       "  </thead>\n",
       "  <tbody>\n",
       "    <tr>\n",
       "      <th>0</th>\n",
       "      <td>AIG</td>\n",
       "      <td>AMZN</td>\n",
       "      <td>Financials</td>\n",
       "      <td>Consumer Discretionary</td>\n",
       "      <td>No</td>\n",
       "    </tr>\n",
       "    <tr>\n",
       "      <th>1</th>\n",
       "      <td>MO</td>\n",
       "      <td>T</td>\n",
       "      <td>Consumer Staples</td>\n",
       "      <td>Communication Services</td>\n",
       "      <td>No</td>\n",
       "    </tr>\n",
       "    <tr>\n",
       "      <th>2</th>\n",
       "      <td>CDW</td>\n",
       "      <td>WDS.AX</td>\n",
       "      <td>Information Technology</td>\n",
       "      <td>Energy</td>\n",
       "      <td>No</td>\n",
       "    </tr>\n",
       "    <tr>\n",
       "      <th>3</th>\n",
       "      <td>AOS</td>\n",
       "      <td>ATO</td>\n",
       "      <td>Industrials</td>\n",
       "      <td>Utilities</td>\n",
       "      <td>No</td>\n",
       "    </tr>\n",
       "    <tr>\n",
       "      <th>4</th>\n",
       "      <td>AIZ</td>\n",
       "      <td>AVY</td>\n",
       "      <td>Financials</td>\n",
       "      <td>Materials</td>\n",
       "      <td>No</td>\n",
       "    </tr>\n",
       "    <tr>\n",
       "      <th>...</th>\n",
       "      <td>...</td>\n",
       "      <td>...</td>\n",
       "      <td>...</td>\n",
       "      <td>...</td>\n",
       "      <td>...</td>\n",
       "    </tr>\n",
       "    <tr>\n",
       "      <th>3995</th>\n",
       "      <td>A</td>\n",
       "      <td>BIIB</td>\n",
       "      <td>Health Care</td>\n",
       "      <td>Health Care</td>\n",
       "      <td>Yes</td>\n",
       "    </tr>\n",
       "    <tr>\n",
       "      <th>3996</th>\n",
       "      <td>ANET</td>\n",
       "      <td>TECH</td>\n",
       "      <td>Information Technology</td>\n",
       "      <td>Health Care</td>\n",
       "      <td>No</td>\n",
       "    </tr>\n",
       "    <tr>\n",
       "      <th>3997</th>\n",
       "      <td>ADSK</td>\n",
       "      <td>GOOGL</td>\n",
       "      <td>Information Technology</td>\n",
       "      <td>Communication Services</td>\n",
       "      <td>No</td>\n",
       "    </tr>\n",
       "    <tr>\n",
       "      <th>3998</th>\n",
       "      <td>AWK</td>\n",
       "      <td>CARR</td>\n",
       "      <td>Utilities</td>\n",
       "      <td>Industrials</td>\n",
       "      <td>No</td>\n",
       "    </tr>\n",
       "    <tr>\n",
       "      <th>3999</th>\n",
       "      <td>AIG</td>\n",
       "      <td>BF-B</td>\n",
       "      <td>Financials</td>\n",
       "      <td>Consumer Staples</td>\n",
       "      <td>No</td>\n",
       "    </tr>\n",
       "  </tbody>\n",
       "</table>\n",
       "<p>4000 rows × 5 columns</p>\n",
       "</div>"
      ],
      "text/plain": [
       "     Ticker1 Ticker2                    Ind1                    Ind2  \\\n",
       "0        AIG    AMZN              Financials  Consumer Discretionary   \n",
       "1         MO       T        Consumer Staples  Communication Services   \n",
       "2        CDW  WDS.AX  Information Technology                  Energy   \n",
       "3        AOS     ATO             Industrials               Utilities   \n",
       "4        AIZ     AVY              Financials               Materials   \n",
       "...      ...     ...                     ...                     ...   \n",
       "3995       A    BIIB             Health Care             Health Care   \n",
       "3996    ANET    TECH  Information Technology             Health Care   \n",
       "3997    ADSK   GOOGL  Information Technology  Communication Services   \n",
       "3998     AWK    CARR               Utilities             Industrials   \n",
       "3999     AIG    BF-B              Financials        Consumer Staples   \n",
       "\n",
       "     Same Industry  \n",
       "0               No  \n",
       "1               No  \n",
       "2               No  \n",
       "3               No  \n",
       "4               No  \n",
       "...            ...  \n",
       "3995           Yes  \n",
       "3996            No  \n",
       "3997            No  \n",
       "3998            No  \n",
       "3999            No  \n",
       "\n",
       "[4000 rows x 5 columns]"
      ]
     },
     "execution_count": 33,
     "metadata": {},
     "output_type": "execute_result"
    }
   ],
   "source": [
    "#Build the base df from the list of list of random pairs\n",
    "random_pairs_df = pd.DataFrame(random_pairs, columns=['Ticker1', 'Ticker2'])\n",
    "\n",
    "# Add the extra columns required via merging with the df containing all the pairs\n",
    "random_pairs_df = pd.merge(random_pairs_df, all_possible_pairs_df, how='inner',\n",
    "                          left_on= ['Ticker1', 'Ticker2'],\n",
    "                          right_on= ['Ticker1', 'Ticker2'])\n",
    "\n",
    "random_pairs_df\n"
   ]
  },
  {
   "cell_type": "markdown",
   "id": "cb924ae5",
   "metadata": {},
   "source": [
    "<a id=\"Sectors\"></a>\n",
    "# Analysis of Names by Sector"
   ]
  },
  {
   "cell_type": "code",
   "execution_count": 34,
   "id": "d98e0334",
   "metadata": {},
   "outputs": [
    {
     "data": {
      "text/plain": [
       "count            115\n",
       "unique            11\n",
       "top       Financials\n",
       "freq              22\n",
       "Name: GICS Sector, dtype: object"
      ]
     },
     "execution_count": 34,
     "metadata": {},
     "output_type": "execute_result"
    }
   ],
   "source": [
    "all_stocks_info_df['GICS Sector'].describe()"
   ]
  },
  {
   "cell_type": "code",
   "execution_count": 35,
   "id": "1f78723e",
   "metadata": {},
   "outputs": [
    {
     "name": "stdout",
     "output_type": "stream",
     "text": [
      "The Minimum Number of Members within a Sector Group is: 3\n",
      "The Median Number of Members within a Sector Group is: 11.0\n"
     ]
    }
   ],
   "source": [
    "print(f\"The Minimum Number of Members within a Sector Group is: {all_stocks_info_df.groupby('GICS Sector').size().min()}\")\n",
    "print(f\"The Median Number of Members within a Sector Group is: {all_stocks_info_df.groupby('GICS Sector').size().median()}\")\n"
   ]
  },
  {
   "cell_type": "code",
   "execution_count": 36,
   "id": "c681c663",
   "metadata": {},
   "outputs": [
    {
     "data": {
      "text/plain": [
       "GICS Sector\n",
       "Communication Services     4\n",
       "Consumer Discretionary    11\n",
       "Consumer Staples           5\n",
       "Energy                     3\n",
       "Financials                22\n",
       "Health Care               18\n",
       "Industrials               13\n",
       "Information Technology    14\n",
       "Materials                 12\n",
       "Real Estate                7\n",
       "Utilities                  6\n",
       "dtype: int64"
      ]
     },
     "execution_count": 36,
     "metadata": {},
     "output_type": "execute_result"
    }
   ],
   "source": [
    "all_stocks_info_df.groupby('GICS Sector').size()"
   ]
  },
  {
   "cell_type": "markdown",
   "id": "899c4993",
   "metadata": {},
   "source": [
    "### Build and Display Graphs Analysing the Distribution of the Sector Groups"
   ]
  },
  {
   "cell_type": "code",
   "execution_count": 37,
   "id": "51010275",
   "metadata": {},
   "outputs": [],
   "source": [
    "# Get Counts of The Number of Names Within Each Sector\n",
    "sector_counts = all_stocks_info_df.groupby('GICS Sector')['Symbol'].count().sort_values(axis=0)\n",
    "\n",
    "# Bucket The Industries into Those That Have a High Number of Members and \"Others\"\n",
    "sector_counts_series = sector_counts[-8:]\n",
    "sector_counts_series['Other'] = sector_counts_series[:-8].sum()"
   ]
  },
  {
   "cell_type": "code",
   "execution_count": 38,
   "id": "b33ad633",
   "metadata": {},
   "outputs": [],
   "source": [
    "# Create a seaborn color palette for our graphs\n",
    "colors = sns.color_palette(\"Blues\", len(sector_counts_series))"
   ]
  },
  {
   "cell_type": "code",
   "execution_count": 39,
   "id": "fcfe5ff7",
   "metadata": {},
   "outputs": [],
   "source": [
    "# Function to Create a Series of Graphs to Show the Distribution and Makeup of the Sector Membership\n",
    "def display_sector_graphs(colors, sector_counts, sector_counts_series):\n",
    "    \n",
    "    fig = plt.figure(figsize=(10, 25))\n",
    "    fig.suptitle('Sector Category Splits', y = 0.95, fontweight='bold')\n",
    "\n",
    "    # Display Pie Chart\n",
    "    ax = fig.add_subplot(3, 1, 1)\n",
    "    ax.pie(sector_counts_series, labels = sector_counts_series.index,colors = colors)\n",
    "    ax.set_title('Sector Split', fontweight='bold')\n",
    "\n",
    "    # Bar Chart of the Sub-Industries With the Most Members\n",
    "    ax = fig.add_subplot(3, 1, 2)\n",
    "    ax.barh(sector_counts_series[:-1].index , sector_counts_series[:-1].values)\n",
    "    ax.set_title('Top Sector Member Numbers', fontweight='bold')\n",
    "\n",
    "    # Display Box Plot\n",
    "    ax = fig.add_subplot(3, 1, 3)\n",
    "    ax.boxplot(all_stocks_info_df.groupby('GICS Sector')['Symbol'].count())\n",
    "    ax.set_title('Distribution of Number of Members Within Each Sector', fontweight='bold')\n",
    "\n",
    "    #fig.tight_layout()\n",
    "    plt.subplots_adjust(hspace = 0.5)\n",
    "    \n",
    "    return fig"
   ]
  },
  {
   "cell_type": "markdown",
   "id": "aa044edb",
   "metadata": {},
   "source": [
    "When we review the how many stocks/ companies fall into each Sector we see that most Sub-Industries only have a very small number of members.  However, there are also a small number of Sub-Industries that have 10 plus members.\n",
    "\n",
    "So the distribution is definitely quite skewed.\n",
    "\n",
    "The following graphs demonstrate that distribution and also highlights which Sector groups have the most number of members."
   ]
  },
  {
   "cell_type": "code",
   "execution_count": 40,
   "id": "125382e2",
   "metadata": {
    "scrolled": false
   },
   "outputs": [
    {
     "data": {
      "image/png": "[encoded data removed]",
      "text/plain": [
       "<Figure size 720x1800 with 3 Axes>"
      ]
     },
     "metadata": {
      "needs_background": "light"
     },
     "output_type": "display_data"
    }
   ],
   "source": [
    "fig = display_sector_graphs(colors, sector_counts, sector_counts_series)\n",
    "#plt.show()"
   ]
  },
  {
   "cell_type": "markdown",
   "id": "5e9f77d9",
   "metadata": {},
   "source": [
    "Where the Sector only has a single member, comparing members within the same industry will not be possible."
   ]
  },
  {
   "cell_type": "markdown",
   "id": "dc18e21a",
   "metadata": {},
   "source": [
    "Given we are looking to compare companies within the same industry vs companies not in the same industry, we want to identify if any sectors have less than 2 names in them."
   ]
  },
  {
   "cell_type": "code",
   "execution_count": 41,
   "id": "6f4b45a9",
   "metadata": {},
   "outputs": [
    {
     "data": {
      "text/plain": [
       "GICS Sector\n",
       "Communication Services     4\n",
       "Consumer Discretionary    11\n",
       "Consumer Staples           5\n",
       "Energy                     3\n",
       "Financials                22\n",
       "Health Care               18\n",
       "Industrials               13\n",
       "Information Technology    14\n",
       "Materials                 12\n",
       "Real Estate                7\n",
       "Utilities                  6\n",
       "Name: Symbol, dtype: int64"
      ]
     },
     "execution_count": 41,
     "metadata": {},
     "output_type": "execute_result"
    }
   ],
   "source": [
    "all_stocks_info_df.groupby('GICS Sector')['Symbol'].count()"
   ]
  },
  {
   "cell_type": "markdown",
   "id": "3b0fa3a7",
   "metadata": {},
   "source": [
    "## Analyse Ratio of Same Industry Vs Different Industry Pairs"
   ]
  },
  {
   "cell_type": "markdown",
   "id": "33335aff",
   "metadata": {},
   "source": [
    "### Full Universe of Names"
   ]
  },
  {
   "cell_type": "code",
   "execution_count": 42,
   "id": "de73500e",
   "metadata": {},
   "outputs": [
    {
     "name": "stdout",
     "output_type": "stream",
     "text": [
      "Number of Pairs In Total: 6,555\n",
      "Number of Pairs in the Same Industry: 729\n",
      "Percentage of pairs in the same industry: 11.12%\n"
     ]
    }
   ],
   "source": [
    "num_pairs_all = len(all_possible_pairs_df.index)\n",
    "num_pairs_same_ind_all = len(all_possible_pairs_df[all_possible_pairs_df['Same Industry'] == 'Yes'].index)\n",
    "\n",
    "print(f\"Number of Pairs In Total: {num_pairs_all:,}\")\n",
    "print(f\"Number of Pairs in the Same Industry: {num_pairs_same_ind_all:,}\")\n",
    "print(f\"Percentage of pairs in the same industry: {num_pairs_same_ind_all/num_pairs_all * 100:,.02f}%\")"
   ]
  },
  {
   "cell_type": "markdown",
   "id": "d90cea62",
   "metadata": {},
   "source": [
    "### Sample"
   ]
  },
  {
   "cell_type": "code",
   "execution_count": 43,
   "id": "e54960dc",
   "metadata": {},
   "outputs": [
    {
     "name": "stdout",
     "output_type": "stream",
     "text": [
      "Number of Pairs In Total: 4,000\n",
      "Number of Pairs in the Same Industry: 458\n",
      "Percentage of pairs in the same industry: 11.45%\n"
     ]
    }
   ],
   "source": [
    "num_pairs_all_samp = len(random_pairs_df.index)\n",
    "num_pairs_same_ind_samp = len(random_pairs_df[random_pairs_df['Same Industry'] == 'Yes'].index)\n",
    "\n",
    "print(f\"Number of Pairs In Total: {num_pairs_all_samp:,}\")\n",
    "print(f\"Number of Pairs in the Same Industry: {num_pairs_same_ind_samp:,}\")\n",
    "print(f\"Percentage of pairs in the same industry: {num_pairs_same_ind_samp/num_pairs_all_samp * 100:,.02f}%\")"
   ]
  },
  {
   "cell_type": "code",
   "execution_count": 44,
   "id": "dce1f40d",
   "metadata": {},
   "outputs": [
    {
     "data": {
      "text/html": [
       "<div>\n",
       "<style scoped>\n",
       "    .dataframe tbody tr th:only-of-type {\n",
       "        vertical-align: middle;\n",
       "    }\n",
       "\n",
       "    .dataframe tbody tr th {\n",
       "        vertical-align: top;\n",
       "    }\n",
       "\n",
       "    .dataframe thead th {\n",
       "        text-align: right;\n",
       "    }\n",
       "</style>\n",
       "<table border=\"1\" class=\"dataframe\">\n",
       "  <thead>\n",
       "    <tr style=\"text-align: right;\">\n",
       "      <th></th>\n",
       "      <th>Number of Total Pairs</th>\n",
       "      <th>Number of Pairs in Same Industry</th>\n",
       "      <th>% of Pairs in the Same Industry</th>\n",
       "    </tr>\n",
       "  </thead>\n",
       "  <tbody>\n",
       "    <tr>\n",
       "      <th>Entire Population</th>\n",
       "      <td>6555</td>\n",
       "      <td>729</td>\n",
       "      <td>11.121281</td>\n",
       "    </tr>\n",
       "    <tr>\n",
       "      <th>Sample</th>\n",
       "      <td>4000</td>\n",
       "      <td>458</td>\n",
       "      <td>11.450000</td>\n",
       "    </tr>\n",
       "  </tbody>\n",
       "</table>\n",
       "</div>"
      ],
      "text/plain": [
       "                   Number of Total Pairs  Number of Pairs in Same Industry  \\\n",
       "Entire Population                   6555                               729   \n",
       "Sample                              4000                               458   \n",
       "\n",
       "                   % of Pairs in the Same Industry  \n",
       "Entire Population                        11.121281  \n",
       "Sample                                   11.450000  "
      ]
     },
     "execution_count": 44,
     "metadata": {},
     "output_type": "execute_result"
    }
   ],
   "source": [
    "df = pd.DataFrame(data = [[num_pairs_all, num_pairs_same_ind_all, num_pairs_same_ind_all/num_pairs_all * 100], \n",
    "                          [num_pairs_all_samp, num_pairs_same_ind_samp, num_pairs_same_ind_samp/num_pairs_all_samp * 100]], \n",
    "                  columns=['Number of Total Pairs', 'Number of Pairs in Same Industry', '% of Pairs in the Same Industry'])\n",
    "df.index = ['Entire Population', 'Sample']\n",
    "df"
   ]
  },
  {
   "cell_type": "markdown",
   "id": "0f6214bd",
   "metadata": {},
   "source": [
    "<p style=\"background-color:#AFE1AF;\">\n",
    "Our sample does seem representative of the total population in term pairs in the same industry vs all pairs.\n",
    "</p>"
   ]
  },
  {
   "cell_type": "markdown",
   "id": "2bc31b4f",
   "metadata": {},
   "source": [
    "<a id=\"Correlations\"></a>\n",
    "# Correlations"
   ]
  },
  {
   "cell_type": "markdown",
   "id": "26b15eda",
   "metadata": {},
   "source": [
    "## Calculate Correlations"
   ]
  },
  {
   "cell_type": "markdown",
   "id": "57df301c",
   "metadata": {},
   "source": [
    "First we build a dataframe of correlations for ALL pairs in our sample."
   ]
  },
  {
   "cell_type": "code",
   "execution_count": 45,
   "id": "2c24fe61",
   "metadata": {},
   "outputs": [
    {
     "data": {
      "text/html": [
       "<div>\n",
       "<style scoped>\n",
       "    .dataframe tbody tr th:only-of-type {\n",
       "        vertical-align: middle;\n",
       "    }\n",
       "\n",
       "    .dataframe tbody tr th {\n",
       "        vertical-align: top;\n",
       "    }\n",
       "\n",
       "    .dataframe thead th {\n",
       "        text-align: right;\n",
       "    }\n",
       "</style>\n",
       "<table border=\"1\" class=\"dataframe\">\n",
       "  <thead>\n",
       "    <tr style=\"text-align: right;\">\n",
       "      <th></th>\n",
       "      <th>Ticker1</th>\n",
       "      <th>Ticker2</th>\n",
       "      <th>Correlation</th>\n",
       "      <th>Ind1</th>\n",
       "      <th>Ind2</th>\n",
       "      <th>Same Industry</th>\n",
       "    </tr>\n",
       "  </thead>\n",
       "  <tbody>\n",
       "    <tr>\n",
       "      <th>0</th>\n",
       "      <td>AIG</td>\n",
       "      <td>AMZN</td>\n",
       "      <td>0.154171</td>\n",
       "      <td>Financials</td>\n",
       "      <td>Consumer Discretionary</td>\n",
       "      <td>No</td>\n",
       "    </tr>\n",
       "    <tr>\n",
       "      <th>1</th>\n",
       "      <td>MO</td>\n",
       "      <td>T</td>\n",
       "      <td>0.168097</td>\n",
       "      <td>Consumer Staples</td>\n",
       "      <td>Communication Services</td>\n",
       "      <td>No</td>\n",
       "    </tr>\n",
       "    <tr>\n",
       "      <th>2</th>\n",
       "      <td>CDW</td>\n",
       "      <td>WDS.AX</td>\n",
       "      <td>-0.120289</td>\n",
       "      <td>Information Technology</td>\n",
       "      <td>Energy</td>\n",
       "      <td>No</td>\n",
       "    </tr>\n",
       "    <tr>\n",
       "      <th>3</th>\n",
       "      <td>AOS</td>\n",
       "      <td>ATO</td>\n",
       "      <td>-0.121186</td>\n",
       "      <td>Industrials</td>\n",
       "      <td>Utilities</td>\n",
       "      <td>No</td>\n",
       "    </tr>\n",
       "    <tr>\n",
       "      <th>4</th>\n",
       "      <td>AIZ</td>\n",
       "      <td>AVY</td>\n",
       "      <td>-0.316239</td>\n",
       "      <td>Financials</td>\n",
       "      <td>Materials</td>\n",
       "      <td>No</td>\n",
       "    </tr>\n",
       "    <tr>\n",
       "      <th>...</th>\n",
       "      <td>...</td>\n",
       "      <td>...</td>\n",
       "      <td>...</td>\n",
       "      <td>...</td>\n",
       "      <td>...</td>\n",
       "      <td>...</td>\n",
       "    </tr>\n",
       "    <tr>\n",
       "      <th>3995</th>\n",
       "      <td>A</td>\n",
       "      <td>BIIB</td>\n",
       "      <td>0.704320</td>\n",
       "      <td>Health Care</td>\n",
       "      <td>Health Care</td>\n",
       "      <td>Yes</td>\n",
       "    </tr>\n",
       "    <tr>\n",
       "      <th>3996</th>\n",
       "      <td>ANET</td>\n",
       "      <td>TECH</td>\n",
       "      <td>0.398789</td>\n",
       "      <td>Information Technology</td>\n",
       "      <td>Health Care</td>\n",
       "      <td>No</td>\n",
       "    </tr>\n",
       "    <tr>\n",
       "      <th>3997</th>\n",
       "      <td>ADSK</td>\n",
       "      <td>GOOGL</td>\n",
       "      <td>0.579776</td>\n",
       "      <td>Information Technology</td>\n",
       "      <td>Communication Services</td>\n",
       "      <td>No</td>\n",
       "    </tr>\n",
       "    <tr>\n",
       "      <th>3998</th>\n",
       "      <td>AWK</td>\n",
       "      <td>CARR</td>\n",
       "      <td>0.740975</td>\n",
       "      <td>Utilities</td>\n",
       "      <td>Industrials</td>\n",
       "      <td>No</td>\n",
       "    </tr>\n",
       "    <tr>\n",
       "      <th>3999</th>\n",
       "      <td>AIG</td>\n",
       "      <td>BF-B</td>\n",
       "      <td>-0.246453</td>\n",
       "      <td>Financials</td>\n",
       "      <td>Consumer Staples</td>\n",
       "      <td>No</td>\n",
       "    </tr>\n",
       "  </tbody>\n",
       "</table>\n",
       "<p>4000 rows × 6 columns</p>\n",
       "</div>"
      ],
      "text/plain": [
       "     Ticker1 Ticker2  Correlation                    Ind1  \\\n",
       "0        AIG    AMZN     0.154171              Financials   \n",
       "1         MO       T     0.168097        Consumer Staples   \n",
       "2        CDW  WDS.AX    -0.120289  Information Technology   \n",
       "3        AOS     ATO    -0.121186             Industrials   \n",
       "4        AIZ     AVY    -0.316239              Financials   \n",
       "...      ...     ...          ...                     ...   \n",
       "3995       A    BIIB     0.704320             Health Care   \n",
       "3996    ANET    TECH     0.398789  Information Technology   \n",
       "3997    ADSK   GOOGL     0.579776  Information Technology   \n",
       "3998     AWK    CARR     0.740975               Utilities   \n",
       "3999     AIG    BF-B    -0.246453              Financials   \n",
       "\n",
       "                        Ind2 Same Industry  \n",
       "0     Consumer Discretionary            No  \n",
       "1     Communication Services            No  \n",
       "2                     Energy            No  \n",
       "3                  Utilities            No  \n",
       "4                  Materials            No  \n",
       "...                      ...           ...  \n",
       "3995             Health Care           Yes  \n",
       "3996             Health Care            No  \n",
       "3997  Communication Services            No  \n",
       "3998             Industrials            No  \n",
       "3999        Consumer Staples            No  \n",
       "\n",
       "[4000 rows x 6 columns]"
      ]
     },
     "execution_count": 45,
     "metadata": {},
     "output_type": "execute_result"
    }
   ],
   "source": [
    "corr_array = []\n",
    "\n",
    "# Iterate through all the pairs in our sample \n",
    "for i in range(len(random_pairs_df)):\n",
    "    \n",
    "    # Calculate the correlation for each pair\n",
    "    corr = stock_prices_df[random_pairs[i][0]].corr(stock_prices_df[random_pairs[i][1]])\n",
    "    # Append the result\n",
    "    corr_array.append([random_pairs[i][0], random_pairs[i][1], corr])\n",
    "    \n",
    "    i += 1\n",
    "# Create a DataFrame from the correlation array\n",
    "corr_df = pd.DataFrame(data=corr_array, columns=['Ticker1', 'Ticker2', 'Correlation'])\n",
    "# Merge with the random_pairs dataframe to add the descriptive colums\n",
    "corr_df = pd.merge(corr_df, random_pairs_df, how='inner', left_on = ['Ticker1', 'Ticker2'], right_on = ['Ticker1', 'Ticker2'])\n",
    "corr_df"
   ]
  },
  {
   "cell_type": "markdown",
   "id": "ddddbd7e",
   "metadata": {},
   "source": [
    "## Analyze Correlations"
   ]
  },
  {
   "cell_type": "markdown",
   "id": "00caffcd",
   "metadata": {},
   "source": [
    "We are analyzing the absolute values of the correlations as we are interested in the magnitude of the corrleations - negative correlations are as usual as positive ones."
   ]
  },
  {
   "cell_type": "code",
   "execution_count": 46,
   "id": "d4b3f448",
   "metadata": {},
   "outputs": [
    {
     "data": {
      "text/html": [
       "<div>\n",
       "<style scoped>\n",
       "    .dataframe tbody tr th:only-of-type {\n",
       "        vertical-align: middle;\n",
       "    }\n",
       "\n",
       "    .dataframe tbody tr th {\n",
       "        vertical-align: top;\n",
       "    }\n",
       "\n",
       "    .dataframe thead th {\n",
       "        text-align: right;\n",
       "    }\n",
       "</style>\n",
       "<table border=\"1\" class=\"dataframe\">\n",
       "  <thead>\n",
       "    <tr style=\"text-align: right;\">\n",
       "      <th></th>\n",
       "      <th>Corr all</th>\n",
       "      <th>Corr Same Industry</th>\n",
       "    </tr>\n",
       "  </thead>\n",
       "  <tbody>\n",
       "    <tr>\n",
       "      <th>count</th>\n",
       "      <td>4000.000000</td>\n",
       "      <td>458.000000</td>\n",
       "    </tr>\n",
       "    <tr>\n",
       "      <th>mean</th>\n",
       "      <td>0.431585</td>\n",
       "      <td>0.495649</td>\n",
       "    </tr>\n",
       "    <tr>\n",
       "      <th>std</th>\n",
       "      <td>0.261998</td>\n",
       "      <td>0.269354</td>\n",
       "    </tr>\n",
       "    <tr>\n",
       "      <th>min</th>\n",
       "      <td>0.000482</td>\n",
       "      <td>0.001131</td>\n",
       "    </tr>\n",
       "    <tr>\n",
       "      <th>25%</th>\n",
       "      <td>0.206765</td>\n",
       "      <td>0.268631</td>\n",
       "    </tr>\n",
       "    <tr>\n",
       "      <th>50%</th>\n",
       "      <td>0.414697</td>\n",
       "      <td>0.507212</td>\n",
       "    </tr>\n",
       "    <tr>\n",
       "      <th>75%</th>\n",
       "      <td>0.641412</td>\n",
       "      <td>0.713669</td>\n",
       "    </tr>\n",
       "    <tr>\n",
       "      <th>max</th>\n",
       "      <td>0.999787</td>\n",
       "      <td>0.999787</td>\n",
       "    </tr>\n",
       "    <tr>\n",
       "      <th>Median</th>\n",
       "      <td>0.414697</td>\n",
       "      <td>0.507212</td>\n",
       "    </tr>\n",
       "  </tbody>\n",
       "</table>\n",
       "</div>"
      ],
      "text/plain": [
       "           Corr all  Corr Same Industry\n",
       "count   4000.000000          458.000000\n",
       "mean       0.431585            0.495649\n",
       "std        0.261998            0.269354\n",
       "min        0.000482            0.001131\n",
       "25%        0.206765            0.268631\n",
       "50%        0.414697            0.507212\n",
       "75%        0.641412            0.713669\n",
       "max        0.999787            0.999787\n",
       "Median     0.414697            0.507212"
      ]
     },
     "execution_count": 46,
     "metadata": {},
     "output_type": "execute_result"
    }
   ],
   "source": [
    "# Absolute correlation levels for ALL pairs\n",
    "corr_all = abs(corr_df['Correlation']).describe() # Convert correlations to absolute values\n",
    "\n",
    "# Absolute correlation levels for pairs in the same industry\n",
    "corr_same_ind = abs(corr_df[corr_df['Same Industry'] == 'Yes']['Correlation']).describe()\n",
    "\n",
    "# Combine the different correlation serieses into a DF for easier display and analysis\n",
    "df = pd.DataFrame(corr_all)\n",
    "df = pd.DataFrame({'Corr all': corr_all, 'Corr Same Industry': corr_same_ind})\n",
    "df.loc['Median', :]= [abs(corr_df['Correlation']).median(), abs(corr_df[corr_df['Same Industry'] == 'Yes']['Correlation']).median()]\n",
    "df"
   ]
  },
  {
   "cell_type": "markdown",
   "id": "69411f2d",
   "metadata": {},
   "source": [
    "<p style=\"background-color:#B8E2F2;\">\n",
    "    <b>Finding:</b> At a summary level there does appear to be a higher correlation level for pairs in the same industry\n",
    "</p>"
   ]
  },
  {
   "cell_type": "markdown",
   "id": "0c0ee619",
   "metadata": {},
   "source": [
    "## Analyse by Industry : Are Some Industry Groups Better Than Others?"
   ]
  },
  {
   "cell_type": "markdown",
   "id": "bc1393ab",
   "metadata": {},
   "source": [
    "Creating a DataFrame which gives us some summary info by Industry for Pairs Which are Both in the Same Industry"
   ]
  },
  {
   "cell_type": "code",
   "execution_count": 47,
   "id": "d0fe7d6c",
   "metadata": {},
   "outputs": [],
   "source": [
    "# Take the df of all correlations, extract same industry pairs and get the median correlation and count for those those pairs\n",
    "df = corr_df[corr_df['Same Industry'] == 'Yes'].groupby('Ind1').agg(Median =('Correlation', 'median'),\\\n",
    "                                                                   Count=('Correlation','count'))\n",
    "df = df.reset_index()\n",
    "df['Median'] = abs(df['Median'])\n",
    "df = df.sort_values(['Median', 'Count']).set_index('Ind1', drop=True)\n",
    "df.index.name = \"\""
   ]
  },
  {
   "cell_type": "markdown",
   "id": "db5cd761",
   "metadata": {},
   "source": [
    "If we only have one pair in an industry, it is difficult to make any comparision of that industry vs another.  Thus we will limit our comparison to industries with at least 10 names in it."
   ]
  },
  {
   "cell_type": "code",
   "execution_count": 48,
   "id": "5c8c00b4",
   "metadata": {
    "scrolled": true
   },
   "outputs": [
    {
     "data": {
      "text/html": [
       "<div>\n",
       "<style scoped>\n",
       "    .dataframe tbody tr th:only-of-type {\n",
       "        vertical-align: middle;\n",
       "    }\n",
       "\n",
       "    .dataframe tbody tr th {\n",
       "        vertical-align: top;\n",
       "    }\n",
       "\n",
       "    .dataframe thead th {\n",
       "        text-align: right;\n",
       "    }\n",
       "</style>\n",
       "<table border=\"1\" class=\"dataframe\">\n",
       "  <thead>\n",
       "    <tr style=\"text-align: right;\">\n",
       "      <th></th>\n",
       "      <th>Median</th>\n",
       "      <th>Count</th>\n",
       "    </tr>\n",
       "    <tr>\n",
       "      <th></th>\n",
       "      <th></th>\n",
       "      <th></th>\n",
       "    </tr>\n",
       "  </thead>\n",
       "  <tbody>\n",
       "    <tr>\n",
       "      <th>Health Care</th>\n",
       "      <td>0.188025</td>\n",
       "      <td>99</td>\n",
       "    </tr>\n",
       "    <tr>\n",
       "      <th>Materials</th>\n",
       "      <td>0.235482</td>\n",
       "      <td>42</td>\n",
       "    </tr>\n",
       "    <tr>\n",
       "      <th>Industrials</th>\n",
       "      <td>0.368736</td>\n",
       "      <td>43</td>\n",
       "    </tr>\n",
       "    <tr>\n",
       "      <th>Financials</th>\n",
       "      <td>0.396136</td>\n",
       "      <td>143</td>\n",
       "    </tr>\n",
       "    <tr>\n",
       "      <th>Information Technology</th>\n",
       "      <td>0.651056</td>\n",
       "      <td>60</td>\n",
       "    </tr>\n",
       "    <tr>\n",
       "      <th>Utilities</th>\n",
       "      <td>0.661027</td>\n",
       "      <td>12</td>\n",
       "    </tr>\n",
       "    <tr>\n",
       "      <th>Consumer Discretionary</th>\n",
       "      <td>0.697445</td>\n",
       "      <td>36</td>\n",
       "    </tr>\n",
       "    <tr>\n",
       "      <th>Real Estate</th>\n",
       "      <td>0.874676</td>\n",
       "      <td>11</td>\n",
       "    </tr>\n",
       "  </tbody>\n",
       "</table>\n",
       "</div>"
      ],
      "text/plain": [
       "                          Median  Count\n",
       "                                       \n",
       "Health Care             0.188025     99\n",
       "Materials               0.235482     42\n",
       "Industrials             0.368736     43\n",
       "Financials              0.396136    143\n",
       "Information Technology  0.651056     60\n",
       "Utilities               0.661027     12\n",
       "Consumer Discretionary  0.697445     36\n",
       "Real Estate             0.874676     11"
      ]
     },
     "execution_count": 48,
     "metadata": {},
     "output_type": "execute_result"
    }
   ],
   "source": [
    "# Limit our target dataframe to only include sectors with 10 or more members\n",
    "df = df[df['Count']>=10]\n",
    "df = df.sort_values('Median')\n",
    "df"
   ]
  },
  {
   "cell_type": "markdown",
   "id": "213901cf",
   "metadata": {},
   "source": [
    "## Display Results Graphically"
   ]
  },
  {
   "cell_type": "code",
   "execution_count": 49,
   "id": "7746a1b2",
   "metadata": {},
   "outputs": [
    {
     "data": {
      "text/plain": [
       "<matplotlib.legend.Legend at 0x1a4466de400>"
      ]
     },
     "execution_count": 49,
     "metadata": {},
     "output_type": "execute_result"
    },
    {
     "data": {
      "image/png": "[encoded data removed]",
      "text/plain": [
       "<Figure size 720x720 with 1 Axes>"
      ]
     },
     "metadata": {
      "needs_background": "light"
     },
     "output_type": "display_data"
    }
   ],
   "source": [
    "# Calculate median correlations\n",
    "medians_same_ind = abs(df['Median'])\n",
    "medians_all_ind = abs(corr_df.groupby('Ind1')['Correlation'].median())\n",
    "\n",
    "# We only want to plot the industries that have sufficient same industry pairs\n",
    "medians_all_ind = medians_all_ind[medians_all_ind.index.isin(df.index)]\n",
    "\n",
    "# Create figure and axis\n",
    "fig, ax = plt.subplots(figsize=[10,10])\n",
    "\n",
    "# Set a width for the bars\n",
    "bar_width = 0.3\n",
    "\n",
    "# We have to define bar positions if we want the different plots to be side by side\n",
    "bar1_positions = np.arange(len(medians_same_ind))\n",
    "bar2_positions = bar1_positions + bar_width # Puts the position beside the prior bar\n",
    "\n",
    "# Create our bar charts\n",
    "ax.barh(bar1_positions, medians_same_ind, height=bar_width, label='Median Correlation by Industry for Pairs in the Same Industry')\n",
    "ax.barh(bar2_positions, medians_all_ind, height=bar_width, label='Median Correlation by Industry for ALL Pairs')\n",
    "\n",
    "# Define y labels and title\n",
    "ax.set_yticks(bar1_positions + bar_width / 2)\n",
    "ax.set_yticklabels(medians_same_ind.index)\n",
    "ax.set_xlabel('Median Correlation')\n",
    "ax.set_ylabel('Industry')\n",
    "ax.set_title('Median Correlation by Industry')\n",
    "\n",
    "# Show legend\n",
    "ax.legend()\n",
    "\n",
    "# Show plot\n",
    "#plt.show()"
   ]
  },
  {
   "cell_type": "markdown",
   "id": "328f1b26",
   "metadata": {},
   "source": [
    "<p style=\"background-color:#B8E2F2;\">\n",
    "    <b>Finding:</b> The range of correlations does vary signficantly across industries.\n",
    "</p>"
   ]
  },
  {
   "cell_type": "markdown",
   "id": "f241dd5b",
   "metadata": {},
   "source": [
    "<p style=\"background-color:#B8E2F2;\">\n",
    "    <b>Finding:</b> This graph also reinforces the earlier finding that the correlation levels are higher for pairs which are both in the same industry vs disparate pairs - as the same industry pairs have higher correlation for almost all industries\n",
    "</p>"
   ]
  },
  {
   "cell_type": "markdown",
   "id": "e8966959",
   "metadata": {},
   "source": [
    "<p style=\"background-color:#B8E2F2;\">\n",
    "    <b>Finding:</b> It appears that there seems to be INVERSE correlation between the number of members in the Sector and the Median correlation of Sector Members.\n",
    "    \n",
    "One possible explanation for this may be that Sectors with larger numbers of members may also be those defined broadly.  If the Sector is quite broad the business models within that sector are likley to become less closely related.\n",
    "\n",
    "This would require further data analysis and possibly include trying to create sub sectors to see if that creates higher correlation levels.\n",
    "</p>"
   ]
  },
  {
   "cell_type": "code",
   "execution_count": 50,
   "id": "6bcc7c91",
   "metadata": {},
   "outputs": [
    {
     "data": {
      "text/html": [
       "<div>\n",
       "<style scoped>\n",
       "    .dataframe tbody tr th:only-of-type {\n",
       "        vertical-align: middle;\n",
       "    }\n",
       "\n",
       "    .dataframe tbody tr th {\n",
       "        vertical-align: top;\n",
       "    }\n",
       "\n",
       "    .dataframe thead th {\n",
       "        text-align: right;\n",
       "    }\n",
       "</style>\n",
       "<table border=\"1\" class=\"dataframe\">\n",
       "  <thead>\n",
       "    <tr style=\"text-align: right;\">\n",
       "      <th></th>\n",
       "      <th>Median</th>\n",
       "      <th>Count</th>\n",
       "    </tr>\n",
       "  </thead>\n",
       "  <tbody>\n",
       "    <tr>\n",
       "      <th>Median</th>\n",
       "      <td>1.000000</td>\n",
       "      <td>-0.572742</td>\n",
       "    </tr>\n",
       "    <tr>\n",
       "      <th>Count</th>\n",
       "      <td>-0.572742</td>\n",
       "      <td>1.000000</td>\n",
       "    </tr>\n",
       "  </tbody>\n",
       "</table>\n",
       "</div>"
      ],
      "text/plain": [
       "          Median     Count\n",
       "Median  1.000000 -0.572742\n",
       "Count  -0.572742  1.000000"
      ]
     },
     "execution_count": 50,
     "metadata": {},
     "output_type": "execute_result"
    }
   ],
   "source": [
    "df.corr()"
   ]
  },
  {
   "cell_type": "markdown",
   "id": "a6b2947f",
   "metadata": {},
   "source": [
    "<a id=\"Findings\"></a>\n",
    "# Summary of Findings"
   ]
  },
  {
   "cell_type": "markdown",
   "id": "a9bb15a8",
   "metadata": {},
   "source": [
    "We found that from a sample of 115 stocks we can produce a universe of approximately 6,500 pairs which is seems quite a healthy population size.  We trimmed this to 4,000 pairs to ensure our processing environment can handle our analysis.\n",
    "When we break out how many of those represent pairs in the same industry, we have 729 pairs in our total universe of pairs and then 458 pairs when we trim to a starting sample size of 4,000 pairs.  458 pairs again seems like a reasonably robust sample size to draw some initial conclusions from.\n",
    "\n",
    "Our pairs are split across 11 different sector groups with the Financials and Health Care sectors have the most members and  Energy and Communications having the least.\n",
    "\n",
    "The sample population pairs have a mean and median correlation level of .43 and .41.  That is certainly meaningful and demonstrates that even random sets of pairs on average have a reasonable level of correlation.  That is consistent with general stock market findings where overall stocks move in the same direction.  This correlation for all stocks is why it was important we set a benchark to compare the pairs in the same industry - simply finding a non zero corrleation for our same industry pairs would not have helped determine if it is an appropriate factor.\n",
    "\n",
    "The same industry pairs have a mean and median correlation level of .50 (vs 0.43) and 0.51(vs .41) which represents a meaningfully higher level than the random pairs.  Importantly, this higher correlation also appears to occur with a high (but not absolute) level of consistency across sectors.\n",
    "\n",
    "It is definitely the case that the correlation levels vary by sector (when considering pairs in the same sector) and vary quite signficantly:\n",
    "    * Real Estate has a median correlation level of 0.88; vs\n",
    "    * Healthcare 0.19.\n",
    "    \n",
    "In looking for reasons for the variance across industries one factor we identified was those sectors with a large number of members seemed generally to have lower correlation levels, perhaps indicating that they are 'broader' in their industry definition and thus their are less synergies in the business models of members.  Additional steps we could take to confirm this include:\n",
    "    * doing the same analysis at the sub-industry level\n",
    "    * doing our analysis for multiple time periods\n",
    "    * increasing our population and sample size to analyze a greater number of pairs\n",
    "    \n",
    "\n",
    "\n",
    "\n",
    "\n",
    "\n",
    "\n"
   ]
  },
  {
   "cell_type": "markdown",
   "id": "3c9336e7",
   "metadata": {},
   "source": [
    "<a id=\"References\"></a>\n",
    "# References"
   ]
  },
  {
   "cell_type": "markdown",
   "id": "5ffba77d",
   "metadata": {},
   "source": [
    "Aroussi, R., 2023, yfinance.[python library]  \n",
    "> Available at https://pypi.org/project/yfinance/(Accessed: 3 August, 2023)\n",
    "\n",
    "ASX, 2023.  *Top 20 Shares by Value.* [pdf] \n",
    "> Available at https://www.asx.com.au/data/dw_sharesbyvalue.pdf (Accessed, August 3 2023).\n",
    "\n",
    "Investopedia.com, 2023. *Pairs Trade: Definition, How Strategy Works, and Example*\n",
    "https://www.investopedia.com/terms/p/pairstrade.asp (Accessed: 8 August, 2023)\n",
    "\n",
    "Wikipedia, 2023. *S&P 500 component stocks.*\n",
    "> Available at https://en.wikipedia.org/wiki/List_of_S%26P_500_companies (Accessed: July 31 2023)\n",
    "\n",
    "Yahoo Finance, 2023.  *Stock Market and Foreign Currency Historical Market Data.*  \n",
    "> Available at:\n",
    "    https://finance.yahoo.com/quote/[Symbol_Code]/history?p=[Symbol_Code](Accessed: 3 August, 2023)\n",
    "\n",
    "Yahoo Finance, 2023.  *Company Profile Data Incuding Sector Name.*  \n",
    "> Available at:\n",
    "    https://finance.yahoo.com/quote/[Symbol_Code]/profile?p=[Symbol_Code](Accessed: 3 August, 2023)\n",
    "\n",
    "> Note: 115 different stocks and four different foreign currencies were analyzed and thus the individual symbol codes for each are not listed.\n"
   ]
  },
  {
   "cell_type": "code",
   "execution_count": 51,
   "id": "8f91fa42",
   "metadata": {},
   "outputs": [
    {
     "name": "stdout",
     "output_type": "stream",
     "text": [
      "2023-08-08 19:11:39.089997\n"
     ]
    }
   ],
   "source": [
    "# Observe when notebook was last run all the way through successfully\n",
    "print(datetime.now())"
   ]
  }
 ],
 "metadata": {
  "kernelspec": {
   "display_name": "Python 3 (ipykernel)",
   "language": "python",
   "name": "python3"
  },
  "language_info": {
   "codemirror_mode": {
    "name": "ipython",
    "version": 3
   },
   "file_extension": ".py",
   "mimetype": "text/x-python",
   "name": "python",
   "nbconvert_exporter": "python",
   "pygments_lexer": "ipython3",
   "version": "3.11.3"
  },
  "toc": {
   "base_numbering": 1,
   "nav_menu": {},
   "number_sections": true,
   "sideBar": true,
   "skip_h1_title": false,
   "title_cell": "Table of Contents",
   "title_sidebar": "Contents",
   "toc_cell": false,
   "toc_position": {
    "height": "calc(100% - 180px)",
    "left": "10px",
    "top": "150px",
    "width": "372.997px"
   },
   "toc_section_display": true,
   "toc_window_display": true
  },
  "varInspector": {
   "cols": {
    "lenName": 16,
    "lenType": 16,
    "lenVar": 40
   },
   "kernels_config": {
    "python": {
     "delete_cmd_postfix": "",
     "delete_cmd_prefix": "del ",
     "library": "var_list.py",
     "varRefreshCmd": "print(var_dic_list())"
    },
    "r": {
     "delete_cmd_postfix": ") ",
     "delete_cmd_prefix": "rm(",
     "library": "var_list.r",
     "varRefreshCmd": "cat(var_dic_list()) "
    }
   },
   "types_to_exclude": [
    "module",
    "function",
    "builtin_function_or_method",
    "instance",
    "_Feature"
   ],
   "window_display": false
  }
 },
 "nbformat": 4,
 "nbformat_minor": 5
}
