{
 "cells": [
  {
   "cell_type": "markdown",
   "id": "b9025433",
   "metadata": {},
   "source": [
    "# Testing File for Git and GitHub"
   ]
  },
  {
   "cell_type": "markdown",
   "id": "fb7cebc8",
   "metadata": {},
   "source": [
    "First version"
   ]
  },
  {
   "cell_type": "markdown",
   "id": "f7c8b522",
   "metadata": {},
   "source": [
    "Second Version : Added this line."
   ]
  },
  {
   "cell_type": "markdown",
   "id": "172c8bf0",
   "metadata": {},
   "source": [
    "Third version : added this line for change number three"
   ]
  },
  {
   "cell_type": "code",
   "execution_count": null,
   "id": "0aa6a084",
   "metadata": {},
   "outputs": [],
   "source": []
  }
 ],
 "metadata": {
  "kernelspec": {
   "display_name": "Python 3 (ipykernel)",
   "language": "python",
   "name": "python3"
  },
  "language_info": {
   "codemirror_mode": {
    "name": "ipython",
    "version": 3
   },
   "file_extension": ".py",
   "mimetype": "text/x-python",
   "name": "python",
   "nbconvert_exporter": "python",
   "pygments_lexer": "ipython3",
   "version": "3.11.3"
  },
  "toc": {
   "base_numbering": 1,
   "nav_menu": {},
   "number_sections": true,
   "sideBar": true,
   "skip_h1_title": false,
   "title_cell": "Table of Contents",
   "title_sidebar": "Contents",
   "toc_cell": false,
   "toc_position": {},
   "toc_section_display": true,
   "toc_window_display": false
  },
  "varInspector": {
   "cols": {
    "lenName": 16,
    "lenType": 16,
    "lenVar": 40
   },
   "kernels_config": {
    "python": {
     "delete_cmd_postfix": "",
     "delete_cmd_prefix": "del ",
     "library": "var_list.py",
     "varRefreshCmd": "print(var_dic_list())"
    },
    "r": {
     "delete_cmd_postfix": ") ",
     "delete_cmd_prefix": "rm(",
     "library": "var_list.r",
     "varRefreshCmd": "cat(var_dic_list()) "
    }
   },
   "types_to_exclude": [
    "module",
    "function",
    "builtin_function_or_method",
    "instance",
    "_Feature"
   ],
   "window_display": false
  }
 },
 "nbformat": 4,
 "nbformat_minor": 5
}
